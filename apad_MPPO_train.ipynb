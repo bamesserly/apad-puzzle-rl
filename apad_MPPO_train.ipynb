{
 "cells": [
  {
   "cell_type": "code",
   "execution_count": 1,
   "id": "03e59969-0c4f-4ee2-a6ee-e6b1335cc503",
   "metadata": {},
   "outputs": [],
   "source": [
    "%load_ext autoreload\n",
    "%autoreload 2\n",
    "#!pip install sb3-contrib"
   ]
  },
  {
   "cell_type": "code",
   "execution_count": 2,
   "id": "8e4c09cd-9caf-4544-a2c9-d1ee422847ed",
   "metadata": {},
   "outputs": [],
   "source": [
    "from sb3_contrib import MaskablePPO\n",
    "from apad_env import APADEnv\n",
    "from stable_baselines3.common.callbacks import BaseCallback\n",
    "import time"
   ]
  },
  {
   "cell_type": "code",
   "execution_count": 3,
   "id": "59ea20ca-522f-4033-a5c6-e93f10073faa",
   "metadata": {},
   "outputs": [],
   "source": [
    "class TimerCallback(BaseCallback):\n",
    "    def __init__(self):\n",
    "        super().__init__()\n",
    "        self.start_time = time.time()\n",
    "    \n",
    "    def _on_step(self):\n",
    "        if self.num_timesteps % 1000 == 0:\n",
    "            elapsed = time.time() - self.start_time\n",
    "            rate = self.num_timesteps / elapsed\n",
    "            remaining = (self.locals['total_timesteps'] - self.num_timesteps) / rate\n",
    "            print(f\"Step {self.num_timesteps}, {elapsed:.0f}s elapsed, {remaining:.0f}s remaining\")\n",
    "        return True"
   ]
  },
  {
   "cell_type": "code",
   "execution_count": 4,
   "id": "b825b8d1-f97d-4a27-b00d-9b7c2bd2d906",
   "metadata": {},
   "outputs": [],
   "source": [
    "env = APADEnv()"
   ]
  },
  {
   "cell_type": "code",
   "execution_count": 10,
   "id": "b70ee7df-1acf-4574-995e-e381dd8087b3",
   "metadata": {
    "scrolled": true
   },
   "outputs": [
    {
     "name": "stdout",
     "output_type": "stream",
     "text": [
      "Using cpu device\n",
      "Wrapping the env with a `Monitor` wrapper\n",
      "Wrapping the env in a DummyVecEnv.\n"
     ]
    }
   ],
   "source": [
    "model = None\n",
    "model = MaskablePPO(\n",
    "    \"MlpPolicy\",\n",
    "    env,\n",
    "    learning_rate=5e-5,\n",
    "    tensorboard_log=\"./maskable_ppo_logs_3/\",\n",
    "    verbose=1,\n",
    ")"
   ]
  },
  {
   "cell_type": "code",
   "execution_count": null,
   "id": "4581f0a0-7fac-4c82-a9c9-42f8bd4a36b6",
   "metadata": {},
   "outputs": [
    {
     "name": "stdout",
     "output_type": "stream",
     "text": [
      "Logging to ./maskable_ppo_logs_3/PPO_1\n"
     ]
    }
   ],
   "source": [
    "total_timesteps = 300000\n",
    "checkpoint_interval = 50000\n",
    "for i in range(0, total_timesteps, checkpoint_interval):\n",
    "    remaining_steps = min(checkpoint_interval, total_timesteps - i)\n",
    "    if i == 0:\n",
    "        model.learn(total_timesteps=remaining_steps, reset_num_timesteps=True, callback=TimerCallback())\n",
    "    else:\n",
    "        model.learn(total_timesteps=remaining_steps, reset_num_timesteps=False, callback=TimerCallback())\n",
    "    model.save(f\"checkpoint_3_{i}\")"
   ]
  },
  {
   "cell_type": "code",
   "execution_count": 12,
   "id": "8ce75301-3bee-4678-8ae6-3561b390ac90",
   "metadata": {},
   "outputs": [],
   "source": [
    "model.save(\"mppo_model_150k_2025-06-12_1600\")"
   ]
  },
  {
   "cell_type": "code",
   "execution_count": null,
   "id": "1984f1f8-5248-450b-8803-9f626bdeeb23",
   "metadata": {},
   "outputs": [],
   "source": []
  }
 ],
 "metadata": {
  "kernelspec": {
   "display_name": "Python 3 (ipykernel)",
   "language": "python",
   "name": "python3"
  },
  "language_info": {
   "codemirror_mode": {
    "name": "ipython",
    "version": 3
   },
   "file_extension": ".py",
   "mimetype": "text/x-python",
   "name": "python",
   "nbconvert_exporter": "python",
   "pygments_lexer": "ipython3",
   "version": "3.10.17"
  }
 },
 "nbformat": 4,
 "nbformat_minor": 5
}
