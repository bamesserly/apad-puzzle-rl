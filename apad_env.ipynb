{
 "cells": [
  {
   "cell_type": "code",
   "execution_count": 1,
   "id": "ab3ca1a7-6b46-4b78-bbaf-c832d5964ebc",
   "metadata": {},
   "outputs": [],
   "source": [
    "import gymnasium as gym\n",
    "import numpy as np\n",
    "import matplotlib.pyplot as plt\n",
    "import numpy as np"
   ]
  },
  {
   "cell_type": "code",
   "execution_count": 2,
   "id": "7d0c7ee9-82c0-49e0-8e90-a4a68965c02b",
   "metadata": {},
   "outputs": [
    {
     "data": {
      "text/html": [
       "<style>div.output_area pre { font-family: 'Courier New', monospace; }</style>"
      ],
      "text/plain": [
       "<IPython.core.display.HTML object>"
      ]
     },
     "execution_count": 2,
     "metadata": {},
     "output_type": "execute_result"
    }
   ],
   "source": [
    "from IPython.display import HTML\n",
    "HTML(\"<style>div.output_area pre { font-family: 'Courier New', monospace; }</style>\")"
   ]
  },
  {
   "cell_type": "markdown",
   "id": "3fcb87f9-7809-487d-a516-80a7a3cfc6fe",
   "metadata": {},
   "source": [
    "Coordinate system: Top left is 0,0. Zeroeth row, second column would be 0,2."
   ]
  },
  {
   "cell_type": "code",
   "execution_count": 3,
   "id": "a56c0e24-16f1-4c73-8a57-b1c2e82d501c",
   "metadata": {},
   "outputs": [],
   "source": [
    "PIECES = {\n",
    "    'K': [(0,0), (1,0), (2,0), (3,0), (2,1)],   # __|_ knee\n",
    "    'A': [(0,0), (1,0), (1,1), (2,1), (3,1)],   # __|- Asp\n",
    "    'C': [(0,0), (0,1), (1,0), (2,0), (2,1)],   # C\n",
    "    'L': [(0,0), (1,0), (2,0), (2,1), (2,2)],   # |__  L\n",
    "    'R': [(0,0), (0,1), (1,0), (1,1), (2,0), (2,1)],   # [] rectangle\n",
    "    'P': [(0,0), (0,1), (1,0), (1,1), (2,0)],   # P\n",
    "    'I': [(0,0), (0,1), (1,0), (2,0), (3,0)],   # |_ I\n",
    "    'Z': [(0,0), (0,1), (1,1), (2,1), (2,2)],   # Z\n",
    "}"
   ]
  },
  {
   "cell_type": "code",
   "execution_count": 4,
   "id": "d93209f8-ee0d-4ca2-99bb-e074efdd15cf",
   "metadata": {},
   "outputs": [],
   "source": [
    "class APADEnv(gym.Env):\n",
    "    def __init__(self):\n",
    "       super().__init__()\n",
    "       \n",
    "       # 7x7 grid with 6 invalid spaces (43 valid total)\n",
    "       self.grid_size = 7\n",
    "       self.valid_spaces = 43\n",
    "       \n",
    "       # Invalid grid positions\n",
    "       self.invalid_positions = {(0,6), (1,6), (6,3), (6,4), (6,5), (6,6)}\n",
    "       \n",
    "       # 8 pieces: 5 pentominos + 2 sextominos\n",
    "       # 8 pieces × 2 chirality × 4 rotations × 43 positions\n",
    "       self.action_space = gym.spaces.Discrete(8 * 2 * 4 * 43)\n",
    "       \n",
    "       # Observation: 7x7 grid + 8 remaining pieces\n",
    "       self.observation_space = gym.spaces.Box(\n",
    "           low=-1, high=8,  # -1=invalid, 0=empty, 1-8=piece_ids\n",
    "           shape=(7,8),\n",
    "           dtype=np.int8\n",
    "       )\n",
    "       \n",
    "       # Initialize grid with invalid positions marked\n",
    "       self.grid = np.zeros((self.grid_size, self.grid_size), dtype=np.int8)\n",
    "       for pos in self.invalid_positions:\n",
    "           self.grid[pos] = -1\n",
    "       \n",
    "       self.remaining_pieces = np.ones(8, dtype=bool)\n",
    "    \n",
    "    def _get_obs(self):\n",
    "        return np.concatenate([self.grid.flatten(), self.remaining_pieces.astype(np.int8)])\n",
    "    \n",
    "    def reset(self, seed=None, options=None):\n",
    "        super().reset(seed=seed)\n",
    "        self.grid = np.zeros((self.grid_size, self.grid_size), dtype=np.int8)\n",
    "        for pos in self.invalid_positions:\n",
    "            self.grid[pos] = -1\n",
    "        self.remaining_pieces = np.ones(8, dtype=bool)\n",
    "        return self._get_obs(), {}\n",
    "    \n",
    "    def _get_piece_coords(self, piece_id, chirality, rotation):\n",
    "       # Get base piece coordinates\n",
    "       piece_names = ['K', 'L', 'A', 'C', 'P', 'Z', 'I', 'R']\n",
    "       base_coords = PIECES[piece_names[piece_id]]\n",
    "       \n",
    "       coords = base_coords.copy()\n",
    "       \n",
    "       # Apply chirality (flip x-coordinates)\n",
    "       if chirality == 1:\n",
    "           coords = [(-x, y) for x, y in coords]\n",
    "       \n",
    "       # Apply rotation (0, 90, 180, 270 degrees)\n",
    "       for _ in range(rotation):\n",
    "           coords = [(-y, x) for x, y in coords]\n",
    "       \n",
    "       # Normalize to ensure anchor at (0,0)\n",
    "       min_x = min(x for x, y in coords)\n",
    "       min_y = min(y for x, y in coords)\n",
    "       coords = [(x - min_x, y - min_y) for x, y in coords]\n",
    "       \n",
    "       return coords\n",
    "    \n",
    "    def _is_valid_placement(self, piece_id, chirality, rotation, position):\n",
    "       # Get piece coordinates for this orientation\n",
    "       coords = self._get_piece_coords(piece_id, chirality, rotation)\n",
    "       \n",
    "       # Convert position to grid coordinates\n",
    "       row, col = divmod(position, self.grid_size)\n",
    "       \n",
    "       # Check each piece cell\n",
    "       for dr, dc in coords:\n",
    "           r, c = row + dr, col + dc\n",
    "           \n",
    "           # Out of bounds\n",
    "           if r < 0 or r >= self.grid_size or c < 0 or c >= self.grid_size:\n",
    "               return False\n",
    "           \n",
    "           # Invalid position or already occupied\n",
    "           if self.grid[r, c] != 0:\n",
    "               return False\n",
    "       \n",
    "       return True\n",
    "    \n",
    "    def _place_piece(self, piece_id, chirality, rotation, position):\n",
    "       coords = self._get_piece_coords(piece_id, chirality, rotation)\n",
    "       row, col = divmod(position, self.grid_size)\n",
    "       \n",
    "       for dr, dc in coords:\n",
    "           self.grid[row + dr, col + dc] = piece_id + 1\n",
    "       \n",
    "       self.remaining_pieces[piece_id] = False\n",
    "\n",
    "    # The action passed will be an integer 0 - 2751, spanning the action space.\n",
    "    # This covers all the possible actions: piece ID (8) x chirality (2) x rotation (4)  x position (43) = 2752\n",
    "    def step(self, action):\n",
    "        # Decode action\n",
    "        piece_id = action // (2 * 4 * 43)\n",
    "        remaining = action % (2 * 4 * 43)\n",
    "        chirality = remaining // (4 * 43)\n",
    "        remaining = remaining % (4 * 43)\n",
    "        rotation = remaining // 43\n",
    "        position = remaining % 43\n",
    "        \n",
    "        # Check piece available\n",
    "        if not self.remaining_pieces[piece_id]:\n",
    "           return self._get_obs(), -10, False, False, {}\n",
    "        \n",
    "        # Check valid placement\n",
    "        if not self._is_valid_placement(piece_id, chirality, rotation, position):\n",
    "           return self._get_obs(), -1, False, False, {}\n",
    "        \n",
    "        # Place piece\n",
    "        self._place_piece(piece_id, chirality, rotation, position)\n",
    "        \n",
    "        # Calculate reward and done\n",
    "        reward = 10\n",
    "        done = np.sum(self.remaining_pieces) == 0\n",
    "        if done:\n",
    "            reward += 100  # Big bonus for solving\n",
    "        \n",
    "        return self._get_obs(), reward, done, False, {}\n",
    "\n",
    "    def visualize(self):\n",
    "       fig, ax = plt.subplots(figsize=(6,6))\n",
    "       \n",
    "       display = np.ones((*self.grid.shape, 3))\n",
    "       display[self.grid == -1] = [0, 0, 0]\n",
    "       display[self.grid > 0] = [0.5, 0.5, 0.5]\n",
    "       \n",
    "       ax.imshow(display)\n",
    "       \n",
    "       # Grid lines\n",
    "       for i in range(self.grid.shape[0] + 1):\n",
    "           ax.axhline(i - 0.5, color='gray', linewidth=1)\n",
    "       for i in range(self.grid.shape[1] + 1):\n",
    "           ax.axvline(i - 0.5, color='gray', linewidth=1)\n",
    "       \n",
    "       # Piece outlines\n",
    "       for piece_id in range(1, 9):\n",
    "           mask = self.grid == piece_id\n",
    "           if not mask.any():\n",
    "               continue\n",
    "           \n",
    "           for r in range(self.grid.shape[0]):\n",
    "               for c in range(self.grid.shape[1]):\n",
    "                   if mask[r, c]:\n",
    "                       if r == 0 or not mask[r-1, c]:\n",
    "                           ax.axhline(r - 0.5, xmin=c/self.grid.shape[1], xmax=(c+1)/self.grid.shape[1], color='black', linewidth=3)\n",
    "                       if r == self.grid.shape[0]-1 or not mask[r+1, c]:\n",
    "                           ax.axhline(r + 0.5, xmin=c/self.grid.shape[1], xmax=(c+1)/self.grid.shape[1], color='black', linewidth=3)\n",
    "                       if c == 0 or not mask[r, c-1]:\n",
    "                           ax.axvline(c - 0.5, ymin=(self.grid.shape[0]-r-1)/self.grid.shape[0], ymax=(self.grid.shape[0]-r)/self.grid.shape[0], color='black', linewidth=3)\n",
    "                       if c == self.grid.shape[1]-1 or not mask[r, c+1]:\n",
    "                           ax.axvline(c + 0.5, ymin=(self.grid.shape[0]-r-1)/self.grid.shape[0], ymax=(self.grid.shape[0]-r)/self.grid.shape[0], color='black', linewidth=3)\n",
    "       \n",
    "       ax.set_xticks([])\n",
    "       ax.set_yticks([])\n",
    "       plt.show()\n",
    "    \n",
    "    def visualize_ascii(self):\n",
    "        for row in self.grid:\n",
    "            print(''.join(['O' if x==0 else 'X' if x==-1 else str(x) for x in row]))"
   ]
  },
  {
   "cell_type": "code",
   "execution_count": 5,
   "id": "c5f5875b-3dba-458f-88bc-d1c7f557168c",
   "metadata": {},
   "outputs": [
    {
     "name": "stdout",
     "output_type": "stream",
     "text": [
      "All tests passed\n"
     ]
    }
   ],
   "source": [
    "def test_environment():\n",
    "    env = APADEnv()\n",
    "    \n",
    "    # Test 1: Grid initialization\n",
    "    assert env.grid.shape == (7, 7)\n",
    "    assert np.sum(env.grid == -1) == 6  # Invalid positions\n",
    "    assert np.sum(env.remaining_pieces) == 8  # All pieces available\n",
    "    \n",
    "    # Test 2: Piece coordinate generation\n",
    "    coords_k = env._get_piece_coords(0, 0, 0)  # K piece, no flip, no rotation\n",
    "    expected_k = [(0,0), (1,0), (2,0), (3,0), (2,1)]\n",
    "    assert coords_k == expected_k\n",
    "    \n",
    "    # Test 3: Rotation\n",
    "    coords_k_rot = env._get_piece_coords(0, 0, 1)  # K piece rotated 90°\n",
    "    assert len(coords_k_rot) == 5\n",
    "    \n",
    "    # Test 4: Valid placement\n",
    "    valid = env._is_valid_placement(0, 0, 0, 14)  # Position (2,0) on grid\n",
    "    assert isinstance(valid, bool)\n",
    "    \n",
    "    # Test 5: Invalid placement (out of bounds)\n",
    "    valid = env._is_valid_placement(0, 0, 0, 6)  # Top-right corner invalid\n",
    "    assert valid == False\n",
    "    \n",
    "    # Test 6: Piece placement\n",
    "    if env._is_valid_placement(0, 0, 0, 14):\n",
    "       env._place_piece(0, 0, 0, 14)\n",
    "       assert not env.remaining_pieces[0]  # Piece marked as used\n",
    "       assert np.sum(env.grid == 1) == 5   # 5 cells occupied by piece\n",
    "    \n",
    "    print(\"All tests passed\")\n",
    "    \n",
    "test_environment()"
   ]
  },
  {
   "cell_type": "code",
   "execution_count": 6,
   "id": "dc265527-aa03-4f4f-bb44-262507ff85c7",
   "metadata": {},
   "outputs": [
    {
     "name": "stdout",
     "output_type": "stream",
     "text": [
      "Overlap and reset tests passed!\n"
     ]
    }
   ],
   "source": [
    "def test_overlap_and_reset():\n",
    "   env = APADEnv()\n",
    "   \n",
    "   # Find two valid positions for same piece type\n",
    "   pos1 = 14  # Should be valid\n",
    "   pos2 = 15  # Adjacent position\n",
    "   \n",
    "   # Place first piece\n",
    "   if env._is_valid_placement(0, 0, 0, pos1):\n",
    "       env._place_piece(0, 0, 0, pos1)\n",
    "       \n",
    "       # Try to place overlapping piece (should fail)\n",
    "       overlap_valid = env._is_valid_placement(1, 0, 0, pos2)\n",
    "       assert overlap_valid == False\n",
    "       \n",
    "       # Test reset\n",
    "       obs, info = env.reset()\n",
    "       assert np.sum(env.remaining_pieces) == 8  # All pieces available\n",
    "       assert np.sum(env.grid > 0) == 0  # Only invalid cells marked\n",
    "       \n",
    "   print(\"Overlap and reset tests passed!\")\n",
    "\n",
    "test_overlap_and_reset()"
   ]
  },
  {
   "cell_type": "code",
   "execution_count": 7,
   "id": "210ba997-a925-45cc-86fe-4d77728a3dc7",
   "metadata": {},
   "outputs": [],
   "source": [
    "def test_random_trial():\n",
    "    env = APADEnv()\n",
    "    obs, _ = env.reset()\n",
    "    \n",
    "    while True:\n",
    "       # Check if any valid moves exist\n",
    "       valid_moves = []\n",
    "       for action in range(env.action_space.n):\n",
    "           piece_id = action // (2 * 4 * 43)\n",
    "           if env.remaining_pieces[piece_id]:\n",
    "               remaining = action % (2 * 4 * 43)\n",
    "               chirality = remaining // (4 * 43)\n",
    "               remaining = remaining % (4 * 43)\n",
    "               rotation = remaining // 43\n",
    "               position = remaining % 43\n",
    "               if env._is_valid_placement(piece_id, chirality, rotation, position):\n",
    "                   valid_moves.append(action)\n",
    "       \n",
    "       if not valid_moves:\n",
    "           break\n",
    "           \n",
    "       action = np.random.choice(valid_moves)\n",
    "       obs, reward, done, truncated, _ = env.step(action)\n",
    "       if done:\n",
    "           break\n",
    "    \n",
    "    #print(f\"Pieces remaining: {sum(env.remaining_pieces)}\")\n",
    "    return env"
   ]
  },
  {
   "cell_type": "code",
   "execution_count": 9,
   "id": "723436d4-2889-40c9-8af1-320b58059f16",
   "metadata": {
    "scrolled": true
   },
   "outputs": [
    {
     "data": {
      "image/png": "[encoded data removed]",
      "text/plain": [
       "<Figure size 600x600 with 1 Axes>"
      ]
     },
     "metadata": {},
     "output_type": "display_data"
    },
    {
     "data": {
      "image/png": "[encoded data removed]",
      "text/plain": [
       "<Figure size 640x480 with 1 Axes>"
      ]
     },
     "metadata": {},
     "output_type": "display_data"
    },
    {
     "name": "stdout",
     "output_type": "stream",
     "text": [
      "Trials: 799, Success rate: 0.13%\n"
     ]
    },
    {
     "data": {
      "text/plain": [
       "<Figure size 640x480 with 0 Axes>"
      ]
     },
     "metadata": {},
     "output_type": "display_data"
    }
   ],
   "source": [
    "i = 0\n",
    "remaining_pieces = []\n",
    "while True:\n",
    "    i += 1\n",
    "    env = test_random_trial()\n",
    "    remaining_pieces.append(np.sum(env.remaining_pieces))\n",
    "    if np.sum(env.remaining_pieces) == 0:\n",
    "        env.visualize()\n",
    "        break\n",
    "\n",
    "plt.hist(remaining_pieces, bins=range(9), alpha=0.7)\n",
    "plt.xlabel('Pieces Remaining')\n",
    "plt.ylabel('Frequency')\n",
    "plt.title('Random Trial Results')\n",
    "plt.show()\n",
    "plt.savefig('trial_results.png')\n",
    "\n",
    "print(f\"Trials: {i}, Success rate: {remaining_pieces.count(0)/i:.2%}\")"
   ]
  },
  {
   "cell_type": "code",
   "execution_count": null,
   "id": "7c14375f-8707-4c6b-8c17-9c06420a2e64",
   "metadata": {},
   "outputs": [],
   "source": []
  }
 ],
 "metadata": {
  "kernelspec": {
   "display_name": "Python 3 (ipykernel)",
   "language": "python",
   "name": "python3"
  },
  "language_info": {
   "codemirror_mode": {
    "name": "ipython",
    "version": 3
   },
   "file_extension": ".py",
   "mimetype": "text/x-python",
   "name": "python",
   "nbconvert_exporter": "python",
   "pygments_lexer": "ipython3",
   "version": "3.10.17"
  }
 },
 "nbformat": 4,
 "nbformat_minor": 5
}
