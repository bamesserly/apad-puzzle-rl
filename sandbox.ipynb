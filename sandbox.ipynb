{
 "cells": [
  {
   "cell_type": "code",
   "execution_count": 1,
   "id": "39f07328-a40f-4821-9516-a6b7f9320213",
   "metadata": {},
   "outputs": [],
   "source": [
    "%load_ext autoreload\n",
    "%autoreload 2\n",
    "#6, 1, 1, 12"
   ]
  },
  {
   "cell_type": "code",
   "execution_count": 2,
   "id": "43dd6b15-d3a1-4f7f-b87b-dc629805dc3b",
   "metadata": {},
   "outputs": [],
   "source": [
    "import numpy as np\n",
    "import matplotlib.pyplot as plt"
   ]
  },
  {
   "cell_type": "code",
   "execution_count": 3,
   "id": "a5c675ff-d701-4078-aa27-86aa8aeb52cb",
   "metadata": {},
   "outputs": [
    {
     "data": {
      "text/html": [
       "<style>div.output_area pre { font-family: 'Courier New', monospace; }</style>"
      ],
      "text/plain": [
       "<IPython.core.display.HTML object>"
      ]
     },
     "execution_count": 3,
     "metadata": {},
     "output_type": "execute_result"
    }
   ],
   "source": [
    "from IPython.display import HTML\n",
    "HTML(\"<style>div.output_area pre { font-family: 'Courier New', monospace; }</style>\")"
   ]
  },
  {
   "cell_type": "code",
   "execution_count": 4,
   "id": "a575b88a-8de7-467f-ad0d-5a258ea07f5b",
   "metadata": {},
   "outputs": [],
   "source": [
    "from apad_env import APADEnv"
   ]
  },
  {
   "cell_type": "code",
   "execution_count": 5,
   "id": "5f2ebfdf-0e08-4347-a97e-c5fadbe1f157",
   "metadata": {},
   "outputs": [
    {
     "name": "stdout",
     "output_type": "stream",
     "text": [
      "False\n",
      "2751\n"
     ]
    },
    {
     "data": {
      "text/plain": [
       "False"
      ]
     },
     "execution_count": 5,
     "metadata": {},
     "output_type": "execute_result"
    }
   ],
   "source": [
    "env = APADEnv()\n",
    "obs, _ = env.reset()\n",
    "print(env._is_valid_placement(7, 0, 1, 13))\n",
    "#print(env.encode_action(7,0,1,13))\n",
    "print(env.encode_action(7,1,3,42))\n",
    "env._place_piece_components(7, 1, 3, 42)\n",
    "#env._place_piece_components(6, 0, 0, 1)\n",
    "#env.visualize()"
   ]
  },
  {
   "cell_type": "code",
   "execution_count": 6,
   "id": "5e01985e-df54-4f30-b48d-85d11d427064",
   "metadata": {},
   "outputs": [
    {
     "name": "stdout",
     "output_type": "stream",
     "text": [
      "piece [(2, 0), (1, 0), (1, 1), (1, 2), (0, 2)]\n",
      "location 1 5\n",
      "False\n",
      "[[ 0  0  0  0  0  0 -1]\n",
      " [ 0  0  0  0  0  0 -1]\n",
      " [ 0  0  0  0  0  0  0]\n",
      " [ 0  0  0  0  0  0  0]\n",
      " [ 0  0  0  0  0  0  0]\n",
      " [ 0  0  0  0  0  0  0]\n",
      " [ 0  0  0 -1 -1 -1 -1]]\n"
     ]
    },
    {
     "data": {
      "image/png": "[encoded data removed]",
      "text/plain": [
       "<Figure size 600x600 with 1 Axes>"
      ]
     },
     "metadata": {},
     "output_type": "display_data"
    }
   ],
   "source": [
    "env = APADEnv()\n",
    "obs, _ = env.reset()\n",
    "coords = env._get_piece_coords(7, 0, 1)\n",
    "print(\"piece\", coords)\n",
    "row, col = divmod(12, env.grid_size)\n",
    "print(\"location\", row, col)\n",
    "print(env._is_valid_placement(7, 0, 1, 12))\n",
    "env._place_piece_components(7, 0, 1, 12)\n",
    "#env._place_piece_components(6, 0, 0, 1)\n",
    "print(env.grid)\n",
    "env.visualize()"
   ]
  }
 ],
 "metadata": {
  "kernelspec": {
   "display_name": "Python 3 (ipykernel)",
   "language": "python",
   "name": "python3"
  },
  "language_info": {
   "codemirror_mode": {
    "name": "ipython",
    "version": 3
   },
   "file_extension": ".py",
   "mimetype": "text/x-python",
   "name": "python",
   "nbconvert_exporter": "python",
   "pygments_lexer": "ipython3",
   "version": "3.10.17"
  }
 },
 "nbformat": 4,
 "nbformat_minor": 5
}
