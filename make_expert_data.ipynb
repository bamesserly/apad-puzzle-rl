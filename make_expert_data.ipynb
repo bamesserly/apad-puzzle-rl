{
 "cells": [
  {
   "cell_type": "code",
   "execution_count": 1,
   "id": "341c0928-0b74-4fad-b817-ff28b02fdfce",
   "metadata": {},
   "outputs": [],
   "source": [
    "%load_ext autoreload\n",
    "%autoreload 2\n",
    "import numpy as np\n",
    "from apad_env import APADEnv"
   ]
  },
  {
   "cell_type": "code",
   "execution_count": 113,
   "id": "e9f4f95a-5bc8-4ed3-bcbf-625061637b51",
   "metadata": {},
   "outputs": [
    {
     "data": {
      "image/png": "[encoded data removed]",
      "text/plain": [
       "<Figure size 600x600 with 1 Axes>"
      ]
     },
     "metadata": {},
     "output_type": "display_data"
    },
    {
     "data": {
      "image/png": "[encoded data removed]",
      "text/plain": [
       "<Figure size 600x600 with 1 Axes>"
      ]
     },
     "metadata": {},
     "output_type": "display_data"
    }
   ],
   "source": [
    "obs_list = []\n",
    "action_list = []\n",
    "episode_starts = []\n",
    "first_step = True\n",
    "\n",
    "# example 1: april 14\n",
    "env = APADEnv(4,14)\n",
    "obs,info = env.reset()\n",
    "action_list.append(env.encode_action(7,0,0,0))\n",
    "action_list.append(env.encode_action(1,0,0,2))\n",
    "action_list.append(env.encode_action(2,0,1,32))\n",
    "action_list.append(env.encode_action(0,1,0,12))\n",
    "action_list.append(env.encode_action(6,0,0,4))\n",
    "action_list.append(env.encode_action(3,0,0,7))\n",
    "action_list.append(env.encode_action(4,0,0,28))\n",
    "action_list.append(env.encode_action(5,0,0,30))\n",
    "\n",
    "for action in action_list:\n",
    "    obs, reward, terminated, truncated, info = env.step(action)\n",
    "    obs_list.append(obs)\n",
    "    episode_starts.append(first_step)\n",
    "    first_step = False\n",
    "\n",
    "env.visualize()\n",
    "\n",
    "# example 2: Jan 23\n",
    "env = APADEnv(1,23)\n",
    "first_step = True\n",
    "obs,info = env.reset()\n",
    "\n",
    "action_list_2 = []\n",
    "action_list_2.append(env.encode_action(0,0,3,1))\n",
    "action_list_2.append(env.encode_action(1,1,2,4))\n",
    "action_list_2.append(env.encode_action(2,0,1,35))\n",
    "action_list_2.append(env.encode_action(3,0,1,25))\n",
    "action_list_2.append(env.encode_action(4,0,0,7))\n",
    "action_list_2.append(env.encode_action(5,0,2,9))\n",
    "action_list_2.append(env.encode_action(6,0,3,28))\n",
    "action_list_2.append(env.encode_action(7,1,0,18))\n",
    "\n",
    "for action in action_list_2:\n",
    "    obs, reward, terminated, truncated, info = env.step(action)\n",
    "    obs_list.append(obs)\n",
    "    action_list.append(action)\n",
    "    episode_starts.append(first_step)\n",
    "    first_step = False\n",
    "\n",
    "env.visualize()"
   ]
  },
  {
   "cell_type": "code",
   "execution_count": null,
   "id": "ce770fe8-b9d4-4ea8-836b-9e7c2ba16fce",
   "metadata": {},
   "outputs": [],
   "source": [
    "        mask = env.action_masks()              # boolean array\n",
    "        valid_actions = np.flatnonzero(mask)   # integer indices of True values\n",
    "\n",
    "        if valid_actions.size == 0:"
   ]
  },
  {
   "cell_type": "code",
   "execution_count": 121,
   "id": "233a5ee2-1023-43ea-9918-79a6666298a0",
   "metadata": {},
   "outputs": [
    {
     "name": "stdout",
     "output_type": "stream",
     "text": [
      "16\n",
      "16\n",
      "16\n",
      "[True, False, False, False, False, False, False, False, True, False, False, False, False, False, False, False]\n",
      "[ 8  8  2 -1  7  7 -1  0  8  2  2  7  1 -1  0  8  8  2  7  1  1  0  0  0\n",
      "  2  7  1 -1  0  0  0  0  3  1  3  0  0  0  0  3  3  3  0  0  0 -1 -1 -1\n",
      " -1  0  0  0  1  1  1  0  0]\n"
     ]
    }
   ],
   "source": [
    "print(len(obs_list))\n",
    "print(len(action_list))\n",
    "print(len(episode_starts))\n",
    "print(episode_starts)\n",
    "print(obs_list[4])"
   ]
  },
  {
   "cell_type": "code",
   "execution_count": 122,
   "id": "e6e7881e-0dcf-4da7-83f8-3ae3437ab25f",
   "metadata": {},
   "outputs": [],
   "source": [
    "# Save to demo.npz\n",
    "np.savez(\n",
    "    \"demo.npz\",\n",
    "    observations=np.array(obs_list),\n",
    "    actions=np.array(action_list),\n",
    "    episode_starts=np.array(episode_starts)\n",
    ")"
   ]
  },
  {
   "cell_type": "code",
   "execution_count": null,
   "id": "7ad3b622-8d8a-4ef5-bf63-6c39c773fd76",
   "metadata": {},
   "outputs": [],
   "source": []
  }
 ],
 "metadata": {
  "kernelspec": {
   "display_name": "Python 3 (ipykernel)",
   "language": "python",
   "name": "python3"
  },
  "language_info": {
   "codemirror_mode": {
    "name": "ipython",
    "version": 3
   },
   "file_extension": ".py",
   "mimetype": "text/x-python",
   "name": "python",
   "nbconvert_exporter": "python",
   "pygments_lexer": "ipython3",
   "version": "3.10.18"
  }
 },
 "nbformat": 4,
 "nbformat_minor": 5
}
