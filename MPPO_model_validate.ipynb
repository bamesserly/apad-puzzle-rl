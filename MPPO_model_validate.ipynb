{
 "cells": [
  {
   "cell_type": "code",
   "execution_count": 1,
   "id": "25ef882d-fcc0-45e6-a7a7-32b7cfb9bc76",
   "metadata": {},
   "outputs": [],
   "source": [
    "from apad_env import APADEnv\n",
    "from sb3_contrib import MaskablePPO\n",
    "import matplotlib.pyplot as plt\n",
    "import torch\n",
    "import numpy as np\n",
    "from scipy import stats\n",
    "import pandas as pd"
   ]
  },
  {
   "cell_type": "code",
   "execution_count": 2,
   "id": "0babf3ef-2611-49f0-8d8d-8e53e6d21307",
   "metadata": {},
   "outputs": [],
   "source": [
    "model = MaskablePPO.load(\"checkpoint_1_150000\")"
   ]
  },
  {
   "cell_type": "code",
   "execution_count": 3,
   "id": "92d5bbeb-e178-4e43-9367-6cc72a5b6c04",
   "metadata": {},
   "outputs": [],
   "source": [
    "env = APADEnv()\n",
    "obs, _ = env.reset()"
   ]
  },
  {
   "cell_type": "code",
   "execution_count": 4,
   "id": "31cecfe3-3231-4f20-adcb-23df7b6a0a6b",
   "metadata": {},
   "outputs": [
    {
     "data": {
      "image/png": "[encoded data removed]",
      "text/plain": [
       "<Figure size 600x600 with 1 Axes>"
      ]
     },
     "metadata": {},
     "output_type": "display_data"
    }
   ],
   "source": [
    "action, _ = model.predict(obs, deterministic=True)\n",
    "env.step(action)\n",
    "env.visualize()"
   ]
  },
  {
   "cell_type": "code",
   "execution_count": 9,
   "id": "998c8438-0f28-4550-9450-585e72d3e887",
   "metadata": {},
   "outputs": [],
   "source": [
    "def test_complete_game(model, env, verbose = False):\n",
    "    obs, info = env.reset()\n",
    "    total_reward = 0\n",
    "    step_count = 0\n",
    "    \n",
    "    while True:\n",
    "        # Force fresh action masks\n",
    "        action_masks = env.action_masks()\n",
    "        \n",
    "        if not np.any(action_masks):\n",
    "            print(f\"No valid actions at step {step_count}\")\n",
    "            break\n",
    "            \n",
    "        action, _ = model.predict(obs, action_masks=action_masks, deterministic=False)\n",
    "        \n",
    "        if not action_masks[action]:\n",
    "            print(f\"Invalid action {action}\")\n",
    "            valid_actions = np.where(action_masks)[0]\n",
    "            action = np.random.choice(valid_actions)\n",
    "        \n",
    "        obs, reward, done, truncated, info = env.step(action)\n",
    "        total_reward += reward\n",
    "        step_count += 1\n",
    "\n",
    "        if verbose:\n",
    "            print(f\"Step {step_count}: Action {action}, Reward {reward}, Total {total_reward}\")\n",
    "        \n",
    "        if done or truncated:\n",
    "            if verbose:\n",
    "                print(f\"Game ended: {'Win' if done else 'Loss'}\")\n",
    "            break\n",
    "\n",
    "    if verbose:\n",
    "        print(f\"Final score: {total_reward}, Steps: {step_count}\")\n",
    "    return total_reward, step_count"
   ]
  },
  {
   "cell_type": "markdown",
   "id": "1355fd28-3f4f-47d0-bf22-4102f568ba47",
   "metadata": {},
   "source": [
    "### play until we win"
   ]
  },
  {
   "cell_type": "code",
   "execution_count": 12,
   "id": "b43e84a2-2420-4b78-bd3f-c885fed578a0",
   "metadata": {},
   "outputs": [
    {
     "name": "stdout",
     "output_type": "stream",
     "text": [
      "1\n",
      "Step 1: Action 766, Reward 20, Total 20\n",
      "Step 2: Action 2412, Reward 20, Total 40\n",
      "Step 3: Action 1315, Reward 20, Total 60\n",
      "Step 4: Action 9, Reward 20, Total 80\n",
      "Step 5: Action 441, Reward -20, Total 60\n",
      "Game ended: Loss\n",
      "Final score: 60, Steps: 5\n",
      "2\n",
      "Step 1: Action 1315, Reward 20, Total 20\n",
      "Step 2: Action 2412, Reward 20, Total 40\n",
      "Step 3: Action 938, Reward 20, Total 60\n",
      "Step 4: Action 612, Reward -20, Total 40\n",
      "Game ended: Loss\n",
      "Final score: 40, Steps: 4\n",
      "3\n",
      "Step 1: Action 1315, Reward 20, Total 20\n",
      "Step 2: Action 2412, Reward 20, Total 40\n",
      "Step 3: Action 1024, Reward 20, Total 60\n",
      "Step 4: Action 1470, Reward 20, Total 80\n",
      "Step 5: Action 1787, Reward 20, Total 100\n",
      "Step 6: Action 560, Reward -20, Total 80\n",
      "Game ended: Loss\n",
      "Final score: 80, Steps: 6\n",
      "4\n",
      "Step 1: Action 1315, Reward 20, Total 20\n",
      "Step 2: Action 1741, Reward 20, Total 40\n",
      "Step 3: Action 2412, Reward 20, Total 60\n",
      "Step 4: Action 618, Reward -20, Total 40\n",
      "Game ended: Loss\n",
      "Final score: 40, Steps: 4\n",
      "5\n",
      "Step 1: Action 1315, Reward 20, Total 20\n",
      "Step 2: Action 2412, Reward 20, Total 40\n",
      "Step 3: Action 1420, Reward 20, Total 60\n",
      "Step 4: Action 766, Reward 20, Total 80\n",
      "Step 5: Action 2208, Reward 20, Total 100\n",
      "Step 6: Action 1784, Reward -20, Total 80\n",
      "Game ended: Loss\n",
      "Final score: 80, Steps: 6\n",
      "6\n",
      "Step 1: Action 137, Reward 20, Total 20\n",
      "Step 2: Action 1315, Reward 20, Total 40\n",
      "Step 3: Action 2412, Reward 20, Total 60\n",
      "Step 4: Action 938, Reward 20, Total 80\n",
      "Step 5: Action 2301, Reward -20, Total 60\n",
      "Game ended: Loss\n",
      "Final score: 60, Steps: 5\n",
      "7\n",
      "Step 1: Action 766, Reward 20, Total 20\n",
      "Step 2: Action 1315, Reward 20, Total 40\n",
      "Step 3: Action 2412, Reward 20, Total 60\n",
      "Step 4: Action 441, Reward 20, Total 80\n",
      "Step 5: Action 172, Reward 20, Total 100\n",
      "Step 6: Action 1606, Reward 20, Total 120\n",
      "Step 7: Action 2394, Reward 20, Total 140\n",
      "Step 8: Action 1850, Reward 30, Total 170\n",
      "Game ended: Win\n",
      "Final score: 170, Steps: 8\n"
     ]
    },
    {
     "data": {
      "image/png": "[encoded data removed]",
      "text/plain": [
       "<Figure size 600x600 with 1 Axes>"
      ]
     },
     "metadata": {},
     "output_type": "display_data"
    }
   ],
   "source": [
    "total_rewared = 0\n",
    "step_count = 0\n",
    "i = 0\n",
    "while step_count < 8:\n",
    "    i += 1\n",
    "    print(i)\n",
    "    total_reward, step_count = test_complete_game(model, env, True)\n",
    "env.visualize()"
   ]
  },
  {
   "cell_type": "markdown",
   "id": "e3ac6d72-8895-4f28-b3ff-659a165c0acf",
   "metadata": {},
   "source": [
    "### win rate"
   ]
  },
  {
   "cell_type": "code",
   "execution_count": 14,
   "id": "415decd2-fcec-4587-b2aa-a01ab640922c",
   "metadata": {},
   "outputs": [
    {
     "name": "stdout",
     "output_type": "stream",
     "text": [
      "0\n",
      "10\n",
      "20\n",
      "30\n",
      "40\n",
      "50\n",
      "60\n",
      "70\n",
      "80\n",
      "90\n",
      "success rate: 0.11\n"
     ]
    }
   ],
   "source": [
    "total_rewared = 0\n",
    "step_count = 0\n",
    "win = 0\n",
    "for i in range(0,99):\n",
    "    total_reward, step_count = test_complete_game(model, env)\n",
    "    if step_count == 8:\n",
    "        win += 1\n",
    "    if i % 10 == 0:\n",
    "        print(i)\n",
    "print(f'success rate: {win/99.:.2f}')"
   ]
  },
  {
   "cell_type": "code",
   "execution_count": null,
   "id": "cb1d463a-12b1-4c29-987c-6f166b6b8adb",
   "metadata": {},
   "outputs": [],
   "source": []
  }
 ],
 "metadata": {
  "kernelspec": {
   "display_name": "Python 3 (ipykernel)",
   "language": "python",
   "name": "python3"
  },
  "language_info": {
   "codemirror_mode": {
    "name": "ipython",
    "version": 3
   },
   "file_extension": ".py",
   "mimetype": "text/x-python",
   "name": "python",
   "nbconvert_exporter": "python",
   "pygments_lexer": "ipython3",
   "version": "3.10.17"
  }
 },
 "nbformat": 4,
 "nbformat_minor": 5
}
