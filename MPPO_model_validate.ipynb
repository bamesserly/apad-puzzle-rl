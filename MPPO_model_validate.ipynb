{
 "cells": [
  {
   "cell_type": "code",
   "execution_count": 1,
   "id": "25ef882d-fcc0-45e6-a7a7-32b7cfb9bc76",
   "metadata": {},
   "outputs": [],
   "source": [
    "from apad_env import APADEnv\n",
    "from sb3_contrib import MaskablePPO\n",
    "import matplotlib.pyplot as plt\n",
    "import torch\n",
    "import numpy as np\n",
    "from scipy import stats\n",
    "import pandas as pd"
   ]
  },
  {
   "cell_type": "code",
   "execution_count": 8,
   "id": "8f0da135-0810-4b75-b8c2-c4aec33668ee",
   "metadata": {},
   "outputs": [],
   "source": [
    "from torch.distributions import Distribution\n",
    "Distribution.set_default_validate_args(False)"
   ]
  },
  {
   "cell_type": "code",
   "execution_count": 2,
   "id": "0babf3ef-2611-49f0-8d8d-8e53e6d21307",
   "metadata": {},
   "outputs": [],
   "source": [
    "model = MaskablePPO.load(\"mppo_50k_2025-06-19_1400\")"
   ]
  },
  {
   "cell_type": "code",
   "execution_count": 3,
   "id": "92d5bbeb-e178-4e43-9367-6cc72a5b6c04",
   "metadata": {},
   "outputs": [],
   "source": [
    "env = APADEnv()\n",
    "obs, _ = env.reset()"
   ]
  },
  {
   "cell_type": "code",
   "execution_count": 4,
   "id": "31cecfe3-3231-4f20-adcb-23df7b6a0a6b",
   "metadata": {},
   "outputs": [
    {
     "data": {
      "image/png": "[encoded data removed]",
      "text/plain": [
       "<Figure size 600x600 with 1 Axes>"
      ]
     },
     "metadata": {},
     "output_type": "display_data"
    }
   ],
   "source": [
    "action, _ = model.predict(obs, deterministic=True)\n",
    "env.step(action)\n",
    "env.visualize()"
   ]
  },
  {
   "cell_type": "code",
   "execution_count": 6,
   "id": "998c8438-0f28-4550-9450-585e72d3e887",
   "metadata": {},
   "outputs": [],
   "source": [
    "def test_complete_game(model, env, verbose = False):\n",
    "    obs, info = env.reset()\n",
    "    total_reward = 0\n",
    "    step_count = 0\n",
    "\n",
    "    #action_masks = env.action_masks()\n",
    "    \n",
    "    while True:\n",
    "        #if not np.any(action_masks):\n",
    "        #    print(f\"No valid actions at step {step_count}\")\n",
    "        #    break\n",
    "            \n",
    "        action, _ = model.predict(obs, action_masks=env.action_masks(), deterministic=False)\n",
    "        \n",
    "        #if not action_masks[action]:\n",
    "        #    print(f\"Invalid action {action}\")\n",
    "        #    valid_actions = np.where(action_masks)[0]\n",
    "        #    action = np.random.choice(valid_actions)\n",
    "        \n",
    "        obs, reward, done, truncated, info = env.step(action)\n",
    "        total_reward += reward\n",
    "        step_count += 1\n",
    "\n",
    "        if verbose:\n",
    "            print(f\"Step {step_count}: Action {action}, Reward {reward}, Total {total_reward}\")\n",
    "        \n",
    "        if done or truncated:\n",
    "            if verbose:\n",
    "                print(f\"Game ended: {'Win' if done else 'Loss'}\")\n",
    "            break\n",
    "\n",
    "    if verbose:\n",
    "        print(f\"Final score: {total_reward}, Steps: {step_count}\")\n",
    "    return total_reward, step_count"
   ]
  },
  {
   "cell_type": "markdown",
   "id": "1355fd28-3f4f-47d0-bf22-4102f568ba47",
   "metadata": {},
   "source": [
    "### play until we win"
   ]
  },
  {
   "cell_type": "code",
   "execution_count": 14,
   "id": "b43e84a2-2420-4b78-bd3f-c885fed578a0",
   "metadata": {},
   "outputs": [
    {
     "name": "stdout",
     "output_type": "stream",
     "text": [
      "1\n",
      "Step 1: Action 244, Reward 1, Total 1\n",
      "Step 2: Action 1594, Reward 1, Total 2\n",
      "Step 3: Action 668, Reward 1, Total 3\n",
      "Step 4: Action 2587, Reward 1, Total 4\n",
      "Step 5: Action 2169, Reward 1, Total 5\n",
      "Step 6: Action 1204, Reward 1, Total 6\n",
      "Step 7: Action 716, Reward 1, Total 7\n",
      "Step 8: Action 1866, Reward 3, Total 10\n",
      "Game ended: Win\n",
      "Final score: 10, Steps: 8\n"
     ]
    },
    {
     "data": {
      "image/png": "[encoded data removed]",
      "text/plain": [
       "<Figure size 600x600 with 1 Axes>"
      ]
     },
     "metadata": {},
     "output_type": "display_data"
    }
   ],
   "source": [
    "total_rewared = 0\n",
    "step_count = 0\n",
    "i = 0\n",
    "while step_count < 8:\n",
    "    i += 1\n",
    "    print(i)\n",
    "    total_reward, step_count = test_complete_game(model, env, True)\n",
    "env.visualize()"
   ]
  },
  {
   "cell_type": "markdown",
   "id": "e3ac6d72-8895-4f28-b3ff-659a165c0acf",
   "metadata": {},
   "source": [
    "### win rate"
   ]
  },
  {
   "cell_type": "code",
   "execution_count": 8,
   "id": "415decd2-fcec-4587-b2aa-a01ab640922c",
   "metadata": {},
   "outputs": [
    {
     "name": "stdout",
     "output_type": "stream",
     "text": [
      "0\n",
      "10\n",
      "20\n",
      "30\n",
      "40\n",
      "50\n",
      "60\n",
      "70\n",
      "80\n",
      "90\n",
      "success rate: 0.93\n"
     ]
    }
   ],
   "source": [
    "total_rewared = 0\n",
    "step_count = 0\n",
    "win = 0\n",
    "for i in range(0,99):\n",
    "    total_reward, step_count = test_complete_game(model, env)\n",
    "    if step_count == 8:\n",
    "        win += 1\n",
    "    if i % 10 == 0:\n",
    "        print(i)\n",
    "print(f'success rate: {win/99.:.2f}')"
   ]
  },
  {
   "cell_type": "code",
   "execution_count": 8,
   "id": "1928b5e8-775c-4b76-a091-6c898e19a66a",
   "metadata": {},
   "outputs": [],
   "source": [
    "def evaluate_win_rate(model, env, n_episodes=100):\n",
    "    wins = 0\n",
    "    for i in range(n_episodes):\n",
    "        if i % 10 == 0:\n",
    "            print(i)\n",
    "        obs, info = env.reset()\n",
    "        done = False\n",
    "        while not done:\n",
    "            action, _ = model.predict(obs, deterministic=False,\n",
    "                                      action_masks=info[\"action_mask\"])\n",
    "            obs, reward, terminated, truncated, info = env.step(action)\n",
    "            done = terminated or truncated\n",
    "        wins += terminated            # reward>0 and terminated ⇔ win in this env\n",
    "    return wins / n_episodes"
   ]
  },
  {
   "cell_type": "code",
   "execution_count": 9,
   "id": "a5ef5897-5bc4-4bc6-b0a3-01e134397023",
   "metadata": {},
   "outputs": [
    {
     "name": "stdout",
     "output_type": "stream",
     "text": [
      "0\n",
      "10\n",
      "20\n",
      "30\n",
      "40\n",
      "50\n",
      "60\n",
      "70\n",
      "80\n",
      "90\n"
     ]
    },
    {
     "data": {
      "text/plain": [
       "0.96"
      ]
     },
     "execution_count": 9,
     "metadata": {},
     "output_type": "execute_result"
    }
   ],
   "source": [
    "evaluate_win_rate(model, env)"
   ]
  }
 ],
 "metadata": {
  "kernelspec": {
   "display_name": "Python 3 (ipykernel)",
   "language": "python",
   "name": "python3"
  },
  "language_info": {
   "codemirror_mode": {
    "name": "ipython",
    "version": 3
   },
   "file_extension": ".py",
   "mimetype": "text/x-python",
   "name": "python",
   "nbconvert_exporter": "python",
   "pygments_lexer": "ipython3",
   "version": "3.10.17"
  }
 },
 "nbformat": 4,
 "nbformat_minor": 5
}
