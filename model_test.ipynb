{
 "cells": [
  {
   "cell_type": "code",
   "execution_count": 1,
   "id": "3c7202e2-a814-4152-8f1c-7bbaedbffb1b",
   "metadata": {},
   "outputs": [],
   "source": [
    "from apad_env import APADEnv, decode_action, PIECES\n",
    "from stable_baselines3 import DQN\n",
    "from stable_baselines3.common.callbacks import BaseCallback\n",
    "import matplotlib.pyplot as plt\n",
    "import torch\n",
    "import numpy as np\n",
    "from scipy import stats\n",
    "import pandas as pd"
   ]
  },
  {
   "cell_type": "markdown",
   "id": "804ef208-03f9-4ca6-b58e-7ce794ec195f",
   "metadata": {},
   "source": [
    "# Test"
   ]
  },
  {
   "cell_type": "code",
   "execution_count": 7,
   "id": "20f7b7e5-6396-426c-bd64-edfa671bd64e",
   "metadata": {},
   "outputs": [],
   "source": [
    "model = DQN.load(\"apad_dqn_model\")\n",
    "env = APADEnv()"
   ]
  },
  {
   "cell_type": "code",
   "execution_count": 9,
   "id": "730f4168-bdba-4e08-b5fc-ed7147f3ca06",
   "metadata": {
    "scrolled": true
   },
   "outputs": [
    {
     "name": "stdout",
     "output_type": "stream",
     "text": [
      "Success rate: 0/100 (0.0%)\n"
     ]
    },
    {
     "data": {
      "image/png": "[encoded data removed]",
      "text/plain": [
       "<Figure size 600x600 with 1 Axes>"
      ]
     },
     "metadata": {},
     "output_type": "display_data"
    }
   ],
   "source": [
    "successes = 0\n",
    "trials = 100\n",
    "\n",
    "for i in range(trials):\n",
    "    obs, _ = env.reset()\n",
    "    while True:\n",
    "        action, _ = model.predict(obs, deterministic=False)\n",
    "        obs, reward, done, truncated, _ = env.step(action)\n",
    "        if done or truncated:\n",
    "            break\n",
    "    \n",
    "    if sum(env.remaining_pieces) == 0:\n",
    "        successes += 1\n",
    "\n",
    "print(f\"Success rate: {successes}/{trials} ({successes/trials:.1%})\")\n",
    "\n",
    "# Show final state from last trial\n",
    "env.visualize()"
   ]
  },
  {
   "cell_type": "markdown",
   "id": "39176c7d-3b6f-4388-94a9-27ef70b6c9f8",
   "metadata": {},
   "source": [
    "### % of invalid moves\n",
    "Play a single game with model predictions and count the times we attempt an invalid move"
   ]
  },
  {
   "cell_type": "code",
   "execution_count": 8,
   "id": "641b9454-2688-437f-a9a9-2f7836e04638",
   "metadata": {},
   "outputs": [
    {
     "name": "stdout",
     "output_type": "stream",
     "text": [
      "Steps: 100, Invalid: 98\n",
      "Steps: 200, Invalid: 197\n",
      "Steps: 300, Invalid: 297\n",
      "Steps: 400, Invalid: 397\n",
      "Steps: 500, Invalid: 497\n",
      "Steps: 600, Invalid: 597\n",
      "Steps: 700, Invalid: 697\n",
      "Steps: 800, Invalid: 797\n",
      "Steps: 900, Invalid: 897\n",
      "Steps: 1000, Invalid: 996\n",
      "Total steps: 1001, Invalid moves: 997\n"
     ]
    },
    {
     "data": {
      "image/png": "[encoded data removed]",
      "text/plain": [
       "<Figure size 600x600 with 1 Axes>"
      ]
     },
     "metadata": {},
     "output_type": "display_data"
    }
   ],
   "source": [
    "obs, _ = env.reset()\n",
    "step_count = 0\n",
    "invalid_count = 0\n",
    "\n",
    "while True:\n",
    "    action, _ = model.predict(obs, deterministic=False)\n",
    "    obs, reward, done, truncated, _ = env.step(action)\n",
    "    step_count += 1\n",
    "    if reward < 0:  # Invalid move\n",
    "        invalid_count += 1\n",
    "    \n",
    "    if step_count % 100 == 0:\n",
    "        print(f\"Steps: {step_count}, Invalid: {invalid_count}\")\n",
    "    \n",
    "    if done or truncated or step_count > 1000:  # Add step limit\n",
    "        break\n",
    "\n",
    "print(f\"Total steps: {step_count}, Invalid moves: {invalid_count}\")\n",
    "\n",
    "env.visualize()"
   ]
  },
  {
   "cell_type": "code",
   "execution_count": null,
   "id": "78c17792-5650-4052-bae5-cd1093108aff",
   "metadata": {},
   "outputs": [],
   "source": []
  }
 ],
 "metadata": {
  "kernelspec": {
   "display_name": "Python 3 (ipykernel)",
   "language": "python",
   "name": "python3"
  },
  "language_info": {
   "codemirror_mode": {
    "name": "ipython",
    "version": 3
   },
   "file_extension": ".py",
   "mimetype": "text/x-python",
   "name": "python",
   "nbconvert_exporter": "python",
   "pygments_lexer": "ipython3",
   "version": "3.10.17"
  }
 },
 "nbformat": 4,
 "nbformat_minor": 5
}
