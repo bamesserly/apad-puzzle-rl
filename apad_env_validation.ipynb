{
 "cells": [
  {
   "cell_type": "code",
   "execution_count": 6,
   "id": "ef574682-7118-4825-bec0-2f604cc35267",
   "metadata": {},
   "outputs": [
    {
     "name": "stdout",
     "output_type": "stream",
     "text": [
      "The autoreload extension is already loaded. To reload it, use:\n",
      "  %reload_ext autoreload\n"
     ]
    }
   ],
   "source": [
    "%load_ext autoreload\n",
    "%autoreload 2"
   ]
  },
  {
   "cell_type": "code",
   "execution_count": 7,
   "id": "ab3ca1a7-6b46-4b78-bbaf-c832d5964ebc",
   "metadata": {},
   "outputs": [],
   "source": [
    "import numpy as np\n",
    "import matplotlib.pyplot as plt\n",
    "from stable_baselines3.common.env_checker import check_env"
   ]
  },
  {
   "cell_type": "code",
   "execution_count": 8,
   "id": "7d0c7ee9-82c0-49e0-8e90-a4a68965c02b",
   "metadata": {},
   "outputs": [
    {
     "data": {
      "text/html": [
       "<style>div.output_area pre { font-family: 'Courier New', monospace; }</style>"
      ],
      "text/plain": [
       "<IPython.core.display.HTML object>"
      ]
     },
     "execution_count": 8,
     "metadata": {},
     "output_type": "execute_result"
    }
   ],
   "source": [
    "from IPython.display import HTML\n",
    "HTML(\"<style>div.output_area pre { font-family: 'Courier New', monospace; }</style>\")"
   ]
  },
  {
   "cell_type": "code",
   "execution_count": 18,
   "id": "785e4fec-6080-4047-aa1e-795c40e4acf1",
   "metadata": {},
   "outputs": [],
   "source": [
    "from apad_env import APADEnv, has_islands"
   ]
  },
  {
   "cell_type": "markdown",
   "id": "3fcb87f9-7809-487d-a516-80a7a3cfc6fe",
   "metadata": {},
   "source": [
    "Coordinate system: Top left is 0,0. Zeroeth row, second column would be 0,2."
   ]
  },
  {
   "cell_type": "code",
   "execution_count": 19,
   "id": "df135a55-67c7-41d7-b87f-08e020d3fed9",
   "metadata": {},
   "outputs": [],
   "source": [
    "env = APADEnv()\n",
    "check_env(env)"
   ]
  },
  {
   "cell_type": "markdown",
   "id": "2e58e25d-100d-4085-bc32-f5191c521bb8",
   "metadata": {},
   "source": [
    "# basic sanity checks of the environment"
   ]
  },
  {
   "cell_type": "code",
   "execution_count": 21,
   "id": "c5f5875b-3dba-458f-88bc-d1c7f557168c",
   "metadata": {},
   "outputs": [
    {
     "name": "stdout",
     "output_type": "stream",
     "text": [
      "All tests passed\n"
     ]
    }
   ],
   "source": [
    "def test_environment():\n",
    "    env = APADEnv()\n",
    "    \n",
    "    # Test 1: Grid initialization\n",
    "    assert env.grid.shape == (7, 7)\n",
    "    assert np.sum(env.grid == -1) == 6  # Invalid positions\n",
    "    assert np.sum(env.remaining_pieces) == 8  # All pieces available\n",
    "    \n",
    "    # Test 2: Piece coordinate generation\n",
    "    coords_k = env._get_piece_coords(0, 0, 0)  # K piece, no flip, no rotation\n",
    "    expected_k = [(0,0), (1,0), (2,0), (3,0), (2,1)]\n",
    "    assert coords_k == expected_k\n",
    "    \n",
    "    # Test 3: Rotation\n",
    "    coords_k_rot = env._get_piece_coords(0, 0, 1)  # K piece rotated 90°\n",
    "    assert len(coords_k_rot) == 5\n",
    "    \n",
    "    # Test 4: Valid placement\n",
    "    valid = env._is_valid_placement(0, 0, 0, 14)  # Position (2,0) on grid\n",
    "    assert isinstance(valid, np.bool_)\n",
    "    \n",
    "    # Test 5: Invalid placement (out of bounds)\n",
    "    valid = env._is_valid_placement(0, 0, 0, 6)  # Top-right corner invalid\n",
    "    assert valid == False\n",
    "    \n",
    "    # Test 6: Piece placement\n",
    "    if env._is_valid_placement(0, 0, 0, 14):\n",
    "       env._place_piece_components(0, 0, 0, 14)\n",
    "       assert not env.remaining_pieces[0]  # Piece marked as used\n",
    "       assert np.sum(env.grid == 1) == 5   # 5 cells occupied by piece\n",
    "    \n",
    "    print(\"All tests passed\")\n",
    "    \n",
    "test_environment()"
   ]
  },
  {
   "cell_type": "markdown",
   "id": "0241ffc6-f579-44be-9cf8-2eac8ded139a",
   "metadata": {},
   "source": [
    "### Make sure we can't place pieces on top of each other. Make sure we can reset the environment."
   ]
  },
  {
   "cell_type": "code",
   "execution_count": 22,
   "id": "dc265527-aa03-4f4f-bb44-262507ff85c7",
   "metadata": {},
   "outputs": [
    {
     "data": {
      "image/png": "[encoded data removed]",
      "text/plain": [
       "<Figure size 600x600 with 1 Axes>"
      ]
     },
     "metadata": {},
     "output_type": "display_data"
    },
    {
     "name": "stdout",
     "output_type": "stream",
     "text": [
      "Overlap and reset tests passed!\n"
     ]
    },
    {
     "data": {
      "text/plain": [
       "<apad_env.APADEnv at 0x1692648e0>"
      ]
     },
     "execution_count": 22,
     "metadata": {},
     "output_type": "execute_result"
    }
   ],
   "source": [
    "def test_overlap_and_reset():\n",
    "    env = APADEnv()\n",
    "    \n",
    "    # Find two valid positions for same piece type\n",
    "    pos1 = 14  # Should be valid\n",
    "    pos2 = 15  # Adjacent position\n",
    "    \n",
    "    # Place first piece\n",
    "    if env._is_valid_placement(0, 0, 0, pos1):\n",
    "        env._place_piece_components(1, 0, 0, pos1)\n",
    "        env.visualize()\n",
    "       \n",
    "        # Try to place overlapping piece (should fail)\n",
    "        overlap_valid = env._is_valid_placement(0, 0, 0, pos2)\n",
    "        assert overlap_valid == False\n",
    "        \n",
    "        # Test reset\n",
    "        obs, info = env.reset()\n",
    "        assert np.sum(env.remaining_pieces) == 8  # All pieces available\n",
    "        assert np.sum(env.grid > 0) == 0  # Only invalid cells marked\n",
    "       \n",
    "    print(\"Overlap and reset tests passed!\")\n",
    "    return env\n",
    "\n",
    "test_overlap_and_reset()"
   ]
  },
  {
   "cell_type": "markdown",
   "id": "eea1c400-2b70-47ec-aef2-d6352ae333d7",
   "metadata": {},
   "source": [
    "### Validate island-finding"
   ]
  },
  {
   "cell_type": "code",
   "execution_count": 23,
   "id": "1c16ee9d-b937-4725-b0e4-6c86d8dceee7",
   "metadata": {},
   "outputs": [
    {
     "data": {
      "image/png": "[encoded data removed]",
      "text/plain": [
       "<Figure size 600x600 with 1 Axes>"
      ]
     },
     "metadata": {},
     "output_type": "display_data"
    },
    {
     "name": "stdout",
     "output_type": "stream",
     "text": [
      "here's the grid as the island finder sees it\n",
      "[[1 0 0 2 2 2 0]\n",
      " [1 0 2 2 2 2 0]\n",
      " [1 0 0 2 2 2 2]\n",
      " [1 0 0 0 2 2 2]\n",
      " [1 1 1 0 2 2 2]\n",
      " [1 1 1 0 2 2 2]\n",
      " [1 1 1 0 0 0 0]]\n",
      "there are 2 separate islands of unoccupied cells\n",
      "\n",
      "the numbers of cells in each group (including the total number of occupied/invalid cells at the zeroeth index)\n",
      "[16 13 20]\n",
      "\n",
      "Are there groups of unoccupied cells of size <= 4?\n",
      "False\n",
      "\n",
      "island-finding test passed!\n"
     ]
    }
   ],
   "source": [
    "from scipy.ndimage import label\n",
    "\n",
    "def validate_island_finding(grid):\n",
    "    # pass label() a grid of T/F, T where the cells are 0 (empty), F where they are !=0 (invalid/occupied).\n",
    "    labeled_array, num_features = label(env.grid == 0)\n",
    "    \n",
    "    # 1's where there are empty cells, 0's where they are occupied/invalid\n",
    "    print(\"here's the grid as the island finder sees it\")\n",
    "    print(labeled_array)\n",
    "    \n",
    "    # number of separate groups.\n",
    "    print(f'there are {num_features} separate islands of unoccupied cells')\n",
    "    \n",
    "    # flatten the grid to 1D\n",
    "    #print(labeled_array.ravel())\n",
    "    \n",
    "    # [number of 0s, number of not-zeroes in group1, number of not-zeroes in group2, ...]\n",
    "    print(\"\\nthe numbers of cells in each group (including the total number of occupied/invalid cells at the zeroeth index)\")\n",
    "    print(np.bincount(labeled_array.ravel()))\n",
    "    \n",
    "    island_sizes = np.bincount(labeled_array.ravel())[1:]\n",
    "    \n",
    "    # Check if any islands have 4 or fewer cells\n",
    "    print(\"\\nAre there groups of unoccupied cells of size <= 4?\")\n",
    "    print(np.any(island_sizes <= 4))\n",
    "\n",
    "    assert not has_islands(grid)\n",
    "\n",
    "    print(\"\\nisland-finding test passed!\")\n",
    "\n",
    "env = APADEnv()\n",
    "env._place_piece_components(1, 0, 0, 16)\n",
    "env._place_piece_components(6, 0, 0, 1)\n",
    "env.visualize()\n",
    "validate_island_finding(env.grid)\n"
   ]
  },
  {
   "cell_type": "markdown",
   "id": "dff7667b-ccfe-47b0-9a4b-2137d2fe09b4",
   "metadata": {},
   "source": [
    "# piece placement visualization and sanity-checks\n",
    "Make sure pieces are being placed correctly. And understand the action->position/piece/rotation/chirality encoding.\n",
    "e.g. \n",
    "- action 2408 = Z piece placed in the top-left\n",
    "- action 2451 = Z piece placed int he top-left, but rotated\n",
    "- 2451 - 2408 = 43 possible cells where each piece can be placed\n",
    "- in practice, not all of these cells are valid, even if the board is empty"
   ]
  },
  {
   "cell_type": "code",
   "execution_count": 24,
   "id": "4771ac4a-5cd1-42b8-a1b4-05ed22d9a4fa",
   "metadata": {
    "scrolled": true
   },
   "outputs": [
    {
     "name": "stdout",
     "output_type": "stream",
     "text": [
      "Chosen action: {'piece_id': 7, 'chirality': 0, 'rotation': 0, 'position': 0, 'grid_pos': (0, 0), 'piece_name': 'Z'}\n"
     ]
    },
    {
     "data": {
      "image/png": "[encoded data removed]",
      "text/plain": [
       "<Figure size 300x300 with 1 Axes>"
      ]
     },
     "metadata": {},
     "output_type": "display_data"
    }
   ],
   "source": [
    "env = APADEnv()\n",
    "action = 2408\n",
    "print(f\"Chosen action: {env.decode_action_verbose(action)}\")\n",
    "env.visualize_piece(action)"
   ]
  },
  {
   "cell_type": "code",
   "execution_count": 25,
   "id": "a404625a-4817-4ffa-ab8a-5e34cc21e768",
   "metadata": {
    "scrolled": true
   },
   "outputs": [
    {
     "name": "stdout",
     "output_type": "stream",
     "text": [
      "Chosen action: {'piece_id': 7, 'chirality': 0, 'rotation': 1, 'position': 0, 'grid_pos': (0, 0), 'piece_name': 'Z'}\n"
     ]
    },
    {
     "data": {
      "image/png": "[encoded data removed]",
      "text/plain": [
       "<Figure size 300x300 with 1 Axes>"
      ]
     },
     "metadata": {},
     "output_type": "display_data"
    }
   ],
   "source": [
    "action = 2451\n",
    "print(f\"Chosen action: {env.decode_action_verbose(action)}\")\n",
    "env.visualize_piece(action)"
   ]
  },
  {
   "cell_type": "markdown",
   "id": "6d1e03fa-7299-40c6-919b-fe070517a9ca",
   "metadata": {},
   "source": [
    "At action 2580 (=2451+3*43, for the 3 remaining rotation configurations in each possible cell), we get our first chirality flip for the z-piece"
   ]
  },
  {
   "cell_type": "code",
   "execution_count": 26,
   "id": "52d15a83-94be-4b9c-9c9e-5334ff4b8509",
   "metadata": {
    "scrolled": true
   },
   "outputs": [
    {
     "name": "stdout",
     "output_type": "stream",
     "text": [
      "Chosen action: {'piece_id': 7, 'chirality': 1, 'rotation': 0, 'position': 0, 'grid_pos': (0, 0), 'piece_name': 'Z'}\n"
     ]
    },
    {
     "data": {
      "image/png": "[encoded data removed]",
      "text/plain": [
       "<Figure size 300x300 with 1 Axes>"
      ]
     },
     "metadata": {},
     "output_type": "display_data"
    }
   ],
   "source": [
    "action = 2580\n",
    "print(f\"Chosen action: {env.decode_action_verbose(action)}\")\n",
    "env.visualize_piece(action)"
   ]
  },
  {
   "cell_type": "markdown",
   "id": "3693aa64-36dd-4658-9226-116947ee6371",
   "metadata": {},
   "source": [
    "# Run through a single random game\n",
    "i.e. try to place each piece until we can't\n",
    "\n",
    "in this version, we check for valid moves and if not exist, then quit\n",
    "\n",
    "UPDATE: this doesn't really resemble how the `step` function plays games in the model."
   ]
  },
  {
   "cell_type": "code",
   "execution_count": 27,
   "id": "7cf00ef3-ac96-4819-a474-71382a6d693a",
   "metadata": {},
   "outputs": [],
   "source": [
    "def test_random_trial():\n",
    "    env = APADEnv()  # Replace with your actual class name\n",
    "    obs, _ = env.reset()\n",
    "    done = False\n",
    "    truncated = False\n",
    "    \n",
    "    while not done and not truncated:\n",
    "        action = env.action_space.sample()  # Random action\n",
    "        obs, reward, done, truncated, info = env.step(action)\n",
    "\n",
    "\n",
    "    return env"
   ]
  },
  {
   "cell_type": "markdown",
   "id": "2859f780-c45c-447b-8354-7bc46ae777a3",
   "metadata": {},
   "source": [
    "### Validate island-finding"
   ]
  },
  {
   "cell_type": "code",
   "execution_count": 28,
   "id": "fc23827c-c446-47d0-a2a1-198a550d50d5",
   "metadata": {},
   "outputs": [
    {
     "name": "stdout",
     "output_type": "stream",
     "text": [
      "True\n"
     ]
    },
    {
     "data": {
      "image/png": "[encoded data removed]",
      "text/plain": [
       "<Figure size 600x600 with 1 Axes>"
      ]
     },
     "metadata": {},
     "output_type": "display_data"
    }
   ],
   "source": [
    "env = test_random_trial()\n",
    "print(has_islands(env.grid))\n",
    "env.visualize()"
   ]
  },
  {
   "cell_type": "markdown",
   "id": "23e42a8e-9906-4aaa-9d61-41ee5726cc01",
   "metadata": {},
   "source": [
    "### validate action-masking"
   ]
  },
  {
   "cell_type": "code",
   "execution_count": 29,
   "id": "d8f77fc3-6c3d-4b09-8946-0edcfe89e480",
   "metadata": {},
   "outputs": [],
   "source": [
    "def test_with_training_seed():\n",
    "    env = APADEnv()\n",
    "    \n",
    "    # Match training conditions\n",
    "    for episode in range(100):\n",
    "        env.reset(seed=episode)  # Different seeds\n",
    "        \n",
    "        for step in range(200):\n",
    "            mask = env.action_masks()\n",
    "            valid_actions = np.where(mask)[0]\n",
    "            \n",
    "            if len(valid_actions) == 0:\n",
    "                break\n",
    "                \n",
    "            action = np.random.choice(valid_actions)\n",
    "            \n",
    "            try:\n",
    "                env.step(action)\n",
    "            except IndexError as e:\n",
    "                print(f\"Error: episode {episode}, step {step}\")\n",
    "                print(f\"Action: {action}, Move: {env.decode_action(action)}\")\n",
    "                return"
   ]
  },
  {
   "cell_type": "code",
   "execution_count": 30,
   "id": "1357a5c9-5b1c-43bc-a6f5-2727b370f502",
   "metadata": {},
   "outputs": [],
   "source": [
    "env = APADEnv()\n",
    "assert env.action_masks().shape == (env.action_space.n,)"
   ]
  },
  {
   "cell_type": "markdown",
   "id": "ba45bcdf-d205-4f05-897c-0fc45a25d4b1",
   "metadata": {},
   "source": [
    "### play random trials until we get a success\n",
    "this takes a couple minutes!"
   ]
  },
  {
   "cell_type": "code",
   "execution_count": null,
   "id": "723436d4-2889-40c9-8af1-320b58059f16",
   "metadata": {
    "scrolled": true
   },
   "outputs": [],
   "source": [
    "import time\n",
    "\n",
    "start_time = time.time()\n",
    "last_print = start_time\n",
    "\n",
    "i = 0\n",
    "remaining_pieces = []\n",
    "try:\n",
    "    while True:\n",
    "        i += 1\n",
    "        env = test_random_trial()\n",
    "        remaining_pieces.append(np.sum(env.remaining_pieces))\n",
    "        if np.sum(env.remaining_pieces) == 0:\n",
    "            env.visualize()\n",
    "            break\n",
    "        current_time = time.time()\n",
    "        if current_time - last_print >= 15:\n",
    "            elapsed = current_time - start_time\n",
    "            print(f\"trial {i} {elapsed:.1f} seconds elapsed...\")\n",
    "            last_print = current_time\n",
    "\n",
    "except KeyboardInterrupt:\n",
    "    env.visualize()\n",
    "\n",
    "plt.hist(remaining_pieces, bins=range(9), alpha=0.7)\n",
    "plt.xlabel('Pieces Remaining')\n",
    "plt.ylabel('Frequency')\n",
    "plt.title('Random Trial Results')\n",
    "plt.savefig('trial_results.png')\n",
    "plt.show()\n",
    "\n",
    "print(f\"Trials: {i}, Success rate: {remaining_pieces.count(0)/i:.2%}\")"
   ]
  },
  {
   "cell_type": "markdown",
   "id": "ea0109e1-53e0-4ce2-aeca-3c668d4aee44",
   "metadata": {},
   "source": [
    "~~most of the time we end up with 2 remaining pieces when we place them all randomly~~\n",
    "\n",
    "bricking the game in the step function when islands of 2-4 empty cells remain reduces the number of trials required by 10-20x."
   ]
  },
  {
   "cell_type": "code",
   "execution_count": null,
   "id": "66e1f6ae-276f-45dd-9b52-e9fe5176abc5",
   "metadata": {},
   "outputs": [],
   "source": [
    "has_islands(env.grid)"
   ]
  },
  {
   "cell_type": "code",
   "execution_count": null,
   "id": "c41af02f-07f0-4e60-92df-2e50db968ebb",
   "metadata": {},
   "outputs": [],
   "source": []
  }
 ],
 "metadata": {
  "kernelspec": {
   "display_name": "Python 3 (ipykernel)",
   "language": "python",
   "name": "python3"
  },
  "language_info": {
   "codemirror_mode": {
    "name": "ipython",
    "version": 3
   },
   "file_extension": ".py",
   "mimetype": "text/x-python",
   "name": "python",
   "nbconvert_exporter": "python",
   "pygments_lexer": "ipython3",
   "version": "3.10.17"
  }
 },
 "nbformat": 4,
 "nbformat_minor": 5
}
