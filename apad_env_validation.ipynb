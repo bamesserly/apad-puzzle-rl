{
 "cells": [
  {
   "cell_type": "code",
   "execution_count": 3,
   "id": "ab3ca1a7-6b46-4b78-bbaf-c832d5964ebc",
   "metadata": {},
   "outputs": [],
   "source": [
    "import numpy as np\n",
    "import matplotlib.pyplot as plt"
   ]
  },
  {
   "cell_type": "code",
   "execution_count": 4,
   "id": "7d0c7ee9-82c0-49e0-8e90-a4a68965c02b",
   "metadata": {},
   "outputs": [
    {
     "data": {
      "text/html": [
       "<style>div.output_area pre { font-family: 'Courier New', monospace; }</style>"
      ],
      "text/plain": [
       "<IPython.core.display.HTML object>"
      ]
     },
     "execution_count": 4,
     "metadata": {},
     "output_type": "execute_result"
    }
   ],
   "source": [
    "from IPython.display import HTML\n",
    "HTML(\"<style>div.output_area pre { font-family: 'Courier New', monospace; }</style>\")"
   ]
  },
  {
   "cell_type": "code",
   "execution_count": 5,
   "id": "785e4fec-6080-4047-aa1e-795c40e4acf1",
   "metadata": {},
   "outputs": [],
   "source": [
    "from apad_env import APADEnv, PIECES"
   ]
  },
  {
   "cell_type": "markdown",
   "id": "3fcb87f9-7809-487d-a516-80a7a3cfc6fe",
   "metadata": {},
   "source": [
    "Coordinate system: Top left is 0,0. Zeroeth row, second column would be 0,2."
   ]
  },
  {
   "cell_type": "markdown",
   "id": "2e58e25d-100d-4085-bc32-f5191c521bb8",
   "metadata": {},
   "source": [
    "# basic sanity checks of the environment"
   ]
  },
  {
   "cell_type": "code",
   "execution_count": 6,
   "id": "c5f5875b-3dba-458f-88bc-d1c7f557168c",
   "metadata": {},
   "outputs": [
    {
     "name": "stdout",
     "output_type": "stream",
     "text": [
      "All tests passed\n"
     ]
    }
   ],
   "source": [
    "def test_environment():\n",
    "    env = APADEnv()\n",
    "    \n",
    "    # Test 1: Grid initialization\n",
    "    assert env.grid.shape == (7, 7)\n",
    "    assert np.sum(env.grid == -1) == 6  # Invalid positions\n",
    "    assert np.sum(env.remaining_pieces) == 8  # All pieces available\n",
    "    \n",
    "    # Test 2: Piece coordinate generation\n",
    "    coords_k = env._get_piece_coords(0, 0, 0)  # K piece, no flip, no rotation\n",
    "    expected_k = [(0,0), (1,0), (2,0), (3,0), (2,1)]\n",
    "    assert coords_k == expected_k\n",
    "    \n",
    "    # Test 3: Rotation\n",
    "    coords_k_rot = env._get_piece_coords(0, 0, 1)  # K piece rotated 90°\n",
    "    assert len(coords_k_rot) == 5\n",
    "    \n",
    "    # Test 4: Valid placement\n",
    "    valid = env._is_valid_placement(0, 0, 0, 14)  # Position (2,0) on grid\n",
    "    assert isinstance(valid, bool)\n",
    "    \n",
    "    # Test 5: Invalid placement (out of bounds)\n",
    "    valid = env._is_valid_placement(0, 0, 0, 6)  # Top-right corner invalid\n",
    "    assert valid == False\n",
    "    \n",
    "    # Test 6: Piece placement\n",
    "    if env._is_valid_placement(0, 0, 0, 14):\n",
    "       env._place_piece(0, 0, 0, 14)\n",
    "       assert not env.remaining_pieces[0]  # Piece marked as used\n",
    "       assert np.sum(env.grid == 1) == 5   # 5 cells occupied by piece\n",
    "    \n",
    "    print(\"All tests passed\")\n",
    "    \n",
    "test_environment()"
   ]
  },
  {
   "cell_type": "markdown",
   "id": "0241ffc6-f579-44be-9cf8-2eac8ded139a",
   "metadata": {},
   "source": [
    "### Make sure we can't place pieces on top of each other. Make sure we can reset the environment."
   ]
  },
  {
   "cell_type": "code",
   "execution_count": 22,
   "id": "dc265527-aa03-4f4f-bb44-262507ff85c7",
   "metadata": {},
   "outputs": [
    {
     "data": {
      "image/png": "[encoded data removed]",
      "text/plain": [
       "<Figure size 600x600 with 1 Axes>"
      ]
     },
     "metadata": {},
     "output_type": "display_data"
    },
    {
     "name": "stdout",
     "output_type": "stream",
     "text": [
      "Overlap and reset tests passed!\n"
     ]
    }
   ],
   "source": [
    "def test_overlap_and_reset():\n",
    "   env = APADEnv()\n",
    "   \n",
    "   # Find two valid positions for same piece type\n",
    "   pos1 = 14  # Should be valid\n",
    "   pos2 = 15  # Adjacent position\n",
    "   \n",
    "   # Place first piece\n",
    "   if env._is_valid_placement(0, 0, 0, pos1):\n",
    "        env._place_piece(0, 0, 0, pos1)\n",
    "        env.visualize()\n",
    "       \n",
    "        # Try to place overlapping piece (should fail)\n",
    "        overlap_valid = env._is_valid_placement(0, 0, 0, pos2)\n",
    "        assert overlap_valid == False\n",
    "        \n",
    "        # Test reset\n",
    "        obs, info = env.reset()\n",
    "        assert np.sum(env.remaining_pieces) == 8  # All pieces available\n",
    "        assert np.sum(env.grid > 0) == 0  # Only invalid cells marked\n",
    "       \n",
    "   print(\"Overlap and reset tests passed!\")\n",
    "\n",
    "test_overlap_and_reset()"
   ]
  },
  {
   "cell_type": "markdown",
   "id": "dff7667b-ccfe-47b0-9a4b-2137d2fe09b4",
   "metadata": {},
   "source": [
    "# piece placement visualization and sanity-checks\n",
    "Make sure pieces are being placed correctly. And understand the action->position/piece/rotation/chirality encoding.\n",
    "e.g. \n",
    "- action 2408 = Z piece placed in the top-left\n",
    "- action 2451 = Z piece placed int he top-left, but rotated\n",
    "- 2451 - 2408 = 43 possible cells where each piece can be placed\n",
    "- in practice, not all of these cells are valid, even if the board is empty"
   ]
  },
  {
   "cell_type": "code",
   "execution_count": 23,
   "id": "4771ac4a-5cd1-42b8-a1b4-05ed22d9a4fa",
   "metadata": {
    "scrolled": true
   },
   "outputs": [
    {
     "name": "stdout",
     "output_type": "stream",
     "text": [
      "Chosen action: {'piece_id': 7, 'chirality': 0, 'rotation': 0, 'position': 0, 'grid_pos': (0, 0), 'piece_name': 'Z'}\n"
     ]
    },
    {
     "data": {
      "image/png": "[encoded data removed]",
      "text/plain": [
       "<Figure size 300x300 with 1 Axes>"
      ]
     },
     "metadata": {},
     "output_type": "display_data"
    }
   ],
   "source": [
    "env = APADEnv()\n",
    "action = 2408\n",
    "print(f\"Chosen action: {env.decode_action_verbose(action)}\")\n",
    "env.visualize_piece(action)"
   ]
  },
  {
   "cell_type": "code",
   "execution_count": 24,
   "id": "a404625a-4817-4ffa-ab8a-5e34cc21e768",
   "metadata": {
    "scrolled": true
   },
   "outputs": [
    {
     "name": "stdout",
     "output_type": "stream",
     "text": [
      "Chosen action: {'piece_id': 7, 'chirality': 0, 'rotation': 1, 'position': 0, 'grid_pos': (0, 0), 'piece_name': 'Z'}\n"
     ]
    },
    {
     "data": {
      "image/png": "[encoded data removed]",
      "text/plain": [
       "<Figure size 300x300 with 1 Axes>"
      ]
     },
     "metadata": {},
     "output_type": "display_data"
    }
   ],
   "source": [
    "action = 2451\n",
    "print(f\"Chosen action: {env.decode_action_verbose(action)}\")\n",
    "env.visualize_piece(action)"
   ]
  },
  {
   "cell_type": "markdown",
   "id": "6d1e03fa-7299-40c6-919b-fe070517a9ca",
   "metadata": {},
   "source": [
    "At action 2580 (=2451+3*43, for the 3 remaining rotation configurations in each possible cell), we get our first chirality flip for the z-piece"
   ]
  },
  {
   "cell_type": "code",
   "execution_count": 25,
   "id": "52d15a83-94be-4b9c-9c9e-5334ff4b8509",
   "metadata": {
    "scrolled": true
   },
   "outputs": [
    {
     "name": "stdout",
     "output_type": "stream",
     "text": [
      "Chosen action: {'piece_id': 7, 'chirality': 1, 'rotation': 0, 'position': 0, 'grid_pos': (0, 0), 'piece_name': 'Z'}\n"
     ]
    },
    {
     "data": {
      "image/png": "[encoded data removed]",
      "text/plain": [
       "<Figure size 300x300 with 1 Axes>"
      ]
     },
     "metadata": {},
     "output_type": "display_data"
    }
   ],
   "source": [
    "action = 2580\n",
    "print(f\"Chosen action: {env.decode_action_verbose(action)}\")\n",
    "env.visualize_piece(action)"
   ]
  },
  {
   "cell_type": "markdown",
   "id": "3693aa64-36dd-4658-9226-116947ee6371",
   "metadata": {},
   "source": [
    "# Run through a single random game\n",
    "i.e. try to place each piece until we can't\n",
    "\n",
    "in this version, we check for valid moves and if not exist, then quit"
   ]
  },
  {
   "cell_type": "code",
   "execution_count": 26,
   "id": "210ba997-a925-45cc-86fe-4d77728a3dc7",
   "metadata": {},
   "outputs": [],
   "source": [
    "def test_random_trial():\n",
    "    env = APADEnv()\n",
    "    obs, _ = env.reset()\n",
    "    \n",
    "    while True:\n",
    "       # Check if any valid moves exist\n",
    "       valid_moves = []\n",
    "       for action in range(env.action_space.n):\n",
    "           piece_id = action // (2 * 4 * 43)\n",
    "           if env.remaining_pieces[piece_id]:\n",
    "               remaining = action % (2 * 4 * 43)\n",
    "               chirality = remaining // (4 * 43)\n",
    "               remaining = remaining % (4 * 43)\n",
    "               rotation = remaining // 43\n",
    "               position = remaining % 43\n",
    "               if env._is_valid_placement(piece_id, chirality, rotation, position):\n",
    "                   valid_moves.append(action)\n",
    "       \n",
    "       if not valid_moves:\n",
    "           break\n",
    "           \n",
    "       action = np.random.choice(valid_moves)\n",
    "       obs, reward, done, truncated, _ = env.step(action)\n",
    "       if done or truncated:\n",
    "           break\n",
    "    \n",
    "    #print(f\"Pieces remaining: {sum(env.remaining_pieces)}\")\n",
    "    return env"
   ]
  },
  {
   "cell_type": "markdown",
   "id": "ba45bcdf-d205-4f05-897c-0fc45a25d4b1",
   "metadata": {},
   "source": [
    "### play random trials until we get a success\n",
    "this takes a couple minutes!"
   ]
  },
  {
   "cell_type": "code",
   "execution_count": 27,
   "id": "723436d4-2889-40c9-8af1-320b58059f16",
   "metadata": {},
   "outputs": [
    {
     "data": {
      "image/png": "[encoded data removed]",
      "text/plain": [
       "<Figure size 600x600 with 1 Axes>"
      ]
     },
     "metadata": {},
     "output_type": "display_data"
    },
    {
     "data": {
      "image/png": "[encoded data removed]",
      "text/plain": [
       "<Figure size 640x480 with 1 Axes>"
      ]
     },
     "metadata": {},
     "output_type": "display_data"
    },
    {
     "name": "stdout",
     "output_type": "stream",
     "text": [
      "Trials: 1427, Success rate: 0.07%\n"
     ]
    }
   ],
   "source": [
    "i = 0\n",
    "remaining_pieces = []\n",
    "while True:\n",
    "    i += 1\n",
    "    env = test_random_trial()\n",
    "    remaining_pieces.append(np.sum(env.remaining_pieces))\n",
    "    if np.sum(env.remaining_pieces) == 0:\n",
    "        env.visualize()\n",
    "        break\n",
    "\n",
    "plt.hist(remaining_pieces, bins=range(9), alpha=0.7)\n",
    "plt.xlabel('Pieces Remaining')\n",
    "plt.ylabel('Frequency')\n",
    "plt.title('Random Trial Results')\n",
    "plt.savefig('trial_results.png')\n",
    "plt.show()\n",
    "\n",
    "print(f\"Trials: {i}, Success rate: {remaining_pieces.count(0)/i:.2%}\")"
   ]
  },
  {
   "cell_type": "markdown",
   "id": "ea0109e1-53e0-4ce2-aeca-3c668d4aee44",
   "metadata": {},
   "source": [
    "most of the time we end up with 2 remaining pieces when we place them all randomly"
   ]
  }
 ],
 "metadata": {
  "kernelspec": {
   "display_name": "Python 3 (ipykernel)",
   "language": "python",
   "name": "python3"
  },
  "language_info": {
   "codemirror_mode": {
    "name": "ipython",
    "version": 3
   },
   "file_extension": ".py",
   "mimetype": "text/x-python",
   "name": "python",
   "nbconvert_exporter": "python",
   "pygments_lexer": "ipython3",
   "version": "3.10.17"
  }
 },
 "nbformat": 4,
 "nbformat_minor": 5
}
