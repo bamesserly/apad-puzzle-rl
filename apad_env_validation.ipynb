{
 "cells": [
  {
   "cell_type": "code",
   "execution_count": 6,
   "id": "ab3ca1a7-6b46-4b78-bbaf-c832d5964ebc",
   "metadata": {},
   "outputs": [],
   "source": [
    "import numpy as np\n",
    "import matplotlib.pyplot as plt"
   ]
  },
  {
   "cell_type": "code",
   "execution_count": 7,
   "id": "7d0c7ee9-82c0-49e0-8e90-a4a68965c02b",
   "metadata": {},
   "outputs": [
    {
     "data": {
      "text/html": [
       "<style>div.output_area pre { font-family: 'Courier New', monospace; }</style>"
      ],
      "text/plain": [
       "<IPython.core.display.HTML object>"
      ]
     },
     "execution_count": 7,
     "metadata": {},
     "output_type": "execute_result"
    }
   ],
   "source": [
    "from IPython.display import HTML\n",
    "HTML(\"<style>div.output_area pre { font-family: 'Courier New', monospace; }</style>\")"
   ]
  },
  {
   "cell_type": "code",
   "execution_count": 8,
   "id": "785e4fec-6080-4047-aa1e-795c40e4acf1",
   "metadata": {},
   "outputs": [],
   "source": [
    "from apad_env import APADEnv, PIECES"
   ]
  },
  {
   "cell_type": "markdown",
   "id": "3fcb87f9-7809-487d-a516-80a7a3cfc6fe",
   "metadata": {},
   "source": [
    "Coordinate system: Top left is 0,0. Zeroeth row, second column would be 0,2."
   ]
  },
  {
   "cell_type": "code",
   "execution_count": 9,
   "id": "c5f5875b-3dba-458f-88bc-d1c7f557168c",
   "metadata": {},
   "outputs": [
    {
     "name": "stdout",
     "output_type": "stream",
     "text": [
      "All tests passed\n"
     ]
    }
   ],
   "source": [
    "def test_environment():\n",
    "    env = APADEnv()\n",
    "    \n",
    "    # Test 1: Grid initialization\n",
    "    assert env.grid.shape == (7, 7)\n",
    "    assert np.sum(env.grid == -1) == 6  # Invalid positions\n",
    "    assert np.sum(env.remaining_pieces) == 8  # All pieces available\n",
    "    \n",
    "    # Test 2: Piece coordinate generation\n",
    "    coords_k = env._get_piece_coords(0, 0, 0)  # K piece, no flip, no rotation\n",
    "    expected_k = [(0,0), (1,0), (2,0), (3,0), (2,1)]\n",
    "    assert coords_k == expected_k\n",
    "    \n",
    "    # Test 3: Rotation\n",
    "    coords_k_rot = env._get_piece_coords(0, 0, 1)  # K piece rotated 90°\n",
    "    assert len(coords_k_rot) == 5\n",
    "    \n",
    "    # Test 4: Valid placement\n",
    "    valid = env._is_valid_placement(0, 0, 0, 14)  # Position (2,0) on grid\n",
    "    assert isinstance(valid, bool)\n",
    "    \n",
    "    # Test 5: Invalid placement (out of bounds)\n",
    "    valid = env._is_valid_placement(0, 0, 0, 6)  # Top-right corner invalid\n",
    "    assert valid == False\n",
    "    \n",
    "    # Test 6: Piece placement\n",
    "    if env._is_valid_placement(0, 0, 0, 14):\n",
    "       env._place_piece(0, 0, 0, 14)\n",
    "       assert not env.remaining_pieces[0]  # Piece marked as used\n",
    "       assert np.sum(env.grid == 1) == 5   # 5 cells occupied by piece\n",
    "    \n",
    "    print(\"All tests passed\")\n",
    "    \n",
    "test_environment()"
   ]
  },
  {
   "cell_type": "code",
   "execution_count": 10,
   "id": "dc265527-aa03-4f4f-bb44-262507ff85c7",
   "metadata": {},
   "outputs": [
    {
     "name": "stdout",
     "output_type": "stream",
     "text": [
      "Overlap and reset tests passed!\n"
     ]
    }
   ],
   "source": [
    "def test_overlap_and_reset():\n",
    "   env = APADEnv()\n",
    "   \n",
    "   # Find two valid positions for same piece type\n",
    "   pos1 = 14  # Should be valid\n",
    "   pos2 = 15  # Adjacent position\n",
    "   \n",
    "   # Place first piece\n",
    "   if env._is_valid_placement(0, 0, 0, pos1):\n",
    "       env._place_piece(0, 0, 0, pos1)\n",
    "       \n",
    "       # Try to place overlapping piece (should fail)\n",
    "       overlap_valid = env._is_valid_placement(1, 0, 0, pos2)\n",
    "       assert overlap_valid == False\n",
    "       \n",
    "       # Test reset\n",
    "       obs, info = env.reset()\n",
    "       assert np.sum(env.remaining_pieces) == 8  # All pieces available\n",
    "       assert np.sum(env.grid > 0) == 0  # Only invalid cells marked\n",
    "       \n",
    "   print(\"Overlap and reset tests passed!\")\n",
    "\n",
    "test_overlap_and_reset()"
   ]
  },
  {
   "cell_type": "code",
   "execution_count": 11,
   "id": "210ba997-a925-45cc-86fe-4d77728a3dc7",
   "metadata": {},
   "outputs": [],
   "source": [
    "def test_random_trial():\n",
    "    env = APADEnv()\n",
    "    obs, _ = env.reset()\n",
    "    \n",
    "    while True:\n",
    "       # Check if any valid moves exist\n",
    "       valid_moves = []\n",
    "       for action in range(env.action_space.n):\n",
    "           piece_id = action // (2 * 4 * 43)\n",
    "           if env.remaining_pieces[piece_id]:\n",
    "               remaining = action % (2 * 4 * 43)\n",
    "               chirality = remaining // (4 * 43)\n",
    "               remaining = remaining % (4 * 43)\n",
    "               rotation = remaining // 43\n",
    "               position = remaining % 43\n",
    "               if env._is_valid_placement(piece_id, chirality, rotation, position):\n",
    "                   valid_moves.append(action)\n",
    "       \n",
    "       if not valid_moves:\n",
    "           break\n",
    "           \n",
    "       action = np.random.choice(valid_moves)\n",
    "       obs, reward, done, truncated, _ = env.step(action)\n",
    "       if done:\n",
    "           break\n",
    "    \n",
    "    #print(f\"Pieces remaining: {sum(env.remaining_pieces)}\")\n",
    "    return env"
   ]
  },
  {
   "cell_type": "code",
   "execution_count": 12,
   "id": "723436d4-2889-40c9-8af1-320b58059f16",
   "metadata": {
    "scrolled": true
   },
   "outputs": [
    {
     "data": {
      "image/png": "[encoded data removed]",
      "text/plain": [
       "<Figure size 600x600 with 1 Axes>"
      ]
     },
     "metadata": {},
     "output_type": "display_data"
    },
    {
     "data": {
      "image/png": "[encoded data removed]",
      "text/plain": [
       "<Figure size 640x480 with 1 Axes>"
      ]
     },
     "metadata": {},
     "output_type": "display_data"
    },
    {
     "name": "stdout",
     "output_type": "stream",
     "text": [
      "Trials: 2348, Success rate: 0.04%\n"
     ]
    },
    {
     "data": {
      "text/plain": [
       "<Figure size 640x480 with 0 Axes>"
      ]
     },
     "metadata": {},
     "output_type": "display_data"
    }
   ],
   "source": [
    "i = 0\n",
    "remaining_pieces = []\n",
    "while True:\n",
    "    i += 1\n",
    "    env = test_random_trial()\n",
    "    remaining_pieces.append(np.sum(env.remaining_pieces))\n",
    "    if np.sum(env.remaining_pieces) == 0:\n",
    "        env.visualize()\n",
    "        break\n",
    "\n",
    "plt.hist(remaining_pieces, bins=range(9), alpha=0.7)\n",
    "plt.xlabel('Pieces Remaining')\n",
    "plt.ylabel('Frequency')\n",
    "plt.title('Random Trial Results')\n",
    "plt.show()\n",
    "plt.savefig('trial_results.png')\n",
    "\n",
    "print(f\"Trials: {i}, Success rate: {remaining_pieces.count(0)/i:.2%}\")"
   ]
  }
 ],
 "metadata": {
  "kernelspec": {
   "display_name": "Python 3 (ipykernel)",
   "language": "python",
   "name": "python3"
  },
  "language_info": {
   "codemirror_mode": {
    "name": "ipython",
    "version": 3
   },
   "file_extension": ".py",
   "mimetype": "text/x-python",
   "name": "python",
   "nbconvert_exporter": "python",
   "pygments_lexer": "ipython3",
   "version": "3.10.17"
  }
 },
 "nbformat": 4,
 "nbformat_minor": 5
}
