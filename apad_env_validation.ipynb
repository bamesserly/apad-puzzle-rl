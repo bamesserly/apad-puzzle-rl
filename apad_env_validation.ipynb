{
 "cells": [
  {
   "cell_type": "code",
   "execution_count": 33,
   "id": "ef574682-7118-4825-bec0-2f604cc35267",
   "metadata": {},
   "outputs": [
    {
     "name": "stdout",
     "output_type": "stream",
     "text": [
      "The autoreload extension is already loaded. To reload it, use:\n",
      "  %reload_ext autoreload\n"
     ]
    }
   ],
   "source": [
    "%load_ext autoreload\n",
    "%autoreload 2"
   ]
  },
  {
   "cell_type": "code",
   "execution_count": 34,
   "id": "ab3ca1a7-6b46-4b78-bbaf-c832d5964ebc",
   "metadata": {},
   "outputs": [],
   "source": [
    "import numpy as np\n",
    "import matplotlib.pyplot as plt\n",
    "from stable_baselines3.common.env_checker import check_env"
   ]
  },
  {
   "cell_type": "code",
   "execution_count": 35,
   "id": "7d0c7ee9-82c0-49e0-8e90-a4a68965c02b",
   "metadata": {},
   "outputs": [
    {
     "data": {
      "text/html": [
       "<style>div.output_area pre { font-family: 'Courier New', monospace; }</style>"
      ],
      "text/plain": [
       "<IPython.core.display.HTML object>"
      ]
     },
     "execution_count": 35,
     "metadata": {},
     "output_type": "execute_result"
    }
   ],
   "source": [
    "from IPython.display import HTML\n",
    "HTML(\"<style>div.output_area pre { font-family: 'Courier New', monospace; }</style>\")"
   ]
  },
  {
   "cell_type": "code",
   "execution_count": 36,
   "id": "785e4fec-6080-4047-aa1e-795c40e4acf1",
   "metadata": {},
   "outputs": [],
   "source": [
    "from apad_env import APADEnv, has_islands"
   ]
  },
  {
   "cell_type": "code",
   "execution_count": 37,
   "id": "df135a55-67c7-41d7-b87f-08e020d3fed9",
   "metadata": {},
   "outputs": [
    {
     "name": "stdout",
     "output_type": "stream",
     "text": [
      "Invalid piece placement\n",
      "row 2, dr 1, col 4, dc 3\n",
      "piece_id, chirality, rotation, position (1, 1, 1, 18)\n"
     ]
    },
    {
     "data": {
      "image/png": "[encoded data removed]",
      "text/plain": [
       "<Figure size 600x600 with 1 Axes>"
      ]
     },
     "metadata": {},
     "output_type": "display_data"
    },
    {
     "ename": "IndexError",
     "evalue": "",
     "output_type": "error",
     "traceback": [
      "\u001b[0;31m---------------------------------------------------------------------------\u001b[0m",
      "\u001b[0;31mIndexError\u001b[0m                                Traceback (most recent call last)",
      "File \u001b[0;32m~/Projects/ml/rl/apad-puzzle-rl/apad_env.py:131\u001b[0m, in \u001b[0;36mAPADEnv._place_piece\u001b[0;34m(self, piece_id, chirality, rotation, position)\u001b[0m\n\u001b[1;32m    130\u001b[0m     \u001b[38;5;28;01mfor\u001b[39;00m dr, dc \u001b[38;5;129;01min\u001b[39;00m coords:\n\u001b[0;32m--> 131\u001b[0m         \u001b[38;5;28;43mself\u001b[39;49m\u001b[38;5;241;43m.\u001b[39;49m\u001b[43mgrid\u001b[49m\u001b[43m[\u001b[49m\u001b[43mrow\u001b[49m\u001b[43m \u001b[49m\u001b[38;5;241;43m+\u001b[39;49m\u001b[43m \u001b[49m\u001b[43mdr\u001b[49m\u001b[43m,\u001b[49m\u001b[43m \u001b[49m\u001b[43mcol\u001b[49m\u001b[43m \u001b[49m\u001b[38;5;241;43m+\u001b[39;49m\u001b[43m \u001b[49m\u001b[43mdc\u001b[49m\u001b[43m]\u001b[49m \u001b[38;5;241m=\u001b[39m piece_id \u001b[38;5;241m+\u001b[39m \u001b[38;5;241m1\u001b[39m\n\u001b[1;32m    132\u001b[0m \u001b[38;5;28;01mexcept\u001b[39;00m \u001b[38;5;167;01mIndexError\u001b[39;00m:\n",
      "\u001b[0;31mIndexError\u001b[0m: index 7 is out of bounds for axis 1 with size 7",
      "\nDuring handling of the above exception, another exception occurred:\n",
      "\u001b[0;31mIndexError\u001b[0m                                Traceback (most recent call last)",
      "Cell \u001b[0;32mIn[37], line 2\u001b[0m\n\u001b[1;32m      1\u001b[0m env \u001b[38;5;241m=\u001b[39m APADEnv()\n\u001b[0;32m----> 2\u001b[0m \u001b[43mcheck_env\u001b[49m\u001b[43m(\u001b[49m\u001b[43menv\u001b[49m\u001b[43m)\u001b[49m\n",
      "File \u001b[0;32m/opt/homebrew/Caskroom/miniconda/base/envs/rl_2025_2/lib/python3.10/site-packages/stable_baselines3/common/env_checker.py:492\u001b[0m, in \u001b[0;36mcheck_env\u001b[0;34m(env, warn, skip_render_check)\u001b[0m\n\u001b[1;32m    489\u001b[0m     check_for_nested_spaces(env\u001b[38;5;241m.\u001b[39mobservation_space)\n\u001b[1;32m    490\u001b[0m     \u001b[38;5;66;03m# The check doesn't support nested observations/dict actions\u001b[39;00m\n\u001b[1;32m    491\u001b[0m     \u001b[38;5;66;03m# A warning about it has already been emitted\u001b[39;00m\n\u001b[0;32m--> 492\u001b[0m     \u001b[43m_check_nan\u001b[49m\u001b[43m(\u001b[49m\u001b[43menv\u001b[49m\u001b[43m)\u001b[49m\n\u001b[1;32m    493\u001b[0m \u001b[38;5;28;01mexcept\u001b[39;00m \u001b[38;5;167;01mNotImplementedError\u001b[39;00m:\n\u001b[1;32m    494\u001b[0m     \u001b[38;5;28;01mpass\u001b[39;00m\n",
      "File \u001b[0;32m/opt/homebrew/Caskroom/miniconda/base/envs/rl_2025_2/lib/python3.10/site-packages/stable_baselines3/common/env_checker.py:144\u001b[0m, in \u001b[0;36m_check_nan\u001b[0;34m(env)\u001b[0m\n\u001b[1;32m    142\u001b[0m \u001b[38;5;28;01mfor\u001b[39;00m _ \u001b[38;5;129;01min\u001b[39;00m \u001b[38;5;28mrange\u001b[39m(\u001b[38;5;241m10\u001b[39m):\n\u001b[1;32m    143\u001b[0m     action \u001b[38;5;241m=\u001b[39m np\u001b[38;5;241m.\u001b[39marray([env\u001b[38;5;241m.\u001b[39maction_space\u001b[38;5;241m.\u001b[39msample()])\n\u001b[0;32m--> 144\u001b[0m     _, _, _, _ \u001b[38;5;241m=\u001b[39m \u001b[43mvec_env\u001b[49m\u001b[38;5;241;43m.\u001b[39;49m\u001b[43mstep\u001b[49m\u001b[43m(\u001b[49m\u001b[43maction\u001b[49m\u001b[43m)\u001b[49m\n",
      "File \u001b[0;32m/opt/homebrew/Caskroom/miniconda/base/envs/rl_2025_2/lib/python3.10/site-packages/stable_baselines3/common/vec_env/base_vec_env.py:222\u001b[0m, in \u001b[0;36mVecEnv.step\u001b[0;34m(self, actions)\u001b[0m\n\u001b[1;32m    215\u001b[0m \u001b[38;5;250m\u001b[39m\u001b[38;5;124;03m\"\"\"\u001b[39;00m\n\u001b[1;32m    216\u001b[0m \u001b[38;5;124;03mStep the environments with the given action\u001b[39;00m\n\u001b[1;32m    217\u001b[0m \n\u001b[1;32m    218\u001b[0m \u001b[38;5;124;03m:param actions: the action\u001b[39;00m\n\u001b[1;32m    219\u001b[0m \u001b[38;5;124;03m:return: observation, reward, done, information\u001b[39;00m\n\u001b[1;32m    220\u001b[0m \u001b[38;5;124;03m\"\"\"\u001b[39;00m\n\u001b[1;32m    221\u001b[0m \u001b[38;5;28mself\u001b[39m\u001b[38;5;241m.\u001b[39mstep_async(actions)\n\u001b[0;32m--> 222\u001b[0m \u001b[38;5;28;01mreturn\u001b[39;00m \u001b[38;5;28;43mself\u001b[39;49m\u001b[38;5;241;43m.\u001b[39;49m\u001b[43mstep_wait\u001b[49m\u001b[43m(\u001b[49m\u001b[43m)\u001b[49m\n",
      "File \u001b[0;32m/opt/homebrew/Caskroom/miniconda/base/envs/rl_2025_2/lib/python3.10/site-packages/stable_baselines3/common/vec_env/vec_check_nan.py:39\u001b[0m, in \u001b[0;36mVecCheckNan.step_wait\u001b[0;34m(self)\u001b[0m\n\u001b[1;32m     38\u001b[0m \u001b[38;5;28;01mdef\u001b[39;00m\u001b[38;5;250m \u001b[39m\u001b[38;5;21mstep_wait\u001b[39m(\u001b[38;5;28mself\u001b[39m) \u001b[38;5;241m-\u001b[39m\u001b[38;5;241m>\u001b[39m VecEnvStepReturn:\n\u001b[0;32m---> 39\u001b[0m     observations, rewards, dones, infos \u001b[38;5;241m=\u001b[39m \u001b[38;5;28;43mself\u001b[39;49m\u001b[38;5;241;43m.\u001b[39;49m\u001b[43mvenv\u001b[49m\u001b[38;5;241;43m.\u001b[39;49m\u001b[43mstep_wait\u001b[49m\u001b[43m(\u001b[49m\u001b[43m)\u001b[49m\n\u001b[1;32m     40\u001b[0m     \u001b[38;5;28mself\u001b[39m\u001b[38;5;241m.\u001b[39m_check_val(event\u001b[38;5;241m=\u001b[39m\u001b[38;5;124m\"\u001b[39m\u001b[38;5;124mstep_wait\u001b[39m\u001b[38;5;124m\"\u001b[39m, observations\u001b[38;5;241m=\u001b[39mobservations, rewards\u001b[38;5;241m=\u001b[39mrewards, dones\u001b[38;5;241m=\u001b[39mdones)\n\u001b[1;32m     41\u001b[0m     \u001b[38;5;28mself\u001b[39m\u001b[38;5;241m.\u001b[39m_observations \u001b[38;5;241m=\u001b[39m observations\n",
      "File \u001b[0;32m/opt/homebrew/Caskroom/miniconda/base/envs/rl_2025_2/lib/python3.10/site-packages/stable_baselines3/common/vec_env/dummy_vec_env.py:59\u001b[0m, in \u001b[0;36mDummyVecEnv.step_wait\u001b[0;34m(self)\u001b[0m\n\u001b[1;32m     56\u001b[0m \u001b[38;5;28;01mdef\u001b[39;00m\u001b[38;5;250m \u001b[39m\u001b[38;5;21mstep_wait\u001b[39m(\u001b[38;5;28mself\u001b[39m) \u001b[38;5;241m-\u001b[39m\u001b[38;5;241m>\u001b[39m VecEnvStepReturn:\n\u001b[1;32m     57\u001b[0m     \u001b[38;5;66;03m# Avoid circular imports\u001b[39;00m\n\u001b[1;32m     58\u001b[0m     \u001b[38;5;28;01mfor\u001b[39;00m env_idx \u001b[38;5;129;01min\u001b[39;00m \u001b[38;5;28mrange\u001b[39m(\u001b[38;5;28mself\u001b[39m\u001b[38;5;241m.\u001b[39mnum_envs):\n\u001b[0;32m---> 59\u001b[0m         obs, \u001b[38;5;28mself\u001b[39m\u001b[38;5;241m.\u001b[39mbuf_rews[env_idx], terminated, truncated, \u001b[38;5;28mself\u001b[39m\u001b[38;5;241m.\u001b[39mbuf_infos[env_idx] \u001b[38;5;241m=\u001b[39m \u001b[38;5;28;43mself\u001b[39;49m\u001b[38;5;241;43m.\u001b[39;49m\u001b[43menvs\u001b[49m\u001b[43m[\u001b[49m\u001b[43menv_idx\u001b[49m\u001b[43m]\u001b[49m\u001b[38;5;241;43m.\u001b[39;49m\u001b[43mstep\u001b[49m\u001b[43m(\u001b[49m\u001b[43m  \u001b[49m\u001b[38;5;66;43;03m# type: ignore[assignment]\u001b[39;49;00m\n\u001b[1;32m     60\u001b[0m \u001b[43m            \u001b[49m\u001b[38;5;28;43mself\u001b[39;49m\u001b[38;5;241;43m.\u001b[39;49m\u001b[43mactions\u001b[49m\u001b[43m[\u001b[49m\u001b[43menv_idx\u001b[49m\u001b[43m]\u001b[49m\n\u001b[1;32m     61\u001b[0m \u001b[43m        \u001b[49m\u001b[43m)\u001b[49m\n\u001b[1;32m     62\u001b[0m         \u001b[38;5;66;03m# convert to SB3 VecEnv api\u001b[39;00m\n\u001b[1;32m     63\u001b[0m         \u001b[38;5;28mself\u001b[39m\u001b[38;5;241m.\u001b[39mbuf_dones[env_idx] \u001b[38;5;241m=\u001b[39m terminated \u001b[38;5;129;01mor\u001b[39;00m truncated\n",
      "File \u001b[0;32m~/Projects/ml/rl/apad-puzzle-rl/apad_env.py:168\u001b[0m, in \u001b[0;36mAPADEnv.step\u001b[0;34m(self, action)\u001b[0m\n\u001b[1;32m    165\u001b[0m move \u001b[38;5;241m=\u001b[39m \u001b[38;5;28mself\u001b[39m\u001b[38;5;241m.\u001b[39mdecode_action(action)\n\u001b[1;32m    167\u001b[0m \u001b[38;5;66;03m# Place piece\u001b[39;00m\n\u001b[0;32m--> 168\u001b[0m \u001b[38;5;28;43mself\u001b[39;49m\u001b[38;5;241;43m.\u001b[39;49m\u001b[43m_place_piece\u001b[49m\u001b[43m(\u001b[49m\n\u001b[1;32m    169\u001b[0m \u001b[43m    \u001b[49m\u001b[43mmove\u001b[49m\u001b[43m[\u001b[49m\u001b[38;5;124;43m\"\u001b[39;49m\u001b[38;5;124;43mpiece_id\u001b[39;49m\u001b[38;5;124;43m\"\u001b[39;49m\u001b[43m]\u001b[49m\u001b[43m,\u001b[49m\u001b[43m \u001b[49m\u001b[43mmove\u001b[49m\u001b[43m[\u001b[49m\u001b[38;5;124;43m\"\u001b[39;49m\u001b[38;5;124;43mchirality\u001b[39;49m\u001b[38;5;124;43m\"\u001b[39;49m\u001b[43m]\u001b[49m\u001b[43m,\u001b[49m\u001b[43m \u001b[49m\u001b[43mmove\u001b[49m\u001b[43m[\u001b[49m\u001b[38;5;124;43m\"\u001b[39;49m\u001b[38;5;124;43mrotation\u001b[39;49m\u001b[38;5;124;43m\"\u001b[39;49m\u001b[43m]\u001b[49m\u001b[43m,\u001b[49m\u001b[43m \u001b[49m\u001b[43mmove\u001b[49m\u001b[43m[\u001b[49m\u001b[38;5;124;43m\"\u001b[39;49m\u001b[38;5;124;43mposition\u001b[39;49m\u001b[38;5;124;43m\"\u001b[39;49m\u001b[43m]\u001b[49m\n\u001b[1;32m    170\u001b[0m \u001b[43m\u001b[49m\u001b[43m)\u001b[49m\n\u001b[1;32m    172\u001b[0m \u001b[38;5;66;03m# Cache masks after state change\u001b[39;00m\n\u001b[1;32m    173\u001b[0m \u001b[38;5;28mself\u001b[39m\u001b[38;5;241m.\u001b[39m_cached_action_masks \u001b[38;5;241m=\u001b[39m \u001b[38;5;28;01mNone\u001b[39;00m\n",
      "File \u001b[0;32m~/Projects/ml/rl/apad-puzzle-rl/apad_env.py:139\u001b[0m, in \u001b[0;36mAPADEnv._place_piece\u001b[0;34m(self, piece_id, chirality, rotation, position)\u001b[0m\n\u001b[1;32m    135\u001b[0m     \u001b[38;5;28mprint\u001b[39m(\n\u001b[1;32m    136\u001b[0m         \u001b[38;5;124mf\u001b[39m\u001b[38;5;124m\"\u001b[39m\u001b[38;5;124mpiece_id, chirality, rotation, position (\u001b[39m\u001b[38;5;132;01m{\u001b[39;00mpiece_id\u001b[38;5;132;01m}\u001b[39;00m\u001b[38;5;124m, \u001b[39m\u001b[38;5;132;01m{\u001b[39;00mchirality\u001b[38;5;132;01m}\u001b[39;00m\u001b[38;5;124m, \u001b[39m\u001b[38;5;132;01m{\u001b[39;00mrotation\u001b[38;5;132;01m}\u001b[39;00m\u001b[38;5;124m, \u001b[39m\u001b[38;5;132;01m{\u001b[39;00mposition\u001b[38;5;132;01m}\u001b[39;00m\u001b[38;5;124m)\u001b[39m\u001b[38;5;124m\"\u001b[39m\n\u001b[1;32m    137\u001b[0m     )\n\u001b[1;32m    138\u001b[0m     \u001b[38;5;28mself\u001b[39m\u001b[38;5;241m.\u001b[39mvisualize()\n\u001b[0;32m--> 139\u001b[0m     \u001b[38;5;28;01mraise\u001b[39;00m \u001b[38;5;167;01mIndexError\u001b[39;00m\n\u001b[1;32m    141\u001b[0m \u001b[38;5;28mself\u001b[39m\u001b[38;5;241m.\u001b[39mremaining_pieces[piece_id] \u001b[38;5;241m=\u001b[39m \u001b[38;5;28;01mFalse\u001b[39;00m\n",
      "\u001b[0;31mIndexError\u001b[0m: "
     ]
    }
   ],
   "source": [
    "env = APADEnv()\n",
    "check_env(env)"
   ]
  },
  {
   "cell_type": "markdown",
   "id": "3fcb87f9-7809-487d-a516-80a7a3cfc6fe",
   "metadata": {},
   "source": [
    "Coordinate system: Top left is 0,0. Zeroeth row, second column would be 0,2."
   ]
  },
  {
   "cell_type": "markdown",
   "id": "2e58e25d-100d-4085-bc32-f5191c521bb8",
   "metadata": {
    "jp-MarkdownHeadingCollapsed": true
   },
   "source": [
    "# Basic sanity checks"
   ]
  },
  {
   "cell_type": "code",
   "execution_count": 6,
   "id": "c5f5875b-3dba-458f-88bc-d1c7f557168c",
   "metadata": {},
   "outputs": [
    {
     "name": "stdout",
     "output_type": "stream",
     "text": [
      "All tests passed\n"
     ]
    }
   ],
   "source": [
    "def test_environment():\n",
    "    env = APADEnv()\n",
    "    \n",
    "    # Test 1: Grid initialization\n",
    "    assert env.grid.shape == (7, 7)\n",
    "    assert np.sum(env.grid == -1) in {6, 7, 8}  # Invalid positions\n",
    "    assert np.sum(env.remaining_pieces) == 8  # All pieces available\n",
    "    \n",
    "    # Test 2: Piece coordinate generation\n",
    "    coords_k = env._get_piece_coords(0, 0, 0)  # K piece, no flip, no rotation\n",
    "    expected_k = [(0,0), (1,0), (2,0), (3,0), (2,1)]\n",
    "    assert coords_k == expected_k\n",
    "    \n",
    "    # Test 3: Rotation\n",
    "    coords_k_rot = env._get_piece_coords(0, 0, 1)  # K piece rotated 90°\n",
    "    assert len(coords_k_rot) == 5\n",
    "    \n",
    "    # Test 4: Valid placement\n",
    "    valid = env._is_valid_placement(0, 0, 0, 14)  # Position (2,0) on grid\n",
    "    assert isinstance(valid, np.bool_)\n",
    "    \n",
    "    # Test 5: Invalid placement (out of bounds)\n",
    "    valid = env._is_valid_placement(0, 0, 0, 6)  # Top-right corner invalid\n",
    "    assert valid == False\n",
    "    \n",
    "    # Test 6: Piece placement\n",
    "    if env._is_valid_placement(0, 0, 0, 14):\n",
    "       env._place_piece_components(0, 0, 0, 14)\n",
    "       assert not env.remaining_pieces[0]  # Piece marked as used\n",
    "       assert np.sum(env.grid == 1) == 5   # 5 cells occupied by piece\n",
    "    \n",
    "    print(\"All tests passed\")\n",
    "    \n",
    "test_environment()"
   ]
  },
  {
   "cell_type": "markdown",
   "id": "0241ffc6-f579-44be-9cf8-2eac8ded139a",
   "metadata": {},
   "source": [
    "### Make sure we can't place pieces on top of each other. Make sure we can reset the environment."
   ]
  },
  {
   "cell_type": "code",
   "execution_count": 7,
   "id": "dc265527-aa03-4f4f-bb44-262507ff85c7",
   "metadata": {},
   "outputs": [
    {
     "data": {
      "image/png": "[encoded data removed]",
      "text/plain": [
       "<Figure size 600x600 with 1 Axes>"
      ]
     },
     "metadata": {},
     "output_type": "display_data"
    },
    {
     "name": "stdout",
     "output_type": "stream",
     "text": [
      "Overlap and reset tests passed!\n"
     ]
    },
    {
     "data": {
      "text/plain": [
       "<apad_env.APADEnv at 0x152043cd0>"
      ]
     },
     "execution_count": 7,
     "metadata": {},
     "output_type": "execute_result"
    }
   ],
   "source": [
    "def test_overlap_and_reset():\n",
    "    env = APADEnv(-1,-1)\n",
    "    \n",
    "    # Find two valid positions for same piece type\n",
    "    pos1 = 14  # Should be valid\n",
    "    pos2 = 15  # Adjacent position\n",
    "    \n",
    "    # Place first piece\n",
    "    if env._is_valid_placement(0, 0, 0, pos1):\n",
    "        env._place_piece_components(1, 0, 0, pos1)\n",
    "        env.visualize()\n",
    "       \n",
    "        # Try to place overlapping piece (should fail)\n",
    "        overlap_valid = env._is_valid_placement(0, 0, 0, pos2)\n",
    "        assert overlap_valid == False\n",
    "        \n",
    "        # Test reset\n",
    "        obs, info = env.reset()\n",
    "        assert np.sum(env.remaining_pieces) == 8  # All pieces available\n",
    "        assert np.sum(env.grid > 0) == 0  # Only invalid cells marked\n",
    "       \n",
    "    print(\"Overlap and reset tests passed!\")\n",
    "    return env\n",
    "\n",
    "test_overlap_and_reset()"
   ]
  },
  {
   "cell_type": "markdown",
   "id": "a5f8cb62-d9a6-42b1-931e-14250ff0cd1a",
   "metadata": {
    "jp-MarkdownHeadingCollapsed": true
   },
   "source": [
    "# Date selection validation"
   ]
  },
  {
   "cell_type": "code",
   "execution_count": 8,
   "id": "1c1f2e58-813e-4ffc-a7d1-33387e35662e",
   "metadata": {},
   "outputs": [
    {
     "data": {
      "image/png": "[encoded data removed]",
      "text/plain": [
       "<Figure size 600x600 with 1 Axes>"
      ]
     },
     "metadata": {},
     "output_type": "display_data"
    }
   ],
   "source": [
    "env = APADEnv(2,22) # feb 22\n",
    "env.visualize()"
   ]
  },
  {
   "cell_type": "markdown",
   "id": "eea1c400-2b70-47ec-aef2-d6352ae333d7",
   "metadata": {
    "jp-MarkdownHeadingCollapsed": true
   },
   "source": [
    "# Validate island-finding"
   ]
  },
  {
   "cell_type": "code",
   "execution_count": 9,
   "id": "1c16ee9d-b937-4725-b0e4-6c86d8dceee7",
   "metadata": {},
   "outputs": [],
   "source": [
    "from scipy.ndimage import label\n",
    "\n",
    "def validate_island_finding(grid):\n",
    "    # pass label() a grid of T/F, T where the cells are 0 (empty), F where they are !=0 (invalid/occupied).\n",
    "    labeled_array, num_features = label(env.grid == 0)\n",
    "    \n",
    "    # 1's where there are empty cells, 0's where they are occupied/invalid\n",
    "    print(\"here's the grid as the island finder sees it\")\n",
    "    print(labeled_array)\n",
    "    \n",
    "    # number of separate groups.\n",
    "    print(f'there are {num_features} separate islands of unoccupied cells')\n",
    "    \n",
    "    # flatten the grid to 1D\n",
    "    #print(labeled_array.ravel())\n",
    "    \n",
    "    # [number of 0s, number of not-zeroes in group1, number of not-zeroes in group2, ...]\n",
    "    print(\"\\nthe numbers of cells in each group (including the total number of occupied/invalid cells at the zeroeth index)\")\n",
    "    print(np.bincount(labeled_array.ravel()))\n",
    "    \n",
    "    island_sizes = np.bincount(labeled_array.ravel())[1:]\n",
    "    \n",
    "    # Check if any islands have 4 or fewer cells\n",
    "    print(\"\\nAre there groups of unoccupied cells of size <= 4?\")\n",
    "    print(np.any(island_sizes <= 4))"
   ]
  },
  {
   "cell_type": "code",
   "execution_count": 10,
   "id": "d07decf0-df76-462f-ba07-9faa66d80974",
   "metadata": {},
   "outputs": [
    {
     "data": {
      "image/png": "[encoded data removed]",
      "text/plain": [
       "<Figure size 600x600 with 1 Axes>"
      ]
     },
     "metadata": {},
     "output_type": "display_data"
    },
    {
     "name": "stdout",
     "output_type": "stream",
     "text": [
      "here's the grid as the island finder sees it\n",
      "[[0 0 0 1 1 1 0]\n",
      " [2 0 1 1 1 1 0]\n",
      " [2 0 0 1 1 1 1]\n",
      " [2 0 0 0 1 1 1]\n",
      " [2 2 2 0 1 1 1]\n",
      " [0 2 2 0 1 1 1]\n",
      " [2 2 2 0 0 0 0]]\n",
      "there are 2 separate islands of unoccupied cells\n",
      "\n",
      "the numbers of cells in each group (including the total number of occupied/invalid cells at the zeroeth index)\n",
      "[18 20 11]\n",
      "\n",
      "Are there groups of unoccupied cells of size <= 4?\n",
      "False\n"
     ]
    }
   ],
   "source": [
    "env = APADEnv(1,22)\n",
    "env._place_piece_components(6, 0, 0, 1)\n",
    "env._place_piece_components(1, 0, 0, 16)\n",
    "#env._place_piece_components(2, 0, 0, 4)\n",
    "env.visualize()\n",
    "validate_island_finding(env.grid)\n",
    "assert not has_islands(env.grid)"
   ]
  },
  {
   "cell_type": "code",
   "execution_count": 11,
   "id": "048b2307-0ce0-4b07-a124-9f5881be6d1d",
   "metadata": {},
   "outputs": [
    {
     "data": {
      "image/png": "[encoded data removed]",
      "text/plain": [
       "<Figure size 600x600 with 1 Axes>"
      ]
     },
     "metadata": {},
     "output_type": "display_data"
    },
    {
     "name": "stdout",
     "output_type": "stream",
     "text": [
      "here's the grid as the island finder sees it\n",
      "[[0 1 1 1 0 0 0]\n",
      " [1 1 1 1 0 2 0]\n",
      " [1 1 1 1 0 0 1]\n",
      " [1 1 1 1 1 1 1]\n",
      " [1 1 1 1 1 1 1]\n",
      " [0 0 0 0 1 1 1]\n",
      " [0 0 3 0 0 0 0]]\n",
      "there are 3 separate islands of unoccupied cells\n",
      "\n",
      "the numbers of cells in each group (including the total number of occupied/invalid cells at the zeroeth index)\n",
      "[18 29  1  1]\n",
      "\n",
      "Are there groups of unoccupied cells of size <= 4?\n",
      "True\n"
     ]
    }
   ],
   "source": [
    "# we'll allow single islands because in the case where we don't restric solutions, 2 empty singles is the win con\n",
    "env = APADEnv(1,22)\n",
    "env._place_piece_components(1, 0, 1, 35)\n",
    "env._place_piece_components(2, 0, 0, 4)\n",
    "env.visualize()\n",
    "validate_island_finding(env.grid)\n",
    "assert not has_islands(env.grid)"
   ]
  },
  {
   "cell_type": "markdown",
   "id": "dff7667b-ccfe-47b0-9a4b-2137d2fe09b4",
   "metadata": {
    "jp-MarkdownHeadingCollapsed": true
   },
   "source": [
    "# Piece placement visualization and sanity-checks\n",
    "Make sure pieces are being placed correctly. And understand the action->position/piece/rotation/chirality encoding.\n",
    "e.g. \n",
    "- action 2408 = Z piece placed in the top-left\n",
    "- action 2451 = Z piece placed int he top-left, but rotated\n",
    "- 2451 - 2408 = 43 possible cells where each piece can be placed\n",
    "- in practice, not all of these cells are valid, even if the board is empty"
   ]
  },
  {
   "cell_type": "code",
   "execution_count": 12,
   "id": "4771ac4a-5cd1-42b8-a1b4-05ed22d9a4fa",
   "metadata": {
    "scrolled": true
   },
   "outputs": [
    {
     "name": "stdout",
     "output_type": "stream",
     "text": [
      "Chosen action: {'piece_id': 7, 'chirality': 0, 'rotation': 0, 'position': 0, 'grid_pos': (0, 0), 'piece_name': 'Z'}\n"
     ]
    },
    {
     "data": {
      "image/png": "[encoded data removed]",
      "text/plain": [
       "<Figure size 300x300 with 1 Axes>"
      ]
     },
     "metadata": {},
     "output_type": "display_data"
    }
   ],
   "source": [
    "env = APADEnv()\n",
    "action = 2408\n",
    "print(f\"Chosen action: {env.decode_action_verbose(action)}\")\n",
    "env.visualize_piece(action)"
   ]
  },
  {
   "cell_type": "code",
   "execution_count": 13,
   "id": "a404625a-4817-4ffa-ab8a-5e34cc21e768",
   "metadata": {
    "scrolled": true
   },
   "outputs": [
    {
     "name": "stdout",
     "output_type": "stream",
     "text": [
      "Chosen action: {'piece_id': 7, 'chirality': 0, 'rotation': 1, 'position': 0, 'grid_pos': (0, 0), 'piece_name': 'Z'}\n"
     ]
    },
    {
     "data": {
      "image/png": "[encoded data removed]",
      "text/plain": [
       "<Figure size 300x300 with 1 Axes>"
      ]
     },
     "metadata": {},
     "output_type": "display_data"
    }
   ],
   "source": [
    "action = 2451\n",
    "print(f\"Chosen action: {env.decode_action_verbose(action)}\")\n",
    "env.visualize_piece(action)"
   ]
  },
  {
   "cell_type": "markdown",
   "id": "6d1e03fa-7299-40c6-919b-fe070517a9ca",
   "metadata": {},
   "source": [
    "At action 2580 (=2451+3*43, for the 3 remaining rotation configurations in each possible cell), we get our first chirality flip for the z-piece"
   ]
  },
  {
   "cell_type": "code",
   "execution_count": 14,
   "id": "52d15a83-94be-4b9c-9c9e-5334ff4b8509",
   "metadata": {
    "scrolled": true
   },
   "outputs": [
    {
     "name": "stdout",
     "output_type": "stream",
     "text": [
      "Chosen action: {'piece_id': 7, 'chirality': 1, 'rotation': 0, 'position': 0, 'grid_pos': (0, 0), 'piece_name': 'Z'}\n"
     ]
    },
    {
     "data": {
      "image/png": "[encoded data removed]",
      "text/plain": [
       "<Figure size 300x300 with 1 Axes>"
      ]
     },
     "metadata": {},
     "output_type": "display_data"
    }
   ],
   "source": [
    "action = 2580\n",
    "print(f\"Chosen action: {env.decode_action_verbose(action)}\")\n",
    "env.visualize_piece(action)"
   ]
  },
  {
   "cell_type": "markdown",
   "id": "267a3705-03f0-442e-b332-7919857fbf24",
   "metadata": {},
   "source": [
    "# Action Masking validation"
   ]
  },
  {
   "cell_type": "code",
   "execution_count": 15,
   "id": "1357a5c9-5b1c-43bc-a6f5-2727b370f502",
   "metadata": {},
   "outputs": [],
   "source": [
    "env = APADEnv()\n",
    "assert env.action_masks().shape == (env.action_space.n,)"
   ]
  },
  {
   "cell_type": "code",
   "execution_count": 16,
   "id": "24320cd3-1d33-414d-bbb8-7c81a20cbb95",
   "metadata": {},
   "outputs": [
    {
     "name": "stdout",
     "output_type": "stream",
     "text": [
      "# of valid actions 773\n"
     ]
    },
    {
     "data": {
      "image/png": "[encoded data removed]",
      "text/plain": [
       "<Figure size 600x600 with 1 Axes>"
      ]
     },
     "metadata": {},
     "output_type": "display_data"
    }
   ],
   "source": [
    "env = APADEnv(1,10)\n",
    "mask = env.action_masks()\n",
    "print(f'# of valid actions {np.flatnonzero(mask).size}')\n",
    "env.visualize()"
   ]
  },
  {
   "cell_type": "markdown",
   "id": "3693aa64-36dd-4658-9226-116947ee6371",
   "metadata": {},
   "source": [
    "# Run through a single random game"
   ]
  },
  {
   "cell_type": "code",
   "execution_count": 45,
   "id": "ca5bf9ad-54a4-42b7-b925-f7c9dcd45019",
   "metadata": {},
   "outputs": [],
   "source": [
    "def test_random_trial(mon=None, day=None):\n",
    "    env = APADEnv(mon,day)\n",
    "    #env = APADEnv()\n",
    "    obs, _ = env.reset()\n",
    "    done = truncated = False\n",
    "\n",
    "    while not (done or truncated):\n",
    "        # Ask the environment which actions are legal right now\n",
    "        mask = env.action_masks()              # boolean array\n",
    "        valid_actions = np.flatnonzero(mask)   # integer indices of True values\n",
    "\n",
    "        if valid_actions.size == 0:\n",
    "            # No possible moves ⇒ truncate / end the episode\n",
    "            truncated = True\n",
    "            break\n",
    "\n",
    "        action = np.random.choice(valid_actions)\n",
    "        obs, reward, done, truncated, info = env.step(action)\n",
    "    \n",
    "    return env, done, truncated, action"
   ]
  },
  {
   "cell_type": "code",
   "execution_count": 46,
   "id": "fc23827c-c446-47d0-a2a1-198a550d50d5",
   "metadata": {},
   "outputs": [
    {
     "name": "stdout",
     "output_type": "stream",
     "text": [
      "Win? False. Lose? True. Has islands? True\n"
     ]
    },
    {
     "data": {
      "image/png": "[encoded data removed]",
      "text/plain": [
       "<Figure size 600x600 with 1 Axes>"
      ]
     },
     "metadata": {},
     "output_type": "display_data"
    },
    {
     "data": {
      "image/png": "[encoded data removed]",
      "text/plain": [
       "<Figure size 300x300 with 1 Axes>"
      ]
     },
     "metadata": {},
     "output_type": "display_data"
    }
   ],
   "source": [
    "env, done, truncated, terminal_action = test_random_trial()\n",
    "print(f'Win? {done}. Lose? {truncated}. Has islands? {has_islands(env.grid)}')\n",
    "env.visualize()\n",
    "env.visualize_piece(terminal_action)"
   ]
  },
  {
   "cell_type": "markdown",
   "id": "ba45bcdf-d205-4f05-897c-0fc45a25d4b1",
   "metadata": {},
   "source": [
    "# Play random trials\n",
    "now that we require specific date solutions, we don't get random wins"
   ]
  },
  {
   "cell_type": "code",
   "execution_count": 47,
   "id": "723436d4-2889-40c9-8af1-320b58059f16",
   "metadata": {},
   "outputs": [
    {
     "name": "stdout",
     "output_type": "stream",
     "text": [
      "trial 208 15.0 seconds elapsed... 13.82 games/second, wins: 0\n",
      "trial 416 30.1 seconds elapsed... 13.82 games/second, wins: 0\n",
      "trial 621 45.1 seconds elapsed... 13.76 games/second, wins: 0\n",
      "trial 820 60.2 seconds elapsed... 13.63 games/second, wins: 0\n",
      "trial 1022 75.2 seconds elapsed... 13.59 games/second, wins: 0\n",
      "trial 1229 90.3 seconds elapsed... 13.62 games/second, wins: 0\n",
      "trial 1430 105.3 seconds elapsed... 13.58 games/second, wins: 0\n",
      "trial 1638 120.3 seconds elapsed... 13.62 games/second, wins: 0\n",
      "trial 1840 135.3 seconds elapsed... 13.60 games/second, wins: 0\n",
      "trial 2044 150.3 seconds elapsed... 13.60 games/second, wins: 0\n",
      "trial 2225 165.4 seconds elapsed... 13.45 games/second, wins: 0\n",
      "trial 2422 180.4 seconds elapsed... 13.43 games/second, wins: 0\n",
      "trial 2618 195.4 seconds elapsed... 13.40 games/second, wins: 0\n",
      "trial 2816 210.5 seconds elapsed... 13.38 games/second, wins: 0\n",
      "trial 3012 225.5 seconds elapsed... 13.36 games/second, wins: 0\n",
      "trial 3207 240.5 seconds elapsed... 13.33 games/second, wins: 0\n",
      "trial 3400 255.5 seconds elapsed... 13.30 games/second, wins: 0\n",
      "trial 3595 270.6 seconds elapsed... 13.28 games/second, wins: 0\n",
      "trial 3795 285.7 seconds elapsed... 13.28 games/second, wins: 0\n",
      "trial 3995 300.7 seconds elapsed... 13.28 games/second, wins: 0\n",
      "trial 4201 315.8 seconds elapsed... 13.30 games/second, wins: 0\n",
      "trial 4402 330.9 seconds elapsed... 13.30 games/second, wins: 0\n",
      "trial 4602 345.9 seconds elapsed... 13.30 games/second, wins: 0\n",
      "trial 4802 361.0 seconds elapsed... 13.30 games/second, wins: 0\n",
      "trial 5005 376.0 seconds elapsed... 13.31 games/second, wins: 0\n",
      "trial 5209 391.1 seconds elapsed... 13.32 games/second, wins: 0\n",
      "trial 5414 406.1 seconds elapsed... 13.33 games/second, wins: 0\n"
     ]
    },
    {
     "data": {
      "image/png": "[encoded data removed]",
      "text/plain": [
       "<Figure size 600x600 with 1 Axes>"
      ]
     },
     "metadata": {},
     "output_type": "display_data"
    },
    {
     "name": "stdout",
     "output_type": "stream",
     "text": [
      "trial 5616 421.2 seconds elapsed... 13.33 games/second, wins: 1\n",
      "trial 5823 436.2 seconds elapsed... 13.35 games/second, wins: 1\n",
      "trial 6026 451.3 seconds elapsed... 13.35 games/second, wins: 1\n",
      "trial 6230 466.3 seconds elapsed... 13.36 games/second, wins: 1\n",
      "trial 6432 481.3 seconds elapsed... 13.36 games/second, wins: 1\n",
      "trial 6632 496.3 seconds elapsed... 13.36 games/second, wins: 1\n",
      "trial 6835 511.4 seconds elapsed... 13.37 games/second, wins: 1\n",
      "trial 7036 526.4 seconds elapsed... 13.37 games/second, wins: 1\n",
      "trial 7243 541.5 seconds elapsed... 13.38 games/second, wins: 1\n",
      "trial 7446 556.5 seconds elapsed... 13.38 games/second, wins: 1\n",
      "trial 7648 571.6 seconds elapsed... 13.38 games/second, wins: 1\n",
      "trial 7858 586.6 seconds elapsed... 13.39 games/second, wins: 1\n",
      "trial 8069 601.7 seconds elapsed... 13.41 games/second, wins: 1\n",
      "trial 8280 616.7 seconds elapsed... 13.43 games/second, wins: 1\n",
      "trial 8494 631.8 seconds elapsed... 13.44 games/second, wins: 1\n",
      "trial 8712 646.8 seconds elapsed... 13.47 games/second, wins: 1\n",
      "trial 8926 661.9 seconds elapsed... 13.49 games/second, wins: 1\n",
      "trial 9143 676.9 seconds elapsed... 13.51 games/second, wins: 1\n",
      "trial 9357 692.0 seconds elapsed... 13.52 games/second, wins: 1\n",
      "trial 9573 707.0 seconds elapsed... 13.54 games/second, wins: 1\n",
      "trial 9791 722.1 seconds elapsed... 13.56 games/second, wins: 1\n",
      "trial 10009 737.2 seconds elapsed... 13.58 games/second, wins: 1\n",
      "trial 10220 752.2 seconds elapsed... 13.59 games/second, wins: 1\n",
      "trial 10432 767.2 seconds elapsed... 13.60 games/second, wins: 1\n",
      "trial 10645 782.3 seconds elapsed... 13.61 games/second, wins: 1\n",
      "trial 10859 797.3 seconds elapsed... 13.62 games/second, wins: 1\n",
      "trial 11077 812.3 seconds elapsed... 13.64 games/second, wins: 1\n",
      "trial 11294 827.4 seconds elapsed... 13.65 games/second, wins: 1\n"
     ]
    },
    {
     "data": {
      "image/png": "[encoded data removed]",
      "text/plain": [
       "<Figure size 600x600 with 1 Axes>"
      ]
     },
     "metadata": {},
     "output_type": "display_data"
    },
    {
     "name": "stdout",
     "output_type": "stream",
     "text": [
      "trial 11506 842.4 seconds elapsed... 13.66 games/second, wins: 2\n",
      "trial 11721 857.4 seconds elapsed... 13.67 games/second, wins: 2\n",
      "trial 11932 872.4 seconds elapsed... 13.68 games/second, wins: 2\n",
      "trial 12151 887.5 seconds elapsed... 13.69 games/second, wins: 2\n",
      "trial 12369 902.6 seconds elapsed... 13.70 games/second, wins: 2\n",
      "trial 12585 917.6 seconds elapsed... 13.72 games/second, wins: 2\n",
      "trial 12791 932.6 seconds elapsed... 13.72 games/second, wins: 2\n",
      "trial 13008 947.6 seconds elapsed... 13.73 games/second, wins: 2\n",
      "trial 13222 962.7 seconds elapsed... 13.73 games/second, wins: 2\n",
      "trial 13429 977.7 seconds elapsed... 13.74 games/second, wins: 2\n",
      "trial 13628 992.7 seconds elapsed... 13.73 games/second, wins: 2\n",
      "trial 13831 1007.8 seconds elapsed... 13.72 games/second, wins: 2\n",
      "trial 14044 1022.8 seconds elapsed... 13.73 games/second, wins: 2\n",
      "trial 14254 1037.8 seconds elapsed... 13.73 games/second, wins: 2\n",
      "trial 14462 1052.9 seconds elapsed... 13.74 games/second, wins: 2\n",
      "trial 14667 1067.9 seconds elapsed... 13.73 games/second, wins: 2\n",
      "trial 14879 1083.0 seconds elapsed... 13.74 games/second, wins: 2\n",
      "trial 15089 1098.1 seconds elapsed... 13.74 games/second, wins: 2\n",
      "trial 15299 1113.1 seconds elapsed... 13.74 games/second, wins: 2\n",
      "trial 15511 1128.2 seconds elapsed... 13.75 games/second, wins: 2\n",
      "trial 15725 1143.2 seconds elapsed... 13.75 games/second, wins: 2\n",
      "trial 15944 1158.3 seconds elapsed... 13.77 games/second, wins: 2\n",
      "trial 16156 1173.3 seconds elapsed... 13.77 games/second, wins: 2\n",
      "trial 16368 1188.3 seconds elapsed... 13.77 games/second, wins: 2\n",
      "trial 16568 1203.4 seconds elapsed... 13.77 games/second, wins: 2\n",
      "trial 16767 1218.5 seconds elapsed... 13.76 games/second, wins: 2\n",
      "trial 16970 1233.5 seconds elapsed... 13.76 games/second, wins: 2\n",
      "trial 17165 1248.6 seconds elapsed... 13.75 games/second, wins: 2\n",
      "trial 17364 1263.6 seconds elapsed... 13.74 games/second, wins: 2\n",
      "trial 17562 1278.6 seconds elapsed... 13.74 games/second, wins: 2\n",
      "trial 17769 1293.6 seconds elapsed... 13.74 games/second, wins: 2\n",
      "trial 17966 1308.7 seconds elapsed... 13.73 games/second, wins: 2\n",
      "trial 18164 1323.7 seconds elapsed... 13.72 games/second, wins: 2\n",
      "trial 18364 1338.8 seconds elapsed... 13.72 games/second, wins: 2\n",
      "trial 18568 1353.8 seconds elapsed... 13.72 games/second, wins: 2\n",
      "trial 18764 1368.9 seconds elapsed... 13.71 games/second, wins: 2\n",
      "trial 18963 1383.9 seconds elapsed... 13.70 games/second, wins: 2\n",
      "trial 19169 1399.0 seconds elapsed... 13.70 games/second, wins: 2\n",
      "trial 19377 1414.0 seconds elapsed... 13.70 games/second, wins: 2\n",
      "trial 19581 1429.0 seconds elapsed... 13.70 games/second, wins: 2\n",
      "trial 19786 1444.0 seconds elapsed... 13.70 games/second, wins: 2\n",
      "trial 19987 1459.1 seconds elapsed... 13.70 games/second, wins: 2\n",
      "trial 20183 1474.1 seconds elapsed... 13.69 games/second, wins: 2\n",
      "trial 20387 1489.1 seconds elapsed... 13.69 games/second, wins: 2\n",
      "trial 20586 1504.2 seconds elapsed... 13.69 games/second, wins: 2\n",
      "trial 20786 1519.2 seconds elapsed... 13.68 games/second, wins: 2\n",
      "trial 20983 1534.2 seconds elapsed... 13.68 games/second, wins: 2\n",
      "trial 21183 1549.3 seconds elapsed... 13.67 games/second, wins: 2\n",
      "trial 21382 1564.4 seconds elapsed... 13.67 games/second, wins: 2\n",
      "trial 21580 1579.4 seconds elapsed... 13.66 games/second, wins: 2\n",
      "trial 21779 1594.5 seconds elapsed... 13.66 games/second, wins: 2\n",
      "trial 21980 1609.5 seconds elapsed... 13.66 games/second, wins: 2\n",
      "trial 22183 1624.5 seconds elapsed... 13.66 games/second, wins: 2\n",
      "trial 22376 1639.6 seconds elapsed... 13.65 games/second, wins: 2\n",
      "trial 22571 1654.6 seconds elapsed... 13.64 games/second, wins: 2\n",
      "trial 22769 1669.7 seconds elapsed... 13.64 games/second, wins: 2\n",
      "trial 22963 1684.7 seconds elapsed... 13.63 games/second, wins: 2\n",
      "trial 23164 1699.8 seconds elapsed... 13.63 games/second, wins: 2\n",
      "trial 23365 1714.8 seconds elapsed... 13.63 games/second, wins: 2\n",
      "trial 23563 1729.8 seconds elapsed... 13.62 games/second, wins: 2\n",
      "trial 23755 1744.8 seconds elapsed... 13.61 games/second, wins: 2\n",
      "trial 23958 1759.9 seconds elapsed... 13.61 games/second, wins: 2\n",
      "trial 24157 1774.9 seconds elapsed... 13.61 games/second, wins: 2\n",
      "trial 24357 1790.0 seconds elapsed... 13.61 games/second, wins: 2\n",
      "trial 24552 1805.0 seconds elapsed... 13.60 games/second, wins: 2\n",
      "trial 24749 1820.0 seconds elapsed... 13.60 games/second, wins: 2\n"
     ]
    },
    {
     "data": {
      "image/png": "[encoded data removed]",
      "text/plain": [
       "<Figure size 600x600 with 1 Axes>"
      ]
     },
     "metadata": {},
     "output_type": "display_data"
    },
    {
     "name": "stdout",
     "output_type": "stream",
     "text": [
      "trial 24947 1835.1 seconds elapsed... 13.59 games/second, wins: 3\n",
      "trial 25146 1850.1 seconds elapsed... 13.59 games/second, wins: 3\n",
      "trial 25345 1865.2 seconds elapsed... 13.59 games/second, wins: 3\n",
      "trial 25548 1880.3 seconds elapsed... 13.59 games/second, wins: 3\n",
      "trial 25749 1895.3 seconds elapsed... 13.59 games/second, wins: 3\n",
      "trial 25949 1910.4 seconds elapsed... 13.58 games/second, wins: 3\n",
      "trial 26147 1925.5 seconds elapsed... 13.58 games/second, wins: 3\n",
      "trial 26351 1940.5 seconds elapsed... 13.58 games/second, wins: 3\n",
      "trial 26551 1955.5 seconds elapsed... 13.58 games/second, wins: 3\n",
      "trial 26751 1970.6 seconds elapsed... 13.58 games/second, wins: 3\n",
      "trial 26948 1985.6 seconds elapsed... 13.57 games/second, wins: 3\n",
      "trial 27148 2000.6 seconds elapsed... 13.57 games/second, wins: 3\n",
      "trial 27347 2015.6 seconds elapsed... 13.57 games/second, wins: 3\n",
      "trial 27546 2030.6 seconds elapsed... 13.57 games/second, wins: 3\n",
      "trial 27745 2045.7 seconds elapsed... 13.56 games/second, wins: 3\n",
      "trial 27941 2060.7 seconds elapsed... 13.56 games/second, wins: 3\n",
      "trial 28139 2075.8 seconds elapsed... 13.56 games/second, wins: 3\n",
      "trial 28335 2090.8 seconds elapsed... 13.55 games/second, wins: 3\n",
      "trial 28532 2105.8 seconds elapsed... 13.55 games/second, wins: 3\n",
      "trial 28727 2120.8 seconds elapsed... 13.55 games/second, wins: 3\n",
      "trial 28920 2135.9 seconds elapsed... 13.54 games/second, wins: 3\n",
      "trial 29123 2150.9 seconds elapsed... 13.54 games/second, wins: 3\n",
      "trial 29323 2166.0 seconds elapsed... 13.54 games/second, wins: 3\n",
      "trial 29518 2181.0 seconds elapsed... 13.53 games/second, wins: 3\n",
      "trial 29714 2196.0 seconds elapsed... 13.53 games/second, wins: 3\n",
      "trial 29917 2211.1 seconds elapsed... 13.53 games/second, wins: 3\n",
      "trial 30113 2226.1 seconds elapsed... 13.53 games/second, wins: 3\n",
      "trial 30317 2241.1 seconds elapsed... 13.53 games/second, wins: 3\n",
      "trial 30509 2256.1 seconds elapsed... 13.52 games/second, wins: 3\n",
      "trial 30708 2271.2 seconds elapsed... 13.52 games/second, wins: 3\n",
      "trial 30910 2286.2 seconds elapsed... 13.52 games/second, wins: 3\n",
      "trial 31105 2301.3 seconds elapsed... 13.52 games/second, wins: 3\n",
      "trial 31303 2316.3 seconds elapsed... 13.51 games/second, wins: 3\n",
      "trial 31500 2331.3 seconds elapsed... 13.51 games/second, wins: 3\n",
      "trial 31701 2346.3 seconds elapsed... 13.51 games/second, wins: 3\n",
      "trial 31904 2361.4 seconds elapsed... 13.51 games/second, wins: 3\n",
      "trial 32106 2376.4 seconds elapsed... 13.51 games/second, wins: 3\n",
      "trial 32302 2391.5 seconds elapsed... 13.51 games/second, wins: 3\n",
      "trial 32501 2406.5 seconds elapsed... 13.51 games/second, wins: 3\n",
      "trial 32700 2421.6 seconds elapsed... 13.50 games/second, wins: 3\n",
      "trial 32897 2436.6 seconds elapsed... 13.50 games/second, wins: 3\n",
      "trial 33098 2451.6 seconds elapsed... 13.50 games/second, wins: 3\n",
      "trial 33296 2466.7 seconds elapsed... 13.50 games/second, wins: 3\n",
      "trial 33499 2481.7 seconds elapsed... 13.50 games/second, wins: 3\n",
      "trial 33699 2496.8 seconds elapsed... 13.50 games/second, wins: 3\n",
      "trial 33901 2511.9 seconds elapsed... 13.50 games/second, wins: 3\n",
      "trial 34098 2526.9 seconds elapsed... 13.49 games/second, wins: 3\n",
      "trial 34301 2541.9 seconds elapsed... 13.49 games/second, wins: 3\n",
      "trial 34505 2557.0 seconds elapsed... 13.49 games/second, wins: 3\n",
      "trial 34702 2572.0 seconds elapsed... 13.49 games/second, wins: 3\n",
      "trial 34902 2587.0 seconds elapsed... 13.49 games/second, wins: 3\n",
      "trial 35102 2602.1 seconds elapsed... 13.49 games/second, wins: 3\n",
      "trial 35295 2617.1 seconds elapsed... 13.49 games/second, wins: 3\n",
      "trial 35493 2632.1 seconds elapsed... 13.48 games/second, wins: 3\n",
      "trial 35692 2647.1 seconds elapsed... 13.48 games/second, wins: 3\n",
      "trial 35893 2662.2 seconds elapsed... 13.48 games/second, wins: 3\n",
      "trial 36095 2677.2 seconds elapsed... 13.48 games/second, wins: 3\n",
      "trial 36302 2692.2 seconds elapsed... 13.48 games/second, wins: 3\n",
      "trial 36504 2707.3 seconds elapsed... 13.48 games/second, wins: 3\n",
      "trial 36706 2722.4 seconds elapsed... 13.48 games/second, wins: 3\n",
      "trial 36908 2737.4 seconds elapsed... 13.48 games/second, wins: 3\n",
      "trial 37110 2752.4 seconds elapsed... 13.48 games/second, wins: 3\n",
      "trial 37312 2767.5 seconds elapsed... 13.48 games/second, wins: 3\n",
      "trial 37515 2782.5 seconds elapsed... 13.48 games/second, wins: 3\n",
      "trial 37711 2797.5 seconds elapsed... 13.48 games/second, wins: 3\n",
      "trial 37913 2812.5 seconds elapsed... 13.48 games/second, wins: 3\n",
      "trial 38120 2827.6 seconds elapsed... 13.48 games/second, wins: 3\n",
      "trial 38317 2842.6 seconds elapsed... 13.48 games/second, wins: 3\n",
      "trial 38519 2857.6 seconds elapsed... 13.48 games/second, wins: 3\n",
      "trial 38719 2872.7 seconds elapsed... 13.48 games/second, wins: 3\n",
      "trial 38922 2887.7 seconds elapsed... 13.48 games/second, wins: 3\n",
      "trial 39125 2902.7 seconds elapsed... 13.48 games/second, wins: 3\n",
      "trial 39326 2917.8 seconds elapsed... 13.48 games/second, wins: 3\n",
      "trial 39529 2932.8 seconds elapsed... 13.48 games/second, wins: 3\n",
      "trial 39737 2947.9 seconds elapsed... 13.48 games/second, wins: 3\n",
      "trial 39935 2962.9 seconds elapsed... 13.48 games/second, wins: 3\n",
      "trial 40140 2977.9 seconds elapsed... 13.48 games/second, wins: 3\n",
      "trial 40343 2993.0 seconds elapsed... 13.48 games/second, wins: 3\n",
      "trial 40545 3008.0 seconds elapsed... 13.48 games/second, wins: 3\n",
      "trial 40747 3023.1 seconds elapsed... 13.48 games/second, wins: 3\n",
      "trial 40950 3038.1 seconds elapsed... 13.48 games/second, wins: 3\n",
      "trial 41154 3053.2 seconds elapsed... 13.48 games/second, wins: 3\n",
      "trial 41350 3068.2 seconds elapsed... 13.48 games/second, wins: 3\n",
      "trial 41551 3083.2 seconds elapsed... 13.48 games/second, wins: 3\n",
      "trial 41753 3098.2 seconds elapsed... 13.48 games/second, wins: 3\n",
      "trial 41947 3113.2 seconds elapsed... 13.47 games/second, wins: 3\n",
      "trial 42148 3128.3 seconds elapsed... 13.47 games/second, wins: 3\n",
      "trial 42345 3143.3 seconds elapsed... 13.47 games/second, wins: 3\n",
      "trial 42547 3158.3 seconds elapsed... 13.47 games/second, wins: 3\n",
      "trial 42750 3173.4 seconds elapsed... 13.47 games/second, wins: 3\n",
      "trial 42869 3236.3 seconds elapsed... 13.25 games/second, wins: 3\n",
      "trial 43018 3251.3 seconds elapsed... 13.23 games/second, wins: 3\n",
      "trial 43136 3266.3 seconds elapsed... 13.21 games/second, wins: 3\n",
      "trial 43149 3290.9 seconds elapsed... 13.11 games/second, wins: 3\n",
      "trial 43247 3305.9 seconds elapsed... 13.08 games/second, wins: 3\n",
      "trial 43392 3321.0 seconds elapsed... 13.07 games/second, wins: 3\n",
      "trial 43555 3336.0 seconds elapsed... 13.06 games/second, wins: 3\n",
      "trial 43676 3542.4 seconds elapsed... 12.33 games/second, wins: 3\n",
      "trial 43835 3557.5 seconds elapsed... 12.32 games/second, wins: 3\n",
      "trial 43847 3647.7 seconds elapsed... 12.02 games/second, wins: 3\n",
      "trial 44005 3662.8 seconds elapsed... 12.01 games/second, wins: 3\n",
      "trial 44075 3807.4 seconds elapsed... 11.58 games/second, wins: 3\n",
      "trial 44219 3838.3 seconds elapsed... 11.52 games/second, wins: 3\n",
      "trial 44299 4125.1 seconds elapsed... 10.74 games/second, wins: 3\n",
      "trial 44375 4511.2 seconds elapsed... 9.84 games/second, wins: 3\n",
      "trial 44451 4571.2 seconds elapsed... 9.72 games/second, wins: 3\n",
      "trial 44567 4862.5 seconds elapsed... 9.17 games/second, wins: 3\n",
      "trial 44668 4877.5 seconds elapsed... 9.16 games/second, wins: 3\n",
      "trial 44719 4913.2 seconds elapsed... 9.10 games/second, wins: 3\n",
      "trial 44799 4928.3 seconds elapsed... 9.09 games/second, wins: 3\n",
      "trial 44868 5204.0 seconds elapsed... 8.62 games/second, wins: 3\n",
      "trial 44941 5220.7 seconds elapsed... 8.61 games/second, wins: 3\n",
      "trial 45018 5236.1 seconds elapsed... 8.60 games/second, wins: 3\n",
      "trial 45092 5348.8 seconds elapsed... 8.43 games/second, wins: 3\n",
      "trial 45242 5417.6 seconds elapsed... 8.35 games/second, wins: 3\n",
      "trial 45315 5635.5 seconds elapsed... 8.04 games/second, wins: 3\n",
      "trial 45391 5830.5 seconds elapsed... 7.79 games/second, wins: 3\n",
      "trial 45469 6045.5 seconds elapsed... 7.52 games/second, wins: 3\n",
      "trial 45544 6124.4 seconds elapsed... 7.44 games/second, wins: 3\n",
      "trial 45709 6139.5 seconds elapsed... 7.45 games/second, wins: 3\n",
      "trial 45867 6154.5 seconds elapsed... 7.45 games/second, wins: 3\n",
      "trial 45890 6444.7 seconds elapsed... 7.12 games/second, wins: 3\n",
      "trial 46053 6459.8 seconds elapsed... 7.13 games/second, wins: 3\n",
      "trial 46253 6474.8 seconds elapsed... 7.14 games/second, wins: 3\n",
      "trial 46459 6489.8 seconds elapsed... 7.16 games/second, wins: 3\n",
      "trial 46666 6504.9 seconds elapsed... 7.17 games/second, wins: 3\n",
      "trial 46867 6519.9 seconds elapsed... 7.19 games/second, wins: 3\n",
      "trial 47071 6534.9 seconds elapsed... 7.20 games/second, wins: 3\n",
      "trial 47277 6549.9 seconds elapsed... 7.22 games/second, wins: 3\n",
      "trial 47485 6564.9 seconds elapsed... 7.23 games/second, wins: 3\n",
      "trial 47693 6580.0 seconds elapsed... 7.25 games/second, wins: 3\n",
      "trial 47898 6595.0 seconds elapsed... 7.26 games/second, wins: 3\n",
      "trial 48108 6610.0 seconds elapsed... 7.28 games/second, wins: 3\n",
      "trial 48317 6625.1 seconds elapsed... 7.29 games/second, wins: 3\n",
      "trial 48523 6640.1 seconds elapsed... 7.31 games/second, wins: 3\n",
      "trial 48733 6655.1 seconds elapsed... 7.32 games/second, wins: 3\n",
      "trial 48941 6670.1 seconds elapsed... 7.34 games/second, wins: 3\n",
      "trial 49148 6685.2 seconds elapsed... 7.35 games/second, wins: 3\n",
      "trial 49356 6700.2 seconds elapsed... 7.37 games/second, wins: 3\n",
      "trial 49564 6715.2 seconds elapsed... 7.38 games/second, wins: 3\n",
      "trial 49772 6730.3 seconds elapsed... 7.40 games/second, wins: 3\n",
      "trial 49978 6745.3 seconds elapsed... 7.41 games/second, wins: 3\n",
      "trial 50184 6760.3 seconds elapsed... 7.42 games/second, wins: 3\n",
      "trial 50400 6775.3 seconds elapsed... 7.44 games/second, wins: 3\n",
      "trial 50603 6790.4 seconds elapsed... 7.45 games/second, wins: 3\n",
      "trial 50812 6805.4 seconds elapsed... 7.47 games/second, wins: 3\n",
      "trial 51021 6820.4 seconds elapsed... 7.48 games/second, wins: 3\n"
     ]
    },
    {
     "data": {
      "image/png": "[encoded data removed]",
      "text/plain": [
       "<Figure size 600x600 with 1 Axes>"
      ]
     },
     "metadata": {},
     "output_type": "display_data"
    },
    {
     "name": "stdout",
     "output_type": "stream",
     "text": [
      "trial 51226 6835.4 seconds elapsed... 7.49 games/second, wins: 4\n",
      "trial 51431 6850.5 seconds elapsed... 7.51 games/second, wins: 4\n",
      "trial 51638 6865.5 seconds elapsed... 7.52 games/second, wins: 4\n",
      "trial 51848 6880.6 seconds elapsed... 7.54 games/second, wins: 4\n",
      "trial 52054 6895.6 seconds elapsed... 7.55 games/second, wins: 4\n",
      "trial 52265 6910.7 seconds elapsed... 7.56 games/second, wins: 4\n",
      "trial 52476 6925.7 seconds elapsed... 7.58 games/second, wins: 4\n",
      "trial 52684 6940.7 seconds elapsed... 7.59 games/second, wins: 4\n",
      "trial 52895 6955.8 seconds elapsed... 7.60 games/second, wins: 4\n",
      "trial 53105 6970.9 seconds elapsed... 7.62 games/second, wins: 4\n",
      "trial 53311 6985.9 seconds elapsed... 7.63 games/second, wins: 4\n",
      "trial 53524 7000.9 seconds elapsed... 7.65 games/second, wins: 4\n",
      "trial 53731 7015.9 seconds elapsed... 7.66 games/second, wins: 4\n",
      "trial 53938 7031.0 seconds elapsed... 7.67 games/second, wins: 4\n",
      "trial 54145 7046.0 seconds elapsed... 7.68 games/second, wins: 4\n",
      "trial 54357 7061.1 seconds elapsed... 7.70 games/second, wins: 4\n",
      "trial 54564 7076.1 seconds elapsed... 7.71 games/second, wins: 4\n",
      "trial 54771 7091.2 seconds elapsed... 7.72 games/second, wins: 4\n",
      "trial 54978 7106.2 seconds elapsed... 7.74 games/second, wins: 4\n",
      "trial 55189 7121.3 seconds elapsed... 7.75 games/second, wins: 4\n",
      "trial 55401 7136.4 seconds elapsed... 7.76 games/second, wins: 4\n",
      "trial 55609 7151.5 seconds elapsed... 7.78 games/second, wins: 4\n",
      "trial 55822 7166.5 seconds elapsed... 7.79 games/second, wins: 4\n",
      "trial 56028 7181.5 seconds elapsed... 7.80 games/second, wins: 4\n",
      "trial 56234 7196.6 seconds elapsed... 7.81 games/second, wins: 4\n",
      "trial 56440 7211.6 seconds elapsed... 7.83 games/second, wins: 4\n",
      "trial 56648 7226.7 seconds elapsed... 7.84 games/second, wins: 4\n",
      "trial 56855 7241.7 seconds elapsed... 7.85 games/second, wins: 4\n",
      "trial 57067 7256.8 seconds elapsed... 7.86 games/second, wins: 4\n",
      "trial 57276 7271.8 seconds elapsed... 7.88 games/second, wins: 4\n",
      "trial 57487 7286.8 seconds elapsed... 7.89 games/second, wins: 4\n",
      "trial 57693 7301.8 seconds elapsed... 7.90 games/second, wins: 4\n",
      "trial 57904 7316.9 seconds elapsed... 7.91 games/second, wins: 4\n",
      "trial 58112 7332.0 seconds elapsed... 7.93 games/second, wins: 4\n",
      "trial 58322 7347.0 seconds elapsed... 7.94 games/second, wins: 4\n",
      "trial 58535 7362.1 seconds elapsed... 7.95 games/second, wins: 4\n",
      "trial 58739 7377.1 seconds elapsed... 7.96 games/second, wins: 4\n",
      "trial 58951 7392.2 seconds elapsed... 7.97 games/second, wins: 4\n",
      "trial 59159 7407.2 seconds elapsed... 7.99 games/second, wins: 4\n",
      "trial 59368 7422.3 seconds elapsed... 8.00 games/second, wins: 4\n",
      "trial 59582 7437.3 seconds elapsed... 8.01 games/second, wins: 4\n",
      "trial 59790 7452.3 seconds elapsed... 8.02 games/second, wins: 4\n",
      "trial 60000 7467.4 seconds elapsed... 8.03 games/second, wins: 4\n",
      "trial 60207 7482.4 seconds elapsed... 8.05 games/second, wins: 4\n",
      "trial 60413 7497.4 seconds elapsed... 8.06 games/second, wins: 4\n",
      "trial 60614 7512.5 seconds elapsed... 8.07 games/second, wins: 4\n",
      "trial 60819 7527.5 seconds elapsed... 8.08 games/second, wins: 4\n",
      "trial 61026 7542.6 seconds elapsed... 8.09 games/second, wins: 4\n",
      "trial 61235 7557.6 seconds elapsed... 8.10 games/second, wins: 4\n",
      "trial 61444 7572.6 seconds elapsed... 8.11 games/second, wins: 4\n",
      "trial 61657 7587.7 seconds elapsed... 8.13 games/second, wins: 4\n",
      "trial 61867 7602.7 seconds elapsed... 8.14 games/second, wins: 4\n",
      "trial 62075 7617.8 seconds elapsed... 8.15 games/second, wins: 4\n",
      "trial 62285 7632.8 seconds elapsed... 8.16 games/second, wins: 4\n",
      "trial 62495 7647.9 seconds elapsed... 8.17 games/second, wins: 4\n",
      "trial 62702 7662.9 seconds elapsed... 8.18 games/second, wins: 4\n",
      "trial 62908 7678.0 seconds elapsed... 8.19 games/second, wins: 4\n",
      "trial 63115 7693.0 seconds elapsed... 8.20 games/second, wins: 4\n",
      "trial 63325 7708.1 seconds elapsed... 8.22 games/second, wins: 4\n",
      "trial 63533 7723.1 seconds elapsed... 8.23 games/second, wins: 4\n",
      "trial 63739 7738.2 seconds elapsed... 8.24 games/second, wins: 4\n",
      "trial 63948 7753.2 seconds elapsed... 8.25 games/second, wins: 4\n",
      "trial 64158 7768.2 seconds elapsed... 8.26 games/second, wins: 4\n",
      "trial 64364 7783.2 seconds elapsed... 8.27 games/second, wins: 4\n",
      "trial 64570 7798.2 seconds elapsed... 8.28 games/second, wins: 4\n",
      "trial 64772 7813.2 seconds elapsed... 8.29 games/second, wins: 4\n",
      "trial 64982 7828.3 seconds elapsed... 8.30 games/second, wins: 4\n",
      "trial 65186 7843.3 seconds elapsed... 8.31 games/second, wins: 4\n",
      "trial 65393 7858.4 seconds elapsed... 8.32 games/second, wins: 4\n",
      "trial 65598 7873.4 seconds elapsed... 8.33 games/second, wins: 4\n",
      "trial 65810 7888.4 seconds elapsed... 8.34 games/second, wins: 4\n",
      "trial 66017 7903.5 seconds elapsed... 8.35 games/second, wins: 4\n",
      "trial 66225 7918.5 seconds elapsed... 8.36 games/second, wins: 4\n",
      "trial 66432 7933.6 seconds elapsed... 8.37 games/second, wins: 4\n",
      "trial 66648 7948.6 seconds elapsed... 8.38 games/second, wins: 4\n",
      "trial 66850 7963.6 seconds elapsed... 8.39 games/second, wins: 4\n",
      "trial 67057 7978.7 seconds elapsed... 8.40 games/second, wins: 4\n",
      "trial 67263 7993.7 seconds elapsed... 8.41 games/second, wins: 4\n",
      "trial 67470 8008.7 seconds elapsed... 8.42 games/second, wins: 4\n",
      "trial 67672 8023.8 seconds elapsed... 8.43 games/second, wins: 4\n",
      "trial 67878 8038.8 seconds elapsed... 8.44 games/second, wins: 4\n",
      "trial 68086 8053.8 seconds elapsed... 8.45 games/second, wins: 4\n",
      "trial 68294 8068.9 seconds elapsed... 8.46 games/second, wins: 4\n",
      "trial 68507 8083.9 seconds elapsed... 8.47 games/second, wins: 4\n",
      "trial 68713 8099.0 seconds elapsed... 8.48 games/second, wins: 4\n",
      "trial 68924 8114.0 seconds elapsed... 8.49 games/second, wins: 4\n",
      "trial 69125 8129.1 seconds elapsed... 8.50 games/second, wins: 4\n",
      "trial 69333 8144.1 seconds elapsed... 8.51 games/second, wins: 4\n",
      "trial 69540 8159.2 seconds elapsed... 8.52 games/second, wins: 4\n",
      "trial 69746 8174.2 seconds elapsed... 8.53 games/second, wins: 4\n",
      "trial 69953 8189.2 seconds elapsed... 8.54 games/second, wins: 4\n",
      "trial 70156 8204.2 seconds elapsed... 8.55 games/second, wins: 4\n",
      "trial 70362 8219.2 seconds elapsed... 8.56 games/second, wins: 4\n",
      "trial 70570 8234.2 seconds elapsed... 8.57 games/second, wins: 4\n",
      "trial 70784 8249.2 seconds elapsed... 8.58 games/second, wins: 4\n",
      "trial 70991 8264.3 seconds elapsed... 8.59 games/second, wins: 4\n",
      "trial 71191 8279.3 seconds elapsed... 8.60 games/second, wins: 4\n",
      "trial 71401 8294.3 seconds elapsed... 8.61 games/second, wins: 4\n",
      "trial 71607 8309.3 seconds elapsed... 8.62 games/second, wins: 4\n",
      "trial 71814 8324.4 seconds elapsed... 8.63 games/second, wins: 4\n",
      "trial 72019 8339.4 seconds elapsed... 8.64 games/second, wins: 4\n",
      "trial 72219 8508.6 seconds elapsed... 8.49 games/second, wins: 4\n",
      "trial 72413 8523.6 seconds elapsed... 8.50 games/second, wins: 4\n",
      "trial 72617 8538.7 seconds elapsed... 8.50 games/second, wins: 4\n",
      "trial 72827 8553.7 seconds elapsed... 8.51 games/second, wins: 4\n",
      "trial 73036 8568.8 seconds elapsed... 8.52 games/second, wins: 4\n",
      "trial 73242 8583.8 seconds elapsed... 8.53 games/second, wins: 4\n",
      "trial 73455 8598.8 seconds elapsed... 8.54 games/second, wins: 4\n",
      "trial 73665 8613.8 seconds elapsed... 8.55 games/second, wins: 4\n",
      "trial 73874 8628.9 seconds elapsed... 8.56 games/second, wins: 4\n",
      "trial 74078 8643.9 seconds elapsed... 8.57 games/second, wins: 4\n",
      "trial 74288 8659.0 seconds elapsed... 8.58 games/second, wins: 4\n",
      "trial 74495 8674.0 seconds elapsed... 8.59 games/second, wins: 4\n",
      "trial 74703 8689.0 seconds elapsed... 8.60 games/second, wins: 4\n",
      "trial 74909 8704.1 seconds elapsed... 8.61 games/second, wins: 4\n",
      "trial 75116 8719.1 seconds elapsed... 8.62 games/second, wins: 4\n",
      "trial 75326 8734.1 seconds elapsed... 8.62 games/second, wins: 4\n",
      "trial 75533 8749.2 seconds elapsed... 8.63 games/second, wins: 4\n",
      "trial 75741 8764.2 seconds elapsed... 8.64 games/second, wins: 4\n",
      "trial 75948 8779.3 seconds elapsed... 8.65 games/second, wins: 4\n",
      "trial 76154 8794.3 seconds elapsed... 8.66 games/second, wins: 4\n",
      "trial 76364 8809.4 seconds elapsed... 8.67 games/second, wins: 4\n",
      "trial 76571 8824.4 seconds elapsed... 8.68 games/second, wins: 4\n",
      "trial 76778 8839.4 seconds elapsed... 8.69 games/second, wins: 4\n",
      "trial 76987 8854.4 seconds elapsed... 8.69 games/second, wins: 4\n",
      "trial 77195 8869.5 seconds elapsed... 8.70 games/second, wins: 4\n",
      "trial 77402 8884.5 seconds elapsed... 8.71 games/second, wins: 4\n",
      "trial 77612 8899.6 seconds elapsed... 8.72 games/second, wins: 4\n",
      "trial 77820 8914.6 seconds elapsed... 8.73 games/second, wins: 4\n",
      "trial 78024 8929.6 seconds elapsed... 8.74 games/second, wins: 4\n",
      "trial 78230 8944.7 seconds elapsed... 8.75 games/second, wins: 4\n",
      "trial 78440 8959.7 seconds elapsed... 8.75 games/second, wins: 4\n",
      "trial 78643 8974.7 seconds elapsed... 8.76 games/second, wins: 4\n"
     ]
    },
    {
     "data": {
      "image/png": "[encoded data removed]",
      "text/plain": [
       "<Figure size 600x600 with 1 Axes>"
      ]
     },
     "metadata": {},
     "output_type": "display_data"
    },
    {
     "name": "stdout",
     "output_type": "stream",
     "text": [
      "trial 78848 8989.7 seconds elapsed... 8.77 games/second, wins: 5\n",
      "trial 79057 9004.8 seconds elapsed... 8.78 games/second, wins: 5\n",
      "trial 79264 9019.8 seconds elapsed... 8.79 games/second, wins: 5\n",
      "trial 79470 9034.8 seconds elapsed... 8.80 games/second, wins: 5\n",
      "trial 79679 9049.9 seconds elapsed... 8.80 games/second, wins: 5\n",
      "trial 79884 9065.0 seconds elapsed... 8.81 games/second, wins: 5\n",
      "trial 80094 9080.0 seconds elapsed... 8.82 games/second, wins: 5\n",
      "trial 80307 9095.0 seconds elapsed... 8.83 games/second, wins: 5\n",
      "trial 80515 9110.1 seconds elapsed... 8.84 games/second, wins: 5\n",
      "trial 80724 9125.1 seconds elapsed... 8.85 games/second, wins: 5\n",
      "trial 80935 9140.1 seconds elapsed... 8.85 games/second, wins: 5\n",
      "trial 81142 9155.2 seconds elapsed... 8.86 games/second, wins: 5\n",
      "trial 81349 9170.2 seconds elapsed... 8.87 games/second, wins: 5\n",
      "trial 81559 9185.3 seconds elapsed... 8.88 games/second, wins: 5\n",
      "trial 81762 9200.3 seconds elapsed... 8.89 games/second, wins: 5\n",
      "trial 81968 9215.4 seconds elapsed... 8.89 games/second, wins: 5\n",
      "trial 82172 9230.4 seconds elapsed... 8.90 games/second, wins: 5\n",
      "trial 82384 9245.5 seconds elapsed... 8.91 games/second, wins: 5\n",
      "trial 82588 9260.5 seconds elapsed... 8.92 games/second, wins: 5\n",
      "trial 82798 9275.6 seconds elapsed... 8.93 games/second, wins: 5\n"
     ]
    },
    {
     "data": {
      "image/png": "[encoded data removed]",
      "text/plain": [
       "<Figure size 600x600 with 1 Axes>"
      ]
     },
     "metadata": {},
     "output_type": "display_data"
    },
    {
     "name": "stdout",
     "output_type": "stream",
     "text": [
      "trial 83004 9290.6 seconds elapsed... 8.93 games/second, wins: 6\n",
      "trial 83211 9305.6 seconds elapsed... 8.94 games/second, wins: 6\n",
      "trial 83421 9320.7 seconds elapsed... 8.95 games/second, wins: 6\n",
      "trial 83626 9335.7 seconds elapsed... 8.96 games/second, wins: 6\n",
      "trial 83830 9350.7 seconds elapsed... 8.97 games/second, wins: 6\n",
      "trial 84040 9365.8 seconds elapsed... 8.97 games/second, wins: 6\n",
      "trial 84250 9380.8 seconds elapsed... 8.98 games/second, wins: 6\n",
      "trial 84457 9395.8 seconds elapsed... 8.99 games/second, wins: 6\n",
      "trial 84666 9410.9 seconds elapsed... 9.00 games/second, wins: 6\n",
      "trial 84876 9425.9 seconds elapsed... 9.00 games/second, wins: 6\n",
      "trial 85080 9440.9 seconds elapsed... 9.01 games/second, wins: 6\n",
      "trial 85288 9456.0 seconds elapsed... 9.02 games/second, wins: 6\n",
      "trial 85495 9471.0 seconds elapsed... 9.03 games/second, wins: 6\n",
      "trial 85700 9486.0 seconds elapsed... 9.03 games/second, wins: 6\n",
      "trial 85908 9501.1 seconds elapsed... 9.04 games/second, wins: 6\n",
      "trial 86117 9516.1 seconds elapsed... 9.05 games/second, wins: 6\n",
      "trial 86322 9531.2 seconds elapsed... 9.06 games/second, wins: 6\n",
      "trial 86531 9546.2 seconds elapsed... 9.06 games/second, wins: 6\n",
      "trial 86738 9561.2 seconds elapsed... 9.07 games/second, wins: 6\n",
      "trial 86946 9576.2 seconds elapsed... 9.08 games/second, wins: 6\n",
      "trial 87155 9591.3 seconds elapsed... 9.09 games/second, wins: 6\n",
      "trial 87364 9606.4 seconds elapsed... 9.09 games/second, wins: 6\n",
      "trial 87576 9621.4 seconds elapsed... 9.10 games/second, wins: 6\n",
      "trial 87782 9636.4 seconds elapsed... 9.11 games/second, wins: 6\n",
      "trial 87992 9651.5 seconds elapsed... 9.12 games/second, wins: 6\n",
      "trial 88200 9666.5 seconds elapsed... 9.12 games/second, wins: 6\n",
      "trial 88406 9681.6 seconds elapsed... 9.13 games/second, wins: 6\n",
      "trial 88616 9696.7 seconds elapsed... 9.14 games/second, wins: 6\n",
      "trial 88821 9711.7 seconds elapsed... 9.15 games/second, wins: 6\n",
      "trial 89028 9726.7 seconds elapsed... 9.15 games/second, wins: 6\n",
      "trial 89234 9741.8 seconds elapsed... 9.16 games/second, wins: 6\n",
      "trial 89443 9756.8 seconds elapsed... 9.17 games/second, wins: 6\n",
      "trial 89653 9771.8 seconds elapsed... 9.17 games/second, wins: 6\n",
      "trial 89862 9786.9 seconds elapsed... 9.18 games/second, wins: 6\n",
      "trial 90067 9801.9 seconds elapsed... 9.19 games/second, wins: 6\n",
      "trial 90274 9816.9 seconds elapsed... 9.20 games/second, wins: 6\n",
      "trial 90474 9831.9 seconds elapsed... 9.20 games/second, wins: 6\n",
      "trial 90683 9847.0 seconds elapsed... 9.21 games/second, wins: 6\n"
     ]
    },
    {
     "data": {
      "image/png": "[encoded data removed]",
      "text/plain": [
       "<Figure size 600x600 with 1 Axes>"
      ]
     },
     "metadata": {},
     "output_type": "display_data"
    },
    {
     "name": "stdout",
     "output_type": "stream",
     "text": [
      "trial 90890 9862.0 seconds elapsed... 9.22 games/second, wins: 7\n",
      "trial 91093 9877.0 seconds elapsed... 9.22 games/second, wins: 7\n",
      "trial 91302 9892.1 seconds elapsed... 9.23 games/second, wins: 7\n",
      "trial 91510 9907.1 seconds elapsed... 9.24 games/second, wins: 7\n",
      "trial 91719 9922.1 seconds elapsed... 9.24 games/second, wins: 7\n",
      "trial 91926 9937.1 seconds elapsed... 9.25 games/second, wins: 7\n",
      "trial 92132 9952.1 seconds elapsed... 9.26 games/second, wins: 7\n",
      "trial 92344 9967.1 seconds elapsed... 9.26 games/second, wins: 7\n",
      "trial 92556 9982.2 seconds elapsed... 9.27 games/second, wins: 7\n",
      "trial 92760 9997.2 seconds elapsed... 9.28 games/second, wins: 7\n",
      "trial 92972 10012.3 seconds elapsed... 9.29 games/second, wins: 7\n",
      "trial 93181 10027.3 seconds elapsed... 9.29 games/second, wins: 7\n",
      "trial 93384 10042.4 seconds elapsed... 9.30 games/second, wins: 7\n",
      "trial 93594 10057.4 seconds elapsed... 9.31 games/second, wins: 7\n",
      "trial 93800 10072.4 seconds elapsed... 9.31 games/second, wins: 7\n",
      "trial 94005 10087.4 seconds elapsed... 9.32 games/second, wins: 7\n",
      "trial 94214 10102.4 seconds elapsed... 9.33 games/second, wins: 7\n",
      "trial 94423 10117.5 seconds elapsed... 9.33 games/second, wins: 7\n",
      "trial 94631 10132.5 seconds elapsed... 9.34 games/second, wins: 7\n",
      "trial 94839 10147.6 seconds elapsed... 9.35 games/second, wins: 7\n",
      "trial 95043 10162.6 seconds elapsed... 9.35 games/second, wins: 7\n",
      "trial 95251 10177.7 seconds elapsed... 9.36 games/second, wins: 7\n",
      "trial 95466 10192.7 seconds elapsed... 9.37 games/second, wins: 7\n",
      "trial 95675 10207.8 seconds elapsed... 9.37 games/second, wins: 7\n",
      "trial 95883 10222.8 seconds elapsed... 9.38 games/second, wins: 7\n",
      "trial 96093 10237.8 seconds elapsed... 9.39 games/second, wins: 7\n",
      "trial 96299 10252.8 seconds elapsed... 9.39 games/second, wins: 7\n",
      "trial 96503 10267.8 seconds elapsed... 9.40 games/second, wins: 7\n",
      "trial 96710 10282.9 seconds elapsed... 9.40 games/second, wins: 7\n",
      "trial 96917 10297.9 seconds elapsed... 9.41 games/second, wins: 7\n",
      "trial 97127 10312.9 seconds elapsed... 9.42 games/second, wins: 7\n",
      "trial 97331 10327.9 seconds elapsed... 9.42 games/second, wins: 7\n",
      "trial 97539 10343.0 seconds elapsed... 9.43 games/second, wins: 7\n",
      "trial 97745 10358.0 seconds elapsed... 9.44 games/second, wins: 7\n",
      "trial 97952 10373.0 seconds elapsed... 9.44 games/second, wins: 7\n",
      "trial 98156 10388.0 seconds elapsed... 9.45 games/second, wins: 7\n",
      "trial 98360 10403.0 seconds elapsed... 9.45 games/second, wins: 7\n",
      "trial 98568 10418.1 seconds elapsed... 9.46 games/second, wins: 7\n",
      "trial 98777 10433.1 seconds elapsed... 9.47 games/second, wins: 7\n",
      "trial 98900 10846.5 seconds elapsed... 9.12 games/second, wins: 7\n",
      "trial 99103 10861.5 seconds elapsed... 9.12 games/second, wins: 7\n",
      "trial 99313 10876.6 seconds elapsed... 9.13 games/second, wins: 7\n",
      "trial 99522 10891.7 seconds elapsed... 9.14 games/second, wins: 7\n",
      "trial 99547 11235.3 seconds elapsed... 8.86 games/second, wins: 7\n",
      "trial 99750 11250.3 seconds elapsed... 8.87 games/second, wins: 7\n",
      "trial 99958 11265.4 seconds elapsed... 8.87 games/second, wins: 7\n",
      "trial 100168 11280.4 seconds elapsed... 8.88 games/second, wins: 7\n",
      "trial 100192 12214.6 seconds elapsed... 8.20 games/second, wins: 7\n",
      "trial 100398 12229.7 seconds elapsed... 8.21 games/second, wins: 7\n",
      "trial 100614 12244.7 seconds elapsed... 8.22 games/second, wins: 7\n",
      "trial 100823 12259.8 seconds elapsed... 8.22 games/second, wins: 7\n",
      "trial 100848 12387.5 seconds elapsed... 8.14 games/second, wins: 7\n",
      "trial 101057 12402.5 seconds elapsed... 8.15 games/second, wins: 7\n",
      "trial 101264 12417.6 seconds elapsed... 8.15 games/second, wins: 7\n",
      "trial 101475 12432.6 seconds elapsed... 8.16 games/second, wins: 7\n",
      "trial 101498 12607.5 seconds elapsed... 8.05 games/second, wins: 7\n",
      "trial 101689 12622.5 seconds elapsed... 8.06 games/second, wins: 7\n",
      "trial 101894 12637.6 seconds elapsed... 8.06 games/second, wins: 7\n",
      "trial 102096 12652.6 seconds elapsed... 8.07 games/second, wins: 7\n",
      "trial 102293 12667.6 seconds elapsed... 8.08 games/second, wins: 7\n",
      "trial 102493 12682.7 seconds elapsed... 8.08 games/second, wins: 7\n",
      "trial 102702 12697.7 seconds elapsed... 8.09 games/second, wins: 7\n",
      "trial 102909 12712.8 seconds elapsed... 8.09 games/second, wins: 7\n",
      "trial 103116 12727.9 seconds elapsed... 8.10 games/second, wins: 7\n",
      "trial 103324 12742.9 seconds elapsed... 8.11 games/second, wins: 7\n",
      "trial 103525 12758.0 seconds elapsed... 8.11 games/second, wins: 7\n",
      "trial 103735 12773.1 seconds elapsed... 8.12 games/second, wins: 7\n",
      "trial 103947 12788.1 seconds elapsed... 8.13 games/second, wins: 7\n",
      "trial 104154 12803.2 seconds elapsed... 8.14 games/second, wins: 7\n",
      "trial 104365 12818.2 seconds elapsed... 8.14 games/second, wins: 7\n",
      "trial 104571 12833.2 seconds elapsed... 8.15 games/second, wins: 7\n",
      "trial 104777 12848.2 seconds elapsed... 8.15 games/second, wins: 7\n",
      "trial 104983 12863.3 seconds elapsed... 8.16 games/second, wins: 7\n",
      "trial 105189 12878.3 seconds elapsed... 8.17 games/second, wins: 7\n",
      "trial 105393 12893.4 seconds elapsed... 8.17 games/second, wins: 7\n",
      "trial 105599 12908.4 seconds elapsed... 8.18 games/second, wins: 7\n",
      "trial 105809 12923.4 seconds elapsed... 8.19 games/second, wins: 7\n",
      "trial 106014 12938.5 seconds elapsed... 8.19 games/second, wins: 7\n",
      "trial 106226 12953.5 seconds elapsed... 8.20 games/second, wins: 7\n",
      "trial 106430 12968.5 seconds elapsed... 8.21 games/second, wins: 7\n",
      "trial 106636 12983.6 seconds elapsed... 8.21 games/second, wins: 7\n",
      "trial 106841 12998.6 seconds elapsed... 8.22 games/second, wins: 7\n",
      "trial 107050 13013.6 seconds elapsed... 8.23 games/second, wins: 7\n",
      "trial 107252 13028.7 seconds elapsed... 8.23 games/second, wins: 7\n",
      "trial 107459 13043.8 seconds elapsed... 8.24 games/second, wins: 7\n",
      "trial 107665 13058.8 seconds elapsed... 8.24 games/second, wins: 7\n",
      "trial 107871 13073.8 seconds elapsed... 8.25 games/second, wins: 7\n",
      "trial 108076 13088.9 seconds elapsed... 8.26 games/second, wins: 7\n",
      "trial 108279 13103.9 seconds elapsed... 8.26 games/second, wins: 7\n",
      "trial 108483 13118.9 seconds elapsed... 8.27 games/second, wins: 7\n",
      "trial 108693 13134.0 seconds elapsed... 8.28 games/second, wins: 7\n"
     ]
    },
    {
     "data": {
      "image/png": "[encoded data removed]",
      "text/plain": [
       "<Figure size 600x600 with 1 Axes>"
      ]
     },
     "metadata": {},
     "output_type": "display_data"
    },
    {
     "name": "stdout",
     "output_type": "stream",
     "text": [
      "trial 108896 13149.0 seconds elapsed... 8.28 games/second, wins: 8\n",
      "trial 109099 13164.0 seconds elapsed... 8.29 games/second, wins: 8\n",
      "trial 109308 13179.0 seconds elapsed... 8.29 games/second, wins: 8\n",
      "trial 109515 13194.1 seconds elapsed... 8.30 games/second, wins: 8\n",
      "trial 109719 13209.1 seconds elapsed... 8.31 games/second, wins: 8\n",
      "trial 109923 13224.1 seconds elapsed... 8.31 games/second, wins: 8\n",
      "trial 110133 13239.2 seconds elapsed... 8.32 games/second, wins: 8\n",
      "trial 110336 13254.2 seconds elapsed... 8.32 games/second, wins: 8\n",
      "trial 110544 13269.3 seconds elapsed... 8.33 games/second, wins: 8\n",
      "trial 110750 13284.3 seconds elapsed... 8.34 games/second, wins: 8\n",
      "trial 110956 13299.3 seconds elapsed... 8.34 games/second, wins: 8\n",
      "trial 111163 13314.4 seconds elapsed... 8.35 games/second, wins: 8\n",
      "trial 111369 13329.5 seconds elapsed... 8.36 games/second, wins: 8\n",
      "trial 111573 13344.5 seconds elapsed... 8.36 games/second, wins: 8\n",
      "trial 111776 13359.5 seconds elapsed... 8.37 games/second, wins: 8\n",
      "trial 111988 13374.5 seconds elapsed... 8.37 games/second, wins: 8\n",
      "trial 112190 13389.5 seconds elapsed... 8.38 games/second, wins: 8\n",
      "trial 112396 13404.6 seconds elapsed... 8.38 games/second, wins: 8\n",
      "trial 112606 13419.6 seconds elapsed... 8.39 games/second, wins: 8\n",
      "trial 112811 13434.6 seconds elapsed... 8.40 games/second, wins: 8\n"
     ]
    },
    {
     "data": {
      "image/png": "[encoded data removed]",
      "text/plain": [
       "<Figure size 600x600 with 1 Axes>"
      ]
     },
     "metadata": {},
     "output_type": "display_data"
    },
    {
     "name": "stdout",
     "output_type": "stream",
     "text": [
      "trial 113016 13449.6 seconds elapsed... 8.40 games/second, wins: 9\n",
      "trial 113222 13464.6 seconds elapsed... 8.41 games/second, wins: 9\n",
      "trial 113424 13479.7 seconds elapsed... 8.41 games/second, wins: 9\n",
      "trial 113628 13494.7 seconds elapsed... 8.42 games/second, wins: 9\n",
      "trial 113836 13509.7 seconds elapsed... 8.43 games/second, wins: 9\n",
      "trial 114040 13524.8 seconds elapsed... 8.43 games/second, wins: 9\n",
      "trial 114248 13539.8 seconds elapsed... 8.44 games/second, wins: 9\n",
      "trial 114455 13554.9 seconds elapsed... 8.44 games/second, wins: 9\n",
      "trial 114661 13569.9 seconds elapsed... 8.45 games/second, wins: 9\n",
      "trial 114869 13585.0 seconds elapsed... 8.46 games/second, wins: 9\n",
      "trial 115078 13600.1 seconds elapsed... 8.46 games/second, wins: 9\n",
      "trial 115283 13615.1 seconds elapsed... 8.47 games/second, wins: 9\n",
      "trial 115493 13630.2 seconds elapsed... 8.47 games/second, wins: 9\n",
      "trial 115705 13645.2 seconds elapsed... 8.48 games/second, wins: 9\n",
      "trial 115908 13660.2 seconds elapsed... 8.49 games/second, wins: 9\n",
      "trial 116113 13675.3 seconds elapsed... 8.49 games/second, wins: 9\n",
      "trial 116320 13690.3 seconds elapsed... 8.50 games/second, wins: 9\n",
      "trial 116525 13705.3 seconds elapsed... 8.50 games/second, wins: 9\n",
      "trial 116729 13720.4 seconds elapsed... 8.51 games/second, wins: 9\n",
      "trial 116937 13735.4 seconds elapsed... 8.51 games/second, wins: 9\n",
      "trial 117140 13750.5 seconds elapsed... 8.52 games/second, wins: 9\n",
      "trial 117352 13765.5 seconds elapsed... 8.53 games/second, wins: 9\n",
      "trial 117559 13780.6 seconds elapsed... 8.53 games/second, wins: 9\n",
      "trial 117764 13795.6 seconds elapsed... 8.54 games/second, wins: 9\n",
      "trial 117968 13810.6 seconds elapsed... 8.54 games/second, wins: 9\n",
      "trial 118172 13825.6 seconds elapsed... 8.55 games/second, wins: 9\n",
      "trial 118378 13840.6 seconds elapsed... 8.55 games/second, wins: 9\n",
      "trial 118582 13855.7 seconds elapsed... 8.56 games/second, wins: 9\n",
      "trial 118790 13870.7 seconds elapsed... 8.56 games/second, wins: 9\n",
      "trial 118995 13885.8 seconds elapsed... 8.57 games/second, wins: 9\n",
      "trial 119203 13900.8 seconds elapsed... 8.58 games/second, wins: 9\n",
      "trial 119415 13915.9 seconds elapsed... 8.58 games/second, wins: 9\n",
      "trial 119620 13931.0 seconds elapsed... 8.59 games/second, wins: 9\n",
      "trial 119830 13946.0 seconds elapsed... 8.59 games/second, wins: 9\n",
      "trial 120039 13961.1 seconds elapsed... 8.60 games/second, wins: 9\n",
      "trial 120242 13976.1 seconds elapsed... 8.60 games/second, wins: 9\n",
      "trial 120451 13991.2 seconds elapsed... 8.61 games/second, wins: 9\n",
      "trial 120658 14006.2 seconds elapsed... 8.61 games/second, wins: 9\n",
      "trial 120864 14021.2 seconds elapsed... 8.62 games/second, wins: 9\n",
      "trial 121071 14036.2 seconds elapsed... 8.63 games/second, wins: 9\n",
      "trial 121278 14051.3 seconds elapsed... 8.63 games/second, wins: 9\n",
      "trial 121483 14066.3 seconds elapsed... 8.64 games/second, wins: 9\n",
      "trial 121687 14081.4 seconds elapsed... 8.64 games/second, wins: 9\n",
      "trial 121893 14096.4 seconds elapsed... 8.65 games/second, wins: 9\n",
      "trial 122098 14111.4 seconds elapsed... 8.65 games/second, wins: 9\n",
      "trial 122307 14126.4 seconds elapsed... 8.66 games/second, wins: 9\n",
      "trial 122515 14141.5 seconds elapsed... 8.66 games/second, wins: 9\n",
      "trial 122715 14156.5 seconds elapsed... 8.67 games/second, wins: 9\n",
      "trial 122922 14171.6 seconds elapsed... 8.67 games/second, wins: 9\n",
      "trial 123133 14186.7 seconds elapsed... 8.68 games/second, wins: 9\n",
      "trial 123342 14201.7 seconds elapsed... 8.69 games/second, wins: 9\n",
      "trial 123552 14216.8 seconds elapsed... 8.69 games/second, wins: 9\n",
      "trial 123762 14231.8 seconds elapsed... 8.70 games/second, wins: 9\n",
      "trial 123965 14246.8 seconds elapsed... 8.70 games/second, wins: 9\n",
      "trial 124169 14261.9 seconds elapsed... 8.71 games/second, wins: 9\n",
      "trial 124378 14276.9 seconds elapsed... 8.71 games/second, wins: 9\n",
      "trial 124583 14291.9 seconds elapsed... 8.72 games/second, wins: 9\n",
      "trial 124790 14307.0 seconds elapsed... 8.72 games/second, wins: 9\n",
      "trial 124996 14322.0 seconds elapsed... 8.73 games/second, wins: 9\n",
      "trial 125198 14337.1 seconds elapsed... 8.73 games/second, wins: 9\n",
      "trial 125405 14352.1 seconds elapsed... 8.74 games/second, wins: 9\n",
      "trial 125613 14367.1 seconds elapsed... 8.74 games/second, wins: 9\n",
      "trial 125819 14382.1 seconds elapsed... 8.75 games/second, wins: 9\n",
      "trial 126026 14397.2 seconds elapsed... 8.75 games/second, wins: 9\n",
      "trial 126239 14412.2 seconds elapsed... 8.76 games/second, wins: 9\n",
      "trial 126447 14427.3 seconds elapsed... 8.76 games/second, wins: 9\n",
      "trial 126655 14442.3 seconds elapsed... 8.77 games/second, wins: 9\n",
      "trial 126861 14457.3 seconds elapsed... 8.77 games/second, wins: 9\n",
      "trial 127061 14472.4 seconds elapsed... 8.78 games/second, wins: 9\n"
     ]
    },
    {
     "data": {
      "image/png": "[encoded data removed]",
      "text/plain": [
       "<Figure size 600x600 with 1 Axes>"
      ]
     },
     "metadata": {},
     "output_type": "display_data"
    },
    {
     "name": "stdout",
     "output_type": "stream",
     "text": [
      "trial 127265 14487.4 seconds elapsed... 8.78 games/second, wins: 10\n",
      "trial 127423 15531.7 seconds elapsed... 8.20 games/second, wins: 10\n",
      "trial 127625 15546.7 seconds elapsed... 8.21 games/second, wins: 10\n",
      "trial 127830 15561.7 seconds elapsed... 8.21 games/second, wins: 10\n",
      "trial 128041 15576.8 seconds elapsed... 8.22 games/second, wins: 10\n",
      "trial 128242 15591.8 seconds elapsed... 8.22 games/second, wins: 10\n",
      "trial 128451 15606.9 seconds elapsed... 8.23 games/second, wins: 10\n",
      "trial 128594 16640.7 seconds elapsed... 7.73 games/second, wins: 10\n",
      "trial 128796 16655.8 seconds elapsed... 7.73 games/second, wins: 10\n",
      "trial 129007 16670.8 seconds elapsed... 7.74 games/second, wins: 10\n",
      "trial 129219 16685.8 seconds elapsed... 7.74 games/second, wins: 10\n",
      "trial 129425 16700.8 seconds elapsed... 7.75 games/second, wins: 10\n",
      "trial 129635 16715.9 seconds elapsed... 7.76 games/second, wins: 10\n"
     ]
    },
    {
     "data": {
      "image/png": "[encoded data removed]",
      "text/plain": [
       "<Figure size 600x600 with 1 Axes>"
      ]
     },
     "metadata": {},
     "output_type": "display_data"
    },
    {
     "name": "stdout",
     "output_type": "stream",
     "text": [
      "trial 129844 16730.9 seconds elapsed... 7.76 games/second, wins: 11\n",
      "trial 130052 16746.0 seconds elapsed... 7.77 games/second, wins: 11\n",
      "trial 130262 16761.0 seconds elapsed... 7.77 games/second, wins: 11\n",
      "trial 130471 16776.0 seconds elapsed... 7.78 games/second, wins: 11\n",
      "trial 130676 16791.0 seconds elapsed... 7.78 games/second, wins: 11\n",
      "trial 130882 16806.1 seconds elapsed... 7.79 games/second, wins: 11\n",
      "trial 131092 16821.1 seconds elapsed... 7.79 games/second, wins: 11\n",
      "trial 131299 16836.2 seconds elapsed... 7.80 games/second, wins: 11\n",
      "trial 131506 16851.2 seconds elapsed... 7.80 games/second, wins: 11\n"
     ]
    },
    {
     "data": {
      "image/png": "[encoded data removed]",
      "text/plain": [
       "<Figure size 600x600 with 1 Axes>"
      ]
     },
     "metadata": {},
     "output_type": "display_data"
    },
    {
     "name": "stdout",
     "output_type": "stream",
     "text": [
      "trial 131711 16866.2 seconds elapsed... 7.81 games/second, wins: 12\n",
      "trial 131914 16881.2 seconds elapsed... 7.81 games/second, wins: 12\n",
      "trial 132125 16896.3 seconds elapsed... 7.82 games/second, wins: 12\n",
      "trial 132334 16911.4 seconds elapsed... 7.83 games/second, wins: 12\n",
      "trial 132536 16926.4 seconds elapsed... 7.83 games/second, wins: 12\n",
      "trial 132744 16941.4 seconds elapsed... 7.84 games/second, wins: 12\n",
      "trial 132952 16956.5 seconds elapsed... 7.84 games/second, wins: 12\n",
      "trial 133150 16971.5 seconds elapsed... 7.85 games/second, wins: 12\n",
      "trial 133354 16986.5 seconds elapsed... 7.85 games/second, wins: 12\n",
      "trial 133552 17001.6 seconds elapsed... 7.86 games/second, wins: 12\n",
      "trial 133746 17016.7 seconds elapsed... 7.86 games/second, wins: 12\n",
      "trial 133945 17031.7 seconds elapsed... 7.86 games/second, wins: 12\n",
      "trial 134141 17046.8 seconds elapsed... 7.87 games/second, wins: 12\n",
      "trial 134334 17061.8 seconds elapsed... 7.87 games/second, wins: 12\n",
      "trial 134533 17076.9 seconds elapsed... 7.88 games/second, wins: 12\n",
      "trial 134725 17092.0 seconds elapsed... 7.88 games/second, wins: 12\n",
      "trial 134918 17107.0 seconds elapsed... 7.89 games/second, wins: 12\n",
      "trial 135118 17122.0 seconds elapsed... 7.89 games/second, wins: 12\n",
      "trial 135313 17137.0 seconds elapsed... 7.90 games/second, wins: 12\n",
      "trial 135506 17152.1 seconds elapsed... 7.90 games/second, wins: 12\n",
      "trial 135693 17167.1 seconds elapsed... 7.90 games/second, wins: 12\n",
      "trial 135890 17182.2 seconds elapsed... 7.91 games/second, wins: 12\n",
      "trial 136085 17197.2 seconds elapsed... 7.91 games/second, wins: 12\n",
      "trial 136273 17212.3 seconds elapsed... 7.92 games/second, wins: 12\n",
      "trial 136466 17227.3 seconds elapsed... 7.92 games/second, wins: 12\n",
      "trial 136659 17242.4 seconds elapsed... 7.93 games/second, wins: 12\n",
      "trial 136846 17257.4 seconds elapsed... 7.93 games/second, wins: 12\n",
      "trial 137036 17272.4 seconds elapsed... 7.93 games/second, wins: 12\n",
      "trial 137227 17287.5 seconds elapsed... 7.94 games/second, wins: 12\n",
      "trial 137415 17302.5 seconds elapsed... 7.94 games/second, wins: 12\n",
      "trial 137602 17317.5 seconds elapsed... 7.95 games/second, wins: 12\n",
      "trial 137792 17332.6 seconds elapsed... 7.95 games/second, wins: 12\n",
      "trial 137977 17347.7 seconds elapsed... 7.95 games/second, wins: 12\n",
      "trial 138167 17362.7 seconds elapsed... 7.96 games/second, wins: 12\n",
      "trial 138353 17377.8 seconds elapsed... 7.96 games/second, wins: 12\n",
      "trial 138545 17392.9 seconds elapsed... 7.97 games/second, wins: 12\n",
      "trial 138730 17407.9 seconds elapsed... 7.97 games/second, wins: 12\n",
      "trial 138927 17422.9 seconds elapsed... 7.97 games/second, wins: 12\n",
      "trial 139113 17437.9 seconds elapsed... 7.98 games/second, wins: 12\n",
      "trial 139297 17453.0 seconds elapsed... 7.98 games/second, wins: 12\n",
      "trial 139488 17468.0 seconds elapsed... 7.99 games/second, wins: 12\n",
      "trial 139675 17483.0 seconds elapsed... 7.99 games/second, wins: 12\n",
      "trial 139852 17498.0 seconds elapsed... 7.99 games/second, wins: 12\n",
      "trial 140037 17513.1 seconds elapsed... 8.00 games/second, wins: 12\n",
      "trial 140227 17528.1 seconds elapsed... 8.00 games/second, wins: 12\n",
      "trial 140411 17543.2 seconds elapsed... 8.00 games/second, wins: 12\n",
      "trial 140600 17558.3 seconds elapsed... 8.01 games/second, wins: 12\n",
      "trial 140793 17573.3 seconds elapsed... 8.01 games/second, wins: 12\n",
      "trial 140983 17588.4 seconds elapsed... 8.02 games/second, wins: 12\n",
      "trial 141167 17603.4 seconds elapsed... 8.02 games/second, wins: 12\n",
      "trial 141355 17618.5 seconds elapsed... 8.02 games/second, wins: 12\n",
      "trial 141543 17633.5 seconds elapsed... 8.03 games/second, wins: 12\n",
      "trial 141726 17648.6 seconds elapsed... 8.03 games/second, wins: 12\n",
      "trial 141913 17663.6 seconds elapsed... 8.03 games/second, wins: 12\n",
      "trial 142104 17678.7 seconds elapsed... 8.04 games/second, wins: 12\n",
      "trial 142286 17693.7 seconds elapsed... 8.04 games/second, wins: 12\n",
      "trial 142469 17708.7 seconds elapsed... 8.05 games/second, wins: 12\n",
      "trial 142653 17723.7 seconds elapsed... 8.05 games/second, wins: 12\n",
      "trial 142835 17738.8 seconds elapsed... 8.05 games/second, wins: 12\n",
      "trial 143004 17753.8 seconds elapsed... 8.05 games/second, wins: 12\n",
      "trial 143186 17768.9 seconds elapsed... 8.06 games/second, wins: 12\n",
      "trial 143357 17783.9 seconds elapsed... 8.06 games/second, wins: 12\n",
      "trial 143526 17799.0 seconds elapsed... 8.06 games/second, wins: 12\n",
      "trial 143700 17814.0 seconds elapsed... 8.07 games/second, wins: 12\n",
      "trial 143872 17829.1 seconds elapsed... 8.07 games/second, wins: 12\n",
      "trial 144037 17844.1 seconds elapsed... 8.07 games/second, wins: 12\n",
      "trial 144202 17859.2 seconds elapsed... 8.07 games/second, wins: 12\n",
      "trial 144369 17874.2 seconds elapsed... 8.08 games/second, wins: 12\n",
      "trial 144535 17889.2 seconds elapsed... 8.08 games/second, wins: 12\n",
      "trial 144693 17904.3 seconds elapsed... 8.08 games/second, wins: 12\n",
      "trial 144857 17919.4 seconds elapsed... 8.08 games/second, wins: 12\n",
      "trial 145019 17934.4 seconds elapsed... 8.09 games/second, wins: 12\n",
      "trial 145184 17949.4 seconds elapsed... 8.09 games/second, wins: 12\n",
      "trial 145344 17964.5 seconds elapsed... 8.09 games/second, wins: 12\n",
      "trial 145514 17979.6 seconds elapsed... 8.09 games/second, wins: 12\n",
      "trial 145678 17994.7 seconds elapsed... 8.10 games/second, wins: 12\n",
      "trial 145845 18009.7 seconds elapsed... 8.10 games/second, wins: 12\n",
      "trial 145999 18024.7 seconds elapsed... 8.10 games/second, wins: 12\n",
      "trial 146169 18039.7 seconds elapsed... 8.10 games/second, wins: 12\n",
      "trial 146336 18054.8 seconds elapsed... 8.11 games/second, wins: 12\n",
      "trial 146497 18069.9 seconds elapsed... 8.11 games/second, wins: 12\n",
      "trial 146661 18084.9 seconds elapsed... 8.11 games/second, wins: 12\n",
      "trial 146824 18099.9 seconds elapsed... 8.11 games/second, wins: 12\n",
      "trial 146988 18115.0 seconds elapsed... 8.11 games/second, wins: 12\n",
      "trial 147141 18130.0 seconds elapsed... 8.12 games/second, wins: 12\n",
      "trial 147310 18145.0 seconds elapsed... 8.12 games/second, wins: 12\n",
      "trial 147476 18160.1 seconds elapsed... 8.12 games/second, wins: 12\n",
      "trial 147643 18175.1 seconds elapsed... 8.12 games/second, wins: 12\n",
      "trial 147798 18190.2 seconds elapsed... 8.13 games/second, wins: 12\n",
      "trial 147963 18205.2 seconds elapsed... 8.13 games/second, wins: 12\n",
      "trial 148129 18220.2 seconds elapsed... 8.13 games/second, wins: 12\n",
      "trial 148294 18235.4 seconds elapsed... 8.13 games/second, wins: 12\n",
      "trial 148456 18250.4 seconds elapsed... 8.13 games/second, wins: 12\n",
      "trial 148621 18265.4 seconds elapsed... 8.14 games/second, wins: 12\n",
      "trial 148786 18280.5 seconds elapsed... 8.14 games/second, wins: 12\n",
      "trial 148939 18295.5 seconds elapsed... 8.14 games/second, wins: 12\n",
      "trial 149103 18310.5 seconds elapsed... 8.14 games/second, wins: 12\n",
      "trial 149268 18325.6 seconds elapsed... 8.15 games/second, wins: 12\n",
      "trial 149433 18340.6 seconds elapsed... 8.15 games/second, wins: 12\n",
      "trial 149584 18355.7 seconds elapsed... 8.15 games/second, wins: 12\n",
      "trial 149743 18370.8 seconds elapsed... 8.15 games/second, wins: 12\n",
      "trial 149905 18385.8 seconds elapsed... 8.15 games/second, wins: 12\n",
      "trial 150067 18400.8 seconds elapsed... 8.16 games/second, wins: 12\n",
      "trial 150215 18415.8 seconds elapsed... 8.16 games/second, wins: 12\n",
      "trial 150371 18430.9 seconds elapsed... 8.16 games/second, wins: 12\n",
      "trial 150534 18445.9 seconds elapsed... 8.16 games/second, wins: 12\n",
      "trial 150701 18461.0 seconds elapsed... 8.16 games/second, wins: 12\n",
      "trial 150856 18476.0 seconds elapsed... 8.16 games/second, wins: 12\n",
      "trial 151025 18491.1 seconds elapsed... 8.17 games/second, wins: 12\n",
      "trial 151186 18506.2 seconds elapsed... 8.17 games/second, wins: 12\n",
      "trial 151341 18521.2 seconds elapsed... 8.17 games/second, wins: 12\n",
      "trial 151505 18536.2 seconds elapsed... 8.17 games/second, wins: 12\n",
      "trial 151673 18551.2 seconds elapsed... 8.18 games/second, wins: 12\n",
      "trial 151838 18566.3 seconds elapsed... 8.18 games/second, wins: 12\n",
      "trial 151997 18581.4 seconds elapsed... 8.18 games/second, wins: 12\n",
      "trial 152160 18596.4 seconds elapsed... 8.18 games/second, wins: 12\n",
      "trial 152324 18611.5 seconds elapsed... 8.18 games/second, wins: 12\n",
      "trial 152487 18626.5 seconds elapsed... 8.19 games/second, wins: 12\n",
      "trial 152640 18641.6 seconds elapsed... 8.19 games/second, wins: 12\n",
      "trial 152803 18656.7 seconds elapsed... 8.19 games/second, wins: 12\n",
      "trial 152969 18671.7 seconds elapsed... 8.19 games/second, wins: 12\n",
      "trial 153129 18686.8 seconds elapsed... 8.19 games/second, wins: 12\n",
      "trial 153288 18701.8 seconds elapsed... 8.20 games/second, wins: 12\n",
      "trial 153457 18716.8 seconds elapsed... 8.20 games/second, wins: 12\n",
      "trial 153617 18731.8 seconds elapsed... 8.20 games/second, wins: 12\n"
     ]
    },
    {
     "data": {
      "image/png": "[encoded data removed]",
      "text/plain": [
       "<Figure size 600x600 with 1 Axes>"
      ]
     },
     "metadata": {},
     "output_type": "display_data"
    },
    {
     "name": "stdout",
     "output_type": "stream",
     "text": [
      "trial 153772 18746.8 seconds elapsed... 8.20 games/second, wins: 13\n",
      "trial 153941 18761.9 seconds elapsed... 8.20 games/second, wins: 13\n",
      "trial 154109 18776.9 seconds elapsed... 8.21 games/second, wins: 13\n",
      "trial 154274 18792.0 seconds elapsed... 8.21 games/second, wins: 13\n",
      "trial 154436 18807.0 seconds elapsed... 8.21 games/second, wins: 13\n",
      "trial 154600 18822.1 seconds elapsed... 8.21 games/second, wins: 13\n",
      "trial 154767 18837.1 seconds elapsed... 8.22 games/second, wins: 13\n",
      "trial 154934 18852.2 seconds elapsed... 8.22 games/second, wins: 13\n",
      "trial 155088 18867.3 seconds elapsed... 8.22 games/second, wins: 13\n",
      "trial 155255 18882.3 seconds elapsed... 8.22 games/second, wins: 13\n",
      "trial 155422 18897.4 seconds elapsed... 8.22 games/second, wins: 13\n",
      "trial 155589 18912.4 seconds elapsed... 8.23 games/second, wins: 13\n",
      "trial 155744 18927.5 seconds elapsed... 8.23 games/second, wins: 13\n",
      "trial 155906 18942.6 seconds elapsed... 8.23 games/second, wins: 13\n",
      "trial 156069 18957.6 seconds elapsed... 8.23 games/second, wins: 13\n",
      "trial 156224 18972.6 seconds elapsed... 8.23 games/second, wins: 13\n",
      "trial 156393 18987.7 seconds elapsed... 8.24 games/second, wins: 13\n",
      "trial 156598 19002.7 seconds elapsed... 8.24 games/second, wins: 13\n",
      "trial 156801 19017.7 seconds elapsed... 8.24 games/second, wins: 13\n",
      "trial 157007 19032.8 seconds elapsed... 8.25 games/second, wins: 13\n",
      "trial 157214 19047.8 seconds elapsed... 8.25 games/second, wins: 13\n",
      "trial 157420 19062.9 seconds elapsed... 8.26 games/second, wins: 13\n",
      "trial 157625 19077.9 seconds elapsed... 8.26 games/second, wins: 13\n",
      "trial 157836 19092.9 seconds elapsed... 8.27 games/second, wins: 13\n",
      "trial 158043 19108.0 seconds elapsed... 8.27 games/second, wins: 13\n",
      "trial 158256 19123.0 seconds elapsed... 8.28 games/second, wins: 13\n",
      "trial 158464 19138.1 seconds elapsed... 8.28 games/second, wins: 13\n",
      "trial 158671 19153.2 seconds elapsed... 8.28 games/second, wins: 13\n",
      "trial 158876 19168.2 seconds elapsed... 8.29 games/second, wins: 13\n",
      "trial 159084 19183.2 seconds elapsed... 8.29 games/second, wins: 13\n",
      "trial 159287 19198.3 seconds elapsed... 8.30 games/second, wins: 13\n",
      "trial 159500 19213.3 seconds elapsed... 8.30 games/second, wins: 13\n",
      "trial 159705 19228.3 seconds elapsed... 8.31 games/second, wins: 13\n",
      "trial 159912 19243.3 seconds elapsed... 8.31 games/second, wins: 13\n",
      "trial 160122 19258.4 seconds elapsed... 8.31 games/second, wins: 13\n",
      "trial 160327 19273.4 seconds elapsed... 8.32 games/second, wins: 13\n",
      "trial 160528 19288.4 seconds elapsed... 8.32 games/second, wins: 13\n",
      "trial 160735 19303.4 seconds elapsed... 8.33 games/second, wins: 13\n",
      "trial 160938 19318.5 seconds elapsed... 8.33 games/second, wins: 13\n",
      "trial 161147 19333.5 seconds elapsed... 8.34 games/second, wins: 13\n",
      "trial 161360 19348.5 seconds elapsed... 8.34 games/second, wins: 13\n",
      "trial 161568 19363.6 seconds elapsed... 8.34 games/second, wins: 13\n",
      "trial 161775 19378.6 seconds elapsed... 8.35 games/second, wins: 13\n",
      "trial 161987 19393.6 seconds elapsed... 8.35 games/second, wins: 13\n",
      "trial 162198 19408.6 seconds elapsed... 8.36 games/second, wins: 13\n",
      "trial 162404 19423.6 seconds elapsed... 8.36 games/second, wins: 13\n",
      "trial 162612 19438.7 seconds elapsed... 8.37 games/second, wins: 13\n",
      "trial 162820 19453.7 seconds elapsed... 8.37 games/second, wins: 13\n",
      "trial 163023 19468.7 seconds elapsed... 8.37 games/second, wins: 13\n",
      "trial 163231 19483.8 seconds elapsed... 8.38 games/second, wins: 13\n",
      "trial 163438 19498.8 seconds elapsed... 8.38 games/second, wins: 13\n",
      "trial 163646 19513.9 seconds elapsed... 8.39 games/second, wins: 13\n",
      "trial 163854 19528.9 seconds elapsed... 8.39 games/second, wins: 13\n",
      "trial 164068 19544.0 seconds elapsed... 8.39 games/second, wins: 13\n"
     ]
    },
    {
     "data": {
      "image/png": "[encoded data removed]",
      "text/plain": [
       "<Figure size 600x600 with 1 Axes>"
      ]
     },
     "metadata": {},
     "output_type": "display_data"
    },
    {
     "name": "stdout",
     "output_type": "stream",
     "text": [
      "trial 164274 19559.0 seconds elapsed... 8.40 games/second, wins: 14\n",
      "trial 164480 19574.0 seconds elapsed... 8.40 games/second, wins: 14\n",
      "trial 164686 19589.0 seconds elapsed... 8.41 games/second, wins: 14\n",
      "trial 164894 19604.1 seconds elapsed... 8.41 games/second, wins: 14\n",
      "trial 165104 19619.1 seconds elapsed... 8.42 games/second, wins: 14\n",
      "trial 165311 19634.2 seconds elapsed... 8.42 games/second, wins: 14\n",
      "trial 165519 19649.2 seconds elapsed... 8.42 games/second, wins: 14\n",
      "trial 165728 19664.2 seconds elapsed... 8.43 games/second, wins: 14\n",
      "trial 165933 19679.3 seconds elapsed... 8.43 games/second, wins: 14\n",
      "trial 166137 19694.3 seconds elapsed... 8.44 games/second, wins: 14\n",
      "trial 166344 19709.4 seconds elapsed... 8.44 games/second, wins: 14\n",
      "trial 166550 19724.4 seconds elapsed... 8.44 games/second, wins: 14\n",
      "trial 166757 19739.5 seconds elapsed... 8.45 games/second, wins: 14\n",
      "trial 166965 19754.5 seconds elapsed... 8.45 games/second, wins: 14\n",
      "trial 167168 19769.6 seconds elapsed... 8.46 games/second, wins: 14\n",
      "trial 167378 19784.6 seconds elapsed... 8.46 games/second, wins: 14\n",
      "trial 167584 19799.7 seconds elapsed... 8.46 games/second, wins: 14\n",
      "trial 167791 19814.8 seconds elapsed... 8.47 games/second, wins: 14\n",
      "trial 167999 19829.8 seconds elapsed... 8.47 games/second, wins: 14\n",
      "trial 168208 19844.8 seconds elapsed... 8.48 games/second, wins: 14\n",
      "trial 168411 19859.9 seconds elapsed... 8.48 games/second, wins: 14\n",
      "trial 168623 19874.9 seconds elapsed... 8.48 games/second, wins: 14\n",
      "trial 168826 19889.9 seconds elapsed... 8.49 games/second, wins: 14\n",
      "trial 169030 19905.0 seconds elapsed... 8.49 games/second, wins: 14\n",
      "trial 169237 19920.0 seconds elapsed... 8.50 games/second, wins: 14\n",
      "trial 169445 19935.0 seconds elapsed... 8.50 games/second, wins: 14\n",
      "trial 169645 19950.0 seconds elapsed... 8.50 games/second, wins: 14\n",
      "trial 169854 19965.0 seconds elapsed... 8.51 games/second, wins: 14\n",
      "trial 170063 19980.1 seconds elapsed... 8.51 games/second, wins: 14\n",
      "trial 170265 19995.1 seconds elapsed... 8.52 games/second, wins: 14\n",
      "trial 170472 20010.2 seconds elapsed... 8.52 games/second, wins: 14\n",
      "trial 170677 20025.2 seconds elapsed... 8.52 games/second, wins: 14\n",
      "trial 170886 20040.2 seconds elapsed... 8.53 games/second, wins: 14\n",
      "trial 171094 20055.2 seconds elapsed... 8.53 games/second, wins: 14\n",
      "trial 171302 20070.3 seconds elapsed... 8.54 games/second, wins: 14\n",
      "trial 171510 20085.3 seconds elapsed... 8.54 games/second, wins: 14\n",
      "trial 171718 20100.3 seconds elapsed... 8.54 games/second, wins: 14\n",
      "trial 171921 20115.4 seconds elapsed... 8.55 games/second, wins: 14\n",
      "trial 172129 20130.5 seconds elapsed... 8.55 games/second, wins: 14\n",
      "trial 172338 20145.5 seconds elapsed... 8.55 games/second, wins: 14\n",
      "trial 172547 20160.6 seconds elapsed... 8.56 games/second, wins: 14\n",
      "trial 172754 20175.6 seconds elapsed... 8.56 games/second, wins: 14\n",
      "trial 172959 20190.6 seconds elapsed... 8.57 games/second, wins: 14\n",
      "trial 173168 20205.7 seconds elapsed... 8.57 games/second, wins: 14\n"
     ]
    },
    {
     "data": {
      "image/png": "[encoded data removed]",
      "text/plain": [
       "<Figure size 600x600 with 1 Axes>"
      ]
     },
     "metadata": {},
     "output_type": "display_data"
    },
    {
     "name": "stdout",
     "output_type": "stream",
     "text": [
      "trial 173377 20220.7 seconds elapsed... 8.57 games/second, wins: 15\n"
     ]
    },
    {
     "data": {
      "image/png": "[encoded data removed]",
      "text/plain": [
       "<Figure size 600x600 with 1 Axes>"
      ]
     },
     "metadata": {},
     "output_type": "display_data"
    },
    {
     "data": {
      "image/png": "[encoded data removed]",
      "text/plain": [
       "<Figure size 600x600 with 1 Axes>"
      ]
     },
     "metadata": {},
     "output_type": "display_data"
    },
    {
     "name": "stdout",
     "output_type": "stream",
     "text": [
      "trial 173583 20235.8 seconds elapsed... 8.58 games/second, wins: 17\n",
      "trial 173786 20250.8 seconds elapsed... 8.58 games/second, wins: 17\n",
      "trial 173996 20265.9 seconds elapsed... 8.59 games/second, wins: 17\n",
      "trial 174198 20280.9 seconds elapsed... 8.59 games/second, wins: 17\n",
      "trial 174403 20296.0 seconds elapsed... 8.59 games/second, wins: 17\n",
      "trial 174616 20311.0 seconds elapsed... 8.60 games/second, wins: 17\n",
      "trial 174825 20326.1 seconds elapsed... 8.60 games/second, wins: 17\n",
      "trial 175034 20341.1 seconds elapsed... 8.60 games/second, wins: 17\n",
      "trial 175245 20356.2 seconds elapsed... 8.61 games/second, wins: 17\n",
      "trial 175449 20371.2 seconds elapsed... 8.61 games/second, wins: 17\n",
      "trial 175660 20386.2 seconds elapsed... 8.62 games/second, wins: 17\n",
      "trial 175869 20401.2 seconds elapsed... 8.62 games/second, wins: 17\n",
      "trial 176077 20416.2 seconds elapsed... 8.62 games/second, wins: 17\n",
      "trial 176287 20431.2 seconds elapsed... 8.63 games/second, wins: 17\n",
      "trial 176493 20446.3 seconds elapsed... 8.63 games/second, wins: 17\n",
      "trial 176701 20461.3 seconds elapsed... 8.64 games/second, wins: 17\n",
      "trial 176909 20476.3 seconds elapsed... 8.64 games/second, wins: 17\n",
      "trial 177118 20491.4 seconds elapsed... 8.64 games/second, wins: 17\n",
      "trial 177328 20506.5 seconds elapsed... 8.65 games/second, wins: 17\n",
      "trial 177537 20521.5 seconds elapsed... 8.65 games/second, wins: 17\n",
      "trial 177744 20536.5 seconds elapsed... 8.66 games/second, wins: 17\n",
      "trial 177947 20551.5 seconds elapsed... 8.66 games/second, wins: 17\n",
      "trial 178156 20566.6 seconds elapsed... 8.66 games/second, wins: 17\n",
      "trial 178362 20581.6 seconds elapsed... 8.67 games/second, wins: 17\n",
      "trial 178571 20596.7 seconds elapsed... 8.67 games/second, wins: 17\n",
      "trial 178777 20611.7 seconds elapsed... 8.67 games/second, wins: 17\n",
      "trial 178986 20626.7 seconds elapsed... 8.68 games/second, wins: 17\n",
      "trial 179196 20641.7 seconds elapsed... 8.68 games/second, wins: 17\n",
      "trial 179400 20656.7 seconds elapsed... 8.68 games/second, wins: 17\n",
      "trial 179607 20671.8 seconds elapsed... 8.69 games/second, wins: 17\n",
      "trial 179814 20686.9 seconds elapsed... 8.69 games/second, wins: 17\n",
      "trial 180015 20701.9 seconds elapsed... 8.70 games/second, wins: 17\n",
      "trial 180227 20716.9 seconds elapsed... 8.70 games/second, wins: 17\n",
      "trial 180437 20732.0 seconds elapsed... 8.70 games/second, wins: 17\n",
      "trial 180644 20747.0 seconds elapsed... 8.71 games/second, wins: 17\n",
      "trial 180852 20762.1 seconds elapsed... 8.71 games/second, wins: 17\n",
      "trial 181055 20777.1 seconds elapsed... 8.71 games/second, wins: 17\n",
      "trial 181265 20792.2 seconds elapsed... 8.72 games/second, wins: 17\n",
      "trial 181470 20807.2 seconds elapsed... 8.72 games/second, wins: 17\n",
      "trial 181615 21286.4 seconds elapsed... 8.53 games/second, wins: 17\n",
      "trial 181827 21301.5 seconds elapsed... 8.54 games/second, wins: 17\n",
      "trial 182041 21316.5 seconds elapsed... 8.54 games/second, wins: 17\n"
     ]
    },
    {
     "data": {
      "image/png": "[encoded data removed]",
      "text/plain": [
       "<Figure size 600x600 with 1 Axes>"
      ]
     },
     "metadata": {},
     "output_type": "display_data"
    },
    {
     "name": "stdout",
     "output_type": "stream",
     "text": [
      "trial 182255 21331.6 seconds elapsed... 8.54 games/second, wins: 18\n",
      "trial 182277 21674.6 seconds elapsed... 8.41 games/second, wins: 18\n",
      "trial 182464 21689.6 seconds elapsed... 8.41 games/second, wins: 18\n",
      "trial 182673 21704.6 seconds elapsed... 8.42 games/second, wins: 18\n",
      "trial 182878 21719.6 seconds elapsed... 8.42 games/second, wins: 18\n",
      "trial 183085 21734.7 seconds elapsed... 8.42 games/second, wins: 18\n",
      "trial 183290 21749.7 seconds elapsed... 8.43 games/second, wins: 18\n",
      "trial 183499 21764.7 seconds elapsed... 8.43 games/second, wins: 18\n",
      "trial 183702 21779.8 seconds elapsed... 8.43 games/second, wins: 18\n",
      "trial 183907 21794.8 seconds elapsed... 8.44 games/second, wins: 18\n",
      "trial 184115 21809.8 seconds elapsed... 8.44 games/second, wins: 18\n",
      "trial 184321 21824.8 seconds elapsed... 8.45 games/second, wins: 18\n",
      "trial 184526 21839.8 seconds elapsed... 8.45 games/second, wins: 18\n",
      "trial 184735 21854.9 seconds elapsed... 8.45 games/second, wins: 18\n",
      "trial 184945 21870.0 seconds elapsed... 8.46 games/second, wins: 18\n",
      "trial 185154 21885.0 seconds elapsed... 8.46 games/second, wins: 18\n",
      "trial 185359 21900.0 seconds elapsed... 8.46 games/second, wins: 18\n",
      "trial 185567 21915.1 seconds elapsed... 8.47 games/second, wins: 18\n",
      "trial 185774 21930.1 seconds elapsed... 8.47 games/second, wins: 18\n",
      "trial 185977 21945.1 seconds elapsed... 8.47 games/second, wins: 18\n",
      "trial 186182 21960.1 seconds elapsed... 8.48 games/second, wins: 18\n",
      "trial 186388 21975.2 seconds elapsed... 8.48 games/second, wins: 18\n",
      "trial 186601 21990.2 seconds elapsed... 8.49 games/second, wins: 18\n",
      "trial 186807 22005.2 seconds elapsed... 8.49 games/second, wins: 18\n",
      "trial 187013 22020.2 seconds elapsed... 8.49 games/second, wins: 18\n",
      "trial 187219 22035.3 seconds elapsed... 8.50 games/second, wins: 18\n",
      "trial 187428 22050.3 seconds elapsed... 8.50 games/second, wins: 18\n",
      "trial 187637 22065.3 seconds elapsed... 8.50 games/second, wins: 18\n",
      "trial 187843 22080.3 seconds elapsed... 8.51 games/second, wins: 18\n",
      "trial 188047 22095.4 seconds elapsed... 8.51 games/second, wins: 18\n",
      "trial 188257 22110.4 seconds elapsed... 8.51 games/second, wins: 18\n",
      "trial 188469 22125.4 seconds elapsed... 8.52 games/second, wins: 18\n",
      "trial 188678 22140.4 seconds elapsed... 8.52 games/second, wins: 18\n",
      "trial 188888 22155.5 seconds elapsed... 8.53 games/second, wins: 18\n",
      "trial 189099 22170.6 seconds elapsed... 8.53 games/second, wins: 18\n",
      "trial 189312 22185.6 seconds elapsed... 8.53 games/second, wins: 18\n",
      "trial 189523 22200.6 seconds elapsed... 8.54 games/second, wins: 18\n",
      "trial 189732 22215.6 seconds elapsed... 8.54 games/second, wins: 18\n",
      "trial 189936 22230.7 seconds elapsed... 8.54 games/second, wins: 18\n",
      "trial 190142 22245.7 seconds elapsed... 8.55 games/second, wins: 18\n",
      "trial 190351 22260.7 seconds elapsed... 8.55 games/second, wins: 18\n",
      "trial 190551 22275.7 seconds elapsed... 8.55 games/second, wins: 18\n",
      "trial 190760 22290.8 seconds elapsed... 8.56 games/second, wins: 18\n",
      "trial 190971 22305.8 seconds elapsed... 8.56 games/second, wins: 18\n",
      "trial 191177 22320.9 seconds elapsed... 8.56 games/second, wins: 18\n"
     ]
    },
    {
     "data": {
      "image/png": "[encoded data removed]",
      "text/plain": [
       "<Figure size 600x600 with 1 Axes>"
      ]
     },
     "metadata": {},
     "output_type": "display_data"
    },
    {
     "name": "stdout",
     "output_type": "stream",
     "text": [
      "trial 191382 22335.9 seconds elapsed... 8.57 games/second, wins: 19\n",
      "trial 191589 22351.0 seconds elapsed... 8.57 games/second, wins: 19\n",
      "trial 191796 22366.0 seconds elapsed... 8.58 games/second, wins: 19\n",
      "trial 192007 22381.0 seconds elapsed... 8.58 games/second, wins: 19\n",
      "trial 192216 22396.0 seconds elapsed... 8.58 games/second, wins: 19\n",
      "trial 192425 22411.1 seconds elapsed... 8.59 games/second, wins: 19\n",
      "trial 192636 22426.1 seconds elapsed... 8.59 games/second, wins: 19\n",
      "trial 192840 22441.1 seconds elapsed... 8.59 games/second, wins: 19\n",
      "trial 193047 22456.2 seconds elapsed... 8.60 games/second, wins: 19\n",
      "trial 193253 22471.2 seconds elapsed... 8.60 games/second, wins: 19\n",
      "trial 193458 22486.3 seconds elapsed... 8.60 games/second, wins: 19\n",
      "trial 193666 22501.3 seconds elapsed... 8.61 games/second, wins: 19\n",
      "trial 193877 22516.3 seconds elapsed... 8.61 games/second, wins: 19\n",
      "trial 194084 22531.3 seconds elapsed... 8.61 games/second, wins: 19\n",
      "trial 194289 22546.3 seconds elapsed... 8.62 games/second, wins: 19\n"
     ]
    },
    {
     "data": {
      "image/png": "[encoded data removed]",
      "text/plain": [
       "<Figure size 600x600 with 1 Axes>"
      ]
     },
     "metadata": {},
     "output_type": "display_data"
    },
    {
     "name": "stdout",
     "output_type": "stream",
     "text": [
      "trial 194496 22561.4 seconds elapsed... 8.62 games/second, wins: 20\n",
      "trial 194705 22576.4 seconds elapsed... 8.62 games/second, wins: 20\n",
      "trial 194915 22591.4 seconds elapsed... 8.63 games/second, wins: 20\n",
      "trial 195124 22606.5 seconds elapsed... 8.63 games/second, wins: 20\n",
      "trial 195330 22621.5 seconds elapsed... 8.63 games/second, wins: 20\n",
      "trial 195539 22636.5 seconds elapsed... 8.64 games/second, wins: 20\n",
      "trial 195747 22651.5 seconds elapsed... 8.64 games/second, wins: 20\n",
      "trial 195952 22666.6 seconds elapsed... 8.64 games/second, wins: 20\n",
      "trial 196158 22681.6 seconds elapsed... 8.65 games/second, wins: 20\n",
      "trial 196361 22696.6 seconds elapsed... 8.65 games/second, wins: 20\n",
      "trial 196566 22711.6 seconds elapsed... 8.65 games/second, wins: 20\n",
      "trial 196774 22726.7 seconds elapsed... 8.66 games/second, wins: 20\n",
      "trial 196983 22741.8 seconds elapsed... 8.66 games/second, wins: 20\n",
      "trial 197192 22756.8 seconds elapsed... 8.67 games/second, wins: 20\n",
      "trial 197404 22771.9 seconds elapsed... 8.67 games/second, wins: 20\n",
      "trial 197615 22786.9 seconds elapsed... 8.67 games/second, wins: 20\n",
      "trial 197828 22802.0 seconds elapsed... 8.68 games/second, wins: 20\n",
      "trial 198035 22817.0 seconds elapsed... 8.68 games/second, wins: 20\n",
      "trial 198244 22832.1 seconds elapsed... 8.68 games/second, wins: 20\n",
      "trial 198449 22847.1 seconds elapsed... 8.69 games/second, wins: 20\n",
      "trial 198659 22862.1 seconds elapsed... 8.69 games/second, wins: 20\n",
      "trial 198861 22877.2 seconds elapsed... 8.69 games/second, wins: 20\n",
      "trial 199074 22892.2 seconds elapsed... 8.70 games/second, wins: 20\n",
      "trial 199280 22907.2 seconds elapsed... 8.70 games/second, wins: 20\n",
      "trial 199487 22922.2 seconds elapsed... 8.70 games/second, wins: 20\n",
      "trial 199696 22937.3 seconds elapsed... 8.71 games/second, wins: 20\n",
      "trial 199907 22952.3 seconds elapsed... 8.71 games/second, wins: 20\n",
      "trial 200110 22967.3 seconds elapsed... 8.71 games/second, wins: 20\n",
      "trial 200319 22982.4 seconds elapsed... 8.72 games/second, wins: 20\n",
      "trial 200525 22997.4 seconds elapsed... 8.72 games/second, wins: 20\n",
      "trial 200724 23012.4 seconds elapsed... 8.72 games/second, wins: 20\n",
      "trial 200929 23027.5 seconds elapsed... 8.73 games/second, wins: 20\n",
      "trial 201138 23042.5 seconds elapsed... 8.73 games/second, wins: 20\n",
      "trial 201343 23057.6 seconds elapsed... 8.73 games/second, wins: 20\n",
      "trial 201556 23072.6 seconds elapsed... 8.74 games/second, wins: 20\n",
      "trial 201764 23087.6 seconds elapsed... 8.74 games/second, wins: 20\n",
      "trial 201971 23102.7 seconds elapsed... 8.74 games/second, wins: 20\n",
      "trial 202177 23117.7 seconds elapsed... 8.75 games/second, wins: 20\n",
      "trial 202391 23132.7 seconds elapsed... 8.75 games/second, wins: 20\n",
      "trial 202594 23147.7 seconds elapsed... 8.75 games/second, wins: 20\n",
      "trial 202804 23162.8 seconds elapsed... 8.76 games/second, wins: 20\n",
      "trial 203012 23177.8 seconds elapsed... 8.76 games/second, wins: 20\n",
      "trial 203220 23192.8 seconds elapsed... 8.76 games/second, wins: 20\n",
      "trial 203430 23207.9 seconds elapsed... 8.77 games/second, wins: 20\n",
      "trial 203632 23222.9 seconds elapsed... 8.77 games/second, wins: 20\n",
      "trial 203843 23238.0 seconds elapsed... 8.77 games/second, wins: 20\n",
      "trial 204051 23253.0 seconds elapsed... 8.78 games/second, wins: 20\n",
      "trial 204260 23268.0 seconds elapsed... 8.78 games/second, wins: 20\n",
      "trial 204471 23283.1 seconds elapsed... 8.78 games/second, wins: 20\n",
      "trial 204685 23298.2 seconds elapsed... 8.79 games/second, wins: 20\n",
      "trial 204892 23313.2 seconds elapsed... 8.79 games/second, wins: 20\n",
      "trial 205102 23328.2 seconds elapsed... 8.79 games/second, wins: 20\n",
      "trial 205309 23343.3 seconds elapsed... 8.80 games/second, wins: 20\n",
      "trial 205514 23358.3 seconds elapsed... 8.80 games/second, wins: 20\n",
      "trial 205718 23373.4 seconds elapsed... 8.80 games/second, wins: 20\n",
      "trial 205926 23388.4 seconds elapsed... 8.80 games/second, wins: 20\n",
      "trial 206128 23403.4 seconds elapsed... 8.81 games/second, wins: 20\n",
      "trial 206336 23418.5 seconds elapsed... 8.81 games/second, wins: 20\n",
      "trial 206548 23433.5 seconds elapsed... 8.81 games/second, wins: 20\n",
      "trial 206753 23448.5 seconds elapsed... 8.82 games/second, wins: 20\n",
      "trial 206956 23463.5 seconds elapsed... 8.82 games/second, wins: 20\n",
      "trial 207162 23478.6 seconds elapsed... 8.82 games/second, wins: 20\n",
      "trial 207365 23493.6 seconds elapsed... 8.83 games/second, wins: 20\n",
      "trial 207573 23508.7 seconds elapsed... 8.83 games/second, wins: 20\n",
      "trial 207781 23523.7 seconds elapsed... 8.83 games/second, wins: 20\n",
      "trial 207989 23538.8 seconds elapsed... 8.84 games/second, wins: 20\n",
      "trial 208198 23553.8 seconds elapsed... 8.84 games/second, wins: 20\n",
      "trial 208404 23568.9 seconds elapsed... 8.84 games/second, wins: 20\n",
      "trial 208610 23584.0 seconds elapsed... 8.85 games/second, wins: 20\n",
      "trial 208820 23599.0 seconds elapsed... 8.85 games/second, wins: 20\n",
      "trial 209026 23614.0 seconds elapsed... 8.85 games/second, wins: 20\n",
      "trial 209237 23629.1 seconds elapsed... 8.86 games/second, wins: 20\n",
      "trial 209443 23644.1 seconds elapsed... 8.86 games/second, wins: 20\n",
      "trial 209649 23659.1 seconds elapsed... 8.86 games/second, wins: 20\n",
      "trial 209859 23674.1 seconds elapsed... 8.86 games/second, wins: 20\n",
      "trial 210069 23689.2 seconds elapsed... 8.87 games/second, wins: 20\n",
      "trial 210277 23704.2 seconds elapsed... 8.87 games/second, wins: 20\n",
      "trial 210292 24672.7 seconds elapsed... 8.52 games/second, wins: 20\n",
      "trial 210498 24687.7 seconds elapsed... 8.53 games/second, wins: 20\n",
      "trial 210705 24702.7 seconds elapsed... 8.53 games/second, wins: 20\n",
      "trial 210905 24717.7 seconds elapsed... 8.53 games/second, wins: 20\n"
     ]
    },
    {
     "data": {
      "image/png": "[encoded data removed]",
      "text/plain": [
       "<Figure size 600x600 with 1 Axes>"
      ]
     },
     "metadata": {},
     "output_type": "display_data"
    },
    {
     "name": "stdout",
     "output_type": "stream",
     "text": [
      "trial 211109 24732.7 seconds elapsed... 8.54 games/second, wins: 21\n",
      "trial 211162 25404.6 seconds elapsed... 8.31 games/second, wins: 21\n",
      "trial 211371 25419.7 seconds elapsed... 8.32 games/second, wins: 21\n",
      "trial 211576 25434.8 seconds elapsed... 8.32 games/second, wins: 21\n",
      "trial 211787 25449.8 seconds elapsed... 8.32 games/second, wins: 21\n",
      "trial 211809 26393.6 seconds elapsed... 8.03 games/second, wins: 21\n",
      "trial 212016 26408.6 seconds elapsed... 8.03 games/second, wins: 21\n",
      "trial 212225 26423.6 seconds elapsed... 8.03 games/second, wins: 21\n",
      "trial 212436 26438.7 seconds elapsed... 8.04 games/second, wins: 21\n",
      "trial 212461 26686.0 seconds elapsed... 7.96 games/second, wins: 21\n",
      "trial 212666 26701.1 seconds elapsed... 7.96 games/second, wins: 21\n",
      "trial 212870 26716.1 seconds elapsed... 7.97 games/second, wins: 21\n",
      "trial 213077 26731.1 seconds elapsed... 7.97 games/second, wins: 21\n",
      "trial 213101 26937.5 seconds elapsed... 7.91 games/second, wins: 21\n",
      "trial 213303 26952.6 seconds elapsed... 7.91 games/second, wins: 21\n",
      "trial 213512 26967.6 seconds elapsed... 7.92 games/second, wins: 21\n",
      "trial 213717 26982.6 seconds elapsed... 7.92 games/second, wins: 21\n",
      "trial 213901 27017.3 seconds elapsed... 7.92 games/second, wins: 21\n",
      "trial 214113 27032.4 seconds elapsed... 7.92 games/second, wins: 21\n",
      "trial 214322 27047.4 seconds elapsed... 7.92 games/second, wins: 21\n",
      "trial 214533 27062.5 seconds elapsed... 7.93 games/second, wins: 21\n",
      "trial 214745 27077.5 seconds elapsed... 7.93 games/second, wins: 21\n",
      "trial 214956 27092.6 seconds elapsed... 7.93 games/second, wins: 21\n",
      "trial 215166 27107.6 seconds elapsed... 7.94 games/second, wins: 21\n",
      "trial 215380 27122.6 seconds elapsed... 7.94 games/second, wins: 21\n",
      "trial 215590 27137.6 seconds elapsed... 7.94 games/second, wins: 21\n",
      "trial 215774 27416.9 seconds elapsed... 7.87 games/second, wins: 21\n",
      "trial 215979 27431.9 seconds elapsed... 7.87 games/second, wins: 21\n",
      "trial 216190 27446.9 seconds elapsed... 7.88 games/second, wins: 21\n",
      "trial 216399 27461.9 seconds elapsed... 7.88 games/second, wins: 21\n",
      "trial 216616 27476.9 seconds elapsed... 7.88 games/second, wins: 21\n",
      "trial 216827 27492.0 seconds elapsed... 7.89 games/second, wins: 21\n",
      "trial 217037 27507.0 seconds elapsed... 7.89 games/second, wins: 21\n",
      "trial 217246 27522.0 seconds elapsed... 7.89 games/second, wins: 21\n",
      "trial 217453 27537.1 seconds elapsed... 7.90 games/second, wins: 21\n"
     ]
    },
    {
     "data": {
      "image/png": "[encoded data removed]",
      "text/plain": [
       "<Figure size 600x600 with 1 Axes>"
      ]
     },
     "metadata": {},
     "output_type": "display_data"
    },
    {
     "name": "stdout",
     "output_type": "stream",
     "text": [
      "trial 217666 27552.1 seconds elapsed... 7.90 games/second, wins: 22\n",
      "trial 217763 28521.6 seconds elapsed... 7.64 games/second, wins: 22\n",
      "trial 217971 28536.6 seconds elapsed... 7.64 games/second, wins: 22\n",
      "trial 218173 28551.7 seconds elapsed... 7.64 games/second, wins: 22\n",
      "trial 218383 28566.7 seconds elapsed... 7.64 games/second, wins: 22\n",
      "trial 218590 28581.8 seconds elapsed... 7.65 games/second, wins: 22\n",
      "trial 218797 28596.8 seconds elapsed... 7.65 games/second, wins: 22\n",
      "trial 219009 28611.8 seconds elapsed... 7.65 games/second, wins: 22\n",
      "trial 219215 28626.9 seconds elapsed... 7.66 games/second, wins: 22\n",
      "trial 219430 28642.0 seconds elapsed... 7.66 games/second, wins: 22\n",
      "trial 219643 28657.0 seconds elapsed... 7.66 games/second, wins: 22\n",
      "trial 219662 29447.7 seconds elapsed... 7.46 games/second, wins: 22\n",
      "trial 219870 29462.7 seconds elapsed... 7.46 games/second, wins: 22\n",
      "trial 220081 29477.8 seconds elapsed... 7.47 games/second, wins: 22\n",
      "trial 220293 29492.8 seconds elapsed... 7.47 games/second, wins: 22\n",
      "trial 220502 29507.8 seconds elapsed... 7.47 games/second, wins: 22\n",
      "trial 220709 29522.9 seconds elapsed... 7.48 games/second, wins: 22\n",
      "trial 220917 29537.9 seconds elapsed... 7.48 games/second, wins: 22\n",
      "trial 221124 29553.0 seconds elapsed... 7.48 games/second, wins: 22\n",
      "trial 221341 29568.0 seconds elapsed... 7.49 games/second, wins: 22\n",
      "trial 221550 29583.1 seconds elapsed... 7.49 games/second, wins: 22\n",
      "trial 221628 29984.1 seconds elapsed... 7.39 games/second, wins: 22\n",
      "trial 221834 29999.1 seconds elapsed... 7.39 games/second, wins: 22\n",
      "trial 222042 30014.1 seconds elapsed... 7.40 games/second, wins: 22\n",
      "trial 222245 30029.2 seconds elapsed... 7.40 games/second, wins: 22\n",
      "trial 222457 30044.3 seconds elapsed... 7.40 games/second, wins: 22\n",
      "trial 222667 30059.3 seconds elapsed... 7.41 games/second, wins: 22\n",
      "trial 222871 30074.3 seconds elapsed... 7.41 games/second, wins: 22\n",
      "trial 223081 30089.4 seconds elapsed... 7.41 games/second, wins: 22\n",
      "trial 223284 30104.4 seconds elapsed... 7.42 games/second, wins: 22\n",
      "trial 223490 30119.4 seconds elapsed... 7.42 games/second, wins: 22\n",
      "trial 223637 30134.5 seconds elapsed... 7.42 games/second, wins: 22\n",
      "trial 223846 30149.5 seconds elapsed... 7.42 games/second, wins: 22\n",
      "trial 224056 30164.5 seconds elapsed... 7.43 games/second, wins: 22\n",
      "trial 224269 30179.6 seconds elapsed... 7.43 games/second, wins: 22\n",
      "trial 224476 30194.6 seconds elapsed... 7.43 games/second, wins: 22\n",
      "trial 224682 30209.7 seconds elapsed... 7.44 games/second, wins: 22\n",
      "trial 224892 30224.7 seconds elapsed... 7.44 games/second, wins: 22\n",
      "trial 225094 30239.7 seconds elapsed... 7.44 games/second, wins: 22\n",
      "trial 225304 30254.8 seconds elapsed... 7.45 games/second, wins: 22\n",
      "trial 225421 31237.6 seconds elapsed... 7.22 games/second, wins: 22\n",
      "trial 225631 31252.7 seconds elapsed... 7.22 games/second, wins: 22\n",
      "trial 225844 31267.7 seconds elapsed... 7.22 games/second, wins: 22\n",
      "trial 226056 31282.8 seconds elapsed... 7.23 games/second, wins: 22\n",
      "trial 226261 31297.8 seconds elapsed... 7.23 games/second, wins: 22\n",
      "trial 226467 31312.8 seconds elapsed... 7.23 games/second, wins: 22\n",
      "trial 226678 31327.9 seconds elapsed... 7.24 games/second, wins: 22\n",
      "trial 226849 32242.6 seconds elapsed... 7.04 games/second, wins: 22\n",
      "trial 227050 32257.6 seconds elapsed... 7.04 games/second, wins: 22\n",
      "trial 227256 32272.6 seconds elapsed... 7.04 games/second, wins: 22\n",
      "trial 227465 32287.7 seconds elapsed... 7.04 games/second, wins: 22\n"
     ]
    },
    {
     "data": {
      "image/png": "[encoded data removed]",
      "text/plain": [
       "<Figure size 600x600 with 1 Axes>"
      ]
     },
     "metadata": {},
     "output_type": "display_data"
    },
    {
     "name": "stdout",
     "output_type": "stream",
     "text": [
      "trial 227671 32302.7 seconds elapsed... 7.05 games/second, wins: 23\n",
      "trial 227876 32317.7 seconds elapsed... 7.05 games/second, wins: 23\n",
      "trial 228088 32332.7 seconds elapsed... 7.05 games/second, wins: 23\n",
      "trial 228297 32347.8 seconds elapsed... 7.06 games/second, wins: 23\n",
      "trial 228503 32362.9 seconds elapsed... 7.06 games/second, wins: 23\n",
      "trial 228711 32377.9 seconds elapsed... 7.06 games/second, wins: 23\n",
      "trial 228747 33107.6 seconds elapsed... 6.91 games/second, wins: 23\n",
      "trial 228952 33122.6 seconds elapsed... 6.91 games/second, wins: 23\n",
      "trial 229158 33137.7 seconds elapsed... 6.92 games/second, wins: 23\n",
      "trial 229369 33152.7 seconds elapsed... 6.92 games/second, wins: 23\n",
      "trial 229394 33524.3 seconds elapsed... 6.84 games/second, wins: 23\n",
      "trial 229601 33539.4 seconds elapsed... 6.85 games/second, wins: 23\n",
      "trial 229806 33554.4 seconds elapsed... 6.85 games/second, wins: 23\n",
      "trial 230019 33569.5 seconds elapsed... 6.85 games/second, wins: 23\n",
      "trial 230232 33584.5 seconds elapsed... 6.86 games/second, wins: 23\n",
      "trial 230440 33599.6 seconds elapsed... 6.86 games/second, wins: 23\n",
      "trial 230650 33614.6 seconds elapsed... 6.86 games/second, wins: 23\n",
      "trial 230860 33629.7 seconds elapsed... 6.86 games/second, wins: 23\n",
      "trial 231071 33644.7 seconds elapsed... 6.87 games/second, wins: 23\n",
      "trial 231134 34653.7 seconds elapsed... 6.67 games/second, wins: 23\n",
      "trial 231340 34668.8 seconds elapsed... 6.67 games/second, wins: 23\n",
      "trial 231550 34683.8 seconds elapsed... 6.68 games/second, wins: 23\n",
      "trial 231756 34698.9 seconds elapsed... 6.68 games/second, wins: 23\n",
      "trial 231964 34714.0 seconds elapsed... 6.68 games/second, wins: 23\n",
      "trial 232174 34729.0 seconds elapsed... 6.69 games/second, wins: 23\n",
      "trial 232377 34744.1 seconds elapsed... 6.69 games/second, wins: 23\n",
      "trial 232581 34759.1 seconds elapsed... 6.69 games/second, wins: 23\n",
      "trial 232789 34774.2 seconds elapsed... 6.69 games/second, wins: 23\n",
      "trial 232998 34789.2 seconds elapsed... 6.70 games/second, wins: 23\n",
      "trial 233116 35765.6 seconds elapsed... 6.52 games/second, wins: 23\n",
      "trial 233322 35780.7 seconds elapsed... 6.52 games/second, wins: 23\n",
      "trial 233531 35795.7 seconds elapsed... 6.52 games/second, wins: 23\n",
      "trial 233739 35810.8 seconds elapsed... 6.53 games/second, wins: 23\n",
      "trial 233948 35825.9 seconds elapsed... 6.53 games/second, wins: 23\n",
      "trial 234139 36891.6 seconds elapsed... 6.35 games/second, wins: 23\n",
      "trial 234341 36906.6 seconds elapsed... 6.35 games/second, wins: 23\n"
     ]
    },
    {
     "data": {
      "image/png": "[encoded data removed]",
      "text/plain": [
       "<Figure size 600x600 with 1 Axes>"
      ]
     },
     "metadata": {},
     "output_type": "display_data"
    },
    {
     "name": "stdout",
     "output_type": "stream",
     "text": [
      "trial 234551 36921.7 seconds elapsed... 6.35 games/second, wins: 24\n",
      "trial 234758 36936.7 seconds elapsed... 6.36 games/second, wins: 24\n",
      "trial 234783 37206.8 seconds elapsed... 6.31 games/second, wins: 24\n",
      "trial 234988 37221.9 seconds elapsed... 6.31 games/second, wins: 24\n",
      "trial 235194 37236.9 seconds elapsed... 6.32 games/second, wins: 24\n",
      "trial 235407 37251.9 seconds elapsed... 6.32 games/second, wins: 24\n",
      "trial 235614 37266.9 seconds elapsed... 6.32 games/second, wins: 24\n",
      "trial 235822 37282.0 seconds elapsed... 6.33 games/second, wins: 24\n",
      "trial 236031 37297.0 seconds elapsed... 6.33 games/second, wins: 24\n",
      "trial 236238 37312.1 seconds elapsed... 6.33 games/second, wins: 24\n",
      "trial 236445 37327.2 seconds elapsed... 6.33 games/second, wins: 24\n",
      "trial 236511 38330.6 seconds elapsed... 6.17 games/second, wins: 24\n",
      "trial 236718 38345.6 seconds elapsed... 6.17 games/second, wins: 24\n",
      "trial 236927 38360.7 seconds elapsed... 6.18 games/second, wins: 24\n",
      "trial 237136 38375.7 seconds elapsed... 6.18 games/second, wins: 24\n",
      "trial 237349 38390.7 seconds elapsed... 6.18 games/second, wins: 24\n",
      "trial 237557 38405.7 seconds elapsed... 6.19 games/second, wins: 24\n",
      "trial 237607 39344.6 seconds elapsed... 6.04 games/second, wins: 24\n",
      "trial 237819 39359.7 seconds elapsed... 6.04 games/second, wins: 24\n",
      "trial 238024 39374.7 seconds elapsed... 6.05 games/second, wins: 24\n",
      "trial 238233 39389.8 seconds elapsed... 6.05 games/second, wins: 24\n",
      "trial 238444 39404.8 seconds elapsed... 6.05 games/second, wins: 24\n",
      "trial 238654 39419.8 seconds elapsed... 6.05 games/second, wins: 24\n",
      "trial 238868 39434.8 seconds elapsed... 6.06 games/second, wins: 24\n",
      "trial 239073 39449.9 seconds elapsed... 6.06 games/second, wins: 24\n",
      "trial 239169 39785.8 seconds elapsed... 6.01 games/second, wins: 24\n",
      "trial 239380 39800.8 seconds elapsed... 6.01 games/second, wins: 24\n",
      "trial 239587 39815.8 seconds elapsed... 6.02 games/second, wins: 24\n",
      "trial 239793 39830.9 seconds elapsed... 6.02 games/second, wins: 24\n",
      "trial 240002 39845.9 seconds elapsed... 6.02 games/second, wins: 24\n",
      "trial 240210 39860.9 seconds elapsed... 6.03 games/second, wins: 24\n",
      "trial 240416 39875.9 seconds elapsed... 6.03 games/second, wins: 24\n",
      "trial 240626 39890.9 seconds elapsed... 6.03 games/second, wins: 24\n",
      "trial 240836 39906.0 seconds elapsed... 6.04 games/second, wins: 24\n",
      "trial 241043 39921.0 seconds elapsed... 6.04 games/second, wins: 24\n",
      "trial 241252 39936.0 seconds elapsed... 6.04 games/second, wins: 24\n",
      "trial 241456 39951.1 seconds elapsed... 6.04 games/second, wins: 24\n",
      "trial 241665 39966.1 seconds elapsed... 6.05 games/second, wins: 24\n",
      "trial 241674 40328.8 seconds elapsed... 5.99 games/second, wins: 24\n",
      "trial 241880 40343.8 seconds elapsed... 6.00 games/second, wins: 24\n"
     ]
    },
    {
     "data": {
      "image/png": "[encoded data removed]",
      "text/plain": [
       "<Figure size 600x600 with 1 Axes>"
      ]
     },
     "metadata": {},
     "output_type": "display_data"
    },
    {
     "name": "stdout",
     "output_type": "stream",
     "text": [
      "trial 242085 40358.9 seconds elapsed... 6.00 games/second, wins: 25\n",
      "trial 242295 40374.0 seconds elapsed... 6.00 games/second, wins: 25\n",
      "trial 242319 40812.6 seconds elapsed... 5.94 games/second, wins: 25\n",
      "trial 242528 40827.6 seconds elapsed... 5.94 games/second, wins: 25\n",
      "trial 242740 40842.6 seconds elapsed... 5.94 games/second, wins: 25\n",
      "trial 242952 40857.7 seconds elapsed... 5.95 games/second, wins: 25\n",
      "trial 242974 41773.6 seconds elapsed... 5.82 games/second, wins: 25\n",
      "trial 243178 41788.6 seconds elapsed... 5.82 games/second, wins: 25\n",
      "trial 243388 41803.6 seconds elapsed... 5.82 games/second, wins: 25\n",
      "trial 243596 41818.6 seconds elapsed... 5.83 games/second, wins: 25\n",
      "trial 243622 42780.7 seconds elapsed... 5.69 games/second, wins: 25\n",
      "trial 243825 42795.7 seconds elapsed... 5.70 games/second, wins: 25\n",
      "trial 244026 42810.7 seconds elapsed... 5.70 games/second, wins: 25\n",
      "trial 244237 42825.8 seconds elapsed... 5.70 games/second, wins: 25\n",
      "trial 244443 42840.8 seconds elapsed... 5.71 games/second, wins: 25\n",
      "trial 244479 43734.2 seconds elapsed... 5.59 games/second, wins: 25\n",
      "trial 244681 43749.2 seconds elapsed... 5.59 games/second, wins: 25\n",
      "trial 244894 43764.2 seconds elapsed... 5.60 games/second, wins: 25\n",
      "trial 245101 43779.3 seconds elapsed... 5.60 games/second, wins: 25\n",
      "trial 245125 44344.9 seconds elapsed... 5.53 games/second, wins: 25\n",
      "trial 245330 44360.0 seconds elapsed... 5.53 games/second, wins: 25\n",
      "trial 245537 44375.0 seconds elapsed... 5.53 games/second, wins: 25\n",
      "trial 245742 44390.0 seconds elapsed... 5.54 games/second, wins: 25\n",
      "trial 245849 45380.6 seconds elapsed... 5.42 games/second, wins: 25\n",
      "trial 246052 45395.6 seconds elapsed... 5.42 games/second, wins: 25\n",
      "trial 246257 45410.6 seconds elapsed... 5.42 games/second, wins: 25\n",
      "trial 246464 45425.7 seconds elapsed... 5.43 games/second, wins: 25\n",
      "trial 246670 45440.7 seconds elapsed... 5.43 games/second, wins: 25\n"
     ]
    },
    {
     "data": {
      "image/png": "[encoded data removed]",
      "text/plain": [
       "<Figure size 600x600 with 1 Axes>"
      ]
     },
     "metadata": {},
     "output_type": "display_data"
    },
    {
     "name": "stdout",
     "output_type": "stream",
     "text": [
      "trial 246873 45455.8 seconds elapsed... 5.43 games/second, wins: 26\n",
      "trial 247080 45470.8 seconds elapsed... 5.43 games/second, wins: 26\n",
      "trial 247286 45485.9 seconds elapsed... 5.44 games/second, wins: 26\n",
      "trial 247492 45501.0 seconds elapsed... 5.44 games/second, wins: 26\n",
      "trial 247699 45516.0 seconds elapsed... 5.44 games/second, wins: 26\n",
      "trial 247709 46537.6 seconds elapsed... 5.32 games/second, wins: 26\n",
      "trial 247912 46552.7 seconds elapsed... 5.33 games/second, wins: 26\n",
      "trial 248122 46567.7 seconds elapsed... 5.33 games/second, wins: 26\n",
      "trial 248331 46582.7 seconds elapsed... 5.33 games/second, wins: 26\n",
      "trial 248536 46597.7 seconds elapsed... 5.33 games/second, wins: 26\n",
      "trial 248747 46612.8 seconds elapsed... 5.34 games/second, wins: 26\n",
      "trial 248954 46627.8 seconds elapsed... 5.34 games/second, wins: 26\n",
      "trial 249161 46642.9 seconds elapsed... 5.34 games/second, wins: 26\n",
      "trial 249367 46657.9 seconds elapsed... 5.34 games/second, wins: 26\n"
     ]
    },
    {
     "data": {
      "image/png": "[encoded data removed]",
      "text/plain": [
       "<Figure size 600x600 with 1 Axes>"
      ]
     },
     "metadata": {},
     "output_type": "display_data"
    },
    {
     "name": "stdout",
     "output_type": "stream",
     "text": [
      "trial 249538 47085.6 seconds elapsed... 5.30 games/second, wins: 27\n",
      "trial 249745 47100.6 seconds elapsed... 5.30 games/second, wins: 27\n",
      "trial 249960 47115.6 seconds elapsed... 5.31 games/second, wins: 27\n",
      "trial 250168 47130.7 seconds elapsed... 5.31 games/second, wins: 27\n",
      "trial 250370 47145.7 seconds elapsed... 5.31 games/second, wins: 27\n",
      "trial 250584 47160.8 seconds elapsed... 5.31 games/second, wins: 27\n",
      "trial 250797 47175.8 seconds elapsed... 5.32 games/second, wins: 27\n",
      "trial 251002 47190.8 seconds elapsed... 5.32 games/second, wins: 27\n",
      "trial 251208 47205.8 seconds elapsed... 5.32 games/second, wins: 27\n",
      "trial 251417 47220.9 seconds elapsed... 5.32 games/second, wins: 27\n",
      "trial 251427 47486.6 seconds elapsed... 5.29 games/second, wins: 27\n",
      "trial 251635 47501.6 seconds elapsed... 5.30 games/second, wins: 27\n",
      "trial 251845 47516.7 seconds elapsed... 5.30 games/second, wins: 27\n",
      "trial 252056 47531.7 seconds elapsed... 5.30 games/second, wins: 27\n",
      "trial 252262 47546.7 seconds elapsed... 5.31 games/second, wins: 27\n",
      "trial 252474 47561.8 seconds elapsed... 5.31 games/second, wins: 27\n",
      "trial 252681 47576.8 seconds elapsed... 5.31 games/second, wins: 27\n",
      "trial 252887 47591.9 seconds elapsed... 5.31 games/second, wins: 27\n",
      "trial 253096 47606.9 seconds elapsed... 5.32 games/second, wins: 27\n",
      "trial 253263 48269.2 seconds elapsed... 5.25 games/second, wins: 27\n",
      "trial 253468 48284.2 seconds elapsed... 5.25 games/second, wins: 27\n",
      "trial 253679 48299.2 seconds elapsed... 5.25 games/second, wins: 27\n",
      "trial 253888 48314.2 seconds elapsed... 5.25 games/second, wins: 27\n",
      "trial 254099 48329.3 seconds elapsed... 5.26 games/second, wins: 27\n",
      "trial 254306 48344.3 seconds elapsed... 5.26 games/second, wins: 27\n",
      "trial 254513 48359.3 seconds elapsed... 5.26 games/second, wins: 27\n",
      "trial 254718 48374.4 seconds elapsed... 5.27 games/second, wins: 27\n",
      "trial 254929 48389.4 seconds elapsed... 5.27 games/second, wins: 27\n",
      "trial 255139 48404.4 seconds elapsed... 5.27 games/second, wins: 27\n",
      "trial 255159 49430.6 seconds elapsed... 5.16 games/second, wins: 27\n",
      "trial 255362 49445.7 seconds elapsed... 5.16 games/second, wins: 27\n",
      "trial 255566 49460.7 seconds elapsed... 5.17 games/second, wins: 27\n",
      "trial 255777 49475.8 seconds elapsed... 5.17 games/second, wins: 27\n",
      "trial 255983 49490.8 seconds elapsed... 5.17 games/second, wins: 27\n",
      "trial 256194 49505.8 seconds elapsed... 5.18 games/second, wins: 27\n",
      "trial 256404 49520.9 seconds elapsed... 5.18 games/second, wins: 27\n",
      "trial 256613 49535.9 seconds elapsed... 5.18 games/second, wins: 27\n",
      "trial 256821 49550.9 seconds elapsed... 5.18 games/second, wins: 27\n",
      "trial 256992 50515.7 seconds elapsed... 5.09 games/second, wins: 27\n",
      "trial 257196 50530.7 seconds elapsed... 5.09 games/second, wins: 27\n",
      "trial 257403 50545.8 seconds elapsed... 5.09 games/second, wins: 27\n",
      "trial 257610 50560.8 seconds elapsed... 5.10 games/second, wins: 27\n",
      "trial 257630 50882.6 seconds elapsed... 5.06 games/second, wins: 27\n",
      "trial 257833 50897.7 seconds elapsed... 5.07 games/second, wins: 27\n",
      "trial 258044 50912.7 seconds elapsed... 5.07 games/second, wins: 27\n",
      "trial 258251 50927.7 seconds elapsed... 5.07 games/second, wins: 27\n",
      "trial 258362 51494.9 seconds elapsed... 5.02 games/second, wins: 27\n",
      "trial 258572 51510.0 seconds elapsed... 5.02 games/second, wins: 27\n",
      "trial 258782 51525.0 seconds elapsed... 5.02 games/second, wins: 27\n",
      "trial 258988 51540.0 seconds elapsed... 5.02 games/second, wins: 27\n",
      "trial 259198 51555.0 seconds elapsed... 5.03 games/second, wins: 27\n",
      "trial 259403 51570.1 seconds elapsed... 5.03 games/second, wins: 27\n",
      "trial 259611 51585.2 seconds elapsed... 5.03 games/second, wins: 27\n",
      "trial 259820 51600.2 seconds elapsed... 5.04 games/second, wins: 27\n",
      "trial 260026 51615.2 seconds elapsed... 5.04 games/second, wins: 27\n",
      "trial 260234 51630.3 seconds elapsed... 5.04 games/second, wins: 27\n",
      "trial 260339 52567.6 seconds elapsed... 4.95 games/second, wins: 27\n",
      "trial 260547 52582.6 seconds elapsed... 4.96 games/second, wins: 27\n",
      "trial 260754 52597.7 seconds elapsed... 4.96 games/second, wins: 27\n",
      "trial 260966 52612.7 seconds elapsed... 4.96 games/second, wins: 27\n",
      "trial 261173 52627.7 seconds elapsed... 4.96 games/second, wins: 27\n"
     ]
    },
    {
     "data": {
      "image/png": "[encoded data removed]",
      "text/plain": [
       "<Figure size 600x600 with 1 Axes>"
      ]
     },
     "metadata": {},
     "output_type": "display_data"
    },
    {
     "name": "stdout",
     "output_type": "stream",
     "text": [
      "trial 261375 52642.7 seconds elapsed... 4.97 games/second, wins: 28\n",
      "trial 261585 52657.8 seconds elapsed... 4.97 games/second, wins: 28\n",
      "trial 261790 52672.8 seconds elapsed... 4.97 games/second, wins: 28\n",
      "trial 261997 52687.8 seconds elapsed... 4.97 games/second, wins: 28\n",
      "trial 262205 52702.8 seconds elapsed... 4.98 games/second, wins: 28\n",
      "trial 262416 52717.9 seconds elapsed... 4.98 games/second, wins: 28\n",
      "trial 262621 52733.0 seconds elapsed... 4.98 games/second, wins: 28\n",
      "trial 262831 52748.0 seconds elapsed... 4.98 games/second, wins: 28\n",
      "trial 263038 52763.0 seconds elapsed... 4.99 games/second, wins: 28\n",
      "trial 263251 52778.1 seconds elapsed... 4.99 games/second, wins: 28\n",
      "trial 263462 52793.2 seconds elapsed... 4.99 games/second, wins: 28\n",
      "trial 263667 52808.2 seconds elapsed... 4.99 games/second, wins: 28\n",
      "trial 263723 52838.6 seconds elapsed... 4.99 games/second, wins: 28\n",
      "trial 263929 52853.6 seconds elapsed... 4.99 games/second, wins: 28\n",
      "trial 264137 52868.7 seconds elapsed... 5.00 games/second, wins: 28\n",
      "trial 264346 52883.7 seconds elapsed... 5.00 games/second, wins: 28\n",
      "trial 264553 52898.7 seconds elapsed... 5.00 games/second, wins: 28\n",
      "trial 264762 52913.7 seconds elapsed... 5.00 games/second, wins: 28\n",
      "trial 264964 52928.8 seconds elapsed... 5.01 games/second, wins: 28\n",
      "trial 265174 52943.8 seconds elapsed... 5.01 games/second, wins: 28\n",
      "trial 265386 52958.9 seconds elapsed... 5.01 games/second, wins: 28\n",
      "trial 265591 52973.9 seconds elapsed... 5.01 games/second, wins: 28\n",
      "trial 265801 52988.9 seconds elapsed... 5.02 games/second, wins: 28\n",
      "trial 266004 53004.0 seconds elapsed... 5.02 games/second, wins: 28\n",
      "trial 266202 53019.0 seconds elapsed... 5.02 games/second, wins: 28\n",
      "trial 266397 53034.0 seconds elapsed... 5.02 games/second, wins: 28\n",
      "trial 266591 53049.1 seconds elapsed... 5.03 games/second, wins: 28\n",
      "trial 266787 53064.2 seconds elapsed... 5.03 games/second, wins: 28\n",
      "trial 266986 53079.2 seconds elapsed... 5.03 games/second, wins: 28\n",
      "trial 267176 53094.2 seconds elapsed... 5.03 games/second, wins: 28\n",
      "trial 267372 53109.3 seconds elapsed... 5.03 games/second, wins: 28\n",
      "trial 267562 53124.3 seconds elapsed... 5.04 games/second, wins: 28\n",
      "trial 267749 53139.3 seconds elapsed... 5.04 games/second, wins: 28\n",
      "trial 267938 53154.4 seconds elapsed... 5.04 games/second, wins: 28\n",
      "trial 268131 53169.4 seconds elapsed... 5.04 games/second, wins: 28\n",
      "trial 268324 53184.4 seconds elapsed... 5.05 games/second, wins: 28\n",
      "trial 268508 53199.4 seconds elapsed... 5.05 games/second, wins: 28\n",
      "trial 268698 53214.5 seconds elapsed... 5.05 games/second, wins: 28\n",
      "trial 268893 53229.5 seconds elapsed... 5.05 games/second, wins: 28\n",
      "trial 269080 53244.6 seconds elapsed... 5.05 games/second, wins: 28\n",
      "trial 269271 53259.7 seconds elapsed... 5.06 games/second, wins: 28\n",
      "trial 269463 53274.7 seconds elapsed... 5.06 games/second, wins: 28\n",
      "trial 269647 53289.7 seconds elapsed... 5.06 games/second, wins: 28\n",
      "trial 269831 53304.8 seconds elapsed... 5.06 games/second, wins: 28\n",
      "trial 270026 53319.8 seconds elapsed... 5.06 games/second, wins: 28\n",
      "trial 270220 53334.8 seconds elapsed... 5.07 games/second, wins: 28\n",
      "trial 270410 53349.9 seconds elapsed... 5.07 games/second, wins: 28\n",
      "trial 270595 53364.9 seconds elapsed... 5.07 games/second, wins: 28\n",
      "trial 270782 53380.0 seconds elapsed... 5.07 games/second, wins: 28\n",
      "trial 270975 53395.0 seconds elapsed... 5.07 games/second, wins: 28\n",
      "trial 271166 53410.0 seconds elapsed... 5.08 games/second, wins: 28\n",
      "trial 271343 54345.6 seconds elapsed... 4.99 games/second, wins: 28\n",
      "trial 271545 54360.6 seconds elapsed... 5.00 games/second, wins: 28\n",
      "trial 271754 54375.7 seconds elapsed... 5.00 games/second, wins: 28\n",
      "trial 271964 54390.7 seconds elapsed... 5.00 games/second, wins: 28\n",
      "trial 272176 54405.7 seconds elapsed... 5.00 games/second, wins: 28\n",
      "trial 272383 54420.7 seconds elapsed... 5.01 games/second, wins: 28\n",
      "trial 272594 54435.7 seconds elapsed... 5.01 games/second, wins: 28\n",
      "trial 272799 54450.8 seconds elapsed... 5.01 games/second, wins: 28\n",
      "trial 273007 54465.8 seconds elapsed... 5.01 games/second, wins: 28\n",
      "trial 273215 54480.9 seconds elapsed... 5.01 games/second, wins: 28\n",
      "trial 273309 54872.5 seconds elapsed... 4.98 games/second, wins: 28\n",
      "trial 273519 54887.5 seconds elapsed... 4.98 games/second, wins: 28\n",
      "trial 273728 54902.6 seconds elapsed... 4.99 games/second, wins: 28\n",
      "trial 273944 54917.7 seconds elapsed... 4.99 games/second, wins: 28\n",
      "trial 274151 54932.7 seconds elapsed... 4.99 games/second, wins: 28\n",
      "trial 274361 54947.7 seconds elapsed... 4.99 games/second, wins: 28\n",
      "trial 274571 54962.8 seconds elapsed... 5.00 games/second, wins: 28\n",
      "trial 274784 54977.8 seconds elapsed... 5.00 games/second, wins: 28\n",
      "trial 274991 54992.9 seconds elapsed... 5.00 games/second, wins: 28\n",
      "trial 275202 55007.9 seconds elapsed... 5.00 games/second, wins: 28\n",
      "trial 275391 55054.5 seconds elapsed... 5.00 games/second, wins: 28\n",
      "trial 275599 55069.5 seconds elapsed... 5.00 games/second, wins: 28\n",
      "trial 275806 55084.5 seconds elapsed... 5.01 games/second, wins: 28\n",
      "trial 276013 55099.6 seconds elapsed... 5.01 games/second, wins: 28\n",
      "trial 276220 55114.7 seconds elapsed... 5.01 games/second, wins: 28\n",
      "trial 276428 55129.7 seconds elapsed... 5.01 games/second, wins: 28\n",
      "trial 276637 55144.8 seconds elapsed... 5.02 games/second, wins: 28\n",
      "trial 276842 55159.8 seconds elapsed... 5.02 games/second, wins: 28\n",
      "trial 277054 55174.8 seconds elapsed... 5.02 games/second, wins: 28\n",
      "trial 277227 55378.7 seconds elapsed... 5.01 games/second, wins: 28\n",
      "trial 277428 55393.7 seconds elapsed... 5.01 games/second, wins: 28\n",
      "trial 277635 55408.7 seconds elapsed... 5.01 games/second, wins: 28\n",
      "trial 277843 55423.8 seconds elapsed... 5.01 games/second, wins: 28\n",
      "trial 278049 55438.8 seconds elapsed... 5.02 games/second, wins: 28\n",
      "trial 278263 55453.8 seconds elapsed... 5.02 games/second, wins: 28\n",
      "trial 278471 55468.9 seconds elapsed... 5.02 games/second, wins: 28\n",
      "trial 278681 55483.9 seconds elapsed... 5.02 games/second, wins: 28\n",
      "trial 278891 55498.9 seconds elapsed... 5.03 games/second, wins: 28\n",
      "trial 279094 55514.0 seconds elapsed... 5.03 games/second, wins: 28\n",
      "trial 279102 56437.5 seconds elapsed... 4.95 games/second, wins: 28\n",
      "trial 279307 56452.6 seconds elapsed... 4.95 games/second, wins: 28\n",
      "trial 279517 56467.7 seconds elapsed... 4.95 games/second, wins: 28\n",
      "trial 279725 56482.8 seconds elapsed... 4.95 games/second, wins: 28\n",
      "trial 279935 56497.8 seconds elapsed... 4.95 games/second, wins: 28\n",
      "trial 280143 56512.9 seconds elapsed... 4.96 games/second, wins: 28\n",
      "trial 280350 56527.9 seconds elapsed... 4.96 games/second, wins: 28\n",
      "trial 280560 56543.0 seconds elapsed... 4.96 games/second, wins: 28\n",
      "trial 280765 56558.0 seconds elapsed... 4.96 games/second, wins: 28\n",
      "trial 280930 57496.6 seconds elapsed... 4.89 games/second, wins: 28\n",
      "trial 281133 57511.7 seconds elapsed... 4.89 games/second, wins: 28\n",
      "trial 281343 57526.7 seconds elapsed... 4.89 games/second, wins: 28\n",
      "trial 281554 57541.7 seconds elapsed... 4.89 games/second, wins: 28\n",
      "trial 281763 57556.8 seconds elapsed... 4.90 games/second, wins: 28\n",
      "trial 281967 57571.8 seconds elapsed... 4.90 games/second, wins: 28\n",
      "trial 282109 57855.8 seconds elapsed... 4.88 games/second, wins: 28\n",
      "trial 282321 57870.8 seconds elapsed... 4.88 games/second, wins: 28\n",
      "trial 282525 57885.9 seconds elapsed... 4.88 games/second, wins: 28\n",
      "trial 282737 57900.9 seconds elapsed... 4.88 games/second, wins: 28\n",
      "trial 282946 57915.9 seconds elapsed... 4.89 games/second, wins: 28\n",
      "trial 283149 57931.0 seconds elapsed... 4.89 games/second, wins: 28\n",
      "trial 283361 57946.0 seconds elapsed... 4.89 games/second, wins: 28\n",
      "trial 283574 57961.0 seconds elapsed... 4.89 games/second, wins: 28\n",
      "trial 283781 57976.0 seconds elapsed... 4.89 games/second, wins: 28\n",
      "trial 283991 57991.1 seconds elapsed... 4.90 games/second, wins: 28\n",
      "trial 284169 58907.5 seconds elapsed... 4.82 games/second, wins: 28\n",
      "trial 284375 58922.5 seconds elapsed... 4.83 games/second, wins: 28\n",
      "trial 284585 58937.6 seconds elapsed... 4.83 games/second, wins: 28\n",
      "trial 284794 58952.6 seconds elapsed... 4.83 games/second, wins: 28\n",
      "trial 285008 58967.6 seconds elapsed... 4.83 games/second, wins: 28\n",
      "trial 285215 58982.7 seconds elapsed... 4.84 games/second, wins: 28\n",
      "trial 285421 58997.7 seconds elapsed... 4.84 games/second, wins: 28\n",
      "trial 285631 59012.7 seconds elapsed... 4.84 games/second, wins: 28\n",
      "trial 285839 59027.7 seconds elapsed... 4.84 games/second, wins: 28\n",
      "trial 286009 59056.5 seconds elapsed... 4.84 games/second, wins: 28\n",
      "trial 286201 59071.6 seconds elapsed... 4.84 games/second, wins: 28\n",
      "trial 286404 59086.6 seconds elapsed... 4.85 games/second, wins: 28\n",
      "trial 286609 59101.6 seconds elapsed... 4.85 games/second, wins: 28\n",
      "trial 286816 59116.7 seconds elapsed... 4.85 games/second, wins: 28\n",
      "trial 287019 59131.7 seconds elapsed... 4.85 games/second, wins: 28\n",
      "trial 287227 59146.8 seconds elapsed... 4.86 games/second, wins: 28\n",
      "trial 287439 59161.8 seconds elapsed... 4.86 games/second, wins: 28\n",
      "trial 287648 59176.8 seconds elapsed... 4.86 games/second, wins: 28\n",
      "trial 287859 59191.8 seconds elapsed... 4.86 games/second, wins: 28\n",
      "trial 288067 59206.9 seconds elapsed... 4.87 games/second, wins: 28\n",
      "trial 288275 59221.9 seconds elapsed... 4.87 games/second, wins: 28\n",
      "trial 288483 59237.0 seconds elapsed... 4.87 games/second, wins: 28\n",
      "trial 288696 59252.0 seconds elapsed... 4.87 games/second, wins: 28\n",
      "trial 288902 59267.0 seconds elapsed... 4.87 games/second, wins: 28\n",
      "trial 289109 59282.0 seconds elapsed... 4.88 games/second, wins: 28\n",
      "trial 289315 59297.1 seconds elapsed... 4.88 games/second, wins: 28\n",
      "trial 289527 59312.2 seconds elapsed... 4.88 games/second, wins: 28\n",
      "trial 289737 59327.2 seconds elapsed... 4.88 games/second, wins: 28\n",
      "trial 289943 59342.3 seconds elapsed... 4.89 games/second, wins: 28\n",
      "trial 290152 59357.4 seconds elapsed... 4.89 games/second, wins: 28\n",
      "trial 290360 59372.4 seconds elapsed... 4.89 games/second, wins: 28\n",
      "trial 290568 59387.4 seconds elapsed... 4.89 games/second, wins: 28\n",
      "trial 290773 59402.4 seconds elapsed... 4.89 games/second, wins: 28\n",
      "trial 290977 59417.5 seconds elapsed... 4.90 games/second, wins: 28\n",
      "trial 291186 59432.5 seconds elapsed... 4.90 games/second, wins: 28\n",
      "trial 291394 59447.5 seconds elapsed... 4.90 games/second, wins: 28\n",
      "trial 291603 59462.5 seconds elapsed... 4.90 games/second, wins: 28\n",
      "trial 291806 59477.6 seconds elapsed... 4.91 games/second, wins: 28\n",
      "trial 292013 59492.6 seconds elapsed... 4.91 games/second, wins: 28\n",
      "trial 292226 59507.6 seconds elapsed... 4.91 games/second, wins: 28\n",
      "trial 292434 59522.7 seconds elapsed... 4.91 games/second, wins: 28\n",
      "trial 292643 59537.7 seconds elapsed... 4.92 games/second, wins: 28\n",
      "trial 292850 59552.7 seconds elapsed... 4.92 games/second, wins: 28\n",
      "trial 293057 59567.8 seconds elapsed... 4.92 games/second, wins: 28\n",
      "trial 293266 59582.9 seconds elapsed... 4.92 games/second, wins: 28\n",
      "trial 293466 59597.9 seconds elapsed... 4.92 games/second, wins: 28\n",
      "trial 293668 59612.9 seconds elapsed... 4.93 games/second, wins: 28\n",
      "trial 293875 59628.0 seconds elapsed... 4.93 games/second, wins: 28\n",
      "trial 294081 59643.0 seconds elapsed... 4.93 games/second, wins: 28\n"
     ]
    },
    {
     "data": {
      "image/png": "[encoded data removed]",
      "text/plain": [
       "<Figure size 600x600 with 1 Axes>"
      ]
     },
     "metadata": {},
     "output_type": "display_data"
    },
    {
     "name": "stdout",
     "output_type": "stream",
     "text": [
      "trial 294282 59658.1 seconds elapsed... 4.93 games/second, wins: 29\n",
      "trial 294484 59673.1 seconds elapsed... 4.93 games/second, wins: 29\n",
      "trial 294688 59688.1 seconds elapsed... 4.94 games/second, wins: 29\n",
      "trial 294896 59703.2 seconds elapsed... 4.94 games/second, wins: 29\n",
      "trial 295102 59718.2 seconds elapsed... 4.94 games/second, wins: 29\n",
      "trial 295310 59733.2 seconds elapsed... 4.94 games/second, wins: 29\n",
      "trial 295520 59748.3 seconds elapsed... 4.95 games/second, wins: 29\n",
      "trial 295723 59763.4 seconds elapsed... 4.95 games/second, wins: 29\n",
      "trial 295938 59778.4 seconds elapsed... 4.95 games/second, wins: 29\n",
      "trial 296152 59793.4 seconds elapsed... 4.95 games/second, wins: 29\n",
      "trial 296359 59808.4 seconds elapsed... 4.96 games/second, wins: 29\n",
      "trial 296564 59823.4 seconds elapsed... 4.96 games/second, wins: 29\n",
      "trial 296776 59838.4 seconds elapsed... 4.96 games/second, wins: 29\n",
      "trial 296979 59853.5 seconds elapsed... 4.96 games/second, wins: 29\n",
      "trial 297188 59868.6 seconds elapsed... 4.96 games/second, wins: 29\n",
      "trial 297398 59883.6 seconds elapsed... 4.97 games/second, wins: 29\n",
      "trial 297608 59898.6 seconds elapsed... 4.97 games/second, wins: 29\n",
      "trial 297814 59913.7 seconds elapsed... 4.97 games/second, wins: 29\n",
      "trial 298017 59928.7 seconds elapsed... 4.97 games/second, wins: 29\n",
      "trial 298229 59943.8 seconds elapsed... 4.98 games/second, wins: 29\n",
      "trial 298435 59958.9 seconds elapsed... 4.98 games/second, wins: 29\n",
      "trial 298645 59973.9 seconds elapsed... 4.98 games/second, wins: 29\n",
      "trial 298849 59988.9 seconds elapsed... 4.98 games/second, wins: 29\n",
      "trial 299053 60003.9 seconds elapsed... 4.98 games/second, wins: 29\n",
      "trial 299261 60019.0 seconds elapsed... 4.99 games/second, wins: 29\n",
      "trial 299467 60034.0 seconds elapsed... 4.99 games/second, wins: 29\n",
      "trial 299672 60049.1 seconds elapsed... 4.99 games/second, wins: 29\n",
      "trial 299880 60064.1 seconds elapsed... 4.99 games/second, wins: 29\n"
     ]
    },
    {
     "data": {
      "image/png": "[encoded data removed]",
      "text/plain": [
       "<Figure size 600x600 with 1 Axes>"
      ]
     },
     "metadata": {},
     "output_type": "display_data"
    },
    {
     "name": "stdout",
     "output_type": "stream",
     "text": [
      "trial 300086 60079.2 seconds elapsed... 4.99 games/second, wins: 30\n",
      "trial 300294 60094.2 seconds elapsed... 5.00 games/second, wins: 30\n",
      "trial 300499 60109.2 seconds elapsed... 5.00 games/second, wins: 30\n",
      "trial 300711 60124.2 seconds elapsed... 5.00 games/second, wins: 30\n",
      "trial 300921 60139.2 seconds elapsed... 5.00 games/second, wins: 30\n",
      "trial 301129 60154.3 seconds elapsed... 5.01 games/second, wins: 30\n",
      "trial 301341 60169.3 seconds elapsed... 5.01 games/second, wins: 30\n",
      "trial 301546 60184.4 seconds elapsed... 5.01 games/second, wins: 30\n",
      "trial 301748 60199.4 seconds elapsed... 5.01 games/second, wins: 30\n",
      "trial 301958 60214.4 seconds elapsed... 5.01 games/second, wins: 30\n",
      "trial 302160 60229.4 seconds elapsed... 5.02 games/second, wins: 30\n",
      "trial 302367 60244.5 seconds elapsed... 5.02 games/second, wins: 30\n",
      "trial 302573 60259.5 seconds elapsed... 5.02 games/second, wins: 30\n",
      "trial 302777 60274.6 seconds elapsed... 5.02 games/second, wins: 30\n",
      "trial 302987 60289.6 seconds elapsed... 5.03 games/second, wins: 30\n",
      "trial 303193 60304.7 seconds elapsed... 5.03 games/second, wins: 30\n",
      "trial 303394 60319.7 seconds elapsed... 5.03 games/second, wins: 30\n",
      "trial 303602 60334.7 seconds elapsed... 5.03 games/second, wins: 30\n",
      "trial 303806 60349.7 seconds elapsed... 5.03 games/second, wins: 30\n",
      "trial 304014 60364.8 seconds elapsed... 5.04 games/second, wins: 30\n",
      "trial 304220 60379.8 seconds elapsed... 5.04 games/second, wins: 30\n",
      "trial 304432 60394.8 seconds elapsed... 5.04 games/second, wins: 30\n",
      "trial 304635 60409.9 seconds elapsed... 5.04 games/second, wins: 30\n",
      "trial 304843 60424.9 seconds elapsed... 5.04 games/second, wins: 30\n",
      "trial 305048 60439.9 seconds elapsed... 5.05 games/second, wins: 30\n",
      "trial 305254 60454.9 seconds elapsed... 5.05 games/second, wins: 30\n"
     ]
    },
    {
     "data": {
      "image/png": "[encoded data removed]",
      "text/plain": [
       "<Figure size 600x600 with 1 Axes>"
      ]
     },
     "metadata": {},
     "output_type": "display_data"
    },
    {
     "name": "stdout",
     "output_type": "stream",
     "text": [
      "trial 305466 60470.0 seconds elapsed... 5.05 games/second, wins: 31\n",
      "trial 305674 60485.0 seconds elapsed... 5.05 games/second, wins: 31\n",
      "trial 305877 60500.0 seconds elapsed... 5.06 games/second, wins: 31\n",
      "trial 306086 60515.1 seconds elapsed... 5.06 games/second, wins: 31\n",
      "trial 306296 60530.1 seconds elapsed... 5.06 games/second, wins: 31\n",
      "trial 306498 60545.1 seconds elapsed... 5.06 games/second, wins: 31\n",
      "trial 306703 60560.2 seconds elapsed... 5.06 games/second, wins: 31\n",
      "trial 306913 60575.3 seconds elapsed... 5.07 games/second, wins: 31\n",
      "trial 307118 60590.3 seconds elapsed... 5.07 games/second, wins: 31\n",
      "trial 307329 60605.3 seconds elapsed... 5.07 games/second, wins: 31\n",
      "trial 307538 60620.4 seconds elapsed... 5.07 games/second, wins: 31\n",
      "trial 307744 60635.4 seconds elapsed... 5.08 games/second, wins: 31\n",
      "trial 307952 60650.4 seconds elapsed... 5.08 games/second, wins: 31\n",
      "trial 308160 60665.4 seconds elapsed... 5.08 games/second, wins: 31\n",
      "trial 308363 60680.5 seconds elapsed... 5.08 games/second, wins: 31\n",
      "trial 308566 60695.5 seconds elapsed... 5.08 games/second, wins: 31\n",
      "trial 308774 60710.6 seconds elapsed... 5.09 games/second, wins: 31\n",
      "trial 308983 60725.7 seconds elapsed... 5.09 games/second, wins: 31\n",
      "trial 309193 60740.7 seconds elapsed... 5.09 games/second, wins: 31\n"
     ]
    },
    {
     "data": {
      "image/png": "[encoded data removed]",
      "text/plain": [
       "<Figure size 600x600 with 1 Axes>"
      ]
     },
     "metadata": {},
     "output_type": "display_data"
    },
    {
     "name": "stdout",
     "output_type": "stream",
     "text": [
      "trial 309399 60755.7 seconds elapsed... 5.09 games/second, wins: 32\n",
      "trial 309603 60770.7 seconds elapsed... 5.09 games/second, wins: 32\n",
      "trial 309808 60785.8 seconds elapsed... 5.10 games/second, wins: 32\n",
      "trial 310017 60800.8 seconds elapsed... 5.10 games/second, wins: 32\n",
      "trial 310221 60815.8 seconds elapsed... 5.10 games/second, wins: 32\n",
      "trial 310428 60830.8 seconds elapsed... 5.10 games/second, wins: 32\n",
      "trial 310637 60845.9 seconds elapsed... 5.11 games/second, wins: 32\n",
      "trial 310841 60861.0 seconds elapsed... 5.11 games/second, wins: 32\n",
      "trial 311044 60876.0 seconds elapsed... 5.11 games/second, wins: 32\n",
      "trial 311249 60891.1 seconds elapsed... 5.11 games/second, wins: 32\n",
      "trial 311455 60906.1 seconds elapsed... 5.11 games/second, wins: 32\n",
      "trial 311665 60921.1 seconds elapsed... 5.12 games/second, wins: 32\n",
      "trial 311871 60936.2 seconds elapsed... 5.12 games/second, wins: 32\n",
      "trial 312076 60951.3 seconds elapsed... 5.12 games/second, wins: 32\n"
     ]
    },
    {
     "data": {
      "image/png": "[encoded data removed]",
      "text/plain": [
       "<Figure size 600x600 with 1 Axes>"
      ]
     },
     "metadata": {},
     "output_type": "display_data"
    },
    {
     "name": "stdout",
     "output_type": "stream",
     "text": [
      "trial 312280 60966.3 seconds elapsed... 5.12 games/second, wins: 33\n",
      "trial 312486 60981.3 seconds elapsed... 5.12 games/second, wins: 33\n",
      "trial 312693 60996.4 seconds elapsed... 5.13 games/second, wins: 33\n",
      "trial 312903 61011.4 seconds elapsed... 5.13 games/second, wins: 33\n",
      "trial 313109 61026.4 seconds elapsed... 5.13 games/second, wins: 33\n",
      "trial 313318 61041.4 seconds elapsed... 5.13 games/second, wins: 33\n"
     ]
    },
    {
     "data": {
      "image/png": "[encoded data removed]",
      "text/plain": [
       "<Figure size 600x600 with 1 Axes>"
      ]
     },
     "metadata": {},
     "output_type": "display_data"
    },
    {
     "name": "stdout",
     "output_type": "stream",
     "text": [
      "trial 313528 61056.5 seconds elapsed... 5.14 games/second, wins: 34\n",
      "trial 313732 61071.5 seconds elapsed... 5.14 games/second, wins: 34\n",
      "trial 313939 61086.6 seconds elapsed... 5.14 games/second, wins: 34\n",
      "trial 314146 61101.6 seconds elapsed... 5.14 games/second, wins: 34\n",
      "trial 314350 61116.6 seconds elapsed... 5.14 games/second, wins: 34\n",
      "trial 314557 61131.7 seconds elapsed... 5.15 games/second, wins: 34\n",
      "trial 314767 61146.7 seconds elapsed... 5.15 games/second, wins: 34\n",
      "trial 314974 61161.8 seconds elapsed... 5.15 games/second, wins: 34\n",
      "trial 315182 61176.8 seconds elapsed... 5.15 games/second, wins: 34\n",
      "trial 315386 61191.9 seconds elapsed... 5.15 games/second, wins: 34\n",
      "trial 315594 61206.9 seconds elapsed... 5.16 games/second, wins: 34\n",
      "trial 315799 61222.0 seconds elapsed... 5.16 games/second, wins: 34\n",
      "trial 316003 61237.1 seconds elapsed... 5.16 games/second, wins: 34\n",
      "trial 316211 61252.1 seconds elapsed... 5.16 games/second, wins: 34\n",
      "trial 316419 61267.1 seconds elapsed... 5.16 games/second, wins: 34\n",
      "trial 316628 61282.2 seconds elapsed... 5.17 games/second, wins: 34\n",
      "trial 316840 61297.2 seconds elapsed... 5.17 games/second, wins: 34\n",
      "trial 317048 61312.3 seconds elapsed... 5.17 games/second, wins: 34\n",
      "trial 317255 61327.3 seconds elapsed... 5.17 games/second, wins: 34\n",
      "trial 317470 61342.4 seconds elapsed... 5.18 games/second, wins: 34\n",
      "trial 317677 61357.4 seconds elapsed... 5.18 games/second, wins: 34\n",
      "trial 317886 61372.5 seconds elapsed... 5.18 games/second, wins: 34\n",
      "trial 318092 61387.5 seconds elapsed... 5.18 games/second, wins: 34\n",
      "trial 318297 61402.6 seconds elapsed... 5.18 games/second, wins: 34\n",
      "trial 318506 61417.6 seconds elapsed... 5.19 games/second, wins: 34\n",
      "trial 318713 61432.6 seconds elapsed... 5.19 games/second, wins: 34\n",
      "trial 318914 61447.6 seconds elapsed... 5.19 games/second, wins: 34\n",
      "trial 319122 61462.6 seconds elapsed... 5.19 games/second, wins: 34\n",
      "trial 319330 61477.7 seconds elapsed... 5.19 games/second, wins: 34\n",
      "trial 319535 61492.7 seconds elapsed... 5.20 games/second, wins: 34\n",
      "trial 319744 61507.7 seconds elapsed... 5.20 games/second, wins: 34\n",
      "trial 319946 61522.8 seconds elapsed... 5.20 games/second, wins: 34\n",
      "trial 320145 61537.8 seconds elapsed... 5.20 games/second, wins: 34\n",
      "trial 320355 61552.8 seconds elapsed... 5.20 games/second, wins: 34\n",
      "trial 320560 61567.9 seconds elapsed... 5.21 games/second, wins: 34\n",
      "trial 320765 61583.0 seconds elapsed... 5.21 games/second, wins: 34\n",
      "trial 320967 61598.0 seconds elapsed... 5.21 games/second, wins: 34\n",
      "trial 321174 61613.1 seconds elapsed... 5.21 games/second, wins: 34\n",
      "trial 321382 61628.1 seconds elapsed... 5.21 games/second, wins: 34\n",
      "trial 321590 61643.2 seconds elapsed... 5.22 games/second, wins: 34\n",
      "trial 321796 61658.2 seconds elapsed... 5.22 games/second, wins: 34\n",
      "trial 322003 61673.3 seconds elapsed... 5.22 games/second, wins: 34\n",
      "trial 322207 61688.3 seconds elapsed... 5.22 games/second, wins: 34\n",
      "trial 322418 61703.4 seconds elapsed... 5.23 games/second, wins: 34\n",
      "trial 322617 61718.4 seconds elapsed... 5.23 games/second, wins: 34\n",
      "trial 322831 61733.4 seconds elapsed... 5.23 games/second, wins: 34\n",
      "trial 323042 61748.4 seconds elapsed... 5.23 games/second, wins: 34\n",
      "trial 323243 61763.5 seconds elapsed... 5.23 games/second, wins: 34\n",
      "trial 323454 61778.5 seconds elapsed... 5.24 games/second, wins: 34\n",
      "trial 323657 61793.6 seconds elapsed... 5.24 games/second, wins: 34\n",
      "trial 323862 61808.6 seconds elapsed... 5.24 games/second, wins: 34\n",
      "trial 324068 61823.7 seconds elapsed... 5.24 games/second, wins: 34\n",
      "trial 324272 61838.7 seconds elapsed... 5.24 games/second, wins: 34\n",
      "trial 324480 61853.7 seconds elapsed... 5.25 games/second, wins: 34\n",
      "trial 324690 61868.8 seconds elapsed... 5.25 games/second, wins: 34\n",
      "trial 324895 61883.8 seconds elapsed... 5.25 games/second, wins: 34\n",
      "trial 325106 61898.8 seconds elapsed... 5.25 games/second, wins: 34\n",
      "trial 325311 61913.8 seconds elapsed... 5.25 games/second, wins: 34\n",
      "trial 325514 61928.9 seconds elapsed... 5.26 games/second, wins: 34\n",
      "trial 325721 61943.9 seconds elapsed... 5.26 games/second, wins: 34\n",
      "trial 325933 61959.0 seconds elapsed... 5.26 games/second, wins: 34\n",
      "trial 326137 61974.0 seconds elapsed... 5.26 games/second, wins: 34\n",
      "trial 326344 61989.0 seconds elapsed... 5.26 games/second, wins: 34\n",
      "trial 326552 62004.1 seconds elapsed... 5.27 games/second, wins: 34\n",
      "trial 326762 62019.1 seconds elapsed... 5.27 games/second, wins: 34\n",
      "trial 326966 62034.2 seconds elapsed... 5.27 games/second, wins: 34\n",
      "trial 327173 62049.2 seconds elapsed... 5.27 games/second, wins: 34\n",
      "trial 327386 62064.2 seconds elapsed... 5.27 games/second, wins: 34\n",
      "trial 327590 62079.2 seconds elapsed... 5.28 games/second, wins: 34\n",
      "trial 327794 62094.3 seconds elapsed... 5.28 games/second, wins: 34\n",
      "trial 328002 62109.3 seconds elapsed... 5.28 games/second, wins: 34\n",
      "trial 328211 62124.3 seconds elapsed... 5.28 games/second, wins: 34\n",
      "trial 328420 62139.4 seconds elapsed... 5.29 games/second, wins: 34\n",
      "trial 328630 62154.4 seconds elapsed... 5.29 games/second, wins: 34\n",
      "trial 328833 62169.5 seconds elapsed... 5.29 games/second, wins: 34\n",
      "trial 329044 62184.5 seconds elapsed... 5.29 games/second, wins: 34\n",
      "trial 329253 62199.5 seconds elapsed... 5.29 games/second, wins: 34\n",
      "trial 329459 62214.5 seconds elapsed... 5.30 games/second, wins: 34\n",
      "trial 329666 62229.6 seconds elapsed... 5.30 games/second, wins: 34\n",
      "trial 329872 62244.6 seconds elapsed... 5.30 games/second, wins: 34\n",
      "trial 330080 62259.6 seconds elapsed... 5.30 games/second, wins: 34\n",
      "trial 330286 62274.6 seconds elapsed... 5.30 games/second, wins: 34\n",
      "trial 330491 62289.6 seconds elapsed... 5.31 games/second, wins: 34\n",
      "trial 330700 62304.7 seconds elapsed... 5.31 games/second, wins: 34\n",
      "trial 330908 62319.7 seconds elapsed... 5.31 games/second, wins: 34\n",
      "trial 331114 62334.8 seconds elapsed... 5.31 games/second, wins: 34\n",
      "trial 331325 62349.8 seconds elapsed... 5.31 games/second, wins: 34\n",
      "trial 331531 62364.8 seconds elapsed... 5.32 games/second, wins: 34\n",
      "trial 331742 62379.9 seconds elapsed... 5.32 games/second, wins: 34\n",
      "trial 331952 62394.9 seconds elapsed... 5.32 games/second, wins: 34\n",
      "trial 332158 62409.9 seconds elapsed... 5.32 games/second, wins: 34\n",
      "trial 332369 62425.0 seconds elapsed... 5.32 games/second, wins: 34\n",
      "trial 332572 62440.0 seconds elapsed... 5.33 games/second, wins: 34\n",
      "trial 332779 62455.1 seconds elapsed... 5.33 games/second, wins: 34\n",
      "trial 332916 62851.9 seconds elapsed... 5.30 games/second, wins: 34\n",
      "trial 333122 62866.9 seconds elapsed... 5.30 games/second, wins: 34\n",
      "trial 333332 62882.0 seconds elapsed... 5.30 games/second, wins: 34\n",
      "trial 333547 62897.0 seconds elapsed... 5.30 games/second, wins: 34\n",
      "trial 333573 62938.3 seconds elapsed... 5.30 games/second, wins: 34\n"
     ]
    },
    {
     "data": {
      "image/png": "[encoded data removed]",
      "text/plain": [
       "<Figure size 600x600 with 1 Axes>"
      ]
     },
     "metadata": {},
     "output_type": "display_data"
    },
    {
     "name": "stdout",
     "output_type": "stream",
     "text": [
      "trial 333777 62953.3 seconds elapsed... 5.30 games/second, wins: 35\n",
      "trial 333986 62968.4 seconds elapsed... 5.30 games/second, wins: 35\n",
      "trial 334192 62983.4 seconds elapsed... 5.31 games/second, wins: 35\n",
      "trial 334216 63073.1 seconds elapsed... 5.30 games/second, wins: 35\n",
      "trial 334426 63088.2 seconds elapsed... 5.30 games/second, wins: 35\n",
      "trial 334638 63103.3 seconds elapsed... 5.30 games/second, wins: 35\n",
      "trial 334844 63118.3 seconds elapsed... 5.31 games/second, wins: 35\n",
      "trial 334867 63193.8 seconds elapsed... 5.30 games/second, wins: 35\n",
      "trial 335080 63208.8 seconds elapsed... 5.30 games/second, wins: 35\n",
      "trial 335289 63223.8 seconds elapsed... 5.30 games/second, wins: 35\n",
      "trial 335502 63238.8 seconds elapsed... 5.31 games/second, wins: 35\n",
      "trial 335525 64138.5 seconds elapsed... 5.23 games/second, wins: 35\n",
      "trial 335730 64153.5 seconds elapsed... 5.23 games/second, wins: 35\n",
      "trial 335939 64168.6 seconds elapsed... 5.24 games/second, wins: 35\n",
      "trial 336150 64183.6 seconds elapsed... 5.24 games/second, wins: 35\n",
      "trial 336359 64198.7 seconds elapsed... 5.24 games/second, wins: 35\n",
      "trial 336390 65121.5 seconds elapsed... 5.17 games/second, wins: 35\n",
      "trial 336602 65136.6 seconds elapsed... 5.17 games/second, wins: 35\n",
      "trial 336812 65151.6 seconds elapsed... 5.17 games/second, wins: 35\n",
      "trial 337021 65166.6 seconds elapsed... 5.17 games/second, wins: 35\n",
      "trial 337045 65293.1 seconds elapsed... 5.16 games/second, wins: 35\n",
      "trial 337242 65308.2 seconds elapsed... 5.16 games/second, wins: 35\n",
      "trial 337445 65323.2 seconds elapsed... 5.17 games/second, wins: 35\n",
      "trial 337652 65338.2 seconds elapsed... 5.17 games/second, wins: 35\n",
      "trial 337856 65353.3 seconds elapsed... 5.17 games/second, wins: 35\n",
      "trial 338063 65368.4 seconds elapsed... 5.17 games/second, wins: 35\n",
      "trial 338268 65383.4 seconds elapsed... 5.17 games/second, wins: 35\n",
      "trial 338472 65398.5 seconds elapsed... 5.18 games/second, wins: 35\n",
      "trial 338681 65413.5 seconds elapsed... 5.18 games/second, wins: 35\n",
      "trial 338892 65428.5 seconds elapsed... 5.18 games/second, wins: 35\n",
      "trial 339100 65443.5 seconds elapsed... 5.18 games/second, wins: 35\n",
      "trial 339303 65458.6 seconds elapsed... 5.18 games/second, wins: 35\n",
      "trial 339508 65473.6 seconds elapsed... 5.19 games/second, wins: 35\n",
      "trial 339716 65488.6 seconds elapsed... 5.19 games/second, wins: 35\n",
      "trial 339925 65503.7 seconds elapsed... 5.19 games/second, wins: 35\n",
      "trial 340127 65518.7 seconds elapsed... 5.19 games/second, wins: 35\n",
      "trial 340328 65533.7 seconds elapsed... 5.19 games/second, wins: 35\n",
      "trial 340530 65548.7 seconds elapsed... 5.20 games/second, wins: 35\n",
      "trial 340735 65563.8 seconds elapsed... 5.20 games/second, wins: 35\n",
      "trial 340943 65578.8 seconds elapsed... 5.20 games/second, wins: 35\n",
      "trial 341147 65593.8 seconds elapsed... 5.20 games/second, wins: 35\n",
      "trial 341354 65608.9 seconds elapsed... 5.20 games/second, wins: 35\n",
      "trial 341559 65623.9 seconds elapsed... 5.20 games/second, wins: 35\n",
      "trial 341767 65639.0 seconds elapsed... 5.21 games/second, wins: 35\n",
      "trial 341972 65654.0 seconds elapsed... 5.21 games/second, wins: 35\n",
      "trial 342176 65669.0 seconds elapsed... 5.21 games/second, wins: 35\n",
      "trial 342384 65684.0 seconds elapsed... 5.21 games/second, wins: 35\n",
      "trial 342590 65699.0 seconds elapsed... 5.21 games/second, wins: 35\n",
      "trial 342797 65714.1 seconds elapsed... 5.22 games/second, wins: 35\n",
      "trial 342998 65729.2 seconds elapsed... 5.22 games/second, wins: 35\n",
      "trial 343204 65744.2 seconds elapsed... 5.22 games/second, wins: 35\n",
      "trial 343410 65759.2 seconds elapsed... 5.22 games/second, wins: 35\n",
      "trial 343615 65774.3 seconds elapsed... 5.22 games/second, wins: 35\n",
      "trial 343816 65789.3 seconds elapsed... 5.23 games/second, wins: 35\n",
      "trial 344018 65804.4 seconds elapsed... 5.23 games/second, wins: 35\n",
      "trial 344219 65819.4 seconds elapsed... 5.23 games/second, wins: 35\n",
      "trial 344423 65834.4 seconds elapsed... 5.23 games/second, wins: 35\n",
      "trial 344627 65849.5 seconds elapsed... 5.23 games/second, wins: 35\n",
      "trial 344832 65864.5 seconds elapsed... 5.24 games/second, wins: 35\n",
      "trial 345040 65879.6 seconds elapsed... 5.24 games/second, wins: 35\n",
      "trial 345246 65894.6 seconds elapsed... 5.24 games/second, wins: 35\n",
      "trial 345454 65909.6 seconds elapsed... 5.24 games/second, wins: 35\n",
      "trial 345659 65924.7 seconds elapsed... 5.24 games/second, wins: 35\n",
      "trial 345865 65939.7 seconds elapsed... 5.25 games/second, wins: 35\n",
      "trial 346078 65954.8 seconds elapsed... 5.25 games/second, wins: 35\n",
      "trial 346279 65969.8 seconds elapsed... 5.25 games/second, wins: 35\n",
      "trial 346483 65984.9 seconds elapsed... 5.25 games/second, wins: 35\n",
      "trial 346692 65999.9 seconds elapsed... 5.25 games/second, wins: 35\n",
      "trial 346899 66014.9 seconds elapsed... 5.25 games/second, wins: 35\n",
      "trial 347109 66029.9 seconds elapsed... 5.26 games/second, wins: 35\n",
      "trial 347308 66045.0 seconds elapsed... 5.26 games/second, wins: 35\n",
      "trial 347512 66060.0 seconds elapsed... 5.26 games/second, wins: 35\n",
      "trial 347718 66075.1 seconds elapsed... 5.26 games/second, wins: 35\n",
      "trial 347926 66090.2 seconds elapsed... 5.26 games/second, wins: 35\n",
      "trial 348134 66105.2 seconds elapsed... 5.27 games/second, wins: 35\n",
      "trial 348340 66120.3 seconds elapsed... 5.27 games/second, wins: 35\n",
      "trial 348543 66135.3 seconds elapsed... 5.27 games/second, wins: 35\n",
      "trial 348752 66150.4 seconds elapsed... 5.27 games/second, wins: 35\n",
      "trial 348953 66165.4 seconds elapsed... 5.27 games/second, wins: 35\n",
      "trial 349161 66180.5 seconds elapsed... 5.28 games/second, wins: 35\n",
      "trial 349364 66195.6 seconds elapsed... 5.28 games/second, wins: 35\n",
      "trial 349570 66210.6 seconds elapsed... 5.28 games/second, wins: 35\n",
      "trial 349782 66225.6 seconds elapsed... 5.28 games/second, wins: 35\n",
      "trial 349992 66240.6 seconds elapsed... 5.28 games/second, wins: 35\n",
      "trial 350201 66255.6 seconds elapsed... 5.29 games/second, wins: 35\n",
      "trial 350402 66270.7 seconds elapsed... 5.29 games/second, wins: 35\n",
      "trial 350608 66285.7 seconds elapsed... 5.29 games/second, wins: 35\n",
      "trial 350817 66300.8 seconds elapsed... 5.29 games/second, wins: 35\n",
      "trial 351021 66315.8 seconds elapsed... 5.29 games/second, wins: 35\n",
      "trial 351229 66330.9 seconds elapsed... 5.30 games/second, wins: 35\n",
      "trial 351439 66345.9 seconds elapsed... 5.30 games/second, wins: 35\n",
      "trial 351643 66361.0 seconds elapsed... 5.30 games/second, wins: 35\n",
      "trial 351851 66376.0 seconds elapsed... 5.30 games/second, wins: 35\n",
      "trial 352056 66391.0 seconds elapsed... 5.30 games/second, wins: 35\n",
      "trial 352270 66406.1 seconds elapsed... 5.30 games/second, wins: 35\n",
      "trial 352471 66421.1 seconds elapsed... 5.31 games/second, wins: 35\n",
      "trial 352681 66436.2 seconds elapsed... 5.31 games/second, wins: 35\n",
      "trial 352884 66451.2 seconds elapsed... 5.31 games/second, wins: 35\n",
      "trial 353094 66466.2 seconds elapsed... 5.31 games/second, wins: 35\n",
      "trial 353303 66481.3 seconds elapsed... 5.31 games/second, wins: 35\n",
      "trial 353509 66496.3 seconds elapsed... 5.32 games/second, wins: 35\n",
      "trial 353718 66511.4 seconds elapsed... 5.32 games/second, wins: 35\n",
      "trial 353925 66526.4 seconds elapsed... 5.32 games/second, wins: 35\n",
      "trial 354133 66541.4 seconds elapsed... 5.32 games/second, wins: 35\n",
      "trial 354338 66556.4 seconds elapsed... 5.32 games/second, wins: 35\n",
      "trial 354541 66571.5 seconds elapsed... 5.33 games/second, wins: 35\n",
      "trial 354746 66586.5 seconds elapsed... 5.33 games/second, wins: 35\n",
      "trial 354954 66601.5 seconds elapsed... 5.33 games/second, wins: 35\n",
      "trial 355164 66616.5 seconds elapsed... 5.33 games/second, wins: 35\n",
      "trial 355372 66631.6 seconds elapsed... 5.33 games/second, wins: 35\n",
      "trial 355576 66646.6 seconds elapsed... 5.34 games/second, wins: 35\n",
      "trial 355784 66661.7 seconds elapsed... 5.34 games/second, wins: 35\n",
      "trial 355993 66676.7 seconds elapsed... 5.34 games/second, wins: 35\n",
      "trial 356202 66691.7 seconds elapsed... 5.34 games/second, wins: 35\n",
      "trial 356405 66706.7 seconds elapsed... 5.34 games/second, wins: 35\n",
      "trial 356609 66721.8 seconds elapsed... 5.34 games/second, wins: 35\n",
      "trial 356818 66736.8 seconds elapsed... 5.35 games/second, wins: 35\n"
     ]
    },
    {
     "data": {
      "image/png": "[encoded data removed]",
      "text/plain": [
       "<Figure size 600x600 with 1 Axes>"
      ]
     },
     "metadata": {},
     "output_type": "display_data"
    },
    {
     "name": "stdout",
     "output_type": "stream",
     "text": [
      "trial 357024 66751.8 seconds elapsed... 5.35 games/second, wins: 36\n",
      "trial 357233 66766.9 seconds elapsed... 5.35 games/second, wins: 36\n",
      "trial 357439 66781.9 seconds elapsed... 5.35 games/second, wins: 36\n",
      "trial 357646 66796.9 seconds elapsed... 5.35 games/second, wins: 36\n",
      "trial 357850 66812.0 seconds elapsed... 5.36 games/second, wins: 36\n",
      "trial 358063 66827.0 seconds elapsed... 5.36 games/second, wins: 36\n",
      "trial 358273 66842.0 seconds elapsed... 5.36 games/second, wins: 36\n",
      "trial 358483 66857.1 seconds elapsed... 5.36 games/second, wins: 36\n",
      "trial 358686 66872.1 seconds elapsed... 5.36 games/second, wins: 36\n",
      "trial 358892 66887.1 seconds elapsed... 5.37 games/second, wins: 36\n",
      "trial 359100 66902.2 seconds elapsed... 5.37 games/second, wins: 36\n",
      "trial 359307 66917.2 seconds elapsed... 5.37 games/second, wins: 36\n",
      "trial 359517 66932.3 seconds elapsed... 5.37 games/second, wins: 36\n",
      "trial 359721 66947.3 seconds elapsed... 5.37 games/second, wins: 36\n",
      "trial 359929 66962.4 seconds elapsed... 5.38 games/second, wins: 36\n",
      "trial 360141 66977.4 seconds elapsed... 5.38 games/second, wins: 36\n",
      "trial 360342 66992.4 seconds elapsed... 5.38 games/second, wins: 36\n",
      "trial 360547 67007.4 seconds elapsed... 5.38 games/second, wins: 36\n",
      "trial 360757 67022.5 seconds elapsed... 5.38 games/second, wins: 36\n",
      "trial 360965 67037.5 seconds elapsed... 5.38 games/second, wins: 36\n"
     ]
    },
    {
     "data": {
      "image/png": "[encoded data removed]",
      "text/plain": [
       "<Figure size 600x600 with 1 Axes>"
      ]
     },
     "metadata": {},
     "output_type": "display_data"
    },
    {
     "name": "stdout",
     "output_type": "stream",
     "text": [
      "trial 361174 67052.5 seconds elapsed... 5.39 games/second, wins: 37\n",
      "trial 361378 67067.5 seconds elapsed... 5.39 games/second, wins: 37\n",
      "trial 361590 67082.6 seconds elapsed... 5.39 games/second, wins: 37\n",
      "trial 361799 67097.7 seconds elapsed... 5.39 games/second, wins: 37\n",
      "trial 362011 67112.7 seconds elapsed... 5.39 games/second, wins: 37\n",
      "trial 362216 67127.7 seconds elapsed... 5.40 games/second, wins: 37\n",
      "trial 362421 67142.7 seconds elapsed... 5.40 games/second, wins: 37\n"
     ]
    },
    {
     "data": {
      "image/png": "[encoded data removed]",
      "text/plain": [
       "<Figure size 600x600 with 1 Axes>"
      ]
     },
     "metadata": {},
     "output_type": "display_data"
    },
    {
     "name": "stdout",
     "output_type": "stream",
     "text": [
      "trial 362631 67157.8 seconds elapsed... 5.40 games/second, wins: 38\n",
      "trial 362834 67172.8 seconds elapsed... 5.40 games/second, wins: 38\n",
      "trial 363041 67187.8 seconds elapsed... 5.40 games/second, wins: 38\n",
      "trial 363247 67202.9 seconds elapsed... 5.41 games/second, wins: 38\n",
      "trial 363458 67218.0 seconds elapsed... 5.41 games/second, wins: 38\n",
      "trial 363664 67233.0 seconds elapsed... 5.41 games/second, wins: 38\n",
      "trial 363869 67248.0 seconds elapsed... 5.41 games/second, wins: 38\n",
      "trial 364074 67263.1 seconds elapsed... 5.41 games/second, wins: 38\n",
      "trial 364277 67278.1 seconds elapsed... 5.41 games/second, wins: 38\n",
      "trial 364486 67293.1 seconds elapsed... 5.42 games/second, wins: 38\n"
     ]
    },
    {
     "data": {
      "image/png": "[encoded data removed]",
      "text/plain": [
       "<Figure size 600x600 with 1 Axes>"
      ]
     },
     "metadata": {},
     "output_type": "display_data"
    },
    {
     "name": "stdout",
     "output_type": "stream",
     "text": [
      "trial 364693 67308.2 seconds elapsed... 5.42 games/second, wins: 39\n",
      "trial 364901 67323.2 seconds elapsed... 5.42 games/second, wins: 39\n",
      "trial 365108 67338.2 seconds elapsed... 5.42 games/second, wins: 39\n",
      "trial 365316 67353.3 seconds elapsed... 5.42 games/second, wins: 39\n",
      "trial 365525 67368.3 seconds elapsed... 5.43 games/second, wins: 39\n",
      "trial 365732 67383.4 seconds elapsed... 5.43 games/second, wins: 39\n",
      "trial 365940 67398.5 seconds elapsed... 5.43 games/second, wins: 39\n",
      "trial 366144 67413.6 seconds elapsed... 5.43 games/second, wins: 39\n",
      "trial 366347 67428.6 seconds elapsed... 5.43 games/second, wins: 39\n",
      "trial 366553 67443.6 seconds elapsed... 5.43 games/second, wins: 39\n",
      "trial 366756 67458.6 seconds elapsed... 5.44 games/second, wins: 39\n",
      "trial 366960 67473.6 seconds elapsed... 5.44 games/second, wins: 39\n",
      "trial 367168 67488.7 seconds elapsed... 5.44 games/second, wins: 39\n",
      "trial 367378 67503.8 seconds elapsed... 5.44 games/second, wins: 39\n",
      "trial 367585 67518.8 seconds elapsed... 5.44 games/second, wins: 39\n",
      "trial 367788 67533.8 seconds elapsed... 5.45 games/second, wins: 39\n",
      "trial 367993 67548.9 seconds elapsed... 5.45 games/second, wins: 39\n",
      "trial 368197 67563.9 seconds elapsed... 5.45 games/second, wins: 39\n",
      "trial 368403 67579.0 seconds elapsed... 5.45 games/second, wins: 39\n",
      "trial 368606 67594.0 seconds elapsed... 5.45 games/second, wins: 39\n",
      "trial 368810 67609.0 seconds elapsed... 5.46 games/second, wins: 39\n",
      "trial 369019 67624.1 seconds elapsed... 5.46 games/second, wins: 39\n",
      "trial 369223 67639.1 seconds elapsed... 5.46 games/second, wins: 39\n",
      "trial 369429 67654.2 seconds elapsed... 5.46 games/second, wins: 39\n",
      "trial 369642 67669.2 seconds elapsed... 5.46 games/second, wins: 39\n",
      "trial 369846 67684.3 seconds elapsed... 5.46 games/second, wins: 39\n",
      "trial 370046 67699.3 seconds elapsed... 5.47 games/second, wins: 39\n",
      "trial 370254 67714.3 seconds elapsed... 5.47 games/second, wins: 39\n",
      "trial 370456 67729.4 seconds elapsed... 5.47 games/second, wins: 39\n",
      "trial 370656 67744.4 seconds elapsed... 5.47 games/second, wins: 39\n",
      "trial 370864 67759.4 seconds elapsed... 5.47 games/second, wins: 39\n",
      "trial 371064 67774.5 seconds elapsed... 5.47 games/second, wins: 39\n",
      "trial 371272 67789.5 seconds elapsed... 5.48 games/second, wins: 39\n",
      "trial 371476 67804.6 seconds elapsed... 5.48 games/second, wins: 39\n",
      "trial 371675 67819.6 seconds elapsed... 5.48 games/second, wins: 39\n",
      "trial 371878 67834.6 seconds elapsed... 5.48 games/second, wins: 39\n",
      "trial 372083 67849.7 seconds elapsed... 5.48 games/second, wins: 39\n",
      "trial 372288 67864.7 seconds elapsed... 5.49 games/second, wins: 39\n",
      "trial 372494 67879.7 seconds elapsed... 5.49 games/second, wins: 39\n",
      "trial 372696 67894.8 seconds elapsed... 5.49 games/second, wins: 39\n",
      "trial 372905 67909.8 seconds elapsed... 5.49 games/second, wins: 39\n",
      "trial 373111 67924.9 seconds elapsed... 5.49 games/second, wins: 39\n",
      "trial 373314 67939.9 seconds elapsed... 5.49 games/second, wins: 39\n",
      "trial 373519 67955.0 seconds elapsed... 5.50 games/second, wins: 39\n",
      "trial 373722 67970.0 seconds elapsed... 5.50 games/second, wins: 39\n",
      "trial 373931 67985.0 seconds elapsed... 5.50 games/second, wins: 39\n",
      "trial 374138 68000.0 seconds elapsed... 5.50 games/second, wins: 39\n",
      "trial 374342 68015.1 seconds elapsed... 5.50 games/second, wins: 39\n"
     ]
    },
    {
     "data": {
      "image/png": "[encoded data removed]",
      "text/plain": [
       "<Figure size 600x600 with 1 Axes>"
      ]
     },
     "metadata": {},
     "output_type": "display_data"
    },
    {
     "name": "stdout",
     "output_type": "stream",
     "text": [
      "trial 374550 68030.1 seconds elapsed... 5.51 games/second, wins: 40\n",
      "trial 374757 68045.2 seconds elapsed... 5.51 games/second, wins: 40\n",
      "trial 374959 68060.2 seconds elapsed... 5.51 games/second, wins: 40\n",
      "trial 375164 68075.2 seconds elapsed... 5.51 games/second, wins: 40\n",
      "trial 375376 68090.3 seconds elapsed... 5.51 games/second, wins: 40\n",
      "trial 375587 68105.3 seconds elapsed... 5.51 games/second, wins: 40\n",
      "trial 375793 68120.4 seconds elapsed... 5.52 games/second, wins: 40\n",
      "trial 375999 68135.4 seconds elapsed... 5.52 games/second, wins: 40\n",
      "trial 376208 68150.5 seconds elapsed... 5.52 games/second, wins: 40\n",
      "trial 376414 68165.5 seconds elapsed... 5.52 games/second, wins: 40\n",
      "trial 376622 68180.5 seconds elapsed... 5.52 games/second, wins: 40\n",
      "trial 376833 68195.6 seconds elapsed... 5.53 games/second, wins: 40\n",
      "trial 377043 68210.6 seconds elapsed... 5.53 games/second, wins: 40\n",
      "trial 377247 68225.7 seconds elapsed... 5.53 games/second, wins: 40\n",
      "trial 377456 68240.7 seconds elapsed... 5.53 games/second, wins: 40\n",
      "trial 377660 68255.7 seconds elapsed... 5.53 games/second, wins: 40\n",
      "trial 377868 68270.8 seconds elapsed... 5.53 games/second, wins: 40\n",
      "trial 378069 68285.9 seconds elapsed... 5.54 games/second, wins: 40\n",
      "trial 378276 68300.9 seconds elapsed... 5.54 games/second, wins: 40\n",
      "trial 378483 68315.9 seconds elapsed... 5.54 games/second, wins: 40\n",
      "trial 378690 68330.9 seconds elapsed... 5.54 games/second, wins: 40\n",
      "trial 378901 68346.0 seconds elapsed... 5.54 games/second, wins: 40\n",
      "trial 379110 68361.0 seconds elapsed... 5.55 games/second, wins: 40\n",
      "trial 379318 68376.0 seconds elapsed... 5.55 games/second, wins: 40\n",
      "trial 379529 68391.1 seconds elapsed... 5.55 games/second, wins: 40\n",
      "trial 379740 68406.1 seconds elapsed... 5.55 games/second, wins: 40\n",
      "trial 379948 68421.1 seconds elapsed... 5.55 games/second, wins: 40\n",
      "trial 380154 68436.1 seconds elapsed... 5.55 games/second, wins: 40\n",
      "trial 380361 68451.1 seconds elapsed... 5.56 games/second, wins: 40\n",
      "trial 380570 68466.2 seconds elapsed... 5.56 games/second, wins: 40\n",
      "trial 380777 68481.2 seconds elapsed... 5.56 games/second, wins: 40\n",
      "trial 380990 68496.3 seconds elapsed... 5.56 games/second, wins: 40\n",
      "trial 381197 68511.3 seconds elapsed... 5.56 games/second, wins: 40\n",
      "trial 381406 68526.4 seconds elapsed... 5.57 games/second, wins: 40\n",
      "trial 381611 68541.5 seconds elapsed... 5.57 games/second, wins: 40\n",
      "trial 381816 68556.5 seconds elapsed... 5.57 games/second, wins: 40\n",
      "trial 382022 68571.5 seconds elapsed... 5.57 games/second, wins: 40\n",
      "trial 382234 68586.6 seconds elapsed... 5.57 games/second, wins: 40\n",
      "trial 382444 68601.6 seconds elapsed... 5.57 games/second, wins: 40\n",
      "trial 382649 68616.6 seconds elapsed... 5.58 games/second, wins: 40\n",
      "trial 382858 68631.7 seconds elapsed... 5.58 games/second, wins: 40\n",
      "trial 383067 68646.7 seconds elapsed... 5.58 games/second, wins: 40\n",
      "trial 383275 68661.7 seconds elapsed... 5.58 games/second, wins: 40\n",
      "trial 383482 68676.8 seconds elapsed... 5.58 games/second, wins: 40\n",
      "trial 383690 68691.9 seconds elapsed... 5.59 games/second, wins: 40\n",
      "trial 383896 68706.9 seconds elapsed... 5.59 games/second, wins: 40\n",
      "trial 384100 68721.9 seconds elapsed... 5.59 games/second, wins: 40\n",
      "trial 384311 68736.9 seconds elapsed... 5.59 games/second, wins: 40\n",
      "trial 384514 68751.9 seconds elapsed... 5.59 games/second, wins: 40\n",
      "trial 384722 68766.9 seconds elapsed... 5.59 games/second, wins: 40\n",
      "trial 384926 68781.9 seconds elapsed... 5.60 games/second, wins: 40\n",
      "trial 385135 68797.0 seconds elapsed... 5.60 games/second, wins: 40\n",
      "trial 385344 68812.0 seconds elapsed... 5.60 games/second, wins: 40\n",
      "trial 385551 68827.1 seconds elapsed... 5.60 games/second, wins: 40\n",
      "trial 385756 68842.1 seconds elapsed... 5.60 games/second, wins: 40\n",
      "trial 385965 68857.1 seconds elapsed... 5.61 games/second, wins: 40\n",
      "trial 386171 68872.1 seconds elapsed... 5.61 games/second, wins: 40\n",
      "trial 386378 68887.2 seconds elapsed... 5.61 games/second, wins: 40\n",
      "trial 386582 68902.2 seconds elapsed... 5.61 games/second, wins: 40\n",
      "trial 386790 68917.2 seconds elapsed... 5.61 games/second, wins: 40\n",
      "trial 386999 68932.2 seconds elapsed... 5.61 games/second, wins: 40\n",
      "trial 387205 68947.2 seconds elapsed... 5.62 games/second, wins: 40\n",
      "trial 387412 68962.3 seconds elapsed... 5.62 games/second, wins: 40\n",
      "trial 387619 68977.3 seconds elapsed... 5.62 games/second, wins: 40\n",
      "trial 387829 68992.3 seconds elapsed... 5.62 games/second, wins: 40\n",
      "trial 388039 69007.4 seconds elapsed... 5.62 games/second, wins: 40\n",
      "trial 388247 69022.4 seconds elapsed... 5.62 games/second, wins: 40\n",
      "trial 388454 69037.5 seconds elapsed... 5.63 games/second, wins: 40\n",
      "trial 388658 69052.5 seconds elapsed... 5.63 games/second, wins: 40\n",
      "trial 388861 69067.6 seconds elapsed... 5.63 games/second, wins: 40\n",
      "trial 389072 69082.6 seconds elapsed... 5.63 games/second, wins: 40\n",
      "trial 389279 69097.6 seconds elapsed... 5.63 games/second, wins: 40\n",
      "trial 389480 69112.7 seconds elapsed... 5.64 games/second, wins: 40\n",
      "trial 389686 69127.8 seconds elapsed... 5.64 games/second, wins: 40\n",
      "trial 389897 69142.8 seconds elapsed... 5.64 games/second, wins: 40\n",
      "trial 390109 69157.9 seconds elapsed... 5.64 games/second, wins: 40\n",
      "trial 390317 69172.9 seconds elapsed... 5.64 games/second, wins: 40\n",
      "trial 390521 69187.9 seconds elapsed... 5.64 games/second, wins: 40\n",
      "trial 390727 69202.9 seconds elapsed... 5.65 games/second, wins: 40\n",
      "trial 390929 69218.0 seconds elapsed... 5.65 games/second, wins: 40\n",
      "trial 391137 69233.0 seconds elapsed... 5.65 games/second, wins: 40\n",
      "trial 391348 69248.0 seconds elapsed... 5.65 games/second, wins: 40\n",
      "trial 391554 69263.1 seconds elapsed... 5.65 games/second, wins: 40\n",
      "trial 391762 69278.1 seconds elapsed... 5.65 games/second, wins: 40\n",
      "trial 391963 69293.1 seconds elapsed... 5.66 games/second, wins: 40\n",
      "trial 392171 69308.1 seconds elapsed... 5.66 games/second, wins: 40\n",
      "trial 392380 69323.1 seconds elapsed... 5.66 games/second, wins: 40\n",
      "trial 392585 69338.1 seconds elapsed... 5.66 games/second, wins: 40\n",
      "trial 392793 69353.1 seconds elapsed... 5.66 games/second, wins: 40\n",
      "trial 393000 69368.2 seconds elapsed... 5.67 games/second, wins: 40\n",
      "trial 393204 69383.2 seconds elapsed... 5.67 games/second, wins: 40\n",
      "trial 393412 69398.2 seconds elapsed... 5.67 games/second, wins: 40\n",
      "trial 393619 69413.2 seconds elapsed... 5.67 games/second, wins: 40\n",
      "trial 393820 69428.3 seconds elapsed... 5.67 games/second, wins: 40\n",
      "trial 394025 69443.3 seconds elapsed... 5.67 games/second, wins: 40\n",
      "trial 394222 69458.3 seconds elapsed... 5.68 games/second, wins: 40\n",
      "trial 394422 69473.4 seconds elapsed... 5.68 games/second, wins: 40\n",
      "trial 394623 69488.5 seconds elapsed... 5.68 games/second, wins: 40\n",
      "trial 394825 69503.5 seconds elapsed... 5.68 games/second, wins: 40\n",
      "trial 395024 69518.5 seconds elapsed... 5.68 games/second, wins: 40\n",
      "trial 395226 69533.5 seconds elapsed... 5.68 games/second, wins: 40\n",
      "trial 395428 69548.6 seconds elapsed... 5.69 games/second, wins: 40\n",
      "trial 395633 69563.6 seconds elapsed... 5.69 games/second, wins: 40\n",
      "trial 395840 69578.6 seconds elapsed... 5.69 games/second, wins: 40\n",
      "trial 396043 69593.6 seconds elapsed... 5.69 games/second, wins: 40\n",
      "trial 396241 69608.7 seconds elapsed... 5.69 games/second, wins: 40\n",
      "trial 396450 69623.8 seconds elapsed... 5.69 games/second, wins: 40\n",
      "trial 396651 69638.8 seconds elapsed... 5.70 games/second, wins: 40\n",
      "trial 396855 69653.9 seconds elapsed... 5.70 games/second, wins: 40\n",
      "trial 397060 69668.9 seconds elapsed... 5.70 games/second, wins: 40\n",
      "trial 397261 69684.0 seconds elapsed... 5.70 games/second, wins: 40\n",
      "trial 397464 69699.1 seconds elapsed... 5.70 games/second, wins: 40\n",
      "trial 397669 69714.1 seconds elapsed... 5.70 games/second, wins: 40\n",
      "trial 397874 69729.2 seconds elapsed... 5.71 games/second, wins: 40\n",
      "trial 398082 69744.3 seconds elapsed... 5.71 games/second, wins: 40\n",
      "trial 398281 69759.3 seconds elapsed... 5.71 games/second, wins: 40\n",
      "trial 398479 69774.3 seconds elapsed... 5.71 games/second, wins: 40\n",
      "trial 398678 69789.4 seconds elapsed... 5.71 games/second, wins: 40\n",
      "trial 398874 69804.4 seconds elapsed... 5.71 games/second, wins: 40\n",
      "trial 399075 69819.4 seconds elapsed... 5.72 games/second, wins: 40\n",
      "trial 399269 69834.5 seconds elapsed... 5.72 games/second, wins: 40\n",
      "trial 399466 69849.5 seconds elapsed... 5.72 games/second, wins: 40\n",
      "trial 399663 69864.6 seconds elapsed... 5.72 games/second, wins: 40\n",
      "trial 399869 69879.7 seconds elapsed... 5.72 games/second, wins: 40\n",
      "trial 400074 69894.7 seconds elapsed... 5.72 games/second, wins: 40\n",
      "trial 400285 69909.8 seconds elapsed... 5.73 games/second, wins: 40\n",
      "trial 400496 69924.9 seconds elapsed... 5.73 games/second, wins: 40\n",
      "trial 400709 69939.9 seconds elapsed... 5.73 games/second, wins: 40\n",
      "trial 400921 69954.9 seconds elapsed... 5.73 games/second, wins: 40\n",
      "trial 401130 69969.9 seconds elapsed... 5.73 games/second, wins: 40\n",
      "trial 401335 69985.0 seconds elapsed... 5.73 games/second, wins: 40\n",
      "trial 401539 70000.0 seconds elapsed... 5.74 games/second, wins: 40\n",
      "trial 401735 70015.0 seconds elapsed... 5.74 games/second, wins: 40\n",
      "trial 401930 70030.0 seconds elapsed... 5.74 games/second, wins: 40\n",
      "trial 402132 70045.0 seconds elapsed... 5.74 games/second, wins: 40\n"
     ]
    },
    {
     "data": {
      "image/png": "[encoded data removed]",
      "text/plain": [
       "<Figure size 600x600 with 1 Axes>"
      ]
     },
     "metadata": {},
     "output_type": "display_data"
    },
    {
     "name": "stdout",
     "output_type": "stream",
     "text": [
      "trial 402330 70060.0 seconds elapsed... 5.74 games/second, wins: 41\n",
      "trial 402527 70075.1 seconds elapsed... 5.74 games/second, wins: 41\n",
      "trial 402730 70090.1 seconds elapsed... 5.75 games/second, wins: 41\n",
      "trial 402930 70105.2 seconds elapsed... 5.75 games/second, wins: 41\n",
      "trial 403130 70120.2 seconds elapsed... 5.75 games/second, wins: 41\n",
      "trial 403327 70135.2 seconds elapsed... 5.75 games/second, wins: 41\n",
      "trial 403532 70150.3 seconds elapsed... 5.75 games/second, wins: 41\n",
      "trial 403730 70165.4 seconds elapsed... 5.75 games/second, wins: 41\n",
      "trial 403924 70180.4 seconds elapsed... 5.76 games/second, wins: 41\n",
      "trial 404121 70195.4 seconds elapsed... 5.76 games/second, wins: 41\n",
      "trial 404323 70210.4 seconds elapsed... 5.76 games/second, wins: 41\n",
      "trial 404524 70225.5 seconds elapsed... 5.76 games/second, wins: 41\n",
      "trial 404720 70240.5 seconds elapsed... 5.76 games/second, wins: 41\n",
      "trial 404924 70255.5 seconds elapsed... 5.76 games/second, wins: 41\n",
      "trial 405123 70270.6 seconds elapsed... 5.77 games/second, wins: 41\n",
      "trial 405321 70285.6 seconds elapsed... 5.77 games/second, wins: 41\n",
      "trial 405522 70300.6 seconds elapsed... 5.77 games/second, wins: 41\n",
      "trial 405723 70315.7 seconds elapsed... 5.77 games/second, wins: 41\n",
      "trial 405921 70330.8 seconds elapsed... 5.77 games/second, wins: 41\n",
      "trial 406117 70345.8 seconds elapsed... 5.77 games/second, wins: 41\n",
      "trial 406318 70360.8 seconds elapsed... 5.77 games/second, wins: 41\n",
      "trial 406517 70375.8 seconds elapsed... 5.78 games/second, wins: 41\n",
      "trial 406717 70390.9 seconds elapsed... 5.78 games/second, wins: 41\n",
      "trial 406910 70405.9 seconds elapsed... 5.78 games/second, wins: 41\n",
      "trial 407108 70420.9 seconds elapsed... 5.78 games/second, wins: 41\n",
      "trial 407305 70435.9 seconds elapsed... 5.78 games/second, wins: 41\n",
      "trial 407502 70451.0 seconds elapsed... 5.78 games/second, wins: 41\n",
      "trial 407706 70466.0 seconds elapsed... 5.79 games/second, wins: 41\n",
      "trial 407905 70481.0 seconds elapsed... 5.79 games/second, wins: 41\n",
      "trial 408102 70496.1 seconds elapsed... 5.79 games/second, wins: 41\n",
      "trial 408300 70511.1 seconds elapsed... 5.79 games/second, wins: 41\n",
      "trial 408499 70526.1 seconds elapsed... 5.79 games/second, wins: 41\n",
      "trial 408698 70541.1 seconds elapsed... 5.79 games/second, wins: 41\n",
      "trial 408892 70556.1 seconds elapsed... 5.80 games/second, wins: 41\n",
      "trial 409089 70571.1 seconds elapsed... 5.80 games/second, wins: 41\n",
      "trial 409289 70586.1 seconds elapsed... 5.80 games/second, wins: 41\n",
      "trial 409487 70601.2 seconds elapsed... 5.80 games/second, wins: 41\n",
      "trial 409683 70616.3 seconds elapsed... 5.80 games/second, wins: 41\n",
      "trial 409886 70631.3 seconds elapsed... 5.80 games/second, wins: 41\n",
      "trial 410081 70646.4 seconds elapsed... 5.80 games/second, wins: 41\n",
      "trial 410279 70661.4 seconds elapsed... 5.81 games/second, wins: 41\n",
      "trial 410477 70676.5 seconds elapsed... 5.81 games/second, wins: 41\n",
      "trial 410678 70691.5 seconds elapsed... 5.81 games/second, wins: 41\n",
      "trial 410871 70706.5 seconds elapsed... 5.81 games/second, wins: 41\n",
      "trial 411073 70721.6 seconds elapsed... 5.81 games/second, wins: 41\n"
     ]
    },
    {
     "data": {
      "image/png": "[encoded data removed]",
      "text/plain": [
       "<Figure size 600x600 with 1 Axes>"
      ]
     },
     "metadata": {},
     "output_type": "display_data"
    },
    {
     "name": "stdout",
     "output_type": "stream",
     "text": [
      "trial 411273 70736.6 seconds elapsed... 5.81 games/second, wins: 42\n",
      "trial 411470 70751.6 seconds elapsed... 5.82 games/second, wins: 42\n",
      "trial 411677 70766.7 seconds elapsed... 5.82 games/second, wins: 42\n",
      "trial 411878 70781.7 seconds elapsed... 5.82 games/second, wins: 42\n",
      "trial 412078 70796.8 seconds elapsed... 5.82 games/second, wins: 42\n",
      "trial 412277 70811.8 seconds elapsed... 5.82 games/second, wins: 42\n",
      "trial 412476 70826.8 seconds elapsed... 5.82 games/second, wins: 42\n",
      "trial 412678 70841.8 seconds elapsed... 5.83 games/second, wins: 42\n",
      "trial 412872 70856.8 seconds elapsed... 5.83 games/second, wins: 42\n",
      "trial 413065 70871.8 seconds elapsed... 5.83 games/second, wins: 42\n",
      "trial 413269 70886.9 seconds elapsed... 5.83 games/second, wins: 42\n",
      "trial 413465 70901.9 seconds elapsed... 5.83 games/second, wins: 42\n",
      "trial 413672 70917.0 seconds elapsed... 5.83 games/second, wins: 42\n",
      "trial 413879 70932.1 seconds elapsed... 5.83 games/second, wins: 42\n",
      "trial 414076 70947.1 seconds elapsed... 5.84 games/second, wins: 42\n",
      "trial 414272 70962.1 seconds elapsed... 5.84 games/second, wins: 42\n",
      "trial 414471 70977.2 seconds elapsed... 5.84 games/second, wins: 42\n",
      "trial 414666 70992.2 seconds elapsed... 5.84 games/second, wins: 42\n",
      "trial 414867 71007.3 seconds elapsed... 5.84 games/second, wins: 42\n",
      "trial 415067 71022.3 seconds elapsed... 5.84 games/second, wins: 42\n",
      "trial 415269 71037.3 seconds elapsed... 5.85 games/second, wins: 42\n",
      "trial 415469 71052.4 seconds elapsed... 5.85 games/second, wins: 42\n",
      "trial 415669 71067.5 seconds elapsed... 5.85 games/second, wins: 42\n",
      "trial 415872 71082.5 seconds elapsed... 5.85 games/second, wins: 42\n",
      "trial 416067 71097.5 seconds elapsed... 5.85 games/second, wins: 42\n",
      "trial 416267 71112.6 seconds elapsed... 5.85 games/second, wins: 42\n",
      "trial 416470 71127.6 seconds elapsed... 5.86 games/second, wins: 42\n",
      "trial 416667 71142.6 seconds elapsed... 5.86 games/second, wins: 42\n"
     ]
    },
    {
     "data": {
      "image/png": "[encoded data removed]",
      "text/plain": [
       "<Figure size 600x600 with 1 Axes>"
      ]
     },
     "metadata": {},
     "output_type": "display_data"
    },
    {
     "name": "stdout",
     "output_type": "stream",
     "text": [
      "trial 416866 71157.7 seconds elapsed... 5.86 games/second, wins: 43\n",
      "trial 417071 71172.7 seconds elapsed... 5.86 games/second, wins: 43\n",
      "trial 417268 71187.8 seconds elapsed... 5.86 games/second, wins: 43\n",
      "trial 417469 71202.8 seconds elapsed... 5.86 games/second, wins: 43\n",
      "trial 417667 71217.8 seconds elapsed... 5.86 games/second, wins: 43\n",
      "trial 417866 71232.9 seconds elapsed... 5.87 games/second, wins: 43\n",
      "trial 418060 71248.0 seconds elapsed... 5.87 games/second, wins: 43\n",
      "trial 418257 71263.0 seconds elapsed... 5.87 games/second, wins: 43\n",
      "trial 418456 71278.1 seconds elapsed... 5.87 games/second, wins: 43\n",
      "trial 418655 71293.1 seconds elapsed... 5.87 games/second, wins: 43\n",
      "trial 418853 71308.1 seconds elapsed... 5.87 games/second, wins: 43\n",
      "trial 419052 71323.2 seconds elapsed... 5.88 games/second, wins: 43\n",
      "trial 419248 71338.2 seconds elapsed... 5.88 games/second, wins: 43\n",
      "trial 419446 71353.2 seconds elapsed... 5.88 games/second, wins: 43\n",
      "trial 419645 71368.3 seconds elapsed... 5.88 games/second, wins: 43\n",
      "trial 419843 71383.3 seconds elapsed... 5.88 games/second, wins: 43\n",
      "trial 420048 71398.3 seconds elapsed... 5.88 games/second, wins: 43\n",
      "trial 420251 71413.4 seconds elapsed... 5.88 games/second, wins: 43\n",
      "trial 420449 71428.5 seconds elapsed... 5.89 games/second, wins: 43\n",
      "trial 420648 71443.5 seconds elapsed... 5.89 games/second, wins: 43\n",
      "trial 420849 71458.6 seconds elapsed... 5.89 games/second, wins: 43\n",
      "trial 421052 71473.6 seconds elapsed... 5.89 games/second, wins: 43\n",
      "trial 421258 71488.6 seconds elapsed... 5.89 games/second, wins: 43\n",
      "trial 421459 71503.6 seconds elapsed... 5.89 games/second, wins: 43\n",
      "trial 421660 71518.7 seconds elapsed... 5.90 games/second, wins: 43\n",
      "trial 421862 71533.7 seconds elapsed... 5.90 games/second, wins: 43\n",
      "trial 422066 71548.7 seconds elapsed... 5.90 games/second, wins: 43\n",
      "trial 422265 71563.7 seconds elapsed... 5.90 games/second, wins: 43\n",
      "trial 422465 71578.8 seconds elapsed... 5.90 games/second, wins: 43\n",
      "trial 422664 71593.9 seconds elapsed... 5.90 games/second, wins: 43\n",
      "trial 422863 71608.9 seconds elapsed... 5.91 games/second, wins: 43\n",
      "trial 423066 71623.9 seconds elapsed... 5.91 games/second, wins: 43\n",
      "trial 423270 71638.9 seconds elapsed... 5.91 games/second, wins: 43\n",
      "trial 423467 71654.0 seconds elapsed... 5.91 games/second, wins: 43\n",
      "trial 423671 71669.0 seconds elapsed... 5.91 games/second, wins: 43\n",
      "trial 423879 71684.0 seconds elapsed... 5.91 games/second, wins: 43\n",
      "trial 424082 71699.0 seconds elapsed... 5.91 games/second, wins: 43\n",
      "trial 424288 71714.1 seconds elapsed... 5.92 games/second, wins: 43\n",
      "trial 424498 71729.1 seconds elapsed... 5.92 games/second, wins: 43\n",
      "trial 424698 71744.2 seconds elapsed... 5.92 games/second, wins: 43\n",
      "trial 424902 71759.2 seconds elapsed... 5.92 games/second, wins: 43\n",
      "trial 425107 71774.3 seconds elapsed... 5.92 games/second, wins: 43\n",
      "trial 425307 71789.4 seconds elapsed... 5.92 games/second, wins: 43\n",
      "trial 425511 71804.4 seconds elapsed... 5.93 games/second, wins: 43\n",
      "trial 425716 71819.5 seconds elapsed... 5.93 games/second, wins: 43\n",
      "trial 425914 71834.5 seconds elapsed... 5.93 games/second, wins: 43\n",
      "trial 426118 71849.6 seconds elapsed... 5.93 games/second, wins: 43\n",
      "trial 426326 71864.6 seconds elapsed... 5.93 games/second, wins: 43\n",
      "trial 426529 71879.7 seconds elapsed... 5.93 games/second, wins: 43\n",
      "trial 426732 71894.7 seconds elapsed... 5.94 games/second, wins: 43\n",
      "trial 426937 71909.7 seconds elapsed... 5.94 games/second, wins: 43\n",
      "trial 427144 71924.7 seconds elapsed... 5.94 games/second, wins: 43\n",
      "trial 427344 71939.8 seconds elapsed... 5.94 games/second, wins: 43\n"
     ]
    },
    {
     "data": {
      "image/png": "[encoded data removed]",
      "text/plain": [
       "<Figure size 600x600 with 1 Axes>"
      ]
     },
     "metadata": {},
     "output_type": "display_data"
    },
    {
     "name": "stdout",
     "output_type": "stream",
     "text": [
      "trial 427545 71954.8 seconds elapsed... 5.94 games/second, wins: 44\n",
      "trial 427741 71969.8 seconds elapsed... 5.94 games/second, wins: 44\n",
      "trial 427941 71984.9 seconds elapsed... 5.94 games/second, wins: 44\n",
      "trial 428132 71999.9 seconds elapsed... 5.95 games/second, wins: 44\n",
      "trial 428328 72014.9 seconds elapsed... 5.95 games/second, wins: 44\n",
      "trial 428523 72030.0 seconds elapsed... 5.95 games/second, wins: 44\n",
      "trial 428715 72045.0 seconds elapsed... 5.95 games/second, wins: 44\n",
      "trial 428908 72060.0 seconds elapsed... 5.95 games/second, wins: 44\n",
      "trial 429100 72075.0 seconds elapsed... 5.95 games/second, wins: 44\n",
      "trial 429289 72090.0 seconds elapsed... 5.95 games/second, wins: 44\n",
      "trial 429483 72105.1 seconds elapsed... 5.96 games/second, wins: 44\n",
      "trial 429676 72120.1 seconds elapsed... 5.96 games/second, wins: 44\n",
      "trial 429870 72135.1 seconds elapsed... 5.96 games/second, wins: 44\n",
      "trial 430072 72150.1 seconds elapsed... 5.96 games/second, wins: 44\n",
      "trial 430269 72165.1 seconds elapsed... 5.96 games/second, wins: 44\n",
      "trial 430458 72180.2 seconds elapsed... 5.96 games/second, wins: 44\n",
      "trial 430653 72195.2 seconds elapsed... 5.97 games/second, wins: 44\n",
      "trial 430848 72210.2 seconds elapsed... 5.97 games/second, wins: 44\n",
      "trial 431037 72225.2 seconds elapsed... 5.97 games/second, wins: 44\n",
      "trial 431233 72240.3 seconds elapsed... 5.97 games/second, wins: 44\n",
      "trial 431430 72255.3 seconds elapsed... 5.97 games/second, wins: 44\n",
      "trial 431624 72270.4 seconds elapsed... 5.97 games/second, wins: 44\n",
      "trial 431821 72285.5 seconds elapsed... 5.97 games/second, wins: 44\n",
      "trial 432018 72300.5 seconds elapsed... 5.98 games/second, wins: 44\n",
      "trial 432211 72315.5 seconds elapsed... 5.98 games/second, wins: 44\n",
      "trial 432411 72330.6 seconds elapsed... 5.98 games/second, wins: 44\n",
      "trial 432601 72345.6 seconds elapsed... 5.98 games/second, wins: 44\n",
      "trial 432797 72360.7 seconds elapsed... 5.98 games/second, wins: 44\n",
      "trial 432992 72375.7 seconds elapsed... 5.98 games/second, wins: 44\n",
      "trial 433194 72390.7 seconds elapsed... 5.98 games/second, wins: 44\n",
      "trial 433394 72405.8 seconds elapsed... 5.99 games/second, wins: 44\n",
      "trial 433597 72420.8 seconds elapsed... 5.99 games/second, wins: 44\n",
      "trial 433792 72435.9 seconds elapsed... 5.99 games/second, wins: 44\n",
      "trial 433987 72450.9 seconds elapsed... 5.99 games/second, wins: 44\n",
      "trial 434178 72466.0 seconds elapsed... 5.99 games/second, wins: 44\n",
      "trial 434370 72481.0 seconds elapsed... 5.99 games/second, wins: 44\n",
      "trial 434559 72496.0 seconds elapsed... 5.99 games/second, wins: 44\n",
      "trial 434751 72511.0 seconds elapsed... 6.00 games/second, wins: 44\n",
      "trial 434941 72526.1 seconds elapsed... 6.00 games/second, wins: 44\n",
      "trial 435135 72541.1 seconds elapsed... 6.00 games/second, wins: 44\n",
      "trial 435334 72556.1 seconds elapsed... 6.00 games/second, wins: 44\n",
      "trial 435528 72571.2 seconds elapsed... 6.00 games/second, wins: 44\n",
      "trial 435729 72586.2 seconds elapsed... 6.00 games/second, wins: 44\n",
      "trial 435923 72601.2 seconds elapsed... 6.00 games/second, wins: 44\n",
      "trial 436114 72616.3 seconds elapsed... 6.01 games/second, wins: 44\n",
      "trial 436308 72631.3 seconds elapsed... 6.01 games/second, wins: 44\n",
      "trial 436503 72646.4 seconds elapsed... 6.01 games/second, wins: 44\n",
      "trial 436693 72661.4 seconds elapsed... 6.01 games/second, wins: 44\n",
      "trial 436888 72676.5 seconds elapsed... 6.01 games/second, wins: 44\n",
      "trial 437091 72691.5 seconds elapsed... 6.01 games/second, wins: 44\n",
      "trial 437290 72706.6 seconds elapsed... 6.01 games/second, wins: 44\n",
      "trial 437492 72721.7 seconds elapsed... 6.02 games/second, wins: 44\n",
      "trial 437696 72736.7 seconds elapsed... 6.02 games/second, wins: 44\n",
      "trial 437895 72751.8 seconds elapsed... 6.02 games/second, wins: 44\n",
      "trial 438094 72766.8 seconds elapsed... 6.02 games/second, wins: 44\n",
      "trial 438291 72781.9 seconds elapsed... 6.02 games/second, wins: 44\n",
      "trial 438490 72796.9 seconds elapsed... 6.02 games/second, wins: 44\n",
      "trial 438691 72811.9 seconds elapsed... 6.02 games/second, wins: 44\n",
      "trial 438889 72827.0 seconds elapsed... 6.03 games/second, wins: 44\n",
      "trial 439087 72842.1 seconds elapsed... 6.03 games/second, wins: 44\n",
      "trial 439287 72857.1 seconds elapsed... 6.03 games/second, wins: 44\n",
      "trial 439483 72872.2 seconds elapsed... 6.03 games/second, wins: 44\n",
      "trial 439689 72887.3 seconds elapsed... 6.03 games/second, wins: 44\n",
      "trial 439882 72902.3 seconds elapsed... 6.03 games/second, wins: 44\n",
      "trial 440083 72917.3 seconds elapsed... 6.04 games/second, wins: 44\n",
      "trial 440278 72932.3 seconds elapsed... 6.04 games/second, wins: 44\n",
      "trial 440474 72947.4 seconds elapsed... 6.04 games/second, wins: 44\n",
      "trial 440668 72962.4 seconds elapsed... 6.04 games/second, wins: 44\n",
      "trial 440864 72977.5 seconds elapsed... 6.04 games/second, wins: 44\n",
      "trial 441057 72992.5 seconds elapsed... 6.04 games/second, wins: 44\n",
      "trial 441259 73007.6 seconds elapsed... 6.04 games/second, wins: 44\n",
      "trial 441462 73022.7 seconds elapsed... 6.05 games/second, wins: 44\n",
      "trial 441666 73037.7 seconds elapsed... 6.05 games/second, wins: 44\n",
      "trial 441871 73052.8 seconds elapsed... 6.05 games/second, wins: 44\n",
      "trial 442072 73067.8 seconds elapsed... 6.05 games/second, wins: 44\n",
      "trial 442275 73082.8 seconds elapsed... 6.05 games/second, wins: 44\n",
      "trial 442479 73097.8 seconds elapsed... 6.05 games/second, wins: 44\n",
      "trial 442689 73112.8 seconds elapsed... 6.05 games/second, wins: 44\n",
      "trial 442892 73127.9 seconds elapsed... 6.06 games/second, wins: 44\n",
      "trial 443093 73142.9 seconds elapsed... 6.06 games/second, wins: 44\n",
      "trial 443292 73157.9 seconds elapsed... 6.06 games/second, wins: 44\n",
      "trial 443494 73173.0 seconds elapsed... 6.06 games/second, wins: 44\n"
     ]
    },
    {
     "data": {
      "image/png": "[encoded data removed]",
      "text/plain": [
       "<Figure size 600x600 with 1 Axes>"
      ]
     },
     "metadata": {},
     "output_type": "display_data"
    },
    {
     "name": "stdout",
     "output_type": "stream",
     "text": [
      "trial 443694 73188.0 seconds elapsed... 6.06 games/second, wins: 45\n",
      "trial 443899 73203.1 seconds elapsed... 6.06 games/second, wins: 45\n",
      "trial 444100 73218.1 seconds elapsed... 6.07 games/second, wins: 45\n",
      "trial 444303 73233.2 seconds elapsed... 6.07 games/second, wins: 45\n"
     ]
    },
    {
     "data": {
      "image/png": "[encoded data removed]",
      "text/plain": [
       "<Figure size 600x600 with 1 Axes>"
      ]
     },
     "metadata": {},
     "output_type": "display_data"
    },
    {
     "name": "stdout",
     "output_type": "stream",
     "text": [
      "trial 444504 73248.2 seconds elapsed... 6.07 games/second, wins: 46\n",
      "trial 444712 73263.2 seconds elapsed... 6.07 games/second, wins: 46\n",
      "trial 444913 73278.2 seconds elapsed... 6.07 games/second, wins: 46\n",
      "trial 445118 73293.2 seconds elapsed... 6.07 games/second, wins: 46\n",
      "trial 445322 73308.3 seconds elapsed... 6.07 games/second, wins: 46\n",
      "trial 445525 73323.3 seconds elapsed... 6.08 games/second, wins: 46\n",
      "trial 445731 73338.4 seconds elapsed... 6.08 games/second, wins: 46\n",
      "trial 445937 73353.4 seconds elapsed... 6.08 games/second, wins: 46\n",
      "trial 446142 73368.5 seconds elapsed... 6.08 games/second, wins: 46\n",
      "trial 446341 73383.5 seconds elapsed... 6.08 games/second, wins: 46\n",
      "trial 446554 73398.6 seconds elapsed... 6.08 games/second, wins: 46\n",
      "trial 446756 73413.6 seconds elapsed... 6.09 games/second, wins: 46\n",
      "trial 446960 73428.6 seconds elapsed... 6.09 games/second, wins: 46\n",
      "trial 447169 73443.7 seconds elapsed... 6.09 games/second, wins: 46\n",
      "trial 447373 73458.7 seconds elapsed... 6.09 games/second, wins: 46\n",
      "trial 447582 73473.8 seconds elapsed... 6.09 games/second, wins: 46\n",
      "trial 447787 73488.8 seconds elapsed... 6.09 games/second, wins: 46\n",
      "trial 447996 73503.8 seconds elapsed... 6.09 games/second, wins: 46\n",
      "trial 448199 73518.8 seconds elapsed... 6.10 games/second, wins: 46\n",
      "trial 448405 73533.9 seconds elapsed... 6.10 games/second, wins: 46\n",
      "trial 448613 73548.9 seconds elapsed... 6.10 games/second, wins: 46\n",
      "trial 448827 73564.0 seconds elapsed... 6.10 games/second, wins: 46\n",
      "trial 449028 73579.0 seconds elapsed... 6.10 games/second, wins: 46\n",
      "trial 449231 73594.0 seconds elapsed... 6.10 games/second, wins: 46\n",
      "trial 449429 73609.1 seconds elapsed... 6.11 games/second, wins: 46\n",
      "trial 449632 73624.1 seconds elapsed... 6.11 games/second, wins: 46\n",
      "trial 449838 73639.1 seconds elapsed... 6.11 games/second, wins: 46\n",
      "trial 450036 73654.1 seconds elapsed... 6.11 games/second, wins: 46\n",
      "trial 450236 73669.3 seconds elapsed... 6.11 games/second, wins: 46\n",
      "trial 450437 73684.3 seconds elapsed... 6.11 games/second, wins: 46\n"
     ]
    },
    {
     "data": {
      "image/png": "[encoded data removed]",
      "text/plain": [
       "<Figure size 600x600 with 1 Axes>"
      ]
     },
     "metadata": {},
     "output_type": "display_data"
    },
    {
     "name": "stdout",
     "output_type": "stream",
     "text": [
      "trial 450628 73699.3 seconds elapsed... 6.11 games/second, wins: 47\n",
      "trial 450830 73714.3 seconds elapsed... 6.12 games/second, wins: 47\n",
      "trial 451030 73729.3 seconds elapsed... 6.12 games/second, wins: 47\n",
      "trial 451234 73744.4 seconds elapsed... 6.12 games/second, wins: 47\n",
      "trial 451439 73759.5 seconds elapsed... 6.12 games/second, wins: 47\n",
      "trial 451637 73774.6 seconds elapsed... 6.12 games/second, wins: 47\n",
      "trial 451843 73789.6 seconds elapsed... 6.12 games/second, wins: 47\n",
      "trial 452051 73804.6 seconds elapsed... 6.12 games/second, wins: 47\n",
      "trial 452260 73819.7 seconds elapsed... 6.13 games/second, wins: 47\n",
      "trial 452463 73834.7 seconds elapsed... 6.13 games/second, wins: 47\n",
      "trial 452670 73849.8 seconds elapsed... 6.13 games/second, wins: 47\n",
      "trial 452875 73864.8 seconds elapsed... 6.13 games/second, wins: 47\n",
      "trial 453075 73879.8 seconds elapsed... 6.13 games/second, wins: 47\n",
      "trial 453276 73894.9 seconds elapsed... 6.13 games/second, wins: 47\n",
      "trial 453478 73909.9 seconds elapsed... 6.14 games/second, wins: 47\n",
      "trial 453679 73925.0 seconds elapsed... 6.14 games/second, wins: 47\n",
      "trial 453878 73940.0 seconds elapsed... 6.14 games/second, wins: 47\n",
      "trial 454081 73955.0 seconds elapsed... 6.14 games/second, wins: 47\n",
      "trial 454279 73970.0 seconds elapsed... 6.14 games/second, wins: 47\n",
      "trial 454478 73985.0 seconds elapsed... 6.14 games/second, wins: 47\n",
      "trial 454683 74000.0 seconds elapsed... 6.14 games/second, wins: 47\n",
      "trial 454883 74015.0 seconds elapsed... 6.15 games/second, wins: 47\n",
      "trial 455083 74030.1 seconds elapsed... 6.15 games/second, wins: 47\n",
      "trial 455288 74045.2 seconds elapsed... 6.15 games/second, wins: 47\n",
      "trial 455486 74060.2 seconds elapsed... 6.15 games/second, wins: 47\n",
      "trial 455689 74075.2 seconds elapsed... 6.15 games/second, wins: 47\n",
      "trial 455891 74090.3 seconds elapsed... 6.15 games/second, wins: 47\n",
      "trial 456098 74105.3 seconds elapsed... 6.15 games/second, wins: 47\n",
      "trial 456302 74120.3 seconds elapsed... 6.16 games/second, wins: 47\n",
      "trial 456505 74135.3 seconds elapsed... 6.16 games/second, wins: 47\n",
      "trial 456712 74150.3 seconds elapsed... 6.16 games/second, wins: 47\n",
      "trial 456913 74165.4 seconds elapsed... 6.16 games/second, wins: 47\n",
      "trial 457120 74180.4 seconds elapsed... 6.16 games/second, wins: 47\n",
      "trial 457319 74195.4 seconds elapsed... 6.16 games/second, wins: 47\n",
      "trial 457524 74210.5 seconds elapsed... 6.17 games/second, wins: 47\n",
      "trial 457729 74225.5 seconds elapsed... 6.17 games/second, wins: 47\n",
      "trial 457932 74240.5 seconds elapsed... 6.17 games/second, wins: 47\n",
      "trial 458140 74255.5 seconds elapsed... 6.17 games/second, wins: 47\n",
      "trial 458342 74270.5 seconds elapsed... 6.17 games/second, wins: 47\n",
      "trial 458542 74285.6 seconds elapsed... 6.17 games/second, wins: 47\n",
      "trial 458749 74300.6 seconds elapsed... 6.17 games/second, wins: 47\n",
      "trial 458946 74315.6 seconds elapsed... 6.18 games/second, wins: 47\n",
      "trial 459152 74330.7 seconds elapsed... 6.18 games/second, wins: 47\n",
      "trial 459354 74345.7 seconds elapsed... 6.18 games/second, wins: 47\n",
      "trial 459556 74360.8 seconds elapsed... 6.18 games/second, wins: 47\n",
      "trial 459756 74375.8 seconds elapsed... 6.18 games/second, wins: 47\n",
      "trial 459963 74390.9 seconds elapsed... 6.18 games/second, wins: 47\n",
      "trial 460163 74405.9 seconds elapsed... 6.18 games/second, wins: 47\n",
      "trial 460363 74421.0 seconds elapsed... 6.19 games/second, wins: 47\n",
      "trial 460560 74436.0 seconds elapsed... 6.19 games/second, wins: 47\n",
      "trial 460760 74451.0 seconds elapsed... 6.19 games/second, wins: 47\n",
      "trial 460960 74466.0 seconds elapsed... 6.19 games/second, wins: 47\n",
      "trial 461168 74481.1 seconds elapsed... 6.19 games/second, wins: 47\n",
      "trial 461371 74496.2 seconds elapsed... 6.19 games/second, wins: 47\n",
      "trial 461573 74511.2 seconds elapsed... 6.19 games/second, wins: 47\n",
      "trial 461776 74526.3 seconds elapsed... 6.20 games/second, wins: 47\n",
      "trial 461985 74541.3 seconds elapsed... 6.20 games/second, wins: 47\n",
      "trial 462190 74556.3 seconds elapsed... 6.20 games/second, wins: 47\n",
      "trial 462394 74571.3 seconds elapsed... 6.20 games/second, wins: 47\n",
      "trial 462599 74586.3 seconds elapsed... 6.20 games/second, wins: 47\n",
      "trial 462806 74601.4 seconds elapsed... 6.20 games/second, wins: 47\n"
     ]
    },
    {
     "data": {
      "image/png": "[encoded data removed]",
      "text/plain": [
       "<Figure size 600x600 with 1 Axes>"
      ]
     },
     "metadata": {},
     "output_type": "display_data"
    },
    {
     "name": "stdout",
     "output_type": "stream",
     "text": [
      "trial 463011 74616.4 seconds elapsed... 6.21 games/second, wins: 48\n",
      "trial 463214 74631.5 seconds elapsed... 6.21 games/second, wins: 48\n",
      "trial 463412 74646.5 seconds elapsed... 6.21 games/second, wins: 48\n",
      "trial 463615 74661.5 seconds elapsed... 6.21 games/second, wins: 48\n",
      "trial 463820 74676.6 seconds elapsed... 6.21 games/second, wins: 48\n",
      "trial 464021 74691.6 seconds elapsed... 6.21 games/second, wins: 48\n",
      "trial 464227 74706.7 seconds elapsed... 6.21 games/second, wins: 48\n",
      "trial 464432 74721.7 seconds elapsed... 6.22 games/second, wins: 48\n"
     ]
    },
    {
     "data": {
      "image/png": "[encoded data removed]",
      "text/plain": [
       "<Figure size 600x600 with 1 Axes>"
      ]
     },
     "metadata": {},
     "output_type": "display_data"
    },
    {
     "name": "stdout",
     "output_type": "stream",
     "text": [
      "trial 464634 74736.8 seconds elapsed... 6.22 games/second, wins: 49\n",
      "trial 464838 74751.8 seconds elapsed... 6.22 games/second, wins: 49\n",
      "trial 465043 74766.9 seconds elapsed... 6.22 games/second, wins: 49\n",
      "trial 465244 74781.9 seconds elapsed... 6.22 games/second, wins: 49\n",
      "trial 465443 74796.9 seconds elapsed... 6.22 games/second, wins: 49\n",
      "trial 465650 74811.9 seconds elapsed... 6.22 games/second, wins: 49\n",
      "trial 465849 74827.0 seconds elapsed... 6.23 games/second, wins: 49\n",
      "trial 466047 74842.0 seconds elapsed... 6.23 games/second, wins: 49\n",
      "trial 466246 74857.0 seconds elapsed... 6.23 games/second, wins: 49\n",
      "trial 466450 74872.1 seconds elapsed... 6.23 games/second, wins: 49\n",
      "trial 466653 74887.1 seconds elapsed... 6.23 games/second, wins: 49\n",
      "trial 466850 74902.1 seconds elapsed... 6.23 games/second, wins: 49\n",
      "trial 467055 74917.2 seconds elapsed... 6.23 games/second, wins: 49\n",
      "trial 467261 74932.2 seconds elapsed... 6.24 games/second, wins: 49\n",
      "trial 467464 74947.2 seconds elapsed... 6.24 games/second, wins: 49\n",
      "trial 467670 74962.2 seconds elapsed... 6.24 games/second, wins: 49\n",
      "trial 467873 74977.2 seconds elapsed... 6.24 games/second, wins: 49\n",
      "trial 468084 74992.3 seconds elapsed... 6.24 games/second, wins: 49\n",
      "trial 468289 75007.3 seconds elapsed... 6.24 games/second, wins: 49\n",
      "trial 468495 75022.3 seconds elapsed... 6.24 games/second, wins: 49\n",
      "trial 468699 75037.4 seconds elapsed... 6.25 games/second, wins: 49\n",
      "trial 468902 75052.4 seconds elapsed... 6.25 games/second, wins: 49\n",
      "trial 469108 75067.4 seconds elapsed... 6.25 games/second, wins: 49\n",
      "trial 469307 75082.4 seconds elapsed... 6.25 games/second, wins: 49\n",
      "trial 469513 75097.4 seconds elapsed... 6.25 games/second, wins: 49\n",
      "trial 469718 75112.4 seconds elapsed... 6.25 games/second, wins: 49\n",
      "trial 469927 75127.5 seconds elapsed... 6.26 games/second, wins: 49\n",
      "trial 470141 75142.5 seconds elapsed... 6.26 games/second, wins: 49\n",
      "trial 470348 75157.6 seconds elapsed... 6.26 games/second, wins: 49\n",
      "trial 470559 75172.6 seconds elapsed... 6.26 games/second, wins: 49\n",
      "trial 470770 75187.7 seconds elapsed... 6.26 games/second, wins: 49\n"
     ]
    },
    {
     "data": {
      "image/png": "[encoded data removed]",
      "text/plain": [
       "<Figure size 600x600 with 1 Axes>"
      ]
     },
     "metadata": {},
     "output_type": "display_data"
    },
    {
     "name": "stdout",
     "output_type": "stream",
     "text": [
      "trial 470979 75202.7 seconds elapsed... 6.26 games/second, wins: 50\n",
      "trial 471198 75217.7 seconds elapsed... 6.26 games/second, wins: 50\n"
     ]
    },
    {
     "data": {
      "image/png": "[encoded data removed]",
      "text/plain": [
       "<Figure size 600x600 with 1 Axes>"
      ]
     },
     "metadata": {},
     "output_type": "display_data"
    },
    {
     "name": "stdout",
     "output_type": "stream",
     "text": [
      "trial 471406 75232.8 seconds elapsed... 6.27 games/second, wins: 51\n",
      "trial 471618 75247.8 seconds elapsed... 6.27 games/second, wins: 51\n",
      "trial 471829 75262.9 seconds elapsed... 6.27 games/second, wins: 51\n"
     ]
    },
    {
     "data": {
      "image/png": "[encoded data removed]",
      "text/plain": [
       "<Figure size 600x600 with 1 Axes>"
      ]
     },
     "metadata": {},
     "output_type": "display_data"
    },
    {
     "data": {
      "image/png": "[encoded data removed]",
      "text/plain": [
       "<Figure size 640x480 with 1 Axes>"
      ]
     },
     "metadata": {},
     "output_type": "display_data"
    },
    {
     "name": "stdout",
     "output_type": "stream",
     "text": [
      "Trials: 471947, Success rate: 0.01%, wins: 51\n",
      "51\n"
     ]
    }
   ],
   "source": [
    "import time\n",
    "\n",
    "start_time = time.time()\n",
    "last_print = start_time\n",
    "\n",
    "i = 0\n",
    "remaining_pieces = []\n",
    "win = 0\n",
    "try:\n",
    "    while True:\n",
    "        i += 1\n",
    "        env, done, truncated, terminal_action = test_random_trial(-1,-1)\n",
    "        remaining_pieces.append(sum(env.remaining_pieces))\n",
    "        if done: # win\n",
    "            env.visualize()\n",
    "            win += 1\n",
    "        current_time = time.time()\n",
    "        if current_time - last_print >= 15:\n",
    "            elapsed = current_time - start_time\n",
    "            print(f\"trial {i} {elapsed:.1f} seconds elapsed... {i/elapsed:.2f} games/second, wins: {win}\")\n",
    "            last_print = current_time\n",
    "\n",
    "except KeyboardInterrupt:\n",
    "    env.visualize()\n",
    "\n",
    "plt.hist(remaining_pieces, bins=range(10), alpha=0.7)\n",
    "plt.xlabel('Pieces Remaining')\n",
    "plt.ylabel('Frequency')\n",
    "plt.title('Random Trial Results')\n",
    "plt.savefig('trial_results.png')\n",
    "plt.show()\n",
    "\n",
    "print(f\"Trials: {i}, Success rate: {remaining_pieces.count(0)/i:.2%}, wins: {win}\")\n",
    "print(win)"
   ]
  },
  {
   "cell_type": "markdown",
   "id": "ea0109e1-53e0-4ce2-aeca-3c668d4aee44",
   "metadata": {},
   "source": [
    "~~most of the time we end up with 2 remaining pieces when we place them all randomly~~\n",
    "\n",
    "~~bricking the game in the step function when islands of 2-4 empty cells remain reduces the number of trials required by 10-20x.~~\n",
    "\n",
    "- bricking the game on (islands of 3,4,9,14), (an island of 2 any number of islands of 1), or (more than 2 islands of 1) brings us up to 0.2% success\n",
    "\n",
    "Now we're requiring a solution to a specific date: win rate is somewhere < 0.01%, not surprising"
   ]
  },
  {
   "cell_type": "code",
   "execution_count": 20,
   "id": "66e1f6ae-276f-45dd-9b52-e9fe5176abc5",
   "metadata": {},
   "outputs": [
    {
     "data": {
      "text/plain": [
       "np.True_"
      ]
     },
     "execution_count": 20,
     "metadata": {},
     "output_type": "execute_result"
    }
   ],
   "source": [
    "has_islands(env.grid)"
   ]
  },
  {
   "cell_type": "code",
   "execution_count": null,
   "id": "e7d690f5-1097-4739-8c4e-916f14aae3ce",
   "metadata": {},
   "outputs": [],
   "source": []
  }
 ],
 "metadata": {
  "kernelspec": {
   "display_name": "Python 3 (ipykernel)",
   "language": "python",
   "name": "python3"
  },
  "language_info": {
   "codemirror_mode": {
    "name": "ipython",
    "version": 3
   },
   "file_extension": ".py",
   "mimetype": "text/x-python",
   "name": "python",
   "nbconvert_exporter": "python",
   "pygments_lexer": "ipython3",
   "version": "3.10.18"
  }
 },
 "nbformat": 4,
 "nbformat_minor": 5
}
