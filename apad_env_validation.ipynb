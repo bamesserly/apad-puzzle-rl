{
 "cells": [
  {
   "cell_type": "code",
   "execution_count": 1,
   "id": "ef574682-7118-4825-bec0-2f604cc35267",
   "metadata": {},
   "outputs": [],
   "source": [
    "%load_ext autoreload\n",
    "%autoreload 2"
   ]
  },
  {
   "cell_type": "code",
   "execution_count": 2,
   "id": "ab3ca1a7-6b46-4b78-bbaf-c832d5964ebc",
   "metadata": {},
   "outputs": [],
   "source": [
    "import numpy as np\n",
    "import matplotlib.pyplot as plt\n",
    "from stable_baselines3.common.env_checker import check_env"
   ]
  },
  {
   "cell_type": "code",
   "execution_count": 3,
   "id": "7d0c7ee9-82c0-49e0-8e90-a4a68965c02b",
   "metadata": {},
   "outputs": [
    {
     "data": {
      "text/html": [
       "<style>div.output_area pre { font-family: 'Courier New', monospace; }</style>"
      ],
      "text/plain": [
       "<IPython.core.display.HTML object>"
      ]
     },
     "execution_count": 3,
     "metadata": {},
     "output_type": "execute_result"
    }
   ],
   "source": [
    "from IPython.display import HTML\n",
    "HTML(\"<style>div.output_area pre { font-family: 'Courier New', monospace; }</style>\")"
   ]
  },
  {
   "cell_type": "code",
   "execution_count": 4,
   "id": "785e4fec-6080-4047-aa1e-795c40e4acf1",
   "metadata": {},
   "outputs": [],
   "source": [
    "from apad_env import APADEnv, has_islands"
   ]
  },
  {
   "cell_type": "code",
   "execution_count": 5,
   "id": "df135a55-67c7-41d7-b87f-08e020d3fed9",
   "metadata": {},
   "outputs": [
    {
     "name": "stdout",
     "output_type": "stream",
     "text": [
      "ERROR\n",
      "ERROR\n",
      "ERROR\n",
      "ERROR\n",
      "ERROR\n",
      "ERROR\n",
      "ERROR\n"
     ]
    }
   ],
   "source": [
    "# N.B. check_env doesn't mask, so we merely print an error and truncate the game.\n",
    "env = APADEnv()\n",
    "assert check_env(env, warn = True) is None"
   ]
  },
  {
   "cell_type": "markdown",
   "id": "3fcb87f9-7809-487d-a516-80a7a3cfc6fe",
   "metadata": {},
   "source": [
    "Coordinate system: Top left is 0,0. Zeroeth row, second column would be 0,2."
   ]
  },
  {
   "cell_type": "markdown",
   "id": "2e58e25d-100d-4085-bc32-f5191c521bb8",
   "metadata": {},
   "source": [
    "# Basic sanity checks"
   ]
  },
  {
   "cell_type": "code",
   "execution_count": 6,
   "id": "c5f5875b-3dba-458f-88bc-d1c7f557168c",
   "metadata": {},
   "outputs": [
    {
     "name": "stdout",
     "output_type": "stream",
     "text": [
      "All tests passed\n"
     ]
    }
   ],
   "source": [
    "def test_environment():\n",
    "    env = APADEnv()\n",
    "    \n",
    "    # Test 1: Grid initialization\n",
    "    assert env.grid.shape == (7, 7)\n",
    "    assert np.sum(env.grid == -1) in {6, 7, 8}  # Invalid positions\n",
    "    assert np.sum(env.remaining_pieces) == 8  # All pieces available\n",
    "    \n",
    "    # Test 2: Piece coordinate generation\n",
    "    coords_k = env._get_piece_coords(0, 0, 0)  # K piece, no flip, no rotation\n",
    "    expected_k = [(0,0), (1,0), (2,0), (3,0), (2,1)]\n",
    "    assert coords_k == expected_k\n",
    "    \n",
    "    # Test 3: Rotation\n",
    "    coords_k_rot = env._get_piece_coords(0, 0, 1)  # K piece rotated 90°\n",
    "    assert len(coords_k_rot) == 5\n",
    "    \n",
    "    # Test 4: Valid placement\n",
    "    valid = env._is_valid_placement(0, 0, 0, 14)  # Position (2,0) on grid\n",
    "    assert isinstance(valid, np.bool_)\n",
    "    \n",
    "    # Test 5: Invalid placement (out of bounds)\n",
    "    valid = env._is_valid_placement(0, 0, 0, 6)  # Top-right corner invalid\n",
    "    assert valid == False\n",
    "    \n",
    "    # Test 6: Piece placement\n",
    "    if env._is_valid_placement(0, 0, 0, 14):\n",
    "       env._place_piece_components(0, 0, 0, 14)\n",
    "       assert not env.remaining_pieces[0]  # Piece marked as used\n",
    "       assert np.sum(env.grid == 1) == 5   # 5 cells occupied by piece\n",
    "    \n",
    "    print(\"All tests passed\")\n",
    "    \n",
    "test_environment()"
   ]
  },
  {
   "cell_type": "markdown",
   "id": "0241ffc6-f579-44be-9cf8-2eac8ded139a",
   "metadata": {},
   "source": [
    "### Make sure we can't place pieces on top of each other. Make sure we can reset the environment."
   ]
  },
  {
   "cell_type": "code",
   "execution_count": 7,
   "id": "dc265527-aa03-4f4f-bb44-262507ff85c7",
   "metadata": {},
   "outputs": [
    {
     "data": {
      "image/png": "[encoded data removed]",
      "text/plain": [
       "<Figure size 600x600 with 1 Axes>"
      ]
     },
     "metadata": {},
     "output_type": "display_data"
    },
    {
     "name": "stdout",
     "output_type": "stream",
     "text": [
      "Overlap and reset tests passed!\n"
     ]
    },
    {
     "data": {
      "text/plain": [
       "<apad_env.APADEnv at 0x163127670>"
      ]
     },
     "execution_count": 7,
     "metadata": {},
     "output_type": "execute_result"
    }
   ],
   "source": [
    "def test_overlap_and_reset():\n",
    "    env = APADEnv(-1,-1)\n",
    "    \n",
    "    # Find two valid positions for same piece type\n",
    "    pos1 = 14  # Should be valid\n",
    "    pos2 = 15  # Adjacent position\n",
    "    \n",
    "    # Place first piece\n",
    "    if env._is_valid_placement(0, 0, 0, pos1):\n",
    "        env._place_piece_components(1, 0, 0, pos1)\n",
    "        env.visualize()\n",
    "       \n",
    "        # Try to place overlapping piece (should fail)\n",
    "        overlap_valid = env._is_valid_placement(0, 0, 0, pos2)\n",
    "        assert overlap_valid == False\n",
    "        \n",
    "        # Test reset\n",
    "        obs, info = env.reset()\n",
    "        assert np.sum(env.remaining_pieces) == 8  # All pieces available\n",
    "        assert np.sum(env.grid > 0) == 0  # Only invalid cells marked\n",
    "       \n",
    "    print(\"Overlap and reset tests passed!\")\n",
    "    return env\n",
    "\n",
    "test_overlap_and_reset()"
   ]
  },
  {
   "cell_type": "markdown",
   "id": "a5f8cb62-d9a6-42b1-931e-14250ff0cd1a",
   "metadata": {},
   "source": [
    "# Date selection validation"
   ]
  },
  {
   "cell_type": "code",
   "execution_count": 8,
   "id": "1c1f2e58-813e-4ffc-a7d1-33387e35662e",
   "metadata": {},
   "outputs": [
    {
     "data": {
      "image/png": "[encoded data removed]",
      "text/plain": [
       "<Figure size 600x600 with 1 Axes>"
      ]
     },
     "metadata": {},
     "output_type": "display_data"
    }
   ],
   "source": [
    "env = APADEnv(2,22) # feb 22\n",
    "env.visualize()"
   ]
  },
  {
   "cell_type": "markdown",
   "id": "eea1c400-2b70-47ec-aef2-d6352ae333d7",
   "metadata": {},
   "source": [
    "# Validate island-finding"
   ]
  },
  {
   "cell_type": "code",
   "execution_count": 9,
   "id": "1c16ee9d-b937-4725-b0e4-6c86d8dceee7",
   "metadata": {},
   "outputs": [],
   "source": [
    "from scipy.ndimage import label\n",
    "\n",
    "def validate_island_finding(grid):\n",
    "    # pass label() a grid of T/F, T where the cells are 0 (empty), F where they are !=0 (invalid/occupied).\n",
    "    labeled_array, num_features = label(env.grid == 0)\n",
    "    \n",
    "    # 1's where there are empty cells, 0's where they are occupied/invalid\n",
    "    print(\"here's the grid as the island finder sees it\")\n",
    "    print(labeled_array)\n",
    "    \n",
    "    # number of separate groups.\n",
    "    print(f'there are {num_features} separate islands of unoccupied cells')\n",
    "    \n",
    "    # flatten the grid to 1D\n",
    "    #print(labeled_array.ravel())\n",
    "    \n",
    "    # [number of 0s, number of not-zeroes in group1, number of not-zeroes in group2, ...]\n",
    "    print(\"\\nthe numbers of cells in each group (including the total number of occupied/invalid cells at the zeroeth index)\")\n",
    "    print(np.bincount(labeled_array.ravel()))\n",
    "    \n",
    "    island_sizes = np.bincount(labeled_array.ravel())[1:]\n",
    "    \n",
    "    # Check if any islands have 4 or fewer cells\n",
    "    print(\"\\nAre there groups of unoccupied cells of size <= 4?\")\n",
    "    print(np.any(island_sizes <= 4))"
   ]
  },
  {
   "cell_type": "code",
   "execution_count": 10,
   "id": "d07decf0-df76-462f-ba07-9faa66d80974",
   "metadata": {},
   "outputs": [
    {
     "data": {
      "image/png": "[encoded data removed]",
      "text/plain": [
       "<Figure size 600x600 with 1 Axes>"
      ]
     },
     "metadata": {},
     "output_type": "display_data"
    },
    {
     "name": "stdout",
     "output_type": "stream",
     "text": [
      "here's the grid as the island finder sees it\n",
      "[[0 0 0 1 1 1 0]\n",
      " [2 0 1 1 1 1 0]\n",
      " [2 0 0 1 1 1 1]\n",
      " [2 0 0 0 1 1 1]\n",
      " [2 2 2 0 1 1 1]\n",
      " [0 2 2 0 1 1 1]\n",
      " [2 2 2 0 0 0 0]]\n",
      "there are 2 separate islands of unoccupied cells\n",
      "\n",
      "the numbers of cells in each group (including the total number of occupied/invalid cells at the zeroeth index)\n",
      "[18 20 11]\n",
      "\n",
      "Are there groups of unoccupied cells of size <= 4?\n",
      "False\n"
     ]
    }
   ],
   "source": [
    "env = APADEnv(1,22)\n",
    "env._place_piece_components(6, 0, 0, 1)\n",
    "env._place_piece_components(1, 0, 0, 16)\n",
    "#env._place_piece_components(2, 0, 0, 4)\n",
    "env.visualize()\n",
    "validate_island_finding(env.grid)\n",
    "assert not has_islands(env.grid)"
   ]
  },
  {
   "cell_type": "code",
   "execution_count": 11,
   "id": "048b2307-0ce0-4b07-a124-9f5881be6d1d",
   "metadata": {},
   "outputs": [
    {
     "data": {
      "image/png": "[encoded data removed]",
      "text/plain": [
       "<Figure size 600x600 with 1 Axes>"
      ]
     },
     "metadata": {},
     "output_type": "display_data"
    },
    {
     "name": "stdout",
     "output_type": "stream",
     "text": [
      "here's the grid as the island finder sees it\n",
      "[[0 1 1 1 0 0 0]\n",
      " [1 1 1 1 0 2 0]\n",
      " [1 1 1 1 0 0 1]\n",
      " [1 1 1 1 1 1 1]\n",
      " [1 1 1 1 1 1 1]\n",
      " [0 0 0 0 1 1 1]\n",
      " [0 0 3 0 0 0 0]]\n",
      "there are 3 separate islands of unoccupied cells\n",
      "\n",
      "the numbers of cells in each group (including the total number of occupied/invalid cells at the zeroeth index)\n",
      "[18 29  1  1]\n",
      "\n",
      "Are there groups of unoccupied cells of size <= 4?\n",
      "True\n"
     ]
    }
   ],
   "source": [
    "# we'll allow single islands because in the case where we don't restric solutions, 2 empty singles is the win con\n",
    "env = APADEnv(1,22)\n",
    "env._place_piece_components(1, 0, 1, 35)\n",
    "env._place_piece_components(2, 0, 0, 4)\n",
    "env.visualize()\n",
    "validate_island_finding(env.grid)\n",
    "assert has_islands(env.grid)"
   ]
  },
  {
   "cell_type": "markdown",
   "id": "dff7667b-ccfe-47b0-9a4b-2137d2fe09b4",
   "metadata": {},
   "source": [
    "# Piece placement visualization and sanity-checks\n",
    "Make sure pieces are being placed correctly. And understand the action->position/piece/rotation/chirality encoding.\n",
    "e.g. \n",
    "- action 2408 = Z piece placed in the top-left\n",
    "- action 2451 = Z piece placed int he top-left, but rotated\n",
    "- 2451 - 2408 = 43 possible cells where each piece can be placed\n",
    "- in practice, not all of these cells are valid, even if the board is empty"
   ]
  },
  {
   "cell_type": "code",
   "execution_count": 12,
   "id": "4771ac4a-5cd1-42b8-a1b4-05ed22d9a4fa",
   "metadata": {
    "scrolled": true
   },
   "outputs": [
    {
     "name": "stdout",
     "output_type": "stream",
     "text": [
      "Chosen action: {'piece_id': 7, 'chirality': 0, 'rotation': 0, 'position': 0, 'grid_pos': (0, 0), 'piece_name': 'Z'}\n"
     ]
    },
    {
     "data": {
      "image/png": "[encoded data removed]",
      "text/plain": [
       "<Figure size 300x300 with 1 Axes>"
      ]
     },
     "metadata": {},
     "output_type": "display_data"
    }
   ],
   "source": [
    "env = APADEnv()\n",
    "action = 2408\n",
    "print(f\"Chosen action: {env.decode_action_verbose(action)}\")\n",
    "env.visualize_piece(action)"
   ]
  },
  {
   "cell_type": "code",
   "execution_count": 13,
   "id": "a404625a-4817-4ffa-ab8a-5e34cc21e768",
   "metadata": {
    "scrolled": true
   },
   "outputs": [
    {
     "name": "stdout",
     "output_type": "stream",
     "text": [
      "Chosen action: {'piece_id': 7, 'chirality': 0, 'rotation': 1, 'position': 0, 'grid_pos': (0, 0), 'piece_name': 'Z'}\n"
     ]
    },
    {
     "data": {
      "image/png": "[encoded data removed]",
      "text/plain": [
       "<Figure size 300x300 with 1 Axes>"
      ]
     },
     "metadata": {},
     "output_type": "display_data"
    }
   ],
   "source": [
    "action = 2451\n",
    "print(f\"Chosen action: {env.decode_action_verbose(action)}\")\n",
    "env.visualize_piece(action)"
   ]
  },
  {
   "cell_type": "markdown",
   "id": "6d1e03fa-7299-40c6-919b-fe070517a9ca",
   "metadata": {},
   "source": [
    "At action 2580 (=2451+3*43, for the 3 remaining rotation configurations in each possible cell), we get our first chirality flip for the z-piece"
   ]
  },
  {
   "cell_type": "code",
   "execution_count": 14,
   "id": "52d15a83-94be-4b9c-9c9e-5334ff4b8509",
   "metadata": {
    "scrolled": true
   },
   "outputs": [
    {
     "name": "stdout",
     "output_type": "stream",
     "text": [
      "Chosen action: {'piece_id': 7, 'chirality': 1, 'rotation': 0, 'position': 0, 'grid_pos': (0, 0), 'piece_name': 'Z'}\n"
     ]
    },
    {
     "data": {
      "image/png": "[encoded data removed]",
      "text/plain": [
       "<Figure size 300x300 with 1 Axes>"
      ]
     },
     "metadata": {},
     "output_type": "display_data"
    }
   ],
   "source": [
    "action = 2580\n",
    "print(f\"Chosen action: {env.decode_action_verbose(action)}\")\n",
    "env.visualize_piece(action)"
   ]
  },
  {
   "cell_type": "markdown",
   "id": "267a3705-03f0-442e-b332-7919857fbf24",
   "metadata": {},
   "source": [
    "# Action Masking validation"
   ]
  },
  {
   "cell_type": "code",
   "execution_count": 15,
   "id": "1357a5c9-5b1c-43bc-a6f5-2727b370f502",
   "metadata": {},
   "outputs": [],
   "source": [
    "env = APADEnv()\n",
    "assert env.action_masks().shape == (env.action_space.n,)"
   ]
  },
  {
   "cell_type": "code",
   "execution_count": 16,
   "id": "24320cd3-1d33-414d-bbb8-7c81a20cbb95",
   "metadata": {},
   "outputs": [
    {
     "name": "stdout",
     "output_type": "stream",
     "text": [
      "# of valid actions 773\n"
     ]
    },
    {
     "data": {
      "image/png": "[encoded data removed]",
      "text/plain": [
       "<Figure size 600x600 with 1 Axes>"
      ]
     },
     "metadata": {},
     "output_type": "display_data"
    }
   ],
   "source": [
    "env = APADEnv(1,10)\n",
    "mask = env.action_masks()\n",
    "print(f'# of valid actions {np.flatnonzero(mask).size}')\n",
    "env.visualize()"
   ]
  },
  {
   "cell_type": "markdown",
   "id": "3693aa64-36dd-4658-9226-116947ee6371",
   "metadata": {},
   "source": [
    "# Run through a single random game"
   ]
  },
  {
   "cell_type": "code",
   "execution_count": 17,
   "id": "ca5bf9ad-54a4-42b7-b925-f7c9dcd45019",
   "metadata": {},
   "outputs": [],
   "source": [
    "def test_random_trial(mon=None, day=None):\n",
    "    env = APADEnv(mon,day)\n",
    "    #env = APADEnv()\n",
    "    obs, _ = env.reset()\n",
    "    done = truncated = False\n",
    "\n",
    "    while not (done or truncated):\n",
    "        # Ask the environment which actions are legal right now\n",
    "        mask = env.action_masks()              # boolean array\n",
    "        valid_actions = np.flatnonzero(mask)   # integer indices of True values\n",
    "\n",
    "        if valid_actions.size == 0:\n",
    "            # No possible moves ⇒ truncate / end the episode\n",
    "            truncated = True\n",
    "            break\n",
    "\n",
    "        action = np.random.choice(valid_actions)\n",
    "        obs, reward, done, truncated, info = env.step(action)\n",
    "    \n",
    "    return env, done, truncated, action"
   ]
  },
  {
   "cell_type": "code",
   "execution_count": 18,
   "id": "fc23827c-c446-47d0-a2a1-198a550d50d5",
   "metadata": {},
   "outputs": [
    {
     "name": "stdout",
     "output_type": "stream",
     "text": [
      "Win? False. Lose? True. Has islands? True\n"
     ]
    },
    {
     "data": {
      "image/png": "[encoded data removed]",
      "text/plain": [
       "<Figure size 600x600 with 1 Axes>"
      ]
     },
     "metadata": {},
     "output_type": "display_data"
    },
    {
     "data": {
      "image/png": "[encoded data removed]",
      "text/plain": [
       "<Figure size 300x300 with 1 Axes>"
      ]
     },
     "metadata": {},
     "output_type": "display_data"
    }
   ],
   "source": [
    "env, done, truncated, terminal_action = test_random_trial()\n",
    "print(f'Win? {done}. Lose? {truncated}. Has islands? {has_islands(env.grid)}')\n",
    "env.visualize()\n",
    "env.visualize_piece(terminal_action)"
   ]
  },
  {
   "cell_type": "markdown",
   "id": "ba45bcdf-d205-4f05-897c-0fc45a25d4b1",
   "metadata": {},
   "source": [
    "# Play random trials\n",
    "now that we require specific date solutions, we don't get random wins very often. I think the rate is ~1/50k."
   ]
  },
  {
   "cell_type": "code",
   "execution_count": 19,
   "id": "723436d4-2889-40c9-8af1-320b58059f16",
   "metadata": {},
   "outputs": [
    {
     "name": "stdout",
     "output_type": "stream",
     "text": [
      "trial 236 15.0 seconds elapsed... 15.73 games/second, wins: 0\n",
      "trial 466 30.0 seconds elapsed... 15.52 games/second, wins: 0\n",
      "trial 695 45.0 seconds elapsed... 15.43 games/second, wins: 0\n",
      "trial 927 60.1 seconds elapsed... 15.43 games/second, wins: 0\n",
      "trial 1160 75.1 seconds elapsed... 15.44 games/second, wins: 0\n",
      "trial 1388 90.2 seconds elapsed... 15.39 games/second, wins: 0\n",
      "trial 1619 105.2 seconds elapsed... 15.39 games/second, wins: 0\n",
      "trial 1850 120.3 seconds elapsed... 15.38 games/second, wins: 0\n",
      "trial 2083 135.3 seconds elapsed... 15.40 games/second, wins: 0\n",
      "trial 2316 150.4 seconds elapsed... 15.40 games/second, wins: 0\n",
      "trial 2541 165.4 seconds elapsed... 15.36 games/second, wins: 0\n",
      "trial 2769 180.4 seconds elapsed... 15.35 games/second, wins: 0\n",
      "trial 3000 195.5 seconds elapsed... 15.34 games/second, wins: 0\n",
      "trial 3236 210.5 seconds elapsed... 15.37 games/second, wins: 0\n",
      "trial 3467 225.5 seconds elapsed... 15.37 games/second, wins: 0\n",
      "trial 3693 240.6 seconds elapsed... 15.35 games/second, wins: 0\n",
      "trial 3918 255.6 seconds elapsed... 15.33 games/second, wins: 0\n",
      "trial 4139 270.7 seconds elapsed... 15.29 games/second, wins: 0\n",
      "trial 4365 285.7 seconds elapsed... 15.28 games/second, wins: 0\n",
      "trial 4592 300.8 seconds elapsed... 15.27 games/second, wins: 0\n",
      "trial 4822 315.8 seconds elapsed... 15.27 games/second, wins: 0\n",
      "trial 5046 330.8 seconds elapsed... 15.25 games/second, wins: 0\n",
      "trial 5276 345.8 seconds elapsed... 15.26 games/second, wins: 0\n",
      "trial 5506 360.9 seconds elapsed... 15.26 games/second, wins: 0\n",
      "trial 5742 375.9 seconds elapsed... 15.28 games/second, wins: 0\n",
      "trial 5971 390.9 seconds elapsed... 15.28 games/second, wins: 0\n",
      "trial 6200 405.9 seconds elapsed... 15.27 games/second, wins: 0\n",
      "trial 6427 420.9 seconds elapsed... 15.27 games/second, wins: 0\n",
      "trial 6660 436.0 seconds elapsed... 15.28 games/second, wins: 0\n",
      "trial 6890 451.0 seconds elapsed... 15.28 games/second, wins: 0\n",
      "trial 7122 466.0 seconds elapsed... 15.28 games/second, wins: 0\n",
      "trial 7353 481.1 seconds elapsed... 15.28 games/second, wins: 0\n",
      "trial 7582 496.1 seconds elapsed... 15.28 games/second, wins: 0\n",
      "trial 7815 511.1 seconds elapsed... 15.29 games/second, wins: 0\n",
      "trial 8046 526.1 seconds elapsed... 15.29 games/second, wins: 0\n",
      "trial 8275 541.2 seconds elapsed... 15.29 games/second, wins: 0\n",
      "trial 8504 556.2 seconds elapsed... 15.29 games/second, wins: 0\n",
      "trial 8734 571.3 seconds elapsed... 15.29 games/second, wins: 0\n",
      "trial 8962 586.3 seconds elapsed... 15.29 games/second, wins: 0\n",
      "trial 9190 601.3 seconds elapsed... 15.28 games/second, wins: 0\n",
      "trial 9421 616.4 seconds elapsed... 15.28 games/second, wins: 0\n",
      "trial 9649 631.5 seconds elapsed... 15.28 games/second, wins: 0\n",
      "trial 9883 646.5 seconds elapsed... 15.29 games/second, wins: 0\n",
      "trial 10112 661.6 seconds elapsed... 15.29 games/second, wins: 0\n",
      "trial 10341 676.6 seconds elapsed... 15.28 games/second, wins: 0\n",
      "trial 10568 691.6 seconds elapsed... 15.28 games/second, wins: 0\n",
      "trial 10801 706.7 seconds elapsed... 15.28 games/second, wins: 0\n",
      "trial 11035 721.7 seconds elapsed... 15.29 games/second, wins: 0\n",
      "trial 11264 736.7 seconds elapsed... 15.29 games/second, wins: 0\n",
      "trial 11493 751.8 seconds elapsed... 15.29 games/second, wins: 0\n",
      "trial 11725 766.9 seconds elapsed... 15.29 games/second, wins: 0\n",
      "trial 11957 781.9 seconds elapsed... 15.29 games/second, wins: 0\n",
      "trial 12189 796.9 seconds elapsed... 15.29 games/second, wins: 0\n",
      "trial 12418 812.0 seconds elapsed... 15.29 games/second, wins: 0\n",
      "trial 12644 827.0 seconds elapsed... 15.29 games/second, wins: 0\n",
      "trial 12869 842.1 seconds elapsed... 15.28 games/second, wins: 0\n",
      "trial 13097 857.1 seconds elapsed... 15.28 games/second, wins: 0\n",
      "trial 13329 872.1 seconds elapsed... 15.28 games/second, wins: 0\n",
      "trial 13559 887.1 seconds elapsed... 15.28 games/second, wins: 0\n",
      "trial 13790 902.2 seconds elapsed... 15.29 games/second, wins: 0\n",
      "trial 14020 917.2 seconds elapsed... 15.29 games/second, wins: 0\n",
      "trial 14252 932.2 seconds elapsed... 15.29 games/second, wins: 0\n",
      "trial 14486 947.3 seconds elapsed... 15.29 games/second, wins: 0\n",
      "trial 14717 962.3 seconds elapsed... 15.29 games/second, wins: 0\n",
      "trial 14947 977.3 seconds elapsed... 15.29 games/second, wins: 0\n",
      "trial 15179 992.4 seconds elapsed... 15.30 games/second, wins: 0\n",
      "trial 15411 1007.4 seconds elapsed... 15.30 games/second, wins: 0\n",
      "trial 15640 1022.4 seconds elapsed... 15.30 games/second, wins: 0\n",
      "trial 15870 1037.5 seconds elapsed... 15.30 games/second, wins: 0\n",
      "trial 16101 1052.5 seconds elapsed... 15.30 games/second, wins: 0\n",
      "trial 16334 1067.5 seconds elapsed... 15.30 games/second, wins: 0\n",
      "trial 16566 1082.6 seconds elapsed... 15.30 games/second, wins: 0\n",
      "trial 16794 1097.6 seconds elapsed... 15.30 games/second, wins: 0\n",
      "trial 17022 1112.6 seconds elapsed... 15.30 games/second, wins: 0\n",
      "trial 17251 1127.7 seconds elapsed... 15.30 games/second, wins: 0\n",
      "trial 17474 1142.7 seconds elapsed... 15.29 games/second, wins: 0\n",
      "trial 17696 1157.8 seconds elapsed... 15.28 games/second, wins: 0\n",
      "trial 17923 1172.8 seconds elapsed... 15.28 games/second, wins: 0\n",
      "trial 18152 1187.9 seconds elapsed... 15.28 games/second, wins: 0\n",
      "trial 18376 1202.9 seconds elapsed... 15.28 games/second, wins: 0\n",
      "trial 18604 1218.0 seconds elapsed... 15.27 games/second, wins: 0\n",
      "trial 18830 1233.0 seconds elapsed... 15.27 games/second, wins: 0\n",
      "trial 19061 1248.0 seconds elapsed... 15.27 games/second, wins: 0\n",
      "trial 19291 1263.0 seconds elapsed... 15.27 games/second, wins: 0\n",
      "trial 19519 1278.1 seconds elapsed... 15.27 games/second, wins: 0\n",
      "trial 19745 1293.1 seconds elapsed... 15.27 games/second, wins: 0\n",
      "trial 19974 1308.1 seconds elapsed... 15.27 games/second, wins: 0\n",
      "trial 20197 1323.1 seconds elapsed... 15.26 games/second, wins: 0\n",
      "trial 20426 1338.2 seconds elapsed... 15.26 games/second, wins: 0\n",
      "trial 20653 1353.2 seconds elapsed... 15.26 games/second, wins: 0\n",
      "trial 20883 1368.3 seconds elapsed... 15.26 games/second, wins: 0\n",
      "trial 21115 1383.3 seconds elapsed... 15.26 games/second, wins: 0\n",
      "trial 21342 1398.4 seconds elapsed... 15.26 games/second, wins: 0\n",
      "trial 21576 1413.4 seconds elapsed... 15.27 games/second, wins: 0\n",
      "trial 21801 1428.4 seconds elapsed... 15.26 games/second, wins: 0\n",
      "trial 22036 1443.5 seconds elapsed... 15.27 games/second, wins: 0\n",
      "trial 22265 1458.6 seconds elapsed... 15.27 games/second, wins: 0\n",
      "trial 22495 1473.6 seconds elapsed... 15.27 games/second, wins: 0\n",
      "trial 22726 1488.6 seconds elapsed... 15.27 games/second, wins: 0\n",
      "trial 22950 1503.7 seconds elapsed... 15.26 games/second, wins: 0\n",
      "trial 23177 1518.7 seconds elapsed... 15.26 games/second, wins: 0\n",
      "trial 23405 1533.7 seconds elapsed... 15.26 games/second, wins: 0\n",
      "trial 23628 1548.7 seconds elapsed... 15.26 games/second, wins: 0\n",
      "trial 23858 1563.8 seconds elapsed... 15.26 games/second, wins: 0\n",
      "trial 24085 1578.8 seconds elapsed... 15.26 games/second, wins: 0\n",
      "trial 24307 1593.8 seconds elapsed... 15.25 games/second, wins: 0\n",
      "trial 24533 1608.9 seconds elapsed... 15.25 games/second, wins: 0\n",
      "trial 24760 1623.9 seconds elapsed... 15.25 games/second, wins: 0\n",
      "trial 24992 1638.9 seconds elapsed... 15.25 games/second, wins: 0\n",
      "trial 25222 1653.9 seconds elapsed... 15.25 games/second, wins: 0\n",
      "trial 25453 1669.0 seconds elapsed... 15.25 games/second, wins: 0\n",
      "trial 25679 1684.0 seconds elapsed... 15.25 games/second, wins: 0\n",
      "trial 25910 1699.0 seconds elapsed... 15.25 games/second, wins: 0\n",
      "trial 26140 1714.0 seconds elapsed... 15.25 games/second, wins: 0\n",
      "trial 26376 1729.1 seconds elapsed... 15.25 games/second, wins: 0\n",
      "trial 26603 1744.1 seconds elapsed... 15.25 games/second, wins: 0\n",
      "trial 26833 1759.2 seconds elapsed... 15.25 games/second, wins: 0\n",
      "trial 27061 1774.2 seconds elapsed... 15.25 games/second, wins: 0\n",
      "trial 27290 1789.3 seconds elapsed... 15.25 games/second, wins: 0\n",
      "trial 27516 1804.3 seconds elapsed... 15.25 games/second, wins: 0\n",
      "trial 27743 1819.4 seconds elapsed... 15.25 games/second, wins: 0\n",
      "trial 27971 1834.4 seconds elapsed... 15.25 games/second, wins: 0\n",
      "trial 28198 1849.4 seconds elapsed... 15.25 games/second, wins: 0\n",
      "trial 28428 1864.4 seconds elapsed... 15.25 games/second, wins: 0\n",
      "trial 28660 1879.4 seconds elapsed... 15.25 games/second, wins: 0\n",
      "trial 28883 1894.5 seconds elapsed... 15.25 games/second, wins: 0\n",
      "trial 29112 1909.5 seconds elapsed... 15.25 games/second, wins: 0\n",
      "trial 29344 1924.6 seconds elapsed... 15.25 games/second, wins: 0\n",
      "trial 29571 1939.6 seconds elapsed... 15.25 games/second, wins: 0\n",
      "trial 29801 1954.7 seconds elapsed... 15.25 games/second, wins: 0\n",
      "trial 30030 1969.7 seconds elapsed... 15.25 games/second, wins: 0\n",
      "trial 30259 1984.8 seconds elapsed... 15.25 games/second, wins: 0\n",
      "trial 30485 1999.8 seconds elapsed... 15.24 games/second, wins: 0\n",
      "trial 30715 2014.8 seconds elapsed... 15.24 games/second, wins: 0\n",
      "trial 30944 2029.8 seconds elapsed... 15.24 games/second, wins: 0\n",
      "trial 31173 2044.9 seconds elapsed... 15.24 games/second, wins: 0\n",
      "trial 31405 2059.9 seconds elapsed... 15.25 games/second, wins: 0\n",
      "trial 31636 2074.9 seconds elapsed... 15.25 games/second, wins: 0\n",
      "trial 31862 2089.9 seconds elapsed... 15.25 games/second, wins: 0\n",
      "trial 32084 2104.9 seconds elapsed... 15.24 games/second, wins: 0\n",
      "trial 32305 2120.0 seconds elapsed... 15.24 games/second, wins: 0\n",
      "trial 32533 2135.0 seconds elapsed... 15.24 games/second, wins: 0\n",
      "trial 32760 2150.0 seconds elapsed... 15.24 games/second, wins: 0\n",
      "trial 32985 2165.1 seconds elapsed... 15.23 games/second, wins: 0\n",
      "trial 33217 2180.2 seconds elapsed... 15.24 games/second, wins: 0\n",
      "trial 33437 2195.2 seconds elapsed... 15.23 games/second, wins: 0\n",
      "trial 33669 2210.3 seconds elapsed... 15.23 games/second, wins: 0\n",
      "trial 33898 2225.3 seconds elapsed... 15.23 games/second, wins: 0\n",
      "trial 34127 2240.3 seconds elapsed... 15.23 games/second, wins: 0\n",
      "trial 34356 2255.4 seconds elapsed... 15.23 games/second, wins: 0\n",
      "trial 34584 2270.5 seconds elapsed... 15.23 games/second, wins: 0\n",
      "trial 34817 2285.5 seconds elapsed... 15.23 games/second, wins: 0\n",
      "trial 35047 2300.6 seconds elapsed... 15.23 games/second, wins: 0\n",
      "trial 35270 2315.6 seconds elapsed... 15.23 games/second, wins: 0\n",
      "trial 35500 2330.7 seconds elapsed... 15.23 games/second, wins: 0\n",
      "trial 35728 2345.7 seconds elapsed... 15.23 games/second, wins: 0\n",
      "trial 35962 2360.7 seconds elapsed... 15.23 games/second, wins: 0\n",
      "trial 36184 2375.7 seconds elapsed... 15.23 games/second, wins: 0\n",
      "trial 36416 2390.8 seconds elapsed... 15.23 games/second, wins: 0\n",
      "trial 36641 2405.8 seconds elapsed... 15.23 games/second, wins: 0\n",
      "trial 36868 2420.9 seconds elapsed... 15.23 games/second, wins: 0\n",
      "trial 37089 2435.9 seconds elapsed... 15.23 games/second, wins: 0\n",
      "trial 37312 2450.9 seconds elapsed... 15.22 games/second, wins: 0\n",
      "trial 37550 2465.9 seconds elapsed... 15.23 games/second, wins: 0\n",
      "trial 37783 2480.9 seconds elapsed... 15.23 games/second, wins: 0\n",
      "trial 38016 2496.0 seconds elapsed... 15.23 games/second, wins: 0\n",
      "trial 38244 2511.0 seconds elapsed... 15.23 games/second, wins: 0\n",
      "trial 38470 2526.0 seconds elapsed... 15.23 games/second, wins: 0\n",
      "trial 38698 2541.0 seconds elapsed... 15.23 games/second, wins: 0\n",
      "trial 38920 2556.1 seconds elapsed... 15.23 games/second, wins: 0\n",
      "trial 39143 2571.1 seconds elapsed... 15.22 games/second, wins: 0\n",
      "trial 39374 2586.2 seconds elapsed... 15.22 games/second, wins: 0\n",
      "trial 39597 2601.2 seconds elapsed... 15.22 games/second, wins: 0\n",
      "trial 39821 2616.3 seconds elapsed... 15.22 games/second, wins: 0\n",
      "trial 40043 2631.3 seconds elapsed... 15.22 games/second, wins: 0\n",
      "trial 40260 2646.3 seconds elapsed... 15.21 games/second, wins: 0\n",
      "trial 40485 2661.4 seconds elapsed... 15.21 games/second, wins: 0\n",
      "trial 40709 2676.4 seconds elapsed... 15.21 games/second, wins: 0\n",
      "trial 40930 2691.4 seconds elapsed... 15.21 games/second, wins: 0\n",
      "trial 41151 2706.5 seconds elapsed... 15.20 games/second, wins: 0\n",
      "trial 41375 2721.5 seconds elapsed... 15.20 games/second, wins: 0\n",
      "trial 41603 2736.6 seconds elapsed... 15.20 games/second, wins: 0\n",
      "trial 41821 2751.6 seconds elapsed... 15.20 games/second, wins: 0\n",
      "trial 42047 2766.6 seconds elapsed... 15.20 games/second, wins: 0\n",
      "trial 42270 2781.7 seconds elapsed... 15.20 games/second, wins: 0\n",
      "trial 42495 2796.7 seconds elapsed... 15.19 games/second, wins: 0\n",
      "trial 42719 2811.8 seconds elapsed... 15.19 games/second, wins: 0\n",
      "trial 42943 2826.8 seconds elapsed... 15.19 games/second, wins: 0\n",
      "trial 43167 2841.8 seconds elapsed... 15.19 games/second, wins: 0\n",
      "trial 43393 2856.9 seconds elapsed... 15.19 games/second, wins: 0\n",
      "trial 43619 2871.9 seconds elapsed... 15.19 games/second, wins: 0\n",
      "trial 43840 2886.9 seconds elapsed... 15.19 games/second, wins: 0\n",
      "trial 44063 2902.0 seconds elapsed... 15.18 games/second, wins: 0\n",
      "trial 44291 2917.0 seconds elapsed... 15.18 games/second, wins: 0\n",
      "trial 44515 2932.0 seconds elapsed... 15.18 games/second, wins: 0\n",
      "trial 44742 2947.0 seconds elapsed... 15.18 games/second, wins: 0\n",
      "trial 44975 2962.1 seconds elapsed... 15.18 games/second, wins: 0\n",
      "trial 45204 2977.1 seconds elapsed... 15.18 games/second, wins: 0\n",
      "trial 45435 2992.1 seconds elapsed... 15.18 games/second, wins: 0\n",
      "trial 45663 3007.2 seconds elapsed... 15.18 games/second, wins: 0\n",
      "trial 45891 3022.2 seconds elapsed... 15.18 games/second, wins: 0\n",
      "trial 46118 3037.2 seconds elapsed... 15.18 games/second, wins: 0\n",
      "trial 46348 3052.2 seconds elapsed... 15.19 games/second, wins: 0\n",
      "trial 46578 3067.2 seconds elapsed... 15.19 games/second, wins: 0\n",
      "trial 46808 3082.3 seconds elapsed... 15.19 games/second, wins: 0\n",
      "trial 47032 3097.3 seconds elapsed... 15.18 games/second, wins: 0\n",
      "trial 47256 3112.4 seconds elapsed... 15.18 games/second, wins: 0\n",
      "trial 47482 3127.4 seconds elapsed... 15.18 games/second, wins: 0\n",
      "trial 47706 3142.4 seconds elapsed... 15.18 games/second, wins: 0\n",
      "trial 47935 3157.5 seconds elapsed... 15.18 games/second, wins: 0\n",
      "trial 48163 3172.5 seconds elapsed... 15.18 games/second, wins: 0\n",
      "trial 48387 3187.6 seconds elapsed... 15.18 games/second, wins: 0\n",
      "trial 48607 3202.6 seconds elapsed... 15.18 games/second, wins: 0\n",
      "trial 48827 3217.6 seconds elapsed... 15.18 games/second, wins: 0\n",
      "trial 49050 3232.6 seconds elapsed... 15.17 games/second, wins: 0\n",
      "trial 49268 3247.7 seconds elapsed... 15.17 games/second, wins: 0\n",
      "trial 49494 3262.7 seconds elapsed... 15.17 games/second, wins: 0\n",
      "trial 49715 3277.7 seconds elapsed... 15.17 games/second, wins: 0\n",
      "trial 49939 3292.7 seconds elapsed... 15.17 games/second, wins: 0\n",
      "trial 50171 3307.8 seconds elapsed... 15.17 games/second, wins: 0\n",
      "trial 50400 3322.9 seconds elapsed... 15.17 games/second, wins: 0\n",
      "trial 50623 3337.9 seconds elapsed... 15.17 games/second, wins: 0\n",
      "trial 50847 3352.9 seconds elapsed... 15.17 games/second, wins: 0\n",
      "trial 51073 3367.9 seconds elapsed... 15.16 games/second, wins: 0\n",
      "trial 51296 3382.9 seconds elapsed... 15.16 games/second, wins: 0\n",
      "trial 51516 3397.9 seconds elapsed... 15.16 games/second, wins: 0\n",
      "trial 51739 3412.9 seconds elapsed... 15.16 games/second, wins: 0\n",
      "trial 51961 3428.0 seconds elapsed... 15.16 games/second, wins: 0\n",
      "trial 52190 3443.1 seconds elapsed... 15.16 games/second, wins: 0\n",
      "trial 52419 3458.1 seconds elapsed... 15.16 games/second, wins: 0\n",
      "trial 52652 3473.1 seconds elapsed... 15.16 games/second, wins: 0\n",
      "trial 52878 3488.1 seconds elapsed... 15.16 games/second, wins: 0\n",
      "trial 53106 3503.2 seconds elapsed... 15.16 games/second, wins: 0\n",
      "trial 53332 3518.2 seconds elapsed... 15.16 games/second, wins: 0\n",
      "trial 53561 3533.2 seconds elapsed... 15.16 games/second, wins: 0\n",
      "trial 53786 3548.2 seconds elapsed... 15.16 games/second, wins: 0\n",
      "trial 54011 3563.2 seconds elapsed... 15.16 games/second, wins: 0\n",
      "trial 54245 3578.2 seconds elapsed... 15.16 games/second, wins: 0\n",
      "trial 54480 3593.3 seconds elapsed... 15.16 games/second, wins: 0\n",
      "trial 54709 3608.3 seconds elapsed... 15.16 games/second, wins: 0\n",
      "trial 54935 3623.3 seconds elapsed... 15.16 games/second, wins: 0\n",
      "trial 55165 3638.4 seconds elapsed... 15.16 games/second, wins: 0\n",
      "trial 55399 3653.4 seconds elapsed... 15.16 games/second, wins: 0\n",
      "trial 55626 3668.5 seconds elapsed... 15.16 games/second, wins: 0\n",
      "trial 55861 3683.5 seconds elapsed... 15.17 games/second, wins: 0\n",
      "trial 56091 3698.5 seconds elapsed... 15.17 games/second, wins: 0\n",
      "trial 56319 3713.5 seconds elapsed... 15.17 games/second, wins: 0\n",
      "trial 56544 3728.6 seconds elapsed... 15.17 games/second, wins: 0\n",
      "trial 56775 3743.6 seconds elapsed... 15.17 games/second, wins: 0\n",
      "trial 56998 3758.6 seconds elapsed... 15.16 games/second, wins: 0\n",
      "trial 57219 3773.6 seconds elapsed... 15.16 games/second, wins: 0\n",
      "trial 57449 3788.7 seconds elapsed... 15.16 games/second, wins: 0\n",
      "trial 57680 3803.7 seconds elapsed... 15.16 games/second, wins: 0\n",
      "trial 57911 3818.7 seconds elapsed... 15.17 games/second, wins: 0\n",
      "trial 58139 3833.8 seconds elapsed... 15.16 games/second, wins: 0\n",
      "trial 58370 3848.8 seconds elapsed... 15.17 games/second, wins: 0\n",
      "trial 58601 3863.8 seconds elapsed... 15.17 games/second, wins: 0\n",
      "trial 58829 3878.9 seconds elapsed... 15.17 games/second, wins: 0\n",
      "trial 59059 3893.9 seconds elapsed... 15.17 games/second, wins: 0\n",
      "trial 59296 3909.0 seconds elapsed... 15.17 games/second, wins: 0\n",
      "trial 59525 3924.1 seconds elapsed... 15.17 games/second, wins: 0\n",
      "trial 59755 3939.1 seconds elapsed... 15.17 games/second, wins: 0\n",
      "trial 59979 3954.2 seconds elapsed... 15.17 games/second, wins: 0\n",
      "trial 60208 3969.2 seconds elapsed... 15.17 games/second, wins: 0\n",
      "trial 60441 3984.2 seconds elapsed... 15.17 games/second, wins: 0\n",
      "trial 60671 3999.3 seconds elapsed... 15.17 games/second, wins: 0\n",
      "trial 60900 4014.3 seconds elapsed... 15.17 games/second, wins: 0\n",
      "trial 61132 4029.3 seconds elapsed... 15.17 games/second, wins: 0\n",
      "trial 61361 4044.3 seconds elapsed... 15.17 games/second, wins: 0\n",
      "trial 61590 4059.4 seconds elapsed... 15.17 games/second, wins: 0\n",
      "trial 61821 4074.4 seconds elapsed... 15.17 games/second, wins: 0\n",
      "trial 62051 4089.4 seconds elapsed... 15.17 games/second, wins: 0\n",
      "trial 62276 4104.5 seconds elapsed... 15.17 games/second, wins: 0\n",
      "trial 62507 4119.5 seconds elapsed... 15.17 games/second, wins: 0\n",
      "trial 62728 4134.5 seconds elapsed... 15.17 games/second, wins: 0\n",
      "trial 62946 4149.5 seconds elapsed... 15.17 games/second, wins: 0\n",
      "trial 63172 4164.6 seconds elapsed... 15.17 games/second, wins: 0\n",
      "trial 63401 4179.6 seconds elapsed... 15.17 games/second, wins: 0\n",
      "trial 63630 4194.7 seconds elapsed... 15.17 games/second, wins: 0\n",
      "trial 63862 4209.7 seconds elapsed... 15.17 games/second, wins: 0\n",
      "trial 64093 4224.7 seconds elapsed... 15.17 games/second, wins: 0\n",
      "trial 64324 4239.8 seconds elapsed... 15.17 games/second, wins: 0\n",
      "trial 64557 4254.8 seconds elapsed... 15.17 games/second, wins: 0\n",
      "trial 64791 4269.8 seconds elapsed... 15.17 games/second, wins: 0\n",
      "trial 65019 4284.8 seconds elapsed... 15.17 games/second, wins: 0\n",
      "trial 65255 4299.9 seconds elapsed... 15.18 games/second, wins: 0\n",
      "trial 65485 4314.9 seconds elapsed... 15.18 games/second, wins: 0\n",
      "trial 65713 4330.0 seconds elapsed... 15.18 games/second, wins: 0\n",
      "trial 65950 4345.0 seconds elapsed... 15.18 games/second, wins: 0\n",
      "trial 66183 4360.0 seconds elapsed... 15.18 games/second, wins: 0\n",
      "trial 66413 4375.0 seconds elapsed... 15.18 games/second, wins: 0\n",
      "trial 66640 4390.0 seconds elapsed... 15.18 games/second, wins: 0\n",
      "trial 66871 4405.0 seconds elapsed... 15.18 games/second, wins: 0\n",
      "trial 67107 4420.0 seconds elapsed... 15.18 games/second, wins: 0\n",
      "trial 67340 4435.1 seconds elapsed... 15.18 games/second, wins: 0\n",
      "trial 67570 4450.1 seconds elapsed... 15.18 games/second, wins: 0\n",
      "trial 67806 4465.1 seconds elapsed... 15.19 games/second, wins: 0\n",
      "trial 68033 4480.1 seconds elapsed... 15.19 games/second, wins: 0\n",
      "trial 68262 4495.2 seconds elapsed... 15.19 games/second, wins: 0\n",
      "trial 68494 4510.2 seconds elapsed... 15.19 games/second, wins: 0\n",
      "trial 68727 4525.3 seconds elapsed... 15.19 games/second, wins: 0\n",
      "trial 68959 4540.3 seconds elapsed... 15.19 games/second, wins: 0\n",
      "trial 69192 4555.4 seconds elapsed... 15.19 games/second, wins: 0\n",
      "trial 69426 4570.4 seconds elapsed... 15.19 games/second, wins: 0\n",
      "trial 69661 4585.4 seconds elapsed... 15.19 games/second, wins: 0\n",
      "trial 69893 4600.4 seconds elapsed... 15.19 games/second, wins: 0\n",
      "trial 70121 4615.5 seconds elapsed... 15.19 games/second, wins: 0\n",
      "trial 70352 4630.5 seconds elapsed... 15.19 games/second, wins: 0\n",
      "trial 70583 4645.6 seconds elapsed... 15.19 games/second, wins: 0\n",
      "trial 70811 4660.6 seconds elapsed... 15.19 games/second, wins: 0\n",
      "trial 71043 4675.7 seconds elapsed... 15.19 games/second, wins: 0\n",
      "trial 71273 4690.7 seconds elapsed... 15.19 games/second, wins: 0\n",
      "trial 71502 4705.8 seconds elapsed... 15.19 games/second, wins: 0\n",
      "trial 71732 4720.8 seconds elapsed... 15.19 games/second, wins: 0\n",
      "trial 71960 4735.8 seconds elapsed... 15.19 games/second, wins: 0\n",
      "trial 72189 4750.8 seconds elapsed... 15.19 games/second, wins: 0\n",
      "trial 72414 4765.9 seconds elapsed... 15.19 games/second, wins: 0\n",
      "trial 72649 4781.0 seconds elapsed... 15.20 games/second, wins: 0\n",
      "trial 72880 4796.0 seconds elapsed... 15.20 games/second, wins: 0\n",
      "trial 73105 4811.0 seconds elapsed... 15.20 games/second, wins: 0\n",
      "trial 73340 4826.0 seconds elapsed... 15.20 games/second, wins: 0\n",
      "trial 73572 4841.1 seconds elapsed... 15.20 games/second, wins: 0\n",
      "trial 73803 4856.2 seconds elapsed... 15.20 games/second, wins: 0\n",
      "trial 74031 4871.2 seconds elapsed... 15.20 games/second, wins: 0\n",
      "trial 74261 4886.2 seconds elapsed... 15.20 games/second, wins: 0\n",
      "trial 74495 4901.2 seconds elapsed... 15.20 games/second, wins: 0\n",
      "trial 74722 4916.2 seconds elapsed... 15.20 games/second, wins: 0\n",
      "trial 74954 4931.3 seconds elapsed... 15.20 games/second, wins: 0\n",
      "trial 75183 4946.3 seconds elapsed... 15.20 games/second, wins: 0\n",
      "trial 75412 4961.3 seconds elapsed... 15.20 games/second, wins: 0\n",
      "trial 75648 4976.4 seconds elapsed... 15.20 games/second, wins: 0\n",
      "trial 75878 4991.4 seconds elapsed... 15.20 games/second, wins: 0\n",
      "trial 76111 5006.4 seconds elapsed... 15.20 games/second, wins: 0\n",
      "trial 76337 5021.4 seconds elapsed... 15.20 games/second, wins: 0\n",
      "trial 76569 5036.5 seconds elapsed... 15.20 games/second, wins: 0\n",
      "trial 76798 5051.5 seconds elapsed... 15.20 games/second, wins: 0\n",
      "trial 77029 5066.5 seconds elapsed... 15.20 games/second, wins: 0\n",
      "trial 77253 5081.6 seconds elapsed... 15.20 games/second, wins: 0\n",
      "trial 77485 5096.6 seconds elapsed... 15.20 games/second, wins: 0\n",
      "trial 77714 5111.7 seconds elapsed... 15.20 games/second, wins: 0\n",
      "trial 77951 5126.7 seconds elapsed... 15.20 games/second, wins: 0\n",
      "trial 78187 5141.7 seconds elapsed... 15.21 games/second, wins: 0\n",
      "trial 78417 5156.7 seconds elapsed... 15.21 games/second, wins: 0\n",
      "trial 78647 5171.7 seconds elapsed... 15.21 games/second, wins: 0\n",
      "trial 78878 5186.8 seconds elapsed... 15.21 games/second, wins: 0\n",
      "trial 79115 5201.8 seconds elapsed... 15.21 games/second, wins: 0\n",
      "trial 79347 5216.9 seconds elapsed... 15.21 games/second, wins: 0\n",
      "trial 79578 5231.9 seconds elapsed... 15.21 games/second, wins: 0\n",
      "trial 79809 5246.9 seconds elapsed... 15.21 games/second, wins: 0\n",
      "trial 80037 5261.9 seconds elapsed... 15.21 games/second, wins: 0\n",
      "trial 80266 5277.0 seconds elapsed... 15.21 games/second, wins: 0\n",
      "trial 80492 5292.0 seconds elapsed... 15.21 games/second, wins: 0\n",
      "trial 80722 5307.0 seconds elapsed... 15.21 games/second, wins: 0\n",
      "trial 80952 5322.1 seconds elapsed... 15.21 games/second, wins: 0\n",
      "trial 81183 5337.1 seconds elapsed... 15.21 games/second, wins: 0\n",
      "trial 81409 5352.2 seconds elapsed... 15.21 games/second, wins: 0\n",
      "trial 81641 5367.2 seconds elapsed... 15.21 games/second, wins: 0\n",
      "trial 81875 5382.2 seconds elapsed... 15.21 games/second, wins: 0\n",
      "trial 82102 5397.2 seconds elapsed... 15.21 games/second, wins: 0\n",
      "trial 82333 5412.2 seconds elapsed... 15.21 games/second, wins: 0\n",
      "trial 82560 5427.3 seconds elapsed... 15.21 games/second, wins: 0\n",
      "trial 82789 5442.4 seconds elapsed... 15.21 games/second, wins: 0\n",
      "trial 83018 5457.4 seconds elapsed... 15.21 games/second, wins: 0\n",
      "trial 83252 5472.4 seconds elapsed... 15.21 games/second, wins: 0\n",
      "trial 83483 5487.5 seconds elapsed... 15.21 games/second, wins: 0\n",
      "trial 83708 5502.5 seconds elapsed... 15.21 games/second, wins: 0\n",
      "trial 83938 5517.5 seconds elapsed... 15.21 games/second, wins: 0\n",
      "trial 84171 5532.6 seconds elapsed... 15.21 games/second, wins: 0\n",
      "trial 84406 5547.6 seconds elapsed... 15.21 games/second, wins: 0\n",
      "trial 84632 5562.6 seconds elapsed... 15.21 games/second, wins: 0\n",
      "trial 84863 5577.7 seconds elapsed... 15.21 games/second, wins: 0\n",
      "trial 85090 5592.7 seconds elapsed... 15.21 games/second, wins: 0\n",
      "trial 85322 5607.8 seconds elapsed... 15.21 games/second, wins: 0\n",
      "trial 85551 5622.8 seconds elapsed... 15.22 games/second, wins: 0\n",
      "trial 85784 5637.8 seconds elapsed... 15.22 games/second, wins: 0\n",
      "trial 86018 5652.9 seconds elapsed... 15.22 games/second, wins: 0\n",
      "trial 86248 5667.9 seconds elapsed... 15.22 games/second, wins: 0\n",
      "trial 86476 5682.9 seconds elapsed... 15.22 games/second, wins: 0\n",
      "trial 86712 5698.0 seconds elapsed... 15.22 games/second, wins: 0\n",
      "trial 86941 5713.0 seconds elapsed... 15.22 games/second, wins: 0\n",
      "trial 87171 5728.0 seconds elapsed... 15.22 games/second, wins: 0\n",
      "trial 87400 5743.0 seconds elapsed... 15.22 games/second, wins: 0\n",
      "trial 87634 5758.1 seconds elapsed... 15.22 games/second, wins: 0\n",
      "trial 87869 5773.1 seconds elapsed... 15.22 games/second, wins: 0\n",
      "trial 88097 5788.1 seconds elapsed... 15.22 games/second, wins: 0\n",
      "trial 88334 5803.1 seconds elapsed... 15.22 games/second, wins: 0\n",
      "trial 88561 5818.1 seconds elapsed... 15.22 games/second, wins: 0\n",
      "trial 88789 5833.1 seconds elapsed... 15.22 games/second, wins: 0\n",
      "trial 89023 5848.1 seconds elapsed... 15.22 games/second, wins: 0\n",
      "trial 89255 5863.2 seconds elapsed... 15.22 games/second, wins: 0\n",
      "trial 89485 5878.2 seconds elapsed... 15.22 games/second, wins: 0\n",
      "trial 89717 5893.2 seconds elapsed... 15.22 games/second, wins: 0\n",
      "trial 89939 5908.3 seconds elapsed... 15.22 games/second, wins: 0\n",
      "trial 90164 5923.3 seconds elapsed... 15.22 games/second, wins: 0\n",
      "trial 90394 5938.3 seconds elapsed... 15.22 games/second, wins: 0\n",
      "trial 90626 5953.3 seconds elapsed... 15.22 games/second, wins: 0\n",
      "trial 90852 5968.4 seconds elapsed... 15.22 games/second, wins: 0\n",
      "trial 91087 5983.5 seconds elapsed... 15.22 games/second, wins: 0\n",
      "trial 91320 5998.5 seconds elapsed... 15.22 games/second, wins: 0\n",
      "trial 91549 6013.5 seconds elapsed... 15.22 games/second, wins: 0\n",
      "trial 91777 6028.6 seconds elapsed... 15.22 games/second, wins: 0\n",
      "trial 92006 6043.6 seconds elapsed... 15.22 games/second, wins: 0\n",
      "trial 92234 6058.7 seconds elapsed... 15.22 games/second, wins: 0\n",
      "trial 92464 6073.7 seconds elapsed... 15.22 games/second, wins: 0\n",
      "trial 92699 6088.8 seconds elapsed... 15.22 games/second, wins: 0\n",
      "trial 92930 6103.8 seconds elapsed... 15.22 games/second, wins: 0\n",
      "trial 93158 6118.8 seconds elapsed... 15.22 games/second, wins: 0\n",
      "trial 93390 6133.8 seconds elapsed... 15.23 games/second, wins: 0\n",
      "trial 93623 6148.9 seconds elapsed... 15.23 games/second, wins: 0\n",
      "trial 93849 6163.9 seconds elapsed... 15.23 games/second, wins: 0\n",
      "trial 94078 6178.9 seconds elapsed... 15.23 games/second, wins: 0\n",
      "trial 94318 6194.0 seconds elapsed... 15.23 games/second, wins: 0\n",
      "trial 94550 6209.0 seconds elapsed... 15.23 games/second, wins: 0\n",
      "trial 94781 6224.1 seconds elapsed... 15.23 games/second, wins: 0\n",
      "trial 95011 6239.1 seconds elapsed... 15.23 games/second, wins: 0\n",
      "trial 95245 6254.1 seconds elapsed... 15.23 games/second, wins: 0\n",
      "trial 95471 6269.1 seconds elapsed... 15.23 games/second, wins: 0\n",
      "trial 95701 6284.1 seconds elapsed... 15.23 games/second, wins: 0\n",
      "trial 95932 6299.2 seconds elapsed... 15.23 games/second, wins: 0\n",
      "trial 96163 6314.2 seconds elapsed... 15.23 games/second, wins: 0\n",
      "trial 96390 6329.2 seconds elapsed... 15.23 games/second, wins: 0\n",
      "trial 96617 6344.3 seconds elapsed... 15.23 games/second, wins: 0\n",
      "trial 96847 6359.3 seconds elapsed... 15.23 games/second, wins: 0\n",
      "trial 97076 6374.3 seconds elapsed... 15.23 games/second, wins: 0\n",
      "trial 97307 6389.4 seconds elapsed... 15.23 games/second, wins: 0\n",
      "trial 97544 6404.4 seconds elapsed... 15.23 games/second, wins: 0\n",
      "trial 97773 6419.5 seconds elapsed... 15.23 games/second, wins: 0\n",
      "trial 98004 6434.5 seconds elapsed... 15.23 games/second, wins: 0\n",
      "trial 98231 6449.5 seconds elapsed... 15.23 games/second, wins: 0\n",
      "trial 98460 6464.5 seconds elapsed... 15.23 games/second, wins: 0\n",
      "trial 98692 6479.6 seconds elapsed... 15.23 games/second, wins: 0\n",
      "trial 98915 6494.6 seconds elapsed... 15.23 games/second, wins: 0\n",
      "trial 99145 6509.6 seconds elapsed... 15.23 games/second, wins: 0\n",
      "trial 99370 6524.7 seconds elapsed... 15.23 games/second, wins: 0\n",
      "trial 99598 6539.7 seconds elapsed... 15.23 games/second, wins: 0\n",
      "trial 99828 6554.7 seconds elapsed... 15.23 games/second, wins: 0\n",
      "trial 100056 6569.8 seconds elapsed... 15.23 games/second, wins: 0\n",
      "trial 100283 6584.8 seconds elapsed... 15.23 games/second, wins: 0\n",
      "trial 100515 6599.8 seconds elapsed... 15.23 games/second, wins: 0\n",
      "trial 100745 6614.8 seconds elapsed... 15.23 games/second, wins: 0\n",
      "trial 100971 6629.9 seconds elapsed... 15.23 games/second, wins: 0\n",
      "trial 101200 6644.9 seconds elapsed... 15.23 games/second, wins: 0\n",
      "trial 101429 6660.0 seconds elapsed... 15.23 games/second, wins: 0\n",
      "trial 101655 6675.0 seconds elapsed... 15.23 games/second, wins: 0\n",
      "trial 101885 6690.0 seconds elapsed... 15.23 games/second, wins: 0\n",
      "trial 102117 6705.1 seconds elapsed... 15.23 games/second, wins: 0\n",
      "trial 102347 6720.1 seconds elapsed... 15.23 games/second, wins: 0\n",
      "trial 102579 6735.1 seconds elapsed... 15.23 games/second, wins: 0\n",
      "trial 102808 6750.2 seconds elapsed... 15.23 games/second, wins: 0\n",
      "trial 103036 6765.2 seconds elapsed... 15.23 games/second, wins: 0\n",
      "trial 103265 6780.2 seconds elapsed... 15.23 games/second, wins: 0\n",
      "trial 103496 6795.2 seconds elapsed... 15.23 games/second, wins: 0\n",
      "trial 103723 6810.3 seconds elapsed... 15.23 games/second, wins: 0\n",
      "trial 103949 6825.3 seconds elapsed... 15.23 games/second, wins: 0\n",
      "trial 104182 6840.3 seconds elapsed... 15.23 games/second, wins: 0\n",
      "trial 104415 6855.4 seconds elapsed... 15.23 games/second, wins: 0\n",
      "trial 104645 6870.4 seconds elapsed... 15.23 games/second, wins: 0\n",
      "trial 104876 6885.4 seconds elapsed... 15.23 games/second, wins: 0\n",
      "trial 105103 6900.5 seconds elapsed... 15.23 games/second, wins: 0\n",
      "trial 105338 6915.5 seconds elapsed... 15.23 games/second, wins: 0\n",
      "trial 105570 6930.5 seconds elapsed... 15.23 games/second, wins: 0\n",
      "trial 105804 6945.5 seconds elapsed... 15.23 games/second, wins: 0\n",
      "trial 106036 6960.6 seconds elapsed... 15.23 games/second, wins: 0\n",
      "trial 106264 6975.6 seconds elapsed... 15.23 games/second, wins: 0\n",
      "trial 106491 6990.6 seconds elapsed... 15.23 games/second, wins: 0\n",
      "trial 106717 7005.6 seconds elapsed... 15.23 games/second, wins: 0\n",
      "trial 106949 7020.7 seconds elapsed... 15.23 games/second, wins: 0\n",
      "trial 107176 7035.7 seconds elapsed... 15.23 games/second, wins: 0\n",
      "trial 107406 7050.7 seconds elapsed... 15.23 games/second, wins: 0\n",
      "trial 107633 7065.8 seconds elapsed... 15.23 games/second, wins: 0\n",
      "trial 107864 7080.8 seconds elapsed... 15.23 games/second, wins: 0\n",
      "trial 108090 7095.8 seconds elapsed... 15.23 games/second, wins: 0\n",
      "trial 108297 7110.9 seconds elapsed... 15.23 games/second, wins: 0\n",
      "trial 108527 7125.9 seconds elapsed... 15.23 games/second, wins: 0\n"
     ]
    },
    {
     "data": {
      "image/png": "[encoded data removed]",
      "text/plain": [
       "<Figure size 600x600 with 1 Axes>"
      ]
     },
     "metadata": {},
     "output_type": "display_data"
    },
    {
     "data": {
      "image/png": "[encoded data removed]",
      "text/plain": [
       "<Figure size 640x480 with 1 Axes>"
      ]
     },
     "metadata": {},
     "output_type": "display_data"
    },
    {
     "name": "stdout",
     "output_type": "stream",
     "text": [
      "Trials: 108652, Success rate: 0.00%, wins: 0\n",
      "0\n"
     ]
    }
   ],
   "source": [
    "import time\n",
    "\n",
    "start_time = time.time()\n",
    "last_print = start_time\n",
    "\n",
    "i = 0\n",
    "remaining_pieces = []\n",
    "win = 0\n",
    "try:\n",
    "    while True:\n",
    "        i += 1\n",
    "        env, done, truncated, terminal_action = test_random_trial(-1,-1)\n",
    "        remaining_pieces.append(sum(env.remaining_pieces))\n",
    "        if done: # win\n",
    "            env.visualize()\n",
    "            win += 1\n",
    "        current_time = time.time()\n",
    "        if current_time - last_print >= 15:\n",
    "            elapsed = current_time - start_time\n",
    "            print(f\"trial {i} {elapsed:.1f} seconds elapsed... {i/elapsed:.2f} games/second, wins: {win}\")\n",
    "            last_print = current_time\n",
    "\n",
    "except KeyboardInterrupt:\n",
    "    env.visualize()\n",
    "\n",
    "plt.hist(remaining_pieces, bins=range(10), alpha=0.7)\n",
    "plt.xlabel('Pieces Remaining')\n",
    "plt.ylabel('Frequency')\n",
    "plt.title('Random Trial Results')\n",
    "plt.savefig('imgs/trial_results.png')\n",
    "plt.show()\n",
    "\n",
    "print(f\"Trials: {i}, Success rate: {remaining_pieces.count(0)/i:.2%}, wins: {win}\")\n",
    "print(win)"
   ]
  },
  {
   "cell_type": "markdown",
   "id": "ea0109e1-53e0-4ce2-aeca-3c668d4aee44",
   "metadata": {},
   "source": [
    "~~most of the time we end up with 2 remaining pieces when we place them all randomly~~\n",
    "\n",
    "~~bricking the game in the step function when islands of 2-4 empty cells remain reduces the number of trials required by 10-20x.~~\n",
    "\n",
    "- bricking the game on (islands of 3,4,9,14), (an island of 2 any number of islands of 1), or (more than 2 islands of 1) brings us up to 0.2% success\n",
    "\n",
    "Now we're requiring a solution to a specific date: win rate is somewhere < 0.01%, not surprising"
   ]
  },
  {
   "cell_type": "code",
   "execution_count": 20,
   "id": "66e1f6ae-276f-45dd-9b52-e9fe5176abc5",
   "metadata": {},
   "outputs": [
    {
     "data": {
      "text/plain": [
       "np.True_"
      ]
     },
     "execution_count": 20,
     "metadata": {},
     "output_type": "execute_result"
    }
   ],
   "source": [
    "has_islands(env.grid)"
   ]
  },
  {
   "cell_type": "code",
   "execution_count": null,
   "id": "e7d690f5-1097-4739-8c4e-916f14aae3ce",
   "metadata": {},
   "outputs": [],
   "source": []
  }
 ],
 "metadata": {
  "kernelspec": {
   "display_name": "Python 3 (ipykernel)",
   "language": "python",
   "name": "python3"
  },
  "language_info": {
   "codemirror_mode": {
    "name": "ipython",
    "version": 3
   },
   "file_extension": ".py",
   "mimetype": "text/x-python",
   "name": "python",
   "nbconvert_exporter": "python",
   "pygments_lexer": "ipython3",
   "version": "3.10.18"
  }
 },
 "nbformat": 4,
 "nbformat_minor": 5
}
