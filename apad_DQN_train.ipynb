{
 "cells": [
  {
   "cell_type": "code",
   "execution_count": 4,
   "id": "067c5290-f323-4074-a89a-77be98312a28",
   "metadata": {},
   "outputs": [],
   "source": [
    "from apad_env import APADEnv\n",
    "from stable_baselines3 import DQN\n",
    "from stable_baselines3.common.callbacks import BaseCallback"
   ]
  },
  {
   "cell_type": "code",
   "execution_count": 5,
   "id": "024dedeb-b5d8-4d97-b582-c3471f0405ad",
   "metadata": {},
   "outputs": [],
   "source": [
    "import time\n",
    "\n",
    "class TimerCallback(BaseCallback):\n",
    "    def __init__(self):\n",
    "        super().__init__()\n",
    "        self.start_time = time.time()\n",
    "    \n",
    "    def _on_step(self):\n",
    "        if self.num_timesteps % 1000 == 0:\n",
    "            elapsed = time.time() - self.start_time\n",
    "            rate = self.num_timesteps / elapsed\n",
    "            remaining = (self.locals['total_timesteps'] - self.num_timesteps) / rate\n",
    "            print(f\"Step {self.num_timesteps}, {elapsed:.0f}s elapsed, {remaining:.0f}s remaining\")\n",
    "        return True"
   ]
  },
  {
   "cell_type": "markdown",
   "id": "3109713c-4126-41b8-bf9f-8c2114dfc81c",
   "metadata": {},
   "source": [
    "# Train"
   ]
  },
  {
   "cell_type": "code",
   "execution_count": 11,
   "id": "949cb4f4-da7a-48bc-964a-d5aec5543cdc",
   "metadata": {},
   "outputs": [
    {
     "name": "stdout",
     "output_type": "stream",
     "text": [
      "Using cpu device\n",
      "Wrapping the env with a `Monitor` wrapper\n",
      "Wrapping the env in a DummyVecEnv.\n",
      "Step 1000, 0s elapsed, 23s remaining\n",
      "Step 2000, 1s elapsed, 24s remaining\n",
      "Step 3000, 2s elapsed, 24s remaining\n",
      "Step 4000, 2s elapsed, 24s remaining\n",
      "Step 5000, 3s elapsed, 24s remaining\n",
      "Step 6000, 3s elapsed, 24s remaining\n",
      "Step 7000, 4s elapsed, 24s remaining\n",
      "Step 8000, 4s elapsed, 23s remaining\n",
      "Step 9000, 5s elapsed, 23s remaining\n",
      "Step 10000, 6s elapsed, 22s remaining\n",
      "Step 11000, 6s elapsed, 22s remaining\n",
      "Step 12000, 7s elapsed, 21s remaining\n",
      "Step 13000, 7s elapsed, 21s remaining\n",
      "Step 14000, 8s elapsed, 20s remaining\n",
      "Step 15000, 9s elapsed, 20s remaining\n",
      "Step 16000, 9s elapsed, 19s remaining\n",
      "Step 17000, 10s elapsed, 19s remaining\n",
      "Step 18000, 10s elapsed, 18s remaining\n",
      "Step 19000, 11s elapsed, 18s remaining\n",
      "Step 20000, 11s elapsed, 17s remaining\n",
      "Step 21000, 12s elapsed, 17s remaining\n",
      "Step 22000, 13s elapsed, 16s remaining\n",
      "Step 23000, 13s elapsed, 16s remaining\n",
      "Step 24000, 14s elapsed, 15s remaining\n",
      "Step 25000, 14s elapsed, 14s remaining\n",
      "Step 26000, 15s elapsed, 14s remaining\n",
      "Step 27000, 16s elapsed, 13s remaining\n",
      "Step 28000, 16s elapsed, 13s remaining\n",
      "Step 29000, 17s elapsed, 12s remaining\n",
      "Step 30000, 17s elapsed, 12s remaining\n",
      "Step 31000, 18s elapsed, 11s remaining\n",
      "Step 32000, 19s elapsed, 10s remaining\n",
      "Step 33000, 19s elapsed, 10s remaining\n",
      "Step 34000, 20s elapsed, 9s remaining\n",
      "Step 35000, 20s elapsed, 9s remaining\n",
      "Step 36000, 21s elapsed, 8s remaining\n",
      "Step 37000, 22s elapsed, 8s remaining\n",
      "Step 38000, 22s elapsed, 7s remaining\n",
      "Step 39000, 23s elapsed, 6s remaining\n",
      "Step 40000, 23s elapsed, 6s remaining\n",
      "Step 41000, 24s elapsed, 5s remaining\n",
      "Step 42000, 24s elapsed, 5s remaining\n",
      "Step 43000, 25s elapsed, 4s remaining\n",
      "Step 44000, 26s elapsed, 4s remaining\n",
      "Step 45000, 26s elapsed, 3s remaining\n",
      "Step 46000, 27s elapsed, 2s remaining\n",
      "Step 47000, 27s elapsed, 2s remaining\n",
      "Step 48000, 28s elapsed, 1s remaining\n",
      "Step 49000, 29s elapsed, 1s remaining\n",
      "Step 50000, 29s elapsed, 0s remaining\n"
     ]
    },
    {
     "data": {
      "text/plain": [
       "<stable_baselines3.dqn.dqn.DQN at 0x30f31a230>"
      ]
     },
     "execution_count": 11,
     "metadata": {},
     "output_type": "execute_result"
    }
   ],
   "source": [
    "env = APADEnv()\n",
    "model = DQN(\"MlpPolicy\", env, verbose=1)\n",
    "#model.learn(total_timesteps=50000)\n",
    "\n",
    "model.learn(total_timesteps=50000, callback=TimerCallback())"
   ]
  },
  {
   "cell_type": "code",
   "execution_count": 12,
   "id": "eec5d701-419b-420e-897c-3c6b210ec470",
   "metadata": {},
   "outputs": [],
   "source": [
    "model.save(\"apad_dqn_model\")"
   ]
  },
  {
   "cell_type": "markdown",
   "id": "cd4eca3e-1aeb-43ab-9bd1-2c70b506deb6",
   "metadata": {},
   "source": [
    "# Test"
   ]
  },
  {
   "cell_type": "code",
   "execution_count": null,
   "id": "516b2097-5045-43b6-9101-4cb8723714c6",
   "metadata": {},
   "outputs": [],
   "source": [
    "model = DQN.load(\"apad_dqn_model\")"
   ]
  },
  {
   "cell_type": "code",
   "execution_count": null,
   "id": "b87160e3-5945-44f4-a0e7-294408f75d89",
   "metadata": {
    "scrolled": true
   },
   "outputs": [],
   "source": [
    "successes = 0\n",
    "trials = 10\n",
    "\n",
    "for i in range(trials):\n",
    "   obs, _ = env.reset()\n",
    "   while True:\n",
    "       action, _ = model.predict(obs, deterministic=True)\n",
    "       obs, reward, done, truncated, _ = env.step(action)\n",
    "       if done or truncated:\n",
    "           break\n",
    "   \n",
    "   if sum(env.remaining_pieces) == 0:\n",
    "       successes += 1\n",
    "\n",
    "print(f\"Success rate: {successes}/{trials} ({successes/trials:.1%})\")\n",
    "\n",
    "# Show final state from last trial\n",
    "env.visualize()"
   ]
  },
  {
   "cell_type": "code",
   "execution_count": null,
   "id": "ad95da3b-b17f-48e7-999a-88325ba73f36",
   "metadata": {},
   "outputs": [],
   "source": []
  }
 ],
 "metadata": {
  "kernelspec": {
   "display_name": "Python 3 (ipykernel)",
   "language": "python",
   "name": "python3"
  },
  "language_info": {
   "codemirror_mode": {
    "name": "ipython",
    "version": 3
   },
   "file_extension": ".py",
   "mimetype": "text/x-python",
   "name": "python",
   "nbconvert_exporter": "python",
   "pygments_lexer": "ipython3",
   "version": "3.10.17"
  }
 },
 "nbformat": 4,
 "nbformat_minor": 5
}
